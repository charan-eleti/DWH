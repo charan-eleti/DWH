{
 "cells": [
  {
   "cell_type": "code",
   "execution_count": 2,
   "metadata": {},
   "outputs": [],
   "source": [
    "import pandas as pd\n",
    "import numpy as np\n",
    "import pyodbc  \n",
    "from datetime import datetime \n",
    "import matplotlib.pylab as plt\n",
    "from sklearn.cluster import KMeans"
   ]
  },
  {
   "cell_type": "code",
   "execution_count": 3,
   "metadata": {},
   "outputs": [],
   "source": [
    "conn = pyodbc.connect(\"Driver={ODBC Driver 13 for SQL Server};Server=yetidb01.database.windows.net;database=YETISQLDW01;uid=htian;PWD=HeLeNtIAn52!\")\n",
    "cursor = conn.cursor()"
   ]
  },
  {
   "cell_type": "code",
   "execution_count": 4,
   "metadata": {},
   "outputs": [],
   "source": [
    "df = pd.read_sql(\"SELECT C.CustomerID, C.SalesOffice, C.Address1, C.City, C.State, S.Unit_Price, S.Order_Qty, S.Net_Value_item_level, S.Line_Req_Deliv_Date, P.ProductCategory, P.MasterSKU, P.ISCORE FROM [EDW].[sap_zva05_fct] S inner JOIN [EDW].[CUSTOMER_DIM] C ON C.CustomerID = S.Sold_To_Party inner join [EDW].[PRODUCT_DIM] P ON P.ProductIDOLD = S.Material WHERE (C.SalesOffice='STD' or C.SalesOffice='HYB') and (S.SL_Status = 'active sl') and (S.Reason_for_Rejection is null) and (S.Order_type != 'ZARF' and S.Order_type != 'ZARM' and S.Order_type != 'ZEG2' and S.Order_type != 'ZERF' and S.Order_type != 'ZERM' and S.Order_type != 'ZRE') and (C.customerID!='91860' and C.customerid!='0000107894' and C.customerid !='0000114883') \", conn)\n"
   ]
  },
  {
   "cell_type": "code",
   "execution_count": 5,
   "metadata": {},
   "outputs": [
    {
     "data": {
      "text/html": [
       "<div>\n",
       "<style scoped>\n",
       "    .dataframe tbody tr th:only-of-type {\n",
       "        vertical-align: middle;\n",
       "    }\n",
       "\n",
       "    .dataframe tbody tr th {\n",
       "        vertical-align: top;\n",
       "    }\n",
       "\n",
       "    .dataframe thead th {\n",
       "        text-align: right;\n",
       "    }\n",
       "</style>\n",
       "<table border=\"1\" class=\"dataframe\">\n",
       "  <thead>\n",
       "    <tr style=\"text-align: right;\">\n",
       "      <th></th>\n",
       "      <th>CustomerID</th>\n",
       "      <th>SalesOffice</th>\n",
       "      <th>Address1</th>\n",
       "      <th>City</th>\n",
       "      <th>State</th>\n",
       "      <th>Unit_Price</th>\n",
       "      <th>Order_Qty</th>\n",
       "      <th>Net_Value_item_level</th>\n",
       "      <th>Line_Req_Deliv_Date</th>\n",
       "      <th>ProductCategory</th>\n",
       "      <th>MasterSKU</th>\n",
       "      <th>ISCORE</th>\n",
       "    </tr>\n",
       "  </thead>\n",
       "  <tbody>\n",
       "    <tr>\n",
       "      <th>0</th>\n",
       "      <td>0000103523</td>\n",
       "      <td>STD</td>\n",
       "      <td>75 Odell School Rd</td>\n",
       "      <td>Concord</td>\n",
       "      <td>NC</td>\n",
       "      <td>194.99</td>\n",
       "      <td>1.0</td>\n",
       "      <td>194.99</td>\n",
       "      <td>2018-05-18</td>\n",
       "      <td>Hard Cooler</td>\n",
       "      <td>Tundra 45</td>\n",
       "      <td>TRUE</td>\n",
       "    </tr>\n",
       "    <tr>\n",
       "      <th>1</th>\n",
       "      <td>0000102973</td>\n",
       "      <td>STD</td>\n",
       "      <td>PO BOX 469</td>\n",
       "      <td>Bellvue</td>\n",
       "      <td>CO</td>\n",
       "      <td>14.24</td>\n",
       "      <td>12.0</td>\n",
       "      <td>170.88</td>\n",
       "      <td>2018-05-11</td>\n",
       "      <td>Drinkware</td>\n",
       "      <td>R Colsters</td>\n",
       "      <td>TRUE</td>\n",
       "    </tr>\n",
       "    <tr>\n",
       "      <th>2</th>\n",
       "      <td>0000105143</td>\n",
       "      <td>STD</td>\n",
       "      <td>208 E Louisiana St</td>\n",
       "      <td>Mckinney</td>\n",
       "      <td>TX</td>\n",
       "      <td>14.99</td>\n",
       "      <td>12.0</td>\n",
       "      <td>179.88</td>\n",
       "      <td>2017-06-12</td>\n",
       "      <td>Drinkware</td>\n",
       "      <td>R20 Tumbler</td>\n",
       "      <td>TRUE</td>\n",
       "    </tr>\n",
       "    <tr>\n",
       "      <th>3</th>\n",
       "      <td>0000105667</td>\n",
       "      <td>STD</td>\n",
       "      <td>4026 Wards Rd</td>\n",
       "      <td>Lynchburg</td>\n",
       "      <td>VA</td>\n",
       "      <td>14.99</td>\n",
       "      <td>24.0</td>\n",
       "      <td>359.76</td>\n",
       "      <td>2017-06-05</td>\n",
       "      <td>Drinkware</td>\n",
       "      <td>R Colsters</td>\n",
       "      <td>TRUE</td>\n",
       "    </tr>\n",
       "    <tr>\n",
       "      <th>4</th>\n",
       "      <td>0000102850</td>\n",
       "      <td>STD</td>\n",
       "      <td>8100 Rendon Bloodworth Rd</td>\n",
       "      <td>Mansfield</td>\n",
       "      <td>TX</td>\n",
       "      <td>11.99</td>\n",
       "      <td>6.0</td>\n",
       "      <td>71.94</td>\n",
       "      <td>2017-11-03</td>\n",
       "      <td>Drinkware</td>\n",
       "      <td>R10 Lowball</td>\n",
       "      <td>TRUE</td>\n",
       "    </tr>\n",
       "  </tbody>\n",
       "</table>\n",
       "</div>"
      ],
      "text/plain": [
       "   CustomerID SalesOffice                   Address1       City State  \\\n",
       "0  0000103523         STD         75 Odell School Rd    Concord    NC   \n",
       "1  0000102973         STD                 PO BOX 469    Bellvue    CO   \n",
       "2  0000105143         STD         208 E Louisiana St   Mckinney    TX   \n",
       "3  0000105667         STD              4026 Wards Rd  Lynchburg    VA   \n",
       "4  0000102850         STD  8100 Rendon Bloodworth Rd  Mansfield    TX   \n",
       "\n",
       "   Unit_Price  Order_Qty  Net_Value_item_level Line_Req_Deliv_Date  \\\n",
       "0      194.99        1.0                194.99          2018-05-18   \n",
       "1       14.24       12.0                170.88          2018-05-11   \n",
       "2       14.99       12.0                179.88          2017-06-12   \n",
       "3       14.99       24.0                359.76          2017-06-05   \n",
       "4       11.99        6.0                 71.94          2017-11-03   \n",
       "\n",
       "  ProductCategory    MasterSKU ISCORE  \n",
       "0     Hard Cooler    Tundra 45   TRUE  \n",
       "1       Drinkware   R Colsters   TRUE  \n",
       "2       Drinkware  R20 Tumbler   TRUE  \n",
       "3       Drinkware   R Colsters   TRUE  \n",
       "4       Drinkware  R10 Lowball   TRUE  "
      ]
     },
     "execution_count": 5,
     "metadata": {},
     "output_type": "execute_result"
    }
   ],
   "source": [
    "df.head()"
   ]
  },
  {
   "cell_type": "code",
   "execution_count": 19,
   "metadata": {},
   "outputs": [
    {
     "data": {
      "text/plain": [
       "CustomerID                0\n",
       "SalesOffice               0\n",
       "Address1                  0\n",
       "City                      0\n",
       "State                   102\n",
       "Unit_Price                0\n",
       "Order_Qty                 0\n",
       "Net_Value_item_level      0\n",
       "Line_Req_Deliv_Date       0\n",
       "ProductCategory           0\n",
       "MasterSKU                 0\n",
       "ISCORE                    0\n",
       "dtype: int64"
      ]
     },
     "execution_count": 19,
     "metadata": {},
     "output_type": "execute_result"
    }
   ],
   "source": [
    "# missing values check\n",
    "df.isnull().sum()"
   ]
  },
  {
   "cell_type": "code",
   "execution_count": 20,
   "metadata": {},
   "outputs": [
    {
     "data": {
      "text/html": [
       "<div>\n",
       "<style scoped>\n",
       "    .dataframe tbody tr th:only-of-type {\n",
       "        vertical-align: middle;\n",
       "    }\n",
       "\n",
       "    .dataframe tbody tr th {\n",
       "        vertical-align: top;\n",
       "    }\n",
       "\n",
       "    .dataframe thead th {\n",
       "        text-align: right;\n",
       "    }\n",
       "</style>\n",
       "<table border=\"1\" class=\"dataframe\">\n",
       "  <thead>\n",
       "    <tr style=\"text-align: right;\">\n",
       "      <th></th>\n",
       "      <th>CustomerID</th>\n",
       "      <th>SalesOffice</th>\n",
       "      <th>Address1</th>\n",
       "      <th>City</th>\n",
       "      <th>State</th>\n",
       "      <th>Unit_Price</th>\n",
       "      <th>Order_Qty</th>\n",
       "      <th>Net_Value_item_level</th>\n",
       "      <th>Line_Req_Deliv_Date</th>\n",
       "      <th>ProductCategory</th>\n",
       "      <th>MasterSKU</th>\n",
       "      <th>ISCORE</th>\n",
       "    </tr>\n",
       "  </thead>\n",
       "  <tbody>\n",
       "  </tbody>\n",
       "</table>\n",
       "</div>"
      ],
      "text/plain": [
       "Empty DataFrame\n",
       "Columns: [CustomerID, SalesOffice, Address1, City, State, Unit_Price, Order_Qty, Net_Value_item_level, Line_Req_Deliv_Date, ProductCategory, MasterSKU, ISCORE]\n",
       "Index: []"
      ]
     },
     "execution_count": 20,
     "metadata": {},
     "output_type": "execute_result"
    }
   ],
   "source": [
    "#Show rows which address is null\n",
    "df[pd.isnull(df.Address1)]"
   ]
  },
  {
   "cell_type": "code",
   "execution_count": 21,
   "metadata": {
    "scrolled": true
   },
   "outputs": [],
   "source": [
    "# Fill the address from table [EDW].[SHIPTO_DIM]: CustomerID = '0000100273'\n",
    "df['Address1'].fillna(\"895 SABINE ST\", inplace = True)"
   ]
  },
  {
   "cell_type": "code",
   "execution_count": 22,
   "metadata": {},
   "outputs": [
    {
     "data": {
      "text/html": [
       "<div>\n",
       "<style scoped>\n",
       "    .dataframe tbody tr th:only-of-type {\n",
       "        vertical-align: middle;\n",
       "    }\n",
       "\n",
       "    .dataframe tbody tr th {\n",
       "        vertical-align: top;\n",
       "    }\n",
       "\n",
       "    .dataframe thead th {\n",
       "        text-align: right;\n",
       "    }\n",
       "</style>\n",
       "<table border=\"1\" class=\"dataframe\">\n",
       "  <thead>\n",
       "    <tr style=\"text-align: right;\">\n",
       "      <th></th>\n",
       "      <th>CustomerID</th>\n",
       "      <th>SalesOffice</th>\n",
       "      <th>Address1</th>\n",
       "      <th>City</th>\n",
       "      <th>State</th>\n",
       "      <th>Unit_Price</th>\n",
       "      <th>Order_Qty</th>\n",
       "      <th>Net_Value_item_level</th>\n",
       "      <th>Line_Req_Deliv_Date</th>\n",
       "      <th>ProductCategory</th>\n",
       "      <th>MasterSKU</th>\n",
       "      <th>ISCORE</th>\n",
       "    </tr>\n",
       "  </thead>\n",
       "  <tbody>\n",
       "    <tr>\n",
       "      <th>13331</th>\n",
       "      <td>0000118196</td>\n",
       "      <td>STD</td>\n",
       "      <td>Royal Plaza Suite 112</td>\n",
       "      <td>Ornjestad</td>\n",
       "      <td>None</td>\n",
       "      <td>2.74</td>\n",
       "      <td>6.0</td>\n",
       "      <td>16.44</td>\n",
       "      <td>2017-11-30</td>\n",
       "      <td>Gear &amp; Apparel</td>\n",
       "      <td>Sticker</td>\n",
       "      <td>FALSE</td>\n",
       "    </tr>\n",
       "    <tr>\n",
       "      <th>19198</th>\n",
       "      <td>0000118196</td>\n",
       "      <td>STD</td>\n",
       "      <td>Royal Plaza Suite 112</td>\n",
       "      <td>Ornjestad</td>\n",
       "      <td>None</td>\n",
       "      <td>2.74</td>\n",
       "      <td>12.0</td>\n",
       "      <td>32.88</td>\n",
       "      <td>2017-11-30</td>\n",
       "      <td>Gear &amp; Apparel</td>\n",
       "      <td>Sticker</td>\n",
       "      <td>FALSE</td>\n",
       "    </tr>\n",
       "    <tr>\n",
       "      <th>28522</th>\n",
       "      <td>0000118196</td>\n",
       "      <td>STD</td>\n",
       "      <td>Royal Plaza Suite 112</td>\n",
       "      <td>Ornjestad</td>\n",
       "      <td>None</td>\n",
       "      <td>2.74</td>\n",
       "      <td>6.0</td>\n",
       "      <td>16.44</td>\n",
       "      <td>2017-11-30</td>\n",
       "      <td>Gear &amp; Apparel</td>\n",
       "      <td>Sticker</td>\n",
       "      <td>FALSE</td>\n",
       "    </tr>\n",
       "    <tr>\n",
       "      <th>31028</th>\n",
       "      <td>0000118196</td>\n",
       "      <td>STD</td>\n",
       "      <td>Royal Plaza Suite 112</td>\n",
       "      <td>Ornjestad</td>\n",
       "      <td>None</td>\n",
       "      <td>2.74</td>\n",
       "      <td>12.0</td>\n",
       "      <td>32.88</td>\n",
       "      <td>2017-11-30</td>\n",
       "      <td>Gear &amp; Apparel</td>\n",
       "      <td>Sticker</td>\n",
       "      <td>FALSE</td>\n",
       "    </tr>\n",
       "    <tr>\n",
       "      <th>32781</th>\n",
       "      <td>0000118196</td>\n",
       "      <td>STD</td>\n",
       "      <td>Royal Plaza Suite 112</td>\n",
       "      <td>Ornjestad</td>\n",
       "      <td>None</td>\n",
       "      <td>17.99</td>\n",
       "      <td>6.0</td>\n",
       "      <td>107.94</td>\n",
       "      <td>2017-11-30</td>\n",
       "      <td>Drinkware</td>\n",
       "      <td>R20 Tumbler</td>\n",
       "      <td>TRUE</td>\n",
       "    </tr>\n",
       "  </tbody>\n",
       "</table>\n",
       "</div>"
      ],
      "text/plain": [
       "       CustomerID SalesOffice               Address1       City State  \\\n",
       "13331  0000118196         STD  Royal Plaza Suite 112  Ornjestad  None   \n",
       "19198  0000118196         STD  Royal Plaza Suite 112  Ornjestad  None   \n",
       "28522  0000118196         STD  Royal Plaza Suite 112  Ornjestad  None   \n",
       "31028  0000118196         STD  Royal Plaza Suite 112  Ornjestad  None   \n",
       "32781  0000118196         STD  Royal Plaza Suite 112  Ornjestad  None   \n",
       "\n",
       "       Unit_Price  Order_Qty  Net_Value_item_level Line_Req_Deliv_Date  \\\n",
       "13331        2.74        6.0                 16.44          2017-11-30   \n",
       "19198        2.74       12.0                 32.88          2017-11-30   \n",
       "28522        2.74        6.0                 16.44          2017-11-30   \n",
       "31028        2.74       12.0                 32.88          2017-11-30   \n",
       "32781       17.99        6.0                107.94          2017-11-30   \n",
       "\n",
       "      ProductCategory    MasterSKU ISCORE  \n",
       "13331  Gear & Apparel      Sticker  FALSE  \n",
       "19198  Gear & Apparel      Sticker  FALSE  \n",
       "28522  Gear & Apparel      Sticker  FALSE  \n",
       "31028  Gear & Apparel      Sticker  FALSE  \n",
       "32781       Drinkware  R20 Tumbler   TRUE  "
      ]
     },
     "execution_count": 22,
     "metadata": {},
     "output_type": "execute_result"
    }
   ],
   "source": [
    "# Find customerID \n",
    "list(set(df.CustomerID[pd.isnull(df.State)]))\n",
    "df[pd.isnull(df.State)].head()"
   ]
  },
  {
   "cell_type": "code",
   "execution_count": 23,
   "metadata": {},
   "outputs": [],
   "source": [
    "# Find State according to Address1 and City and fill in \n",
    "df['State'][df.CustomerID=='0000114883']='MA'"
   ]
  },
  {
   "cell_type": "code",
   "execution_count": 24,
   "metadata": {},
   "outputs": [
    {
     "data": {
      "text/plain": [
       "[]"
      ]
     },
     "execution_count": 24,
     "metadata": {},
     "output_type": "execute_result"
    }
   ],
   "source": [
    "# Location outside US, ignore\n",
    "list(set(df['City'][df.CustomerID=='0000119007']))   "
   ]
  },
  {
   "cell_type": "code",
   "execution_count": 25,
   "metadata": {},
   "outputs": [
    {
     "data": {
      "text/plain": [
       "['Ornjestad']"
      ]
     },
     "execution_count": 25,
     "metadata": {},
     "output_type": "execute_result"
    }
   ],
   "source": [
    "# Location outside US, ignore\n",
    "list(set(df['City'][df.CustomerID=='0000118196']))   "
   ]
  },
  {
   "cell_type": "code",
   "execution_count": 26,
   "metadata": {
    "scrolled": true
   },
   "outputs": [
    {
     "data": {
      "text/plain": [
       "CustomerID                0\n",
       "SalesOffice               0\n",
       "Address1                  0\n",
       "City                      0\n",
       "State                   102\n",
       "Unit_Price                0\n",
       "Order_Qty                 0\n",
       "Net_Value_item_level      0\n",
       "Line_Req_Deliv_Date       0\n",
       "ProductCategory           0\n",
       "MasterSKU                 0\n",
       "ISCORE                    0\n",
       "dtype: int64"
      ]
     },
     "execution_count": 26,
     "metadata": {},
     "output_type": "execute_result"
    }
   ],
   "source": [
    "# Check null value exists or not\n",
    "df.isnull().sum()"
   ]
  },
  {
   "cell_type": "code",
   "execution_count": 27,
   "metadata": {
    "scrolled": false
   },
   "outputs": [
    {
     "data": {
      "text/html": [
       "<div>\n",
       "<style scoped>\n",
       "    .dataframe tbody tr th:only-of-type {\n",
       "        vertical-align: middle;\n",
       "    }\n",
       "\n",
       "    .dataframe tbody tr th {\n",
       "        vertical-align: top;\n",
       "    }\n",
       "\n",
       "    .dataframe thead th {\n",
       "        text-align: right;\n",
       "    }\n",
       "</style>\n",
       "<table border=\"1\" class=\"dataframe\">\n",
       "  <thead>\n",
       "    <tr style=\"text-align: right;\">\n",
       "      <th></th>\n",
       "      <th>CustomerID</th>\n",
       "      <th>SalesOffice</th>\n",
       "      <th>Address1</th>\n",
       "      <th>City</th>\n",
       "      <th>State</th>\n",
       "      <th>Unit_Price</th>\n",
       "      <th>Order_Qty</th>\n",
       "      <th>Net_Value_item_level</th>\n",
       "      <th>Line_Req_Deliv_Date</th>\n",
       "      <th>ProductCategory</th>\n",
       "      <th>MasterSKU</th>\n",
       "      <th>ISCORE</th>\n",
       "    </tr>\n",
       "  </thead>\n",
       "  <tbody>\n",
       "    <tr>\n",
       "      <th>495</th>\n",
       "      <td>0000106107</td>\n",
       "      <td>STD</td>\n",
       "      <td>359 N Main St</td>\n",
       "      <td>Barre</td>\n",
       "      <td>VT</td>\n",
       "      <td>0.0</td>\n",
       "      <td>1.0</td>\n",
       "      <td>0.0</td>\n",
       "      <td>2017-08-30</td>\n",
       "      <td>Hard Cooler</td>\n",
       "      <td>Drain Plugs</td>\n",
       "      <td>FALSE</td>\n",
       "    </tr>\n",
       "    <tr>\n",
       "      <th>915</th>\n",
       "      <td>0000101074</td>\n",
       "      <td>STD</td>\n",
       "      <td>10800 Sentinel St</td>\n",
       "      <td>San Antonio</td>\n",
       "      <td>TX</td>\n",
       "      <td>0.0</td>\n",
       "      <td>1.0</td>\n",
       "      <td>0.0</td>\n",
       "      <td>2017-07-21</td>\n",
       "      <td>Hard Cooler</td>\n",
       "      <td>Drain Plugs</td>\n",
       "      <td>FALSE</td>\n",
       "    </tr>\n",
       "    <tr>\n",
       "      <th>924</th>\n",
       "      <td>0000103333</td>\n",
       "      <td>STD</td>\n",
       "      <td>15 Acme St</td>\n",
       "      <td>Marietta</td>\n",
       "      <td>OH</td>\n",
       "      <td>0.0</td>\n",
       "      <td>2.0</td>\n",
       "      <td>0.0</td>\n",
       "      <td>2017-05-16</td>\n",
       "      <td>Hard Cooler</td>\n",
       "      <td>Roadie 20</td>\n",
       "      <td>TRUE</td>\n",
       "    </tr>\n",
       "    <tr>\n",
       "      <th>927</th>\n",
       "      <td>0000114278</td>\n",
       "      <td>STD</td>\n",
       "      <td>2619 Bobmeyer Road</td>\n",
       "      <td>Fairfield</td>\n",
       "      <td>OH</td>\n",
       "      <td>0.0</td>\n",
       "      <td>1.0</td>\n",
       "      <td>0.0</td>\n",
       "      <td>2017-07-18</td>\n",
       "      <td>Drinkware</td>\n",
       "      <td>R Colsters</td>\n",
       "      <td>TRUE</td>\n",
       "    </tr>\n",
       "    <tr>\n",
       "      <th>975</th>\n",
       "      <td>0000101935</td>\n",
       "      <td>STD</td>\n",
       "      <td>1201 N Jefferson St</td>\n",
       "      <td>Watseka</td>\n",
       "      <td>IL</td>\n",
       "      <td>0.0</td>\n",
       "      <td>2.0</td>\n",
       "      <td>0.0</td>\n",
       "      <td>2017-04-13</td>\n",
       "      <td>Hard Cooler</td>\n",
       "      <td>Drain Plugs</td>\n",
       "      <td>FALSE</td>\n",
       "    </tr>\n",
       "  </tbody>\n",
       "</table>\n",
       "</div>"
      ],
      "text/plain": [
       "     CustomerID SalesOffice             Address1         City State  \\\n",
       "495  0000106107         STD        359 N Main St        Barre    VT   \n",
       "915  0000101074         STD    10800 Sentinel St  San Antonio    TX   \n",
       "924  0000103333         STD           15 Acme St     Marietta    OH   \n",
       "927  0000114278         STD   2619 Bobmeyer Road    Fairfield    OH   \n",
       "975  0000101935         STD  1201 N Jefferson St      Watseka    IL   \n",
       "\n",
       "     Unit_Price  Order_Qty  Net_Value_item_level Line_Req_Deliv_Date  \\\n",
       "495         0.0        1.0                   0.0          2017-08-30   \n",
       "915         0.0        1.0                   0.0          2017-07-21   \n",
       "924         0.0        2.0                   0.0          2017-05-16   \n",
       "927         0.0        1.0                   0.0          2017-07-18   \n",
       "975         0.0        2.0                   0.0          2017-04-13   \n",
       "\n",
       "    ProductCategory    MasterSKU ISCORE  \n",
       "495     Hard Cooler  Drain Plugs  FALSE  \n",
       "915     Hard Cooler  Drain Plugs  FALSE  \n",
       "924     Hard Cooler    Roadie 20   TRUE  \n",
       "927       Drinkware   R Colsters   TRUE  \n",
       "975     Hard Cooler  Drain Plugs  FALSE  "
      ]
     },
     "execution_count": 27,
     "metadata": {},
     "output_type": "execute_result"
    }
   ],
   "source": [
    "df[(df['Net_Value_item_level']<=0) | (df['Unit_Price']<=0)].head()"
   ]
  },
  {
   "cell_type": "code",
   "execution_count": 28,
   "metadata": {},
   "outputs": [],
   "source": [
    "df['Line_Req_Deliv_Date'] = pd.to_datetime(df['Line_Req_Deliv_Date'])  "
   ]
  },
  {
   "cell_type": "code",
   "execution_count": 29,
   "metadata": {},
   "outputs": [],
   "source": [
    "df = df[(df.Line_Req_Deliv_Date<'2018-1-01') & (df.Line_Req_Deliv_Date>='2017-1-01')]"
   ]
  },
  {
   "cell_type": "code",
   "execution_count": 30,
   "metadata": {},
   "outputs": [],
   "source": [
    "################################################################# group order quantity by STD"
   ]
  },
  {
   "cell_type": "code",
   "execution_count": 31,
   "metadata": {},
   "outputs": [
    {
     "data": {
      "text/html": [
       "<div>\n",
       "<style scoped>\n",
       "    .dataframe tbody tr th:only-of-type {\n",
       "        vertical-align: middle;\n",
       "    }\n",
       "\n",
       "    .dataframe tbody tr th {\n",
       "        vertical-align: top;\n",
       "    }\n",
       "\n",
       "    .dataframe thead th {\n",
       "        text-align: right;\n",
       "    }\n",
       "</style>\n",
       "<table border=\"1\" class=\"dataframe\">\n",
       "  <thead>\n",
       "    <tr style=\"text-align: right;\">\n",
       "      <th></th>\n",
       "      <th>CustomerID</th>\n",
       "      <th>SalesOffice</th>\n",
       "      <th>Address1</th>\n",
       "      <th>City</th>\n",
       "      <th>State</th>\n",
       "      <th>Unit_Price</th>\n",
       "      <th>Order_Qty</th>\n",
       "      <th>Net_Value_item_level</th>\n",
       "      <th>Line_Req_Deliv_Date</th>\n",
       "      <th>ProductCategory</th>\n",
       "      <th>MasterSKU</th>\n",
       "      <th>ISCORE</th>\n",
       "    </tr>\n",
       "  </thead>\n",
       "  <tbody>\n",
       "    <tr>\n",
       "      <th>2</th>\n",
       "      <td>0000105143</td>\n",
       "      <td>STD</td>\n",
       "      <td>208 E Louisiana St</td>\n",
       "      <td>Mckinney</td>\n",
       "      <td>TX</td>\n",
       "      <td>14.99</td>\n",
       "      <td>12.0</td>\n",
       "      <td>179.88</td>\n",
       "      <td>2017-06-12</td>\n",
       "      <td>Drinkware</td>\n",
       "      <td>R20 Tumbler</td>\n",
       "      <td>TRUE</td>\n",
       "    </tr>\n",
       "    <tr>\n",
       "      <th>3</th>\n",
       "      <td>0000105667</td>\n",
       "      <td>STD</td>\n",
       "      <td>4026 Wards Rd</td>\n",
       "      <td>Lynchburg</td>\n",
       "      <td>VA</td>\n",
       "      <td>14.99</td>\n",
       "      <td>24.0</td>\n",
       "      <td>359.76</td>\n",
       "      <td>2017-06-05</td>\n",
       "      <td>Drinkware</td>\n",
       "      <td>R Colsters</td>\n",
       "      <td>TRUE</td>\n",
       "    </tr>\n",
       "    <tr>\n",
       "      <th>4</th>\n",
       "      <td>0000102850</td>\n",
       "      <td>STD</td>\n",
       "      <td>8100 Rendon Bloodworth Rd</td>\n",
       "      <td>Mansfield</td>\n",
       "      <td>TX</td>\n",
       "      <td>11.99</td>\n",
       "      <td>6.0</td>\n",
       "      <td>71.94</td>\n",
       "      <td>2017-11-03</td>\n",
       "      <td>Drinkware</td>\n",
       "      <td>R10 Lowball</td>\n",
       "      <td>TRUE</td>\n",
       "    </tr>\n",
       "    <tr>\n",
       "      <th>5</th>\n",
       "      <td>0000106928</td>\n",
       "      <td>STD</td>\n",
       "      <td>3320 Youngfield St</td>\n",
       "      <td>Wheat Ridge</td>\n",
       "      <td>CO</td>\n",
       "      <td>17.99</td>\n",
       "      <td>150.0</td>\n",
       "      <td>2698.50</td>\n",
       "      <td>2017-09-12</td>\n",
       "      <td>Drinkware</td>\n",
       "      <td>R20 Tumbler</td>\n",
       "      <td>TRUE</td>\n",
       "    </tr>\n",
       "    <tr>\n",
       "      <th>6</th>\n",
       "      <td>0000106152</td>\n",
       "      <td>STD</td>\n",
       "      <td>15300 W National Ave</td>\n",
       "      <td>New Berlin</td>\n",
       "      <td>WI</td>\n",
       "      <td>14.99</td>\n",
       "      <td>12.0</td>\n",
       "      <td>179.88</td>\n",
       "      <td>2017-11-13</td>\n",
       "      <td>Drinkware</td>\n",
       "      <td>R14 Mug</td>\n",
       "      <td>TRUE</td>\n",
       "    </tr>\n",
       "  </tbody>\n",
       "</table>\n",
       "</div>"
      ],
      "text/plain": [
       "   CustomerID SalesOffice                   Address1         City State  \\\n",
       "2  0000105143         STD         208 E Louisiana St     Mckinney    TX   \n",
       "3  0000105667         STD              4026 Wards Rd    Lynchburg    VA   \n",
       "4  0000102850         STD  8100 Rendon Bloodworth Rd    Mansfield    TX   \n",
       "5  0000106928         STD         3320 Youngfield St  Wheat Ridge    CO   \n",
       "6  0000106152         STD       15300 W National Ave   New Berlin    WI   \n",
       "\n",
       "   Unit_Price  Order_Qty  Net_Value_item_level Line_Req_Deliv_Date  \\\n",
       "2       14.99       12.0                179.88          2017-06-12   \n",
       "3       14.99       24.0                359.76          2017-06-05   \n",
       "4       11.99        6.0                 71.94          2017-11-03   \n",
       "5       17.99      150.0               2698.50          2017-09-12   \n",
       "6       14.99       12.0                179.88          2017-11-13   \n",
       "\n",
       "  ProductCategory    MasterSKU ISCORE  \n",
       "2       Drinkware  R20 Tumbler   TRUE  \n",
       "3       Drinkware   R Colsters   TRUE  \n",
       "4       Drinkware  R10 Lowball   TRUE  \n",
       "5       Drinkware  R20 Tumbler   TRUE  \n",
       "6       Drinkware      R14 Mug   TRUE  "
      ]
     },
     "execution_count": 31,
     "metadata": {},
     "output_type": "execute_result"
    }
   ],
   "source": [
    "df.head()"
   ]
  },
  {
   "cell_type": "code",
   "execution_count": 32,
   "metadata": {},
   "outputs": [],
   "source": [
    "df1 = df['Order_Qty'].groupby(df['CustomerID']).sum()"
   ]
  },
  {
   "cell_type": "code",
   "execution_count": 33,
   "metadata": {},
   "outputs": [],
   "source": [
    "df1 = df1.to_frame()"
   ]
  },
  {
   "cell_type": "code",
   "execution_count": 34,
   "metadata": {},
   "outputs": [],
   "source": [
    "df1 = df1.reset_index()"
   ]
  },
  {
   "cell_type": "code",
   "execution_count": 35,
   "metadata": {},
   "outputs": [],
   "source": [
    "df1=df1.sort_values(by=[\"Order_Qty\"],ascending=[False])"
   ]
  },
  {
   "cell_type": "code",
   "execution_count": 36,
   "metadata": {
    "scrolled": true
   },
   "outputs": [
    {
     "data": {
      "text/html": [
       "<div>\n",
       "<style scoped>\n",
       "    .dataframe tbody tr th:only-of-type {\n",
       "        vertical-align: middle;\n",
       "    }\n",
       "\n",
       "    .dataframe tbody tr th {\n",
       "        vertical-align: top;\n",
       "    }\n",
       "\n",
       "    .dataframe thead th {\n",
       "        text-align: right;\n",
       "    }\n",
       "</style>\n",
       "<table border=\"1\" class=\"dataframe\">\n",
       "  <thead>\n",
       "    <tr style=\"text-align: right;\">\n",
       "      <th></th>\n",
       "      <th>CustomerID</th>\n",
       "      <th>Order_Qty</th>\n",
       "    </tr>\n",
       "  </thead>\n",
       "  <tbody>\n",
       "    <tr>\n",
       "      <th>1323</th>\n",
       "      <td>0000101813</td>\n",
       "      <td>1282252.0</td>\n",
       "    </tr>\n",
       "    <tr>\n",
       "      <th>529</th>\n",
       "      <td>0000100710</td>\n",
       "      <td>332234.0</td>\n",
       "    </tr>\n",
       "    <tr>\n",
       "      <th>1963</th>\n",
       "      <td>0000102853</td>\n",
       "      <td>331335.0</td>\n",
       "    </tr>\n",
       "    <tr>\n",
       "      <th>1347</th>\n",
       "      <td>0000101886</td>\n",
       "      <td>291771.0</td>\n",
       "    </tr>\n",
       "    <tr>\n",
       "      <th>643</th>\n",
       "      <td>0000100873</td>\n",
       "      <td>226194.0</td>\n",
       "    </tr>\n",
       "  </tbody>\n",
       "</table>\n",
       "</div>"
      ],
      "text/plain": [
       "      CustomerID  Order_Qty\n",
       "1323  0000101813  1282252.0\n",
       "529   0000100710   332234.0\n",
       "1963  0000102853   331335.0\n",
       "1347  0000101886   291771.0\n",
       "643   0000100873   226194.0"
      ]
     },
     "execution_count": 36,
     "metadata": {},
     "output_type": "execute_result"
    }
   ],
   "source": [
    "df1.head()"
   ]
  },
  {
   "cell_type": "code",
   "execution_count": 37,
   "metadata": {},
   "outputs": [],
   "source": [
    "\n",
    "#plt.scatter(range(len(df1)), df1.Order_Qty)"
   ]
  },
  {
   "cell_type": "code",
   "execution_count": 38,
   "metadata": {},
   "outputs": [
    {
     "data": {
      "text/html": [
       "<div>\n",
       "<style scoped>\n",
       "    .dataframe tbody tr th:only-of-type {\n",
       "        vertical-align: middle;\n",
       "    }\n",
       "\n",
       "    .dataframe tbody tr th {\n",
       "        vertical-align: top;\n",
       "    }\n",
       "\n",
       "    .dataframe thead th {\n",
       "        text-align: right;\n",
       "    }\n",
       "</style>\n",
       "<table border=\"1\" class=\"dataframe\">\n",
       "  <thead>\n",
       "    <tr style=\"text-align: right;\">\n",
       "      <th></th>\n",
       "      <th>Order_Qty</th>\n",
       "    </tr>\n",
       "  </thead>\n",
       "  <tbody>\n",
       "    <tr>\n",
       "      <th>count</th>\n",
       "      <td>5.360000e+03</td>\n",
       "    </tr>\n",
       "    <tr>\n",
       "      <th>mean</th>\n",
       "      <td>1.888966e+03</td>\n",
       "    </tr>\n",
       "    <tr>\n",
       "      <th>std</th>\n",
       "      <td>2.025496e+04</td>\n",
       "    </tr>\n",
       "    <tr>\n",
       "      <th>min</th>\n",
       "      <td>1.000000e+00</td>\n",
       "    </tr>\n",
       "    <tr>\n",
       "      <th>25%</th>\n",
       "      <td>1.260000e+02</td>\n",
       "    </tr>\n",
       "    <tr>\n",
       "      <th>50%</th>\n",
       "      <td>4.200000e+02</td>\n",
       "    </tr>\n",
       "    <tr>\n",
       "      <th>75%</th>\n",
       "      <td>1.011000e+03</td>\n",
       "    </tr>\n",
       "    <tr>\n",
       "      <th>max</th>\n",
       "      <td>1.282252e+06</td>\n",
       "    </tr>\n",
       "  </tbody>\n",
       "</table>\n",
       "</div>"
      ],
      "text/plain": [
       "          Order_Qty\n",
       "count  5.360000e+03\n",
       "mean   1.888966e+03\n",
       "std    2.025496e+04\n",
       "min    1.000000e+00\n",
       "25%    1.260000e+02\n",
       "50%    4.200000e+02\n",
       "75%    1.011000e+03\n",
       "max    1.282252e+06"
      ]
     },
     "execution_count": 38,
     "metadata": {},
     "output_type": "execute_result"
    }
   ],
   "source": [
    "df1.describe()"
   ]
  },
  {
   "cell_type": "code",
   "execution_count": 39,
   "metadata": {},
   "outputs": [
    {
     "name": "stderr",
     "output_type": "stream",
     "text": [
      "C:\\Users\\Helen.Tian\\AppData\\Local\\Continuum\\anaconda3\\lib\\site-packages\\ipykernel_launcher.py:2: FutureWarning: reshape is deprecated and will raise in a subsequent release. Please use .values.reshape(...) instead\n",
      "  \n"
     ]
    },
    {
     "data": {
      "text/plain": [
       "array([2, 2, 2, ..., 0, 0, 0])"
      ]
     },
     "execution_count": 39,
     "metadata": {},
     "output_type": "execute_result"
    }
   ],
   "source": [
    "from sklearn.cluster import KMeans\n",
    "X = np.array(df1.Order_Qty.iloc[1:].reshape(-1,1))\n",
    "kmeans = KMeans(n_clusters = 4, random_state=0).fit(X)\n",
    "kmeans.labels_"
   ]
  },
  {
   "cell_type": "code",
   "execution_count": 40,
   "metadata": {},
   "outputs": [],
   "source": [
    "Class=[]\n",
    "Class.append(kmeans.labels_[0])\n",
    "Class+=list(kmeans.labels_)"
   ]
  },
  {
   "cell_type": "code",
   "execution_count": 45,
   "metadata": {},
   "outputs": [
    {
     "data": {
      "text/plain": [
       "[2, 2, 2, 2, 2, 1, 1, 1, 1, 1, 1, 1, 1, 1, 1, 1, 1, 3, 3, 3]"
      ]
     },
     "execution_count": 45,
     "metadata": {},
     "output_type": "execute_result"
    }
   ],
   "source": [
    "Class[:20]"
   ]
  },
  {
   "cell_type": "code",
   "execution_count": 46,
   "metadata": {},
   "outputs": [],
   "source": [
    "df6=df1.copy()"
   ]
  },
  {
   "cell_type": "code",
   "execution_count": 47,
   "metadata": {},
   "outputs": [],
   "source": [
    "df6[\"Class\"] = Class"
   ]
  },
  {
   "cell_type": "code",
   "execution_count": 48,
   "metadata": {},
   "outputs": [
    {
     "data": {
      "text/plain": [
       "Text(0.5,1,'Logarithmic Overall Order-Qty')"
      ]
     },
     "execution_count": 48,
     "metadata": {},
     "output_type": "execute_result"
    },
    {
     "data": {
      "image/png": "[encoded data removed]",
      "text/plain": [
       "<matplotlib.figure.Figure at 0x16ec5901a90>"
      ]
     },
     "metadata": {},
     "output_type": "display_data"
    }
   ],
   "source": [
    "plt.scatter(range(len(df6)), np.log(df6.Order_Qty), c=df6.Class)\n",
    "plt.xlabel('Order of STD')\n",
    "plt.ylabel('Log(Overall Order-Qty)')\n",
    "plt.title('Logarithmic Overall Order-Qty')"
   ]
  },
  {
   "cell_type": "code",
   "execution_count": 49,
   "metadata": {},
   "outputs": [
    {
     "data": {
      "text/plain": [
       "54"
      ]
     },
     "execution_count": 49,
     "metadata": {},
     "output_type": "execute_result"
    }
   ],
   "source": [
    "len(df6[df6.Class==3])"
   ]
  },
  {
   "cell_type": "code",
   "execution_count": 50,
   "metadata": {},
   "outputs": [
    {
     "data": {
      "text/plain": [
       "5"
      ]
     },
     "execution_count": 50,
     "metadata": {},
     "output_type": "execute_result"
    }
   ],
   "source": [
    "len(df6[df6.Class==2])"
   ]
  },
  {
   "cell_type": "code",
   "execution_count": 51,
   "metadata": {},
   "outputs": [
    {
     "data": {
      "text/plain": [
       "12"
      ]
     },
     "execution_count": 51,
     "metadata": {},
     "output_type": "execute_result"
    }
   ],
   "source": [
    "len(df6[df6.Class==1])"
   ]
  },
  {
   "cell_type": "code",
   "execution_count": 52,
   "metadata": {},
   "outputs": [
    {
     "data": {
      "text/plain": [
       "5289"
      ]
     },
     "execution_count": 52,
     "metadata": {},
     "output_type": "execute_result"
    }
   ],
   "source": [
    "len(df6[df6.Class==0])"
   ]
  },
  {
   "cell_type": "code",
   "execution_count": 53,
   "metadata": {},
   "outputs": [],
   "source": [
    "################################################################## group Net_Value_item_level(Overall Value) by STD"
   ]
  },
  {
   "cell_type": "code",
   "execution_count": 54,
   "metadata": {},
   "outputs": [],
   "source": [
    "df3 = df['Net_Value_item_level'].groupby(df['CustomerID']).sum()"
   ]
  },
  {
   "cell_type": "code",
   "execution_count": 55,
   "metadata": {},
   "outputs": [],
   "source": [
    "df3 = df3.to_frame()"
   ]
  },
  {
   "cell_type": "code",
   "execution_count": 56,
   "metadata": {},
   "outputs": [],
   "source": [
    "df3 = df3.reset_index()"
   ]
  },
  {
   "cell_type": "code",
   "execution_count": 57,
   "metadata": {},
   "outputs": [
    {
     "data": {
      "text/html": [
       "<div>\n",
       "<style scoped>\n",
       "    .dataframe tbody tr th:only-of-type {\n",
       "        vertical-align: middle;\n",
       "    }\n",
       "\n",
       "    .dataframe tbody tr th {\n",
       "        vertical-align: top;\n",
       "    }\n",
       "\n",
       "    .dataframe thead th {\n",
       "        text-align: right;\n",
       "    }\n",
       "</style>\n",
       "<table border=\"1\" class=\"dataframe\">\n",
       "  <thead>\n",
       "    <tr style=\"text-align: right;\">\n",
       "      <th></th>\n",
       "      <th>CustomerID</th>\n",
       "      <th>Net_Value_item_level</th>\n",
       "    </tr>\n",
       "  </thead>\n",
       "  <tbody>\n",
       "    <tr>\n",
       "      <th>0</th>\n",
       "      <td>0000100002</td>\n",
       "      <td>9765.53</td>\n",
       "    </tr>\n",
       "    <tr>\n",
       "      <th>1</th>\n",
       "      <td>0000100004</td>\n",
       "      <td>48293.68</td>\n",
       "    </tr>\n",
       "    <tr>\n",
       "      <th>2</th>\n",
       "      <td>0000100005</td>\n",
       "      <td>18855.69</td>\n",
       "    </tr>\n",
       "    <tr>\n",
       "      <th>3</th>\n",
       "      <td>0000100006</td>\n",
       "      <td>160408.82</td>\n",
       "    </tr>\n",
       "    <tr>\n",
       "      <th>4</th>\n",
       "      <td>0000100007</td>\n",
       "      <td>55401.02</td>\n",
       "    </tr>\n",
       "  </tbody>\n",
       "</table>\n",
       "</div>"
      ],
      "text/plain": [
       "   CustomerID  Net_Value_item_level\n",
       "0  0000100002               9765.53\n",
       "1  0000100004              48293.68\n",
       "2  0000100005              18855.69\n",
       "3  0000100006             160408.82\n",
       "4  0000100007              55401.02"
      ]
     },
     "execution_count": 57,
     "metadata": {},
     "output_type": "execute_result"
    }
   ],
   "source": [
    "df3.head()"
   ]
  },
  {
   "cell_type": "code",
   "execution_count": 58,
   "metadata": {},
   "outputs": [
    {
     "data": {
      "text/html": [
       "<div>\n",
       "<style scoped>\n",
       "    .dataframe tbody tr th:only-of-type {\n",
       "        vertical-align: middle;\n",
       "    }\n",
       "\n",
       "    .dataframe tbody tr th {\n",
       "        vertical-align: top;\n",
       "    }\n",
       "\n",
       "    .dataframe thead th {\n",
       "        text-align: right;\n",
       "    }\n",
       "</style>\n",
       "<table border=\"1\" class=\"dataframe\">\n",
       "  <thead>\n",
       "    <tr style=\"text-align: right;\">\n",
       "      <th></th>\n",
       "      <th>Net_Value_item_level</th>\n",
       "    </tr>\n",
       "  </thead>\n",
       "  <tbody>\n",
       "    <tr>\n",
       "      <th>count</th>\n",
       "      <td>5.360000e+03</td>\n",
       "    </tr>\n",
       "    <tr>\n",
       "      <th>mean</th>\n",
       "      <td>4.929177e+04</td>\n",
       "    </tr>\n",
       "    <tr>\n",
       "      <th>std</th>\n",
       "      <td>4.868084e+05</td>\n",
       "    </tr>\n",
       "    <tr>\n",
       "      <th>min</th>\n",
       "      <td>0.000000e+00</td>\n",
       "    </tr>\n",
       "    <tr>\n",
       "      <th>25%</th>\n",
       "      <td>4.533235e+03</td>\n",
       "    </tr>\n",
       "    <tr>\n",
       "      <th>50%</th>\n",
       "      <td>1.233262e+04</td>\n",
       "    </tr>\n",
       "    <tr>\n",
       "      <th>75%</th>\n",
       "      <td>3.015384e+04</td>\n",
       "    </tr>\n",
       "    <tr>\n",
       "      <th>max</th>\n",
       "      <td>3.143766e+07</td>\n",
       "    </tr>\n",
       "  </tbody>\n",
       "</table>\n",
       "</div>"
      ],
      "text/plain": [
       "       Net_Value_item_level\n",
       "count          5.360000e+03\n",
       "mean           4.929177e+04\n",
       "std            4.868084e+05\n",
       "min            0.000000e+00\n",
       "25%            4.533235e+03\n",
       "50%            1.233262e+04\n",
       "75%            3.015384e+04\n",
       "max            3.143766e+07"
      ]
     },
     "execution_count": 58,
     "metadata": {},
     "output_type": "execute_result"
    }
   ],
   "source": [
    "df3.describe()"
   ]
  },
  {
   "cell_type": "code",
   "execution_count": 59,
   "metadata": {},
   "outputs": [
    {
     "data": {
      "text/plain": [
       "84"
      ]
     },
     "execution_count": 59,
     "metadata": {},
     "output_type": "execute_result"
    }
   ],
   "source": [
    "# exist Net_Value_item_level = 0, delete them\n",
    "df3=df3.sort_values(by=[\"Net_Value_item_level\"],ascending=[False])\n",
    "len(df3[df3.Net_Value_item_level==0])"
   ]
  },
  {
   "cell_type": "code",
   "execution_count": 60,
   "metadata": {},
   "outputs": [],
   "source": [
    "df3=df3[:-84]"
   ]
  },
  {
   "cell_type": "code",
   "execution_count": 61,
   "metadata": {},
   "outputs": [],
   "source": [
    "# because the maximum value is much larger than the secondard largest value. To reduce the influence, I remove the largest value"
   ]
  },
  {
   "cell_type": "code",
   "execution_count": 62,
   "metadata": {},
   "outputs": [
    {
     "name": "stderr",
     "output_type": "stream",
     "text": [
      "C:\\Users\\Helen.Tian\\AppData\\Local\\Continuum\\anaconda3\\lib\\site-packages\\ipykernel_launcher.py:1: FutureWarning: reshape is deprecated and will raise in a subsequent release. Please use .values.reshape(...) instead\n",
      "  \"\"\"Entry point for launching an IPython kernel.\n"
     ]
    }
   ],
   "source": [
    "X = np.array(df3.Net_Value_item_level.iloc[1:].reshape(-1,1))"
   ]
  },
  {
   "cell_type": "code",
   "execution_count": 63,
   "metadata": {},
   "outputs": [],
   "source": [
    "kmeans = KMeans(n_clusters = 3, random_state=0).fit(X)"
   ]
  },
  {
   "cell_type": "code",
   "execution_count": 64,
   "metadata": {},
   "outputs": [],
   "source": [
    "Class=[]\n",
    "Class.append(kmeans.labels_[0])\n",
    "Class+=list(kmeans.labels_)"
   ]
  },
  {
   "cell_type": "code",
   "execution_count": 65,
   "metadata": {},
   "outputs": [],
   "source": [
    "df4=df3.copy()"
   ]
  },
  {
   "cell_type": "code",
   "execution_count": 66,
   "metadata": {},
   "outputs": [],
   "source": [
    "df4[\"Class\"] = Class"
   ]
  },
  {
   "cell_type": "code",
   "execution_count": 67,
   "metadata": {},
   "outputs": [
    {
     "data": {
      "text/plain": [
       "Text(0.5,1,'Logarithmic Overall_Value')"
      ]
     },
     "execution_count": 67,
     "metadata": {},
     "output_type": "execute_result"
    },
    {
     "data": {
      "image/png": "[encoded data removed]",
      "text/plain": [
       "<matplotlib.figure.Figure at 0x16ec9d843c8>"
      ]
     },
     "metadata": {},
     "output_type": "display_data"
    }
   ],
   "source": [
    "plt.scatter(range(len(df4)), np.log(df4.Net_Value_item_level), c=df4.Class)\n",
    "plt.xlabel('Order of STD')\n",
    "plt.ylabel('Log(Overall_Value)')\n",
    "plt.title('Logarithmic Overall_Value')"
   ]
  },
  {
   "cell_type": "code",
   "execution_count": 68,
   "metadata": {},
   "outputs": [
    {
     "data": {
      "text/plain": [
       "6"
      ]
     },
     "execution_count": 68,
     "metadata": {},
     "output_type": "execute_result"
    }
   ],
   "source": [
    "len(df4[df4.Class==1])"
   ]
  },
  {
   "cell_type": "code",
   "execution_count": 69,
   "metadata": {},
   "outputs": [
    {
     "data": {
      "text/plain": [
       "25"
      ]
     },
     "execution_count": 69,
     "metadata": {},
     "output_type": "execute_result"
    }
   ],
   "source": [
    "len(df4[df4.Class==2])"
   ]
  },
  {
   "cell_type": "code",
   "execution_count": 70,
   "metadata": {},
   "outputs": [
    {
     "data": {
      "text/plain": [
       "6"
      ]
     },
     "execution_count": 70,
     "metadata": {},
     "output_type": "execute_result"
    }
   ],
   "source": [
    "len(df4[df4.Class==1])"
   ]
  },
  {
   "cell_type": "code",
   "execution_count": 71,
   "metadata": {},
   "outputs": [
    {
     "data": {
      "text/plain": [
       "25"
      ]
     },
     "execution_count": 71,
     "metadata": {},
     "output_type": "execute_result"
    }
   ],
   "source": [
    "len(df4[df4.Class==2])"
   ]
  },
  {
   "cell_type": "code",
   "execution_count": 72,
   "metadata": {},
   "outputs": [],
   "source": [
    "################################################# Analysing diff percentage of product category in different Order_Qty STD"
   ]
  },
  {
   "cell_type": "code",
   "execution_count": 73,
   "metadata": {},
   "outputs": [],
   "source": [
    "# Drinkware\n",
    "dfD = df[df.ProductCategory=='Drinkware']\n",
    "\n",
    "dfd = dfD['Order_Qty'].groupby(df['CustomerID']).sum()\n",
    "\n",
    "dfd = dfd.to_frame()\n",
    "\n",
    "dfd = dfd.reset_index()"
   ]
  },
  {
   "cell_type": "code",
   "execution_count": 74,
   "metadata": {},
   "outputs": [],
   "source": [
    "# Soft Cooler\n",
    "dfS = df[df.ProductCategory=='Soft Cooler']\n",
    "\n",
    "dfs = dfS['Order_Qty'].groupby(df['CustomerID']).sum()\n",
    "\n",
    "dfs = dfs.to_frame()\n",
    "\n",
    "dfs = dfs.reset_index()"
   ]
  },
  {
   "cell_type": "code",
   "execution_count": 75,
   "metadata": {},
   "outputs": [],
   "source": [
    "# Hard Cooler\n",
    "dfH = df[df.ProductCategory=='Hard Cooler']\n",
    "\n",
    "dfh = dfH['Order_Qty'].groupby(df['CustomerID']).sum()\n",
    "\n",
    "dfh = dfh.to_frame()\n",
    "\n",
    "dfh = dfh.reset_index()"
   ]
  },
  {
   "cell_type": "code",
   "execution_count": 76,
   "metadata": {},
   "outputs": [],
   "source": [
    "# merge above dataframe together\n",
    "\n",
    "DF=pd.merge(dfd, dfs,  on='CustomerID', how='outer')\n",
    "\n",
    "DF=pd.merge(DF, dfh,  on='CustomerID', how='outer')\n",
    "\n",
    "DF=DF.rename(index=str, columns={\"CustomerID\": \"CustomerID\", \"Order_Qty_x\": \"DW_Qty\",\"Order_Qty_y\": \"SK_Qty\", \"Order_Qty\": \"HK_Qty\"})\n",
    "\n",
    "DF=pd.merge(DF, df6,  on='CustomerID', how='outer')\n",
    "\n",
    "DF=DF.fillna(0)\n"
   ]
  },
  {
   "cell_type": "code",
   "execution_count": 77,
   "metadata": {},
   "outputs": [
    {
     "data": {
      "text/html": [
       "<div>\n",
       "<style scoped>\n",
       "    .dataframe tbody tr th:only-of-type {\n",
       "        vertical-align: middle;\n",
       "    }\n",
       "\n",
       "    .dataframe tbody tr th {\n",
       "        vertical-align: top;\n",
       "    }\n",
       "\n",
       "    .dataframe thead th {\n",
       "        text-align: right;\n",
       "    }\n",
       "</style>\n",
       "<table border=\"1\" class=\"dataframe\">\n",
       "  <thead>\n",
       "    <tr style=\"text-align: right;\">\n",
       "      <th></th>\n",
       "      <th>CustomerID</th>\n",
       "      <th>DW_Qty</th>\n",
       "      <th>SK_Qty</th>\n",
       "      <th>HK_Qty</th>\n",
       "      <th>Order_Qty</th>\n",
       "      <th>Class</th>\n",
       "    </tr>\n",
       "  </thead>\n",
       "  <tbody>\n",
       "    <tr>\n",
       "      <th>0</th>\n",
       "      <td>0000100002</td>\n",
       "      <td>84.0</td>\n",
       "      <td>2.0</td>\n",
       "      <td>44.0</td>\n",
       "      <td>130.0</td>\n",
       "      <td>0</td>\n",
       "    </tr>\n",
       "    <tr>\n",
       "      <th>1</th>\n",
       "      <td>0000100004</td>\n",
       "      <td>1622.0</td>\n",
       "      <td>97.0</td>\n",
       "      <td>98.0</td>\n",
       "      <td>1889.0</td>\n",
       "      <td>0</td>\n",
       "    </tr>\n",
       "    <tr>\n",
       "      <th>2</th>\n",
       "      <td>0000100005</td>\n",
       "      <td>240.0</td>\n",
       "      <td>10.0</td>\n",
       "      <td>75.0</td>\n",
       "      <td>484.0</td>\n",
       "      <td>0</td>\n",
       "    </tr>\n",
       "    <tr>\n",
       "      <th>3</th>\n",
       "      <td>0000100006</td>\n",
       "      <td>4712.0</td>\n",
       "      <td>124.0</td>\n",
       "      <td>303.0</td>\n",
       "      <td>5708.0</td>\n",
       "      <td>0</td>\n",
       "    </tr>\n",
       "    <tr>\n",
       "      <th>4</th>\n",
       "      <td>0000100007</td>\n",
       "      <td>822.0</td>\n",
       "      <td>189.0</td>\n",
       "      <td>54.0</td>\n",
       "      <td>1092.0</td>\n",
       "      <td>0</td>\n",
       "    </tr>\n",
       "  </tbody>\n",
       "</table>\n",
       "</div>"
      ],
      "text/plain": [
       "   CustomerID  DW_Qty  SK_Qty  HK_Qty  Order_Qty  Class\n",
       "0  0000100002    84.0     2.0    44.0      130.0      0\n",
       "1  0000100004  1622.0    97.0    98.0     1889.0      0\n",
       "2  0000100005   240.0    10.0    75.0      484.0      0\n",
       "3  0000100006  4712.0   124.0   303.0     5708.0      0\n",
       "4  0000100007   822.0   189.0    54.0     1092.0      0"
      ]
     },
     "execution_count": 77,
     "metadata": {},
     "output_type": "execute_result"
    }
   ],
   "source": [
    "DF.head()"
   ]
  },
  {
   "cell_type": "code",
   "execution_count": 78,
   "metadata": {},
   "outputs": [],
   "source": [
    "DF1 = DF.copy()\n",
    "DF1['DW_Qty'] = DF.DW_Qty/DF.Order_Qty\n",
    "DF1['SK_Qty'] = DF.SK_Qty/DF.Order_Qty\n",
    "DF1['HK_Qty'] = DF.HK_Qty/DF.Order_Qty"
   ]
  },
  {
   "cell_type": "code",
   "execution_count": 79,
   "metadata": {},
   "outputs": [
    {
     "data": {
      "text/html": [
       "<div>\n",
       "<style scoped>\n",
       "    .dataframe tbody tr th:only-of-type {\n",
       "        vertical-align: middle;\n",
       "    }\n",
       "\n",
       "    .dataframe tbody tr th {\n",
       "        vertical-align: top;\n",
       "    }\n",
       "\n",
       "    .dataframe thead th {\n",
       "        text-align: right;\n",
       "    }\n",
       "</style>\n",
       "<table border=\"1\" class=\"dataframe\">\n",
       "  <thead>\n",
       "    <tr style=\"text-align: right;\">\n",
       "      <th></th>\n",
       "      <th>CustomerID</th>\n",
       "      <th>DW_Qty</th>\n",
       "      <th>SK_Qty</th>\n",
       "      <th>HK_Qty</th>\n",
       "      <th>Order_Qty</th>\n",
       "      <th>Class</th>\n",
       "    </tr>\n",
       "  </thead>\n",
       "  <tbody>\n",
       "    <tr>\n",
       "      <th>0</th>\n",
       "      <td>0000100002</td>\n",
       "      <td>0.646154</td>\n",
       "      <td>0.015385</td>\n",
       "      <td>0.338462</td>\n",
       "      <td>130.0</td>\n",
       "      <td>0</td>\n",
       "    </tr>\n",
       "    <tr>\n",
       "      <th>1</th>\n",
       "      <td>0000100004</td>\n",
       "      <td>0.858655</td>\n",
       "      <td>0.051350</td>\n",
       "      <td>0.051879</td>\n",
       "      <td>1889.0</td>\n",
       "      <td>0</td>\n",
       "    </tr>\n",
       "    <tr>\n",
       "      <th>2</th>\n",
       "      <td>0000100005</td>\n",
       "      <td>0.495868</td>\n",
       "      <td>0.020661</td>\n",
       "      <td>0.154959</td>\n",
       "      <td>484.0</td>\n",
       "      <td>0</td>\n",
       "    </tr>\n",
       "    <tr>\n",
       "      <th>3</th>\n",
       "      <td>0000100006</td>\n",
       "      <td>0.825508</td>\n",
       "      <td>0.021724</td>\n",
       "      <td>0.053083</td>\n",
       "      <td>5708.0</td>\n",
       "      <td>0</td>\n",
       "    </tr>\n",
       "    <tr>\n",
       "      <th>4</th>\n",
       "      <td>0000100007</td>\n",
       "      <td>0.752747</td>\n",
       "      <td>0.173077</td>\n",
       "      <td>0.049451</td>\n",
       "      <td>1092.0</td>\n",
       "      <td>0</td>\n",
       "    </tr>\n",
       "  </tbody>\n",
       "</table>\n",
       "</div>"
      ],
      "text/plain": [
       "   CustomerID    DW_Qty    SK_Qty    HK_Qty  Order_Qty  Class\n",
       "0  0000100002  0.646154  0.015385  0.338462      130.0      0\n",
       "1  0000100004  0.858655  0.051350  0.051879     1889.0      0\n",
       "2  0000100005  0.495868  0.020661  0.154959      484.0      0\n",
       "3  0000100006  0.825508  0.021724  0.053083     5708.0      0\n",
       "4  0000100007  0.752747  0.173077  0.049451     1092.0      0"
      ]
     },
     "execution_count": 79,
     "metadata": {},
     "output_type": "execute_result"
    }
   ],
   "source": [
    "DF1.head()"
   ]
  },
  {
   "cell_type": "code",
   "execution_count": 80,
   "metadata": {},
   "outputs": [],
   "source": [
    "qq=DF1.groupby('Class', as_index=False)['DW_Qty', 'SK_Qty', 'HK_Qty'].mean()\n",
    "qq=qq.rename(index=str, columns={'DW_Qty':'Drinkware', 'SK_Qty': 'Soft Cooler', 'HK_Qty':'Hard Cooler'})\n",
    "qq.Class = ['Small', 'Large', 'Medium','Extreme Large']\n",
    "qq=qq.reindex(['0', '3', '1','2'])"
   ]
  },
  {
   "cell_type": "code",
   "execution_count": 81,
   "metadata": {},
   "outputs": [
    {
     "data": {
      "text/html": [
       "<div>\n",
       "<style scoped>\n",
       "    .dataframe tbody tr th:only-of-type {\n",
       "        vertical-align: middle;\n",
       "    }\n",
       "\n",
       "    .dataframe tbody tr th {\n",
       "        vertical-align: top;\n",
       "    }\n",
       "\n",
       "    .dataframe thead th {\n",
       "        text-align: right;\n",
       "    }\n",
       "</style>\n",
       "<table border=\"1\" class=\"dataframe\">\n",
       "  <thead>\n",
       "    <tr style=\"text-align: right;\">\n",
       "      <th></th>\n",
       "      <th>Class</th>\n",
       "      <th>Drinkware</th>\n",
       "      <th>Soft Cooler</th>\n",
       "      <th>Hard Cooler</th>\n",
       "    </tr>\n",
       "  </thead>\n",
       "  <tbody>\n",
       "    <tr>\n",
       "      <th>0</th>\n",
       "      <td>Small</td>\n",
       "      <td>0.729003</td>\n",
       "      <td>0.057316</td>\n",
       "      <td>0.136597</td>\n",
       "    </tr>\n",
       "    <tr>\n",
       "      <th>3</th>\n",
       "      <td>Extreme Large</td>\n",
       "      <td>0.886128</td>\n",
       "      <td>0.024192</td>\n",
       "      <td>0.029393</td>\n",
       "    </tr>\n",
       "    <tr>\n",
       "      <th>1</th>\n",
       "      <td>Large</td>\n",
       "      <td>0.903032</td>\n",
       "      <td>0.019534</td>\n",
       "      <td>0.032102</td>\n",
       "    </tr>\n",
       "    <tr>\n",
       "      <th>2</th>\n",
       "      <td>Medium</td>\n",
       "      <td>0.882652</td>\n",
       "      <td>0.024441</td>\n",
       "      <td>0.029995</td>\n",
       "    </tr>\n",
       "  </tbody>\n",
       "</table>\n",
       "</div>"
      ],
      "text/plain": [
       "           Class  Drinkware  Soft Cooler  Hard Cooler\n",
       "0          Small   0.729003     0.057316     0.136597\n",
       "3  Extreme Large   0.886128     0.024192     0.029393\n",
       "1          Large   0.903032     0.019534     0.032102\n",
       "2         Medium   0.882652     0.024441     0.029995"
      ]
     },
     "execution_count": 81,
     "metadata": {},
     "output_type": "execute_result"
    }
   ],
   "source": [
    "qq"
   ]
  },
  {
   "cell_type": "code",
   "execution_count": 82,
   "metadata": {},
   "outputs": [
    {
     "name": "stderr",
     "output_type": "stream",
     "text": [
      "C:\\Users\\Helen.Tian\\AppData\\Local\\Continuum\\anaconda3\\lib\\site-packages\\pandas\\plotting\\_core.py:1716: UserWarning: Pandas doesn't allow columns to be created via a new attribute name - see https://pandas.pydata.org/pandas-docs/stable/indexing.html#attribute-access\n",
      "  series.name = label\n"
     ]
    },
    {
     "data": {
      "text/plain": [
       "Text(0.5,1,'Average % of Order Quantity in different Class')"
      ]
     },
     "execution_count": 82,
     "metadata": {},
     "output_type": "execute_result"
    },
    {
     "data": {
      "image/png": "[encoded data removed]",
      "text/plain": [
       "<matplotlib.figure.Figure at 0x16ecb9336d8>"
      ]
     },
     "metadata": {},
     "output_type": "display_data"
    }
   ],
   "source": [
    "qq.plot(x='Class', y=['Drinkware', 'Soft Cooler', 'Hard Cooler'], kind=\"bar\")\n",
    "plt.ylabel('%')\n",
    "plt.title('Average % of Order Quantity in different Class')"
   ]
  },
  {
   "cell_type": "code",
   "execution_count": 83,
   "metadata": {},
   "outputs": [
    {
     "data": {
      "text/html": [
       "<div>\n",
       "<style scoped>\n",
       "    .dataframe tbody tr th:only-of-type {\n",
       "        vertical-align: middle;\n",
       "    }\n",
       "\n",
       "    .dataframe tbody tr th {\n",
       "        vertical-align: top;\n",
       "    }\n",
       "\n",
       "    .dataframe thead th {\n",
       "        text-align: right;\n",
       "    }\n",
       "</style>\n",
       "<table border=\"1\" class=\"dataframe\">\n",
       "  <thead>\n",
       "    <tr style=\"text-align: right;\">\n",
       "      <th></th>\n",
       "      <th>CustomerID</th>\n",
       "      <th>DW_Qty</th>\n",
       "      <th>SK_Qty</th>\n",
       "      <th>HK_Qty</th>\n",
       "      <th>Order_Qty</th>\n",
       "      <th>Class</th>\n",
       "    </tr>\n",
       "  </thead>\n",
       "  <tbody>\n",
       "    <tr>\n",
       "      <th>123</th>\n",
       "      <td>0000100169</td>\n",
       "      <td>17152.0</td>\n",
       "      <td>846.0</td>\n",
       "      <td>430.0</td>\n",
       "      <td>20147.0</td>\n",
       "      <td>3</td>\n",
       "    </tr>\n",
       "    <tr>\n",
       "      <th>133</th>\n",
       "      <td>0000100189</td>\n",
       "      <td>16378.0</td>\n",
       "      <td>523.0</td>\n",
       "      <td>123.0</td>\n",
       "      <td>17024.0</td>\n",
       "      <td>3</td>\n",
       "    </tr>\n",
       "    <tr>\n",
       "      <th>198</th>\n",
       "      <td>0000100283</td>\n",
       "      <td>22730.0</td>\n",
       "      <td>556.0</td>\n",
       "      <td>1152.0</td>\n",
       "      <td>32948.0</td>\n",
       "      <td>3</td>\n",
       "    </tr>\n",
       "    <tr>\n",
       "      <th>218</th>\n",
       "      <td>0000100315</td>\n",
       "      <td>91225.0</td>\n",
       "      <td>2287.0</td>\n",
       "      <td>5161.0</td>\n",
       "      <td>100365.0</td>\n",
       "      <td>1</td>\n",
       "    </tr>\n",
       "    <tr>\n",
       "      <th>243</th>\n",
       "      <td>0000100349</td>\n",
       "      <td>22844.0</td>\n",
       "      <td>2576.0</td>\n",
       "      <td>3156.0</td>\n",
       "      <td>29057.0</td>\n",
       "      <td>3</td>\n",
       "    </tr>\n",
       "  </tbody>\n",
       "</table>\n",
       "</div>"
      ],
      "text/plain": [
       "     CustomerID   DW_Qty  SK_Qty  HK_Qty  Order_Qty  Class\n",
       "123  0000100169  17152.0   846.0   430.0    20147.0      3\n",
       "133  0000100189  16378.0   523.0   123.0    17024.0      3\n",
       "198  0000100283  22730.0   556.0  1152.0    32948.0      3\n",
       "218  0000100315  91225.0  2287.0  5161.0   100365.0      1\n",
       "243  0000100349  22844.0  2576.0  3156.0    29057.0      3"
      ]
     },
     "execution_count": 83,
     "metadata": {},
     "output_type": "execute_result"
    }
   ],
   "source": [
    "DF[(DF['Class']==3) | (DF['Class']==1)].head()"
   ]
  },
  {
   "cell_type": "code",
   "execution_count": 84,
   "metadata": {},
   "outputs": [],
   "source": [
    "test=DF1[(DF1['Class']==3) | (DF1['Class']==1)]"
   ]
  },
  {
   "cell_type": "code",
   "execution_count": 85,
   "metadata": {},
   "outputs": [
    {
     "data": {
      "text/html": [
       "<div>\n",
       "<style scoped>\n",
       "    .dataframe tbody tr th:only-of-type {\n",
       "        vertical-align: middle;\n",
       "    }\n",
       "\n",
       "    .dataframe tbody tr th {\n",
       "        vertical-align: top;\n",
       "    }\n",
       "\n",
       "    .dataframe thead th {\n",
       "        text-align: right;\n",
       "    }\n",
       "</style>\n",
       "<table border=\"1\" class=\"dataframe\">\n",
       "  <thead>\n",
       "    <tr style=\"text-align: right;\">\n",
       "      <th></th>\n",
       "      <th>CustomerID</th>\n",
       "      <th>DW_Qty</th>\n",
       "      <th>SK_Qty</th>\n",
       "      <th>HK_Qty</th>\n",
       "      <th>Order_Qty</th>\n",
       "      <th>Class</th>\n",
       "    </tr>\n",
       "  </thead>\n",
       "  <tbody>\n",
       "    <tr>\n",
       "      <th>123</th>\n",
       "      <td>0000100169</td>\n",
       "      <td>0.851343</td>\n",
       "      <td>0.041991</td>\n",
       "      <td>0.021343</td>\n",
       "      <td>20147.0</td>\n",
       "      <td>3</td>\n",
       "    </tr>\n",
       "    <tr>\n",
       "      <th>133</th>\n",
       "      <td>0000100189</td>\n",
       "      <td>0.962054</td>\n",
       "      <td>0.030721</td>\n",
       "      <td>0.007225</td>\n",
       "      <td>17024.0</td>\n",
       "      <td>3</td>\n",
       "    </tr>\n",
       "    <tr>\n",
       "      <th>198</th>\n",
       "      <td>0000100283</td>\n",
       "      <td>0.689875</td>\n",
       "      <td>0.016875</td>\n",
       "      <td>0.034964</td>\n",
       "      <td>32948.0</td>\n",
       "      <td>3</td>\n",
       "    </tr>\n",
       "    <tr>\n",
       "      <th>218</th>\n",
       "      <td>0000100315</td>\n",
       "      <td>0.908932</td>\n",
       "      <td>0.022787</td>\n",
       "      <td>0.051422</td>\n",
       "      <td>100365.0</td>\n",
       "      <td>1</td>\n",
       "    </tr>\n",
       "    <tr>\n",
       "      <th>243</th>\n",
       "      <td>0000100349</td>\n",
       "      <td>0.786179</td>\n",
       "      <td>0.088653</td>\n",
       "      <td>0.108614</td>\n",
       "      <td>29057.0</td>\n",
       "      <td>3</td>\n",
       "    </tr>\n",
       "  </tbody>\n",
       "</table>\n",
       "</div>"
      ],
      "text/plain": [
       "     CustomerID    DW_Qty    SK_Qty    HK_Qty  Order_Qty  Class\n",
       "123  0000100169  0.851343  0.041991  0.021343    20147.0      3\n",
       "133  0000100189  0.962054  0.030721  0.007225    17024.0      3\n",
       "198  0000100283  0.689875  0.016875  0.034964    32948.0      3\n",
       "218  0000100315  0.908932  0.022787  0.051422   100365.0      1\n",
       "243  0000100349  0.786179  0.088653  0.108614    29057.0      3"
      ]
     },
     "execution_count": 85,
     "metadata": {},
     "output_type": "execute_result"
    }
   ],
   "source": [
    "test.head()"
   ]
  },
  {
   "cell_type": "code",
   "execution_count": 88,
   "metadata": {},
   "outputs": [
    {
     "data": {
      "text/plain": [
       "Text(0.5,1,'Logarithmic Overall_Value')"
      ]
     },
     "execution_count": 88,
     "metadata": {},
     "output_type": "execute_result"
    },
    {
     "data": {
      "image/png": "[encoded data removed]",
      "text/plain": [
       "<matplotlib.figure.Figure at 0x16ebf178908>"
      ]
     },
     "metadata": {},
     "output_type": "display_data"
    }
   ],
   "source": [
    "plt.scatter(x=test.DW_Qty, y= test.SK_Qty, c=test.Class)\n",
    "plt.xlabel('DW_Qty')\n",
    "plt.ylabel('SK_Qty')\n",
    "plt.title('Logarithmic Overall_Value')"
   ]
  },
  {
   "cell_type": "code",
   "execution_count": null,
   "metadata": {},
   "outputs": [],
   "source": []
  },
  {
   "cell_type": "code",
   "execution_count": null,
   "metadata": {},
   "outputs": [],
   "source": []
  },
  {
   "cell_type": "code",
   "execution_count": null,
   "metadata": {},
   "outputs": [],
   "source": []
  }
 ],
 "metadata": {
  "kernelspec": {
   "display_name": "Python 3",
   "language": "python",
   "name": "python3"
  },
  "language_info": {
   "codemirror_mode": {
    "name": "ipython",
    "version": 3
   },
   "file_extension": ".py",
   "mimetype": "text/x-python",
   "name": "python",
   "nbconvert_exporter": "python",
   "pygments_lexer": "ipython3",
   "version": "3.6.4"
  }
 },
 "nbformat": 4,
 "nbformat_minor": 2
}
