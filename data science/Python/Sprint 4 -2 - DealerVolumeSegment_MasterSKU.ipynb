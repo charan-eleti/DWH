{
 "cells": [
  {
   "cell_type": "markdown",
   "metadata": {},
   "source": [
    "Codes in this jupyter notebook shows work on ZVA05 (SAP data) from Jan 1, 2017 - May 31, 2015.\n",
    "\n",
    "The overall goal is to predict monthly sum order quantity for each master SKU.\n",
    "\n",
    "Dealers from sales office 'HYB' and 'STD' are segmented using the entire ZVA05 dataset into 4 volume groups: Small, Medium, Large and X-Large.\n",
    "\n",
    "Algorithm tested: OLS, WLS, KNN, random forest.\n",
    "\n",
    "Main conclusions:\n",
    "- data is not homoskedastic, cannot use OLS regression, Pearson correlation, t-test and p-value.\n",
    "- segment method is wrong (mix of training and testing data)"
   ]
  },
  {
   "cell_type": "code",
   "execution_count": 15,
   "metadata": {},
   "outputs": [],
   "source": [
    "import pandas as pd\n",
    "import numpy as np\n",
    "import datetime\n",
    "import copy\n",
    "import pyodbc\n",
    "import sys\n",
    "import matplotlib.pyplot as plt\n",
    "from scipy.stats import boxcox\n",
    "import statsmodels.api as sm\n",
    "import seaborn as sns\n",
    "from sklearn.preprocessing import LabelEncoder\n",
    "from sklearn.preprocessing import StandardScaler, normalize\n",
    "from sklearn.linear_model import LinearRegression\n",
    "from sklearn.model_selection import cross_val_score, train_test_split, cross_val_predict\n",
    "from sklearn.model_selection import train_test_split\n",
    "from sklearn.model_selection import KFold\n",
    "from sklearn.neighbors import KNeighborsRegressor\n",
    "from sklearn.ensemble import RandomForestRegressor\n",
    "from sklearn.pipeline import Pipeline\n",
    "from sklearn.metrics import mean_squared_error, r2_score\n",
    "from sklearn.pipeline import Pipeline\n",
    "from sklearn.preprocessing import PolynomialFeatures\n",
    "from scipy.stats import levene, bartlett"
   ]
  },
  {
   "cell_type": "code",
   "execution_count": 2,
   "metadata": {},
   "outputs": [],
   "source": [
    "import warnings\n",
    "warnings.filterwarnings(\"ignore\")"
   ]
  },
  {
   "cell_type": "code",
   "execution_count": 1,
   "metadata": {},
   "outputs": [
    {
     "data": {
      "text/html": [
       "<div>\n",
       "<style scoped>\n",
       "    .dataframe tbody tr th:only-of-type {\n",
       "        vertical-align: middle;\n",
       "    }\n",
       "\n",
       "    .dataframe tbody tr th {\n",
       "        vertical-align: top;\n",
       "    }\n",
       "\n",
       "    .dataframe thead th {\n",
       "        text-align: right;\n",
       "    }\n",
       "</style>\n",
       "<table border=\"1\" class=\"dataframe\">\n",
       "  <thead>\n",
       "    <tr style=\"text-align: right;\">\n",
       "      <th></th>\n",
       "      <th>SalesOffice</th>\n",
       "      <th>Order_Type</th>\n",
       "      <th>Order_Qty</th>\n",
       "      <th>Overall_Credit_Status</th>\n",
       "      <th>Delivery_Block</th>\n",
       "      <th>Billing_Block</th>\n",
       "      <th>Block_flag</th>\n",
       "      <th>Overall_Credit_Status_Desc</th>\n",
       "      <th>ProductCategory</th>\n",
       "      <th>MasterSKU</th>\n",
       "      <th>...</th>\n",
       "      <th>State</th>\n",
       "      <th>Zipcode</th>\n",
       "      <th>Country</th>\n",
       "      <th>District</th>\n",
       "      <th>waiting_days</th>\n",
       "      <th>wait</th>\n",
       "      <th>dealer_volume_group</th>\n",
       "      <th>year</th>\n",
       "      <th>month</th>\n",
       "      <th>monthly_sum_Order_Qty</th>\n",
       "    </tr>\n",
       "  </thead>\n",
       "  <tbody>\n",
       "    <tr>\n",
       "      <th>460374</th>\n",
       "      <td>1</td>\n",
       "      <td>2</td>\n",
       "      <td>12.0</td>\n",
       "      <td>1</td>\n",
       "      <td>0</td>\n",
       "      <td>0</td>\n",
       "      <td>0</td>\n",
       "      <td>1</td>\n",
       "      <td>2</td>\n",
       "      <td>17</td>\n",
       "      <td>...</td>\n",
       "      <td>17</td>\n",
       "      <td>5287</td>\n",
       "      <td>5</td>\n",
       "      <td>18</td>\n",
       "      <td>0</td>\n",
       "      <td>1</td>\n",
       "      <td>0</td>\n",
       "      <td>2018</td>\n",
       "      <td>1</td>\n",
       "      <td>541354.0</td>\n",
       "    </tr>\n",
       "    <tr>\n",
       "      <th>363313</th>\n",
       "      <td>1</td>\n",
       "      <td>2</td>\n",
       "      <td>4.0</td>\n",
       "      <td>1</td>\n",
       "      <td>0</td>\n",
       "      <td>0</td>\n",
       "      <td>0</td>\n",
       "      <td>1</td>\n",
       "      <td>0</td>\n",
       "      <td>13</td>\n",
       "      <td>...</td>\n",
       "      <td>14</td>\n",
       "      <td>1462</td>\n",
       "      <td>5</td>\n",
       "      <td>12</td>\n",
       "      <td>0</td>\n",
       "      <td>1</td>\n",
       "      <td>0</td>\n",
       "      <td>2017</td>\n",
       "      <td>10</td>\n",
       "      <td>653.0</td>\n",
       "    </tr>\n",
       "  </tbody>\n",
       "</table>\n",
       "<p>2 rows × 22 columns</p>\n",
       "</div>"
      ],
      "text/plain": [
       "        SalesOffice  Order_Type  Order_Qty  Overall_Credit_Status  \\\n",
       "460374            1           2       12.0                      1   \n",
       "363313            1           2        4.0                      1   \n",
       "\n",
       "        Delivery_Block  Billing_Block  Block_flag  Overall_Credit_Status_Desc  \\\n",
       "460374               0              0           0                           1   \n",
       "363313               0              0           0                           1   \n",
       "\n",
       "        ProductCategory  MasterSKU          ...            State  Zipcode  \\\n",
       "460374                2         17          ...               17     5287   \n",
       "363313                0         13          ...               14     1462   \n",
       "\n",
       "        Country  District  waiting_days  wait  dealer_volume_group  year  \\\n",
       "460374        5        18             0     1                    0  2018   \n",
       "363313        5        12             0     1                    0  2017   \n",
       "\n",
       "        month  monthly_sum_Order_Qty  \n",
       "460374      1               541354.0  \n",
       "363313     10                  653.0  \n",
       "\n",
       "[2 rows x 22 columns]"
      ]
     },
     "execution_count": 1,
     "metadata": {},
     "output_type": "execute_result"
    }
   ],
   "source": [
    "# retrieve volume segmented data on product category level\n",
    "%store -r aggr_data\n",
    "aggr_data.sample(2)"
   ]
  },
  {
   "cell_type": "code",
   "execution_count": 3,
   "metadata": {},
   "outputs": [
    {
     "data": {
      "text/plain": [
       "Index(['SalesOffice', 'Order_Type', 'Order_Qty', 'Overall_Credit_Status',\n",
       "       'Delivery_Block', 'Billing_Block', 'Block_flag',\n",
       "       'Overall_Credit_Status_Desc', 'ProductCategory', 'MasterSKU', 'Color',\n",
       "       'City', 'State', 'Zipcode', 'Country', 'District', 'waiting_days',\n",
       "       'wait', 'dealer_volume_group', 'year', 'month',\n",
       "       'monthly_sum_Order_Qty'],\n",
       "      dtype='object')"
      ]
     },
     "execution_count": 3,
     "metadata": {},
     "output_type": "execute_result"
    }
   ],
   "source": [
    "aggr_data.columns"
   ]
  },
  {
   "cell_type": "code",
   "execution_count": 5,
   "metadata": {},
   "outputs": [],
   "source": [
    "df = aggr_data.drop(columns=['monthly_sum_Order_Qty'])"
   ]
  },
  {
   "cell_type": "code",
   "execution_count": 6,
   "metadata": {},
   "outputs": [
    {
     "data": {
      "text/plain": [
       "Index(['SalesOffice', 'Order_Type', 'Order_Qty', 'Overall_Credit_Status',\n",
       "       'Delivery_Block', 'Billing_Block', 'Block_flag',\n",
       "       'Overall_Credit_Status_Desc', 'ProductCategory', 'MasterSKU', 'Color',\n",
       "       'City', 'State', 'Zipcode', 'Country', 'District', 'waiting_days',\n",
       "       'wait', 'dealer_volume_group', 'year', 'month'],\n",
       "      dtype='object')"
      ]
     },
     "execution_count": 6,
     "metadata": {},
     "output_type": "execute_result"
    }
   ],
   "source": [
    "df.columns"
   ]
  },
  {
   "cell_type": "code",
   "execution_count": 12,
   "metadata": {},
   "outputs": [
    {
     "data": {
      "text/plain": [
       "'dealer_volume_group'"
      ]
     },
     "execution_count": 12,
     "metadata": {},
     "output_type": "execute_result"
    }
   ],
   "source": [
    "df.columns[18]"
   ]
  },
  {
   "cell_type": "markdown",
   "metadata": {},
   "source": [
    "### Calculate response variable (Y)\n",
    "Based on each dealer's volume (sum of Order_Qty / # of months being a customer) grouping, the response Y is each volume group's monthly sum of Order_Qty in a given month (regardless of year).\n",
    "\n",
    "update_monthly_sum() adds a column to the end of each row indicating the monthly sum of Order_Qty of this specific masterSKU ordered by dealers from the same volume group."
   ]
  },
  {
   "cell_type": "code",
   "execution_count": 17,
   "metadata": {},
   "outputs": [],
   "source": [
    "def update_monthly_sum(dFrame):\n",
    "        \n",
    "    new_dFrame = dFrame.copy()\n",
    "    \n",
    "    # column to the end of the dataframe\n",
    "    new_dFrame['monthly_sum_Order_Qty'] = np.nan\n",
    "    \n",
    "    hi = len(dFrame)\n",
    "\n",
    "    for i, row in dFrame.iterrows():\n",
    "        \n",
    "        # find the same MasterSKU sold in the same month (regardless of year)\n",
    "        # to the same dealer volume group\n",
    "        subset = dFrame.loc[(dFrame['year'] == row[19]) \n",
    "                            & (dFrame['month'] == row[20]) \n",
    "                            & (dFrame['MasterSKU'] == row[9])\n",
    "                            & (dFrame['dealer_volume_group'] == row[18])]\n",
    "\n",
    "        # calculate their sum Order_Qty\n",
    "        subset_order_sum = subset['Order_Qty'].sum(min_count=1)\n",
    "            \n",
    "        # update sum of Order_Qty for all relevant rows\n",
    "        new_dFrame.loc[(\n",
    "                        (np.isnan(new_dFrame['monthly_sum_Order_Qty']))\n",
    "                        & (dFrame['year'] == row[19]) \n",
    "                        & (dFrame['month'] == row[20]) \n",
    "                        & (dFrame['MasterSKU'] == row[9])\n",
    "                        & (dFrame['dealer_volume_group'] == row[18])\n",
    "                        ), 'monthly_sum_Order_Qty'] = subset_order_sum\n",
    "            \n",
    "        # status update\n",
    "        if (i % 1000) == 0 and i <= hi:\n",
    "            sys.stdout.write('\\r'+\"{0:.3%}\".format(i/hi))\n",
    "            sys.stdout.flush()\n",
    "            \n",
    "    return new_dFrame"
   ]
  },
  {
   "cell_type": "code",
   "execution_count": 18,
   "metadata": {
    "scrolled": true
   },
   "outputs": [
    {
     "name": "stdout",
     "output_type": "stream",
     "text": [
      "99.892%"
     ]
    }
   ],
   "source": [
    "aggr_data_masterSKU = update_monthly_sum(df)"
   ]
  },
  {
   "cell_type": "code",
   "execution_count": 19,
   "metadata": {},
   "outputs": [
    {
     "data": {
      "text/plain": [
       "(602653, 22)"
      ]
     },
     "execution_count": 19,
     "metadata": {},
     "output_type": "execute_result"
    }
   ],
   "source": [
    "aggr_data_masterSKU.shape"
   ]
  },
  {
   "cell_type": "code",
   "execution_count": 23,
   "metadata": {},
   "outputs": [
    {
     "data": {
      "text/plain": [
       "Index(['SalesOffice', 'Order_Type', 'Order_Qty', 'Overall_Credit_Status',\n",
       "       'Delivery_Block', 'Billing_Block', 'Block_flag',\n",
       "       'Overall_Credit_Status_Desc', 'ProductCategory', 'MasterSKU', 'Color',\n",
       "       'City', 'State', 'Zipcode', 'Country', 'District', 'waiting_days',\n",
       "       'wait', 'dealer_volume_group', 'year', 'month',\n",
       "       'monthly_sum_Order_Qty'],\n",
       "      dtype='object')"
      ]
     },
     "execution_count": 23,
     "metadata": {},
     "output_type": "execute_result"
    }
   ],
   "source": [
    "aggr_data_masterSKU.columns"
   ]
  },
  {
   "cell_type": "code",
   "execution_count": 21,
   "metadata": {},
   "outputs": [
    {
     "data": {
      "text/html": [
       "<div>\n",
       "<style scoped>\n",
       "    .dataframe tbody tr th:only-of-type {\n",
       "        vertical-align: middle;\n",
       "    }\n",
       "\n",
       "    .dataframe tbody tr th {\n",
       "        vertical-align: top;\n",
       "    }\n",
       "\n",
       "    .dataframe thead th {\n",
       "        text-align: right;\n",
       "    }\n",
       "</style>\n",
       "<table border=\"1\" class=\"dataframe\">\n",
       "  <thead>\n",
       "    <tr style=\"text-align: right;\">\n",
       "      <th></th>\n",
       "      <th>SalesOffice</th>\n",
       "      <th>Order_Type</th>\n",
       "      <th>Order_Qty</th>\n",
       "      <th>Overall_Credit_Status</th>\n",
       "      <th>Delivery_Block</th>\n",
       "      <th>Billing_Block</th>\n",
       "      <th>Block_flag</th>\n",
       "      <th>Overall_Credit_Status_Desc</th>\n",
       "      <th>ProductCategory</th>\n",
       "      <th>MasterSKU</th>\n",
       "      <th>...</th>\n",
       "      <th>State</th>\n",
       "      <th>Zipcode</th>\n",
       "      <th>Country</th>\n",
       "      <th>District</th>\n",
       "      <th>waiting_days</th>\n",
       "      <th>wait</th>\n",
       "      <th>dealer_volume_group</th>\n",
       "      <th>year</th>\n",
       "      <th>month</th>\n",
       "      <th>monthly_sum_Order_Qty</th>\n",
       "    </tr>\n",
       "  </thead>\n",
       "  <tbody>\n",
       "    <tr>\n",
       "      <th>209813</th>\n",
       "      <td>1</td>\n",
       "      <td>2</td>\n",
       "      <td>6.0</td>\n",
       "      <td>1</td>\n",
       "      <td>0</td>\n",
       "      <td>0</td>\n",
       "      <td>0</td>\n",
       "      <td>1</td>\n",
       "      <td>2</td>\n",
       "      <td>26</td>\n",
       "      <td>...</td>\n",
       "      <td>29</td>\n",
       "      <td>2731</td>\n",
       "      <td>5</td>\n",
       "      <td>32</td>\n",
       "      <td>57</td>\n",
       "      <td>2</td>\n",
       "      <td>0</td>\n",
       "      <td>2017</td>\n",
       "      <td>7</td>\n",
       "      <td>128391.0</td>\n",
       "    </tr>\n",
       "    <tr>\n",
       "      <th>336028</th>\n",
       "      <td>1</td>\n",
       "      <td>2</td>\n",
       "      <td>1.0</td>\n",
       "      <td>1</td>\n",
       "      <td>0</td>\n",
       "      <td>0</td>\n",
       "      <td>0</td>\n",
       "      <td>1</td>\n",
       "      <td>3</td>\n",
       "      <td>40</td>\n",
       "      <td>...</td>\n",
       "      <td>9</td>\n",
       "      <td>4696</td>\n",
       "      <td>5</td>\n",
       "      <td>59</td>\n",
       "      <td>0</td>\n",
       "      <td>1</td>\n",
       "      <td>1</td>\n",
       "      <td>2017</td>\n",
       "      <td>9</td>\n",
       "      <td>848.0</td>\n",
       "    </tr>\n",
       "    <tr>\n",
       "      <th>473218</th>\n",
       "      <td>1</td>\n",
       "      <td>2</td>\n",
       "      <td>12.0</td>\n",
       "      <td>1</td>\n",
       "      <td>0</td>\n",
       "      <td>0</td>\n",
       "      <td>0</td>\n",
       "      <td>1</td>\n",
       "      <td>2</td>\n",
       "      <td>24</td>\n",
       "      <td>...</td>\n",
       "      <td>54</td>\n",
       "      <td>1007</td>\n",
       "      <td>5</td>\n",
       "      <td>53</td>\n",
       "      <td>0</td>\n",
       "      <td>1</td>\n",
       "      <td>0</td>\n",
       "      <td>2018</td>\n",
       "      <td>2</td>\n",
       "      <td>104892.0</td>\n",
       "    </tr>\n",
       "    <tr>\n",
       "      <th>142312</th>\n",
       "      <td>1</td>\n",
       "      <td>2</td>\n",
       "      <td>12.0</td>\n",
       "      <td>3</td>\n",
       "      <td>0</td>\n",
       "      <td>0</td>\n",
       "      <td>0</td>\n",
       "      <td>1</td>\n",
       "      <td>2</td>\n",
       "      <td>25</td>\n",
       "      <td>...</td>\n",
       "      <td>35</td>\n",
       "      <td>938</td>\n",
       "      <td>5</td>\n",
       "      <td>38</td>\n",
       "      <td>21</td>\n",
       "      <td>2</td>\n",
       "      <td>1</td>\n",
       "      <td>2017</td>\n",
       "      <td>5</td>\n",
       "      <td>1264.0</td>\n",
       "    </tr>\n",
       "    <tr>\n",
       "      <th>505634</th>\n",
       "      <td>0</td>\n",
       "      <td>2</td>\n",
       "      <td>24.0</td>\n",
       "      <td>1</td>\n",
       "      <td>0</td>\n",
       "      <td>0</td>\n",
       "      <td>0</td>\n",
       "      <td>1</td>\n",
       "      <td>2</td>\n",
       "      <td>24</td>\n",
       "      <td>...</td>\n",
       "      <td>29</td>\n",
       "      <td>2680</td>\n",
       "      <td>5</td>\n",
       "      <td>32</td>\n",
       "      <td>0</td>\n",
       "      <td>1</td>\n",
       "      <td>3</td>\n",
       "      <td>2018</td>\n",
       "      <td>2</td>\n",
       "      <td>149472.0</td>\n",
       "    </tr>\n",
       "  </tbody>\n",
       "</table>\n",
       "<p>5 rows × 22 columns</p>\n",
       "</div>"
      ],
      "text/plain": [
       "        SalesOffice  Order_Type  Order_Qty  Overall_Credit_Status  \\\n",
       "209813            1           2        6.0                      1   \n",
       "336028            1           2        1.0                      1   \n",
       "473218            1           2       12.0                      1   \n",
       "142312            1           2       12.0                      3   \n",
       "505634            0           2       24.0                      1   \n",
       "\n",
       "        Delivery_Block  Billing_Block  Block_flag  Overall_Credit_Status_Desc  \\\n",
       "209813               0              0           0                           1   \n",
       "336028               0              0           0                           1   \n",
       "473218               0              0           0                           1   \n",
       "142312               0              0           0                           1   \n",
       "505634               0              0           0                           1   \n",
       "\n",
       "        ProductCategory  MasterSKU          ...            State  Zipcode  \\\n",
       "209813                2         26          ...               29     2731   \n",
       "336028                3         40          ...                9     4696   \n",
       "473218                2         24          ...               54     1007   \n",
       "142312                2         25          ...               35      938   \n",
       "505634                2         24          ...               29     2680   \n",
       "\n",
       "        Country  District  waiting_days  wait  dealer_volume_group  year  \\\n",
       "209813        5        32            57     2                    0  2017   \n",
       "336028        5        59             0     1                    1  2017   \n",
       "473218        5        53             0     1                    0  2018   \n",
       "142312        5        38            21     2                    1  2017   \n",
       "505634        5        32             0     1                    3  2018   \n",
       "\n",
       "        month  monthly_sum_Order_Qty  \n",
       "209813      7               128391.0  \n",
       "336028      9                  848.0  \n",
       "473218      2               104892.0  \n",
       "142312      5                 1264.0  \n",
       "505634      2               149472.0  \n",
       "\n",
       "[5 rows x 22 columns]"
      ]
     },
     "execution_count": 21,
     "metadata": {},
     "output_type": "execute_result"
    }
   ],
   "source": [
    "aggr_data_masterSKU.sample(5)"
   ]
  },
  {
   "cell_type": "code",
   "execution_count": 22,
   "metadata": {
    "scrolled": false
   },
   "outputs": [
    {
     "name": "stdout",
     "output_type": "stream",
     "text": [
      "Stored 'aggr_data_masterSKU' (DataFrame)\n"
     ]
    }
   ],
   "source": [
    "%store aggr_data_masterSKU"
   ]
  },
  {
   "cell_type": "code",
   "execution_count": 184,
   "metadata": {},
   "outputs": [
    {
     "data": {
      "text/plain": [
       "array([2, 0, 1, 3], dtype=int64)"
      ]
     },
     "execution_count": 184,
     "metadata": {},
     "output_type": "execute_result"
    }
   ],
   "source": [
    "aggr_data_masterSKU.dealer_volume_group.unique()"
   ]
  },
  {
   "cell_type": "markdown",
   "metadata": {},
   "source": [
    "#### Check if any masterSKU has monthly Order_Qty sum equal to 0"
   ]
  },
  {
   "cell_type": "code",
   "execution_count": 2,
   "metadata": {},
   "outputs": [
    {
     "data": {
      "text/plain": [
       "0"
      ]
     },
     "execution_count": 2,
     "metadata": {},
     "output_type": "execute_result"
    }
   ],
   "source": [
    "%store -r aggr_data_masterSKU\n",
    "len(aggr_data_masterSKU.loc[aggr_data_masterSKU.monthly_sum_Order_Qty == 0])"
   ]
  },
  {
   "cell_type": "code",
   "execution_count": 3,
   "metadata": {},
   "outputs": [
    {
     "data": {
      "text/html": [
       "<div>\n",
       "<style scoped>\n",
       "    .dataframe tbody tr th:only-of-type {\n",
       "        vertical-align: middle;\n",
       "    }\n",
       "\n",
       "    .dataframe tbody tr th {\n",
       "        vertical-align: top;\n",
       "    }\n",
       "\n",
       "    .dataframe thead th {\n",
       "        text-align: right;\n",
       "    }\n",
       "</style>\n",
       "<table border=\"1\" class=\"dataframe\">\n",
       "  <thead>\n",
       "    <tr style=\"text-align: right;\">\n",
       "      <th></th>\n",
       "      <th>SalesOffice</th>\n",
       "      <th>Order_Type</th>\n",
       "      <th>Order_Qty</th>\n",
       "      <th>Overall_Credit_Status</th>\n",
       "      <th>Delivery_Block</th>\n",
       "      <th>Billing_Block</th>\n",
       "      <th>Block_flag</th>\n",
       "      <th>Overall_Credit_Status_Desc</th>\n",
       "      <th>ProductCategory</th>\n",
       "      <th>MasterSKU</th>\n",
       "      <th>...</th>\n",
       "      <th>State</th>\n",
       "      <th>Zipcode</th>\n",
       "      <th>Country</th>\n",
       "      <th>District</th>\n",
       "      <th>waiting_days</th>\n",
       "      <th>wait</th>\n",
       "      <th>dealer_volume_group</th>\n",
       "      <th>year</th>\n",
       "      <th>month</th>\n",
       "      <th>monthly_sum_Order_Qty</th>\n",
       "    </tr>\n",
       "  </thead>\n",
       "  <tbody>\n",
       "    <tr>\n",
       "      <th>570399</th>\n",
       "      <td>1</td>\n",
       "      <td>2</td>\n",
       "      <td>6.0</td>\n",
       "      <td>1</td>\n",
       "      <td>0</td>\n",
       "      <td>0</td>\n",
       "      <td>0</td>\n",
       "      <td>1</td>\n",
       "      <td>2</td>\n",
       "      <td>26</td>\n",
       "      <td>...</td>\n",
       "      <td>24</td>\n",
       "      <td>3525</td>\n",
       "      <td>5</td>\n",
       "      <td>25</td>\n",
       "      <td>0</td>\n",
       "      <td>1</td>\n",
       "      <td>0</td>\n",
       "      <td>2018</td>\n",
       "      <td>4</td>\n",
       "      <td>24221.0</td>\n",
       "    </tr>\n",
       "    <tr>\n",
       "      <th>361576</th>\n",
       "      <td>1</td>\n",
       "      <td>2</td>\n",
       "      <td>4.0</td>\n",
       "      <td>1</td>\n",
       "      <td>0</td>\n",
       "      <td>0</td>\n",
       "      <td>0</td>\n",
       "      <td>1</td>\n",
       "      <td>2</td>\n",
       "      <td>25</td>\n",
       "      <td>...</td>\n",
       "      <td>14</td>\n",
       "      <td>1737</td>\n",
       "      <td>5</td>\n",
       "      <td>13</td>\n",
       "      <td>0</td>\n",
       "      <td>1</td>\n",
       "      <td>0</td>\n",
       "      <td>2017</td>\n",
       "      <td>10</td>\n",
       "      <td>21794.0</td>\n",
       "    </tr>\n",
       "    <tr>\n",
       "      <th>420356</th>\n",
       "      <td>1</td>\n",
       "      <td>2</td>\n",
       "      <td>12.0</td>\n",
       "      <td>1</td>\n",
       "      <td>0</td>\n",
       "      <td>0</td>\n",
       "      <td>0</td>\n",
       "      <td>1</td>\n",
       "      <td>2</td>\n",
       "      <td>24</td>\n",
       "      <td>...</td>\n",
       "      <td>8</td>\n",
       "      <td>5164</td>\n",
       "      <td>5</td>\n",
       "      <td>54</td>\n",
       "      <td>0</td>\n",
       "      <td>1</td>\n",
       "      <td>0</td>\n",
       "      <td>2017</td>\n",
       "      <td>12</td>\n",
       "      <td>58610.0</td>\n",
       "    </tr>\n",
       "    <tr>\n",
       "      <th>148796</th>\n",
       "      <td>1</td>\n",
       "      <td>2</td>\n",
       "      <td>24.0</td>\n",
       "      <td>1</td>\n",
       "      <td>0</td>\n",
       "      <td>0</td>\n",
       "      <td>0</td>\n",
       "      <td>1</td>\n",
       "      <td>2</td>\n",
       "      <td>26</td>\n",
       "      <td>...</td>\n",
       "      <td>45</td>\n",
       "      <td>2583</td>\n",
       "      <td>5</td>\n",
       "      <td>45</td>\n",
       "      <td>0</td>\n",
       "      <td>1</td>\n",
       "      <td>0</td>\n",
       "      <td>2017</td>\n",
       "      <td>5</td>\n",
       "      <td>47464.0</td>\n",
       "    </tr>\n",
       "    <tr>\n",
       "      <th>269775</th>\n",
       "      <td>1</td>\n",
       "      <td>2</td>\n",
       "      <td>6.0</td>\n",
       "      <td>1</td>\n",
       "      <td>0</td>\n",
       "      <td>0</td>\n",
       "      <td>0</td>\n",
       "      <td>1</td>\n",
       "      <td>2</td>\n",
       "      <td>24</td>\n",
       "      <td>...</td>\n",
       "      <td>35</td>\n",
       "      <td>967</td>\n",
       "      <td>5</td>\n",
       "      <td>15</td>\n",
       "      <td>0</td>\n",
       "      <td>1</td>\n",
       "      <td>0</td>\n",
       "      <td>2017</td>\n",
       "      <td>7</td>\n",
       "      <td>168184.0</td>\n",
       "    </tr>\n",
       "  </tbody>\n",
       "</table>\n",
       "<p>5 rows × 22 columns</p>\n",
       "</div>"
      ],
      "text/plain": [
       "        SalesOffice  Order_Type  Order_Qty  Overall_Credit_Status  \\\n",
       "570399            1           2        6.0                      1   \n",
       "361576            1           2        4.0                      1   \n",
       "420356            1           2       12.0                      1   \n",
       "148796            1           2       24.0                      1   \n",
       "269775            1           2        6.0                      1   \n",
       "\n",
       "        Delivery_Block  Billing_Block  Block_flag  Overall_Credit_Status_Desc  \\\n",
       "570399               0              0           0                           1   \n",
       "361576               0              0           0                           1   \n",
       "420356               0              0           0                           1   \n",
       "148796               0              0           0                           1   \n",
       "269775               0              0           0                           1   \n",
       "\n",
       "        ProductCategory  MasterSKU          ...            State  Zipcode  \\\n",
       "570399                2         26          ...               24     3525   \n",
       "361576                2         25          ...               14     1737   \n",
       "420356                2         24          ...                8     5164   \n",
       "148796                2         26          ...               45     2583   \n",
       "269775                2         24          ...               35      967   \n",
       "\n",
       "        Country  District  waiting_days  wait  dealer_volume_group  year  \\\n",
       "570399        5        25             0     1                    0  2018   \n",
       "361576        5        13             0     1                    0  2017   \n",
       "420356        5        54             0     1                    0  2017   \n",
       "148796        5        45             0     1                    0  2017   \n",
       "269775        5        15             0     1                    0  2017   \n",
       "\n",
       "        month  monthly_sum_Order_Qty  \n",
       "570399      4                24221.0  \n",
       "361576     10                21794.0  \n",
       "420356     12                58610.0  \n",
       "148796      5                47464.0  \n",
       "269775      7               168184.0  \n",
       "\n",
       "[5 rows x 22 columns]"
      ]
     },
     "execution_count": 3,
     "metadata": {},
     "output_type": "execute_result"
    }
   ],
   "source": [
    "aggr_data_masterSKU.sample(5)"
   ]
  },
  {
   "cell_type": "markdown",
   "metadata": {},
   "source": [
    "#### check column datatypes"
   ]
  },
  {
   "cell_type": "code",
   "execution_count": 88,
   "metadata": {
    "scrolled": true
   },
   "outputs": [
    {
     "data": {
      "text/plain": [
       "SalesOffice                     int64\n",
       "Order_Type                      int64\n",
       "Order_Qty                     float64\n",
       "Overall_Credit_Status           int64\n",
       "Delivery_Block                  int64\n",
       "Billing_Block                   int64\n",
       "Block_flag                      int64\n",
       "Overall_Credit_Status_Desc      int64\n",
       "ProductCategory                 int64\n",
       "MasterSKU                       int64\n",
       "Color                           int64\n",
       "City                            int64\n",
       "State                           int64\n",
       "Zipcode                         int64\n",
       "Country                         int64\n",
       "District                        int64\n",
       "waiting_days                    int64\n",
       "wait                            int64\n",
       "dealer_volume_group             int64\n",
       "year                            int64\n",
       "month                           int64\n",
       "monthly_sum_Order_Qty         float64\n",
       "dtype: object"
      ]
     },
     "execution_count": 88,
     "metadata": {},
     "output_type": "execute_result"
    }
   ],
   "source": [
    "aggr_data_masterSKU.dtypes"
   ]
  },
  {
   "cell_type": "markdown",
   "metadata": {},
   "source": [
    "### Visualize Y\n",
    "Like the dependent variable in ProductCategory_Volume_segmentation, the distribution of MasterSKU-level response variable is far from normal distribution and likely requires Box-Cox transformation to achieve better results."
   ]
  },
  {
   "cell_type": "code",
   "execution_count": 56,
   "metadata": {
    "scrolled": true
   },
   "outputs": [
    {
     "data": {
      "image/png": "[encoded data removed]",
      "text/plain": [
       "<matplotlib.figure.Figure at 0x21a4695fa90>"
      ]
     },
     "metadata": {},
     "output_type": "display_data"
    }
   ],
   "source": [
    "def visualize_Y_dist():\n",
    "    Y = aggr_data_masterSKU['monthly_sum_Order_Qty'].values.reshape(-1,1)\n",
    "    plt.hist(Y)\n",
    "visualize_Y_dist()"
   ]
  },
  {
   "cell_type": "markdown",
   "metadata": {},
   "source": [
    "### Split all data and use 20% to start initial test"
   ]
  },
  {
   "cell_type": "code",
   "execution_count": 67,
   "metadata": {},
   "outputs": [],
   "source": [
    "def calculate_adj_r2(r2_score, n, p):\n",
    "    return 1 - (1-r2_score)*(n-1)/(n-p-1)\n",
    "\n",
    "def mape(Y_test, Y_pred):\n",
    "    Y_test, Y_pred = np.array(Y_test), np.array(Y_pred)\n",
    "    Y_test = [y if y != 0 else 0.01 for y in Y_test]\n",
    "    return np.mean((np.abs((Y_test-Y_pred)/Y_test))) * 100\n",
    "\n",
    "def split_data(data, sample_size):\n",
    "    X = data[['ProductCategory', 'MasterSKU', 'dealer_volume_group', 'month']].values\n",
    "    Y = data['monthly_sum_Order_Qty'].values.reshape(-1,1)\n",
    "    X_train, X_test, Y_train, Y_test = train_test_split(X, Y, \n",
    "                                                        test_size=(1-sample_size),\n",
    "                                                        random_state=42)    \n",
    "    return X_train, Y_train\n",
    "\n",
    "def cross_val_mape(model, X_, Y_, fold=5, rand_seed=None):\n",
    "    \n",
    "    X_train, X_test, Y_train, Y_test = [],[],[],[]\n",
    "    \n",
    "    kf = KFold(n_splits=fold, random_state=rand_seed)\n",
    "    for train_indices, test_indices in kf.split(X_, Y_):\n",
    "        X_train, X_test = X_[train_indices], X_[test_indices]\n",
    "        Y_train, Y_test = Y_[train_indices], Y_[test_indices]\n",
    "    \n",
    "    model.fit(X_train, Y_train)\n",
    "    Y_pred = model.predict(X_test)\n",
    "    \n",
    "    mape_score = mape(Y_test, Y_pred)\n",
    "    \n",
    "    return mape_score"
   ]
  },
  {
   "cell_type": "code",
   "execution_count": 68,
   "metadata": {},
   "outputs": [
    {
     "name": "stdout",
     "output_type": "stream",
     "text": [
      "Sample size: 120530\n"
     ]
    }
   ],
   "source": [
    "%store -r aggr_data_masterSKU\n",
    "X, Y = split_data(aggr_data_masterSKU, sample_size=0.2)\n",
    "len(X) == len(Y)\n",
    "print('Sample size:',len(X))"
   ]
  },
  {
   "cell_type": "code",
   "execution_count": 6,
   "metadata": {},
   "outputs": [
    {
     "data": {
      "text/plain": [
       "(602653, 22)"
      ]
     },
     "execution_count": 6,
     "metadata": {},
     "output_type": "execute_result"
    }
   ],
   "source": [
    "aggr_data_masterSKU.shape"
   ]
  },
  {
   "cell_type": "code",
   "execution_count": 16,
   "metadata": {},
   "outputs": [
    {
     "name": "stdout",
     "output_type": "stream",
     "text": [
      "sample size: 482122 True\n"
     ]
    }
   ],
   "source": [
    "%store -r aggr_data_masterSKU\n",
    "X_80, Y_80 = split_data(aggr_data_masterSKU, sample_size=0.8)\n",
    "print('sample size:', len(X_80), len(X) == len(Y))"
   ]
  },
  {
   "cell_type": "markdown",
   "metadata": {},
   "source": [
    "### OLS Linear Regression"
   ]
  },
  {
   "cell_type": "code",
   "execution_count": 4,
   "metadata": {},
   "outputs": [],
   "source": [
    "def ols_ttest(X, Y, boxcox_transform=False):\n",
    "    \n",
    "    # center and scale X; box-cox transform Y\n",
    "    # X = normalize(X,norm='l2', copy=False) # no need to normalize for OLS\n",
    "    sc = StandardScaler()\n",
    "    X_ = sc.fit_transform(X_)\n",
    "    if boxcox_transform:\n",
    "        Y_, _ = boxcox(Y_)\n",
    "\n",
    "    # fit linear regression model\n",
    "    X_ = sm.add_constant(X_)\n",
    "    mod = sm.OLS(Y_, X_)\n",
    "    res = mod.fit()\n",
    "    \n",
    "    print(res.summary())"
   ]
  },
  {
   "cell_type": "code",
   "execution_count": 112,
   "metadata": {
    "scrolled": true
   },
   "outputs": [
    {
     "name": "stdout",
     "output_type": "stream",
     "text": [
      "                            OLS Regression Results                            \n",
      "==============================================================================\n",
      "Dep. Variable:                      y   R-squared:                       0.208\n",
      "Model:                            OLS   Adj. R-squared:                  0.208\n",
      "Method:                 Least Squares   F-statistic:                     7906.\n",
      "Date:                Thu, 12 Jul 2018   Prob (F-statistic):               0.00\n",
      "Time:                        11:32:14   Log-Likelihood:            -1.4377e+06\n",
      "No. Observations:              120530   AIC:                         2.875e+06\n",
      "Df Residuals:                  120525   BIC:                         2.876e+06\n",
      "Df Model:                           4                                         \n",
      "Covariance Type:            nonrobust                                         \n",
      "==============================================================================\n",
      "                 coef    std err          t      P>|t|      [0.025      0.975]\n",
      "------------------------------------------------------------------------------\n",
      "const       2.997e+04    105.600    283.837      0.000    2.98e+04    3.02e+04\n",
      "x1         -1.789e+04    107.386   -166.563      0.000   -1.81e+04   -1.77e+04\n",
      "x2         -2637.4199    107.351    -24.568      0.000   -2847.826   -2427.014\n",
      "x3         -5622.3402    106.107    -52.987      0.000   -5830.308   -5414.372\n",
      "x4         -4570.6817    106.188    -43.043      0.000   -4778.808   -4362.556\n",
      "==============================================================================\n",
      "Omnibus:                    32872.148   Durbin-Watson:                   1.998\n",
      "Prob(Omnibus):                  0.000   Jarque-Bera (JB):            88273.299\n",
      "Skew:                           1.469   Prob(JB):                         0.00\n",
      "Kurtosis:                       5.991   Cond. No.                         1.21\n",
      "==============================================================================\n",
      "\n",
      "Warnings:\n",
      "[1] Standard Errors assume that the covariance matrix of the errors is correctly specified.\n"
     ]
    }
   ],
   "source": [
    "ols_ttest(X,Y)"
   ]
  },
  {
   "cell_type": "code",
   "execution_count": 5,
   "metadata": {},
   "outputs": [],
   "source": [
    "def ols(X_, Y_, feature_list, boxcox_transform=False):\n",
    "    \n",
    "    # center and scale X; box-cox transform Y\n",
    "    sc = StandardScaler()\n",
    "    X_ = sc.fit_transform(X_)\n",
    "    if boxcox_transform:   # may generate 0 in Y; don't use if causes problem with MAPE\n",
    "        Y_, best_lambda = boxcox(Y_)\n",
    "\n",
    "    X_train, X_test, Y_train, Y_test = train_test_split(X_, Y_, test_size=0.2, random_state=12)\n",
    "\n",
    "    # fit linear regression model\n",
    "    lr = LinearRegression()\n",
    "    lr.fit(X_train, Y_train)\n",
    "    Y_pred = lr.predict(X_test)\n",
    "    \n",
    "    # cross validate & evaluate performance\n",
    "    rmse = np.mean(-1 * cross_val_score(lr, X_train, Y_train, \n",
    "                                   scoring='neg_mean_squared_error',\n",
    "                                   cv=5))\n",
    "    r2_list = cross_val_score(lr, X_train, Y_train, scoring='r2')\n",
    "    adj_r2 = np.mean([calculate_adj_r2(r2, len(X), len(feature_list)) for r2 in r2_list])\n",
    "    MAPE = cross_val_mape(lr, Y_test, Y_pred)\n",
    "    \n",
    "    print(\"Method: {}\\nRMSE: {}\\nAdjusted R2: {}\\nMAPE :{}%\".format(\n",
    "        'OLS', rmse, adj_r2, MAPE))\n",
    "    \n",
    "    # calculate internally studentized residuals\n",
    "    X_mean, Y_mean = sum(X_test)/len(X), sum(Y_test)/len(Y)\n",
    "    res = Y_test - Y_pred\n",
    "    Y_SD = np.sqrt(sum([(Y_i-Y_mean)**2 for Y_i in Y_test])/len(Y))\n",
    "    Y_SE = Y_SD**2 / len(Y)\n",
    "    stu_res = res / Y_SE\n",
    "    \n",
    "    # visualize internally studentized residuals\n",
    "    fig1, ax1 = plt.subplots(1)\n",
    "    ax1.scatter(Y_pred, stu_res, alpha=0.7)\n",
    "    plt.grid(color='grey', linestyle='-', linewidth=1, alpha=.2)\n",
    "    ax1.set_title('Linear Regression: internally studentized residuals')\n",
    "    ax1.set_ylabel('residual')\n",
    "    ax1.set_xlabel('y-hat')"
   ]
  },
  {
   "cell_type": "markdown",
   "metadata": {},
   "source": [
    "### OLS linear regression residual plot\n",
    "The residual plot shows that this dataset is inappropriate for OLS linear regression because it violates assumptions of OLS regression.\n",
    "- The residual plot shows that residuals are NOT randomly distributed (OLS assumption: homoskedasticity) but displays a linear shape. Residuals increase as the predicted value (y-hat) increases. More specifically the model increasingly over-estimate sum Order_Qty as y-hat increases.\n",
    "- This indicates that linear models are likely unsuitable for our task.\n",
    "\n",
    "To further check for heteroskedasticity, I then perfomed Bartlett's test (general) and Levene's test (used when samples come from a significantly non-normal population). Results below show that the dataset is very likely (p-value = 0.0) NOT from a population with equal variances -- i.e. our data is heteroskedastic."
   ]
  },
  {
   "cell_type": "code",
   "execution_count": 120,
   "metadata": {},
   "outputs": [
    {
     "name": "stdout",
     "output_type": "stream",
     "text": [
      "Method: OLS\n",
      "RMSE: 1344860518.6030436\n",
      "Adjusted R2: 0.20636292713691387\n",
      "MAPE (not cross validated):1925.7046938646695%\n"
     ]
    },
    {
     "data": {
      "image/png": "[encoded data removed]",
      "text/plain": [
       "<matplotlib.figure.Figure at 0x1e5d6510278>"
      ]
     },
     "metadata": {},
     "output_type": "display_data"
    }
   ],
   "source": [
    "# on 20% of the entire dataset\n",
    "ols(X, Y, feature_list=['ProductCategory', 'MasterSKU',\n",
    "                    'dealer_volume_group', 'month'], boxcox_transform=False)"
   ]
  },
  {
   "cell_type": "code",
   "execution_count": 55,
   "metadata": {},
   "outputs": [
    {
     "name": "stdout",
     "output_type": "stream",
     "text": [
      "Bartlette's test for equal variances: BartlettResult(statistic=31647157.223196078, pvalue=0.0)\n",
      "Levene's test: LeveneResult(statistic=0.6536358905459718, pvalue=0.9999999999999999)\n"
     ]
    }
   ],
   "source": [
    "def equal_variance_test(data):\n",
    "    all_samples = data.values\n",
    "    print(\"Bartlette's test for equal variances:\", bartlett(*all_samples))\n",
    "    print(\"Levene's test:\", levene(*all_samples, center='median'))\n",
    "equal_variance_test(aggr_data_masterSKU)"
   ]
  },
  {
   "cell_type": "code",
   "execution_count": 20,
   "metadata": {},
   "outputs": [
    {
     "name": "stderr",
     "output_type": "stream",
     "text": [
      "C:\\Users\\Edith.Zeng\\AppData\\Local\\Continuum\\anaconda3\\lib\\site-packages\\sklearn\\utils\\validation.py:475: DataConversionWarning: Data with input dtype int64 was converted to float64 by StandardScaler.\n",
      "  warnings.warn(msg, DataConversionWarning)\n"
     ]
    },
    {
     "name": "stdout",
     "output_type": "stream",
     "text": [
      "Method: OLS\n",
      "RMSE: 14.279433020211519\n",
      "Adjusted R2: 0.3534379055422899\n",
      "MAPE :10.533770614115873%\n"
     ]
    },
    {
     "data": {
      "image/png": "[encoded data removed]",
      "text/plain": [
       "<matplotlib.figure.Figure at 0x28f80c5ad30>"
      ]
     },
     "metadata": {},
     "output_type": "display_data"
    }
   ],
   "source": [
    "# on 20% data\n",
    "ols(X, Y, feature_list=['ProductCategory', 'MasterSKU',\n",
    "                    'dealer_volume_group', 'month'], boxcox_transform=True)"
   ]
  },
  {
   "cell_type": "code",
   "execution_count": 21,
   "metadata": {},
   "outputs": [
    {
     "name": "stdout",
     "output_type": "stream",
     "text": [
      "Method: OLS\n",
      "RMSE: 1332902944.8023953\n",
      "Adjusted R2: 0.2084568256619925\n",
      "MAPE :436.14525095317475%\n"
     ]
    },
    {
     "data": {
      "image/png": "[encoded data removed]",
      "text/plain": [
       "<matplotlib.figure.Figure at 0x217cebe0198>"
      ]
     },
     "metadata": {},
     "output_type": "display_data"
    }
   ],
   "source": [
    "# on 80% of data\n",
    "ols(X_80, Y_80, feature_list=['ProductCategory', 'MasterSKU',\n",
    "                    'dealer_volume_group', 'month'], boxcox_transform=False)"
   ]
  },
  {
   "cell_type": "code",
   "execution_count": 30,
   "metadata": {},
   "outputs": [
    {
     "name": "stderr",
     "output_type": "stream",
     "text": [
      "C:\\Users\\Edith.Zeng\\AppData\\Local\\Continuum\\anaconda3\\lib\\site-packages\\sklearn\\utils\\validation.py:475: DataConversionWarning: Data with input dtype int64 was converted to float64 by StandardScaler.\n",
      "  warnings.warn(msg, DataConversionWarning)\n"
     ]
    },
    {
     "name": "stdout",
     "output_type": "stream",
     "text": [
      "Method: OLS\n",
      "RMSE: 14.401486728683272\n",
      "Adjusted R2: 0.35729036371400563\n",
      "MAPE :10.786545288592363%\n"
     ]
    },
    {
     "data": {
      "image/png": "[encoded data removed]",
      "text/plain": [
       "<matplotlib.figure.Figure at 0x28f80f1cef0>"
      ]
     },
     "metadata": {},
     "output_type": "display_data"
    }
   ],
   "source": [
    "# on 80% of data\n",
    "ols(X_80, Y_80, feature_list=['ProductCategory', 'MasterSKU',\n",
    "                    'dealer_volume_group', 'month'], boxcox_transform=True)"
   ]
  },
  {
   "cell_type": "markdown",
   "metadata": {},
   "source": [
    "### Polynomial regession"
   ]
  },
  {
   "cell_type": "code",
   "execution_count": 6,
   "metadata": {},
   "outputs": [],
   "source": [
    "def polynomial_regression(X_, Y_, feature_list, d, boxcox_transform=False):\n",
    "    \n",
    "    if d == 2:\n",
    "        type_ = 'quadratic'\n",
    "    elif d == 3:\n",
    "        type_ = 'cubic'\n",
    "    elif d == 4:\n",
    "        type_ = 'quartic'\n",
    "    else:\n",
    "        raise ValueError(\"degrees <= 4\")\n",
    "        \n",
    "    # center and scale X; box-cox transform Y\n",
    "    sc = StandardScaler()\n",
    "    X_ = sc.fit_transform(X_)\n",
    "    if boxcox_transform:   # may generate 0 in Y\n",
    "        Y_, best_lambda = boxcox(Y_)\n",
    "    \n",
    "    X_train, X_test, Y_train, Y_test = train_test_split(X_, Y_, test_size=0.2, random_state=12)\n",
    "    \n",
    "    model = Pipeline([\n",
    "        ('poly', PolynomialFeatures(degree=d)),\n",
    "        ('linear', LinearRegression())\n",
    "    ])\n",
    "    model = model.fit(X_train, Y_train)\n",
    "    Y_pred = model.predict(X_test)\n",
    "    \n",
    "    # cross validate & evaluate performance\n",
    "    rmse = np.mean(-1 * cross_val_score(model, X_train, Y_train, \n",
    "                                   scoring='neg_mean_squared_error',\n",
    "                                   cv=5))\n",
    "    r2_list = cross_val_score(model, X_train, Y_train, scoring='r2')\n",
    "    adj_r2 = np.mean([calculate_adj_r2(r2, len(X), len(feature_list)) for r2 in r2_list])\n",
    "    MAPE = cross_val_mape(model, X, Y)\n",
    "    \n",
    "    print(\"Method: {}\\nRMSE: {}\\nAdjusted R2: {}\\nMAPE:{}%\".format(\n",
    "        'Polynomial OLS regression', rmse, adj_r2, MAPE\n",
    "    ))\n",
    "    \n",
    "    # calculate internally studentized residuals\n",
    "    X_mean, Y_mean = sum(X_test)/len(X), sum(Y_test)/len(Y)\n",
    "    res = Y_test - Y_pred\n",
    "    Y_SD = np.sqrt(sum([(Y_i-Y_mean)**2 for Y_i in Y_test])/len(Y))\n",
    "    Y_SE = Y_SD**2 / len(Y)\n",
    "    stu_res = res / Y_SE\n",
    "    \n",
    "    # visualize internally studentized residuals\n",
    "    fig1, ax1 = plt.subplots(1)\n",
    "    ax1.scatter(Y_pred, stu_res, alpha=0.7)\n",
    "    plt.grid(color='grey', linestyle='-', linewidth=1, alpha=.2)\n",
    "    ax1.set_title('{} polynomial OLS Regression\\ninternally studentized residuals'.format(type_))\n",
    "    ax1.set_ylabel('residual')\n",
    "    ax1.set_xlabel('y-hat')"
   ]
  },
  {
   "cell_type": "code",
   "execution_count": 24,
   "metadata": {},
   "outputs": [
    {
     "name": "stderr",
     "output_type": "stream",
     "text": [
      "C:\\Users\\Edith.Zeng\\AppData\\Local\\Continuum\\anaconda3\\lib\\site-packages\\sklearn\\utils\\validation.py:475: DataConversionWarning: Data with input dtype int64 was converted to float64 by StandardScaler.\n",
      "  warnings.warn(msg, DataConversionWarning)\n"
     ]
    },
    {
     "name": "stdout",
     "output_type": "stream",
     "text": [
      "Method: Polynomial OLS regression\n",
      "RMSE: 987337117.3837744\n",
      "Adjusted R2: 0.41743183421123414\n",
      "MAPE:1164.0206160866069%\n"
     ]
    },
    {
     "data": {
      "image/png": "[encoded data removed]",
      "text/plain": [
       "<matplotlib.figure.Figure at 0x28f80e8b9e8>"
      ]
     },
     "metadata": {},
     "output_type": "display_data"
    }
   ],
   "source": [
    "# on 20% data\n",
    "polynomial_regression(X, Y, feature_list=['ProductCategory', 'MasterSKU',\n",
    "                    'dealer_volume_group', 'month'], d=2, boxcox_transform=False)"
   ]
  },
  {
   "cell_type": "code",
   "execution_count": null,
   "metadata": {},
   "outputs": [],
   "source": [
    "# on 20% data\n",
    "polynomial_regression(X, Y, feature_list=['ProductCategory', 'MasterSKU',\n",
    "                    'dealer_volume_group', 'month'], d=2, boxcox_transform=True)"
   ]
  },
  {
   "cell_type": "code",
   "execution_count": 139,
   "metadata": {},
   "outputs": [
    {
     "name": "stdout",
     "output_type": "stream",
     "text": [
      "Method: Polynomial OLS regression\n",
      "RMSE: 8.064442949357735\n",
      "Adjusted R2: 0.6348321050254128\n",
      "MAPE (not cross validated):15.99643780901012%\n"
     ]
    },
    {
     "data": {
      "image/png": "[encoded data removed]",
      "text/plain": [
       "<matplotlib.figure.Figure at 0x1e5e2c4a1d0>"
      ]
     },
     "metadata": {},
     "output_type": "display_data"
    }
   ],
   "source": [
    "polynomial_regression(X, Y, feature_list=['ProductCategory', 'MasterSKU',\n",
    "                    'dealer_volume_group', 'month'], d=3, boxcox_transform=True)"
   ]
  },
  {
   "cell_type": "code",
   "execution_count": 140,
   "metadata": {},
   "outputs": [
    {
     "name": "stdout",
     "output_type": "stream",
     "text": [
      "Method: Polynomial OLS regression\n",
      "RMSE: 6.718424473302808\n",
      "Adjusted R2: 0.6957256519528282\n",
      "MAPE (not cross validated):14.436355774481434%\n"
     ]
    },
    {
     "data": {
      "image/png": "[encoded data removed]",
      "text/plain": [
       "<matplotlib.figure.Figure at 0x1e5e2c4ecf8>"
      ]
     },
     "metadata": {},
     "output_type": "display_data"
    }
   ],
   "source": [
    "polynomial_regression(X, Y, feature_list=['ProductCategory', 'MasterSKU',\n",
    "                    'dealer_volume_group', 'month'], d=4, boxcox_transform=True)"
   ]
  },
  {
   "cell_type": "code",
   "execution_count": null,
   "metadata": {},
   "outputs": [
    {
     "name": "stderr",
     "output_type": "stream",
     "text": [
      "C:\\Users\\Edith.Zeng\\AppData\\Local\\Continuum\\anaconda3\\lib\\site-packages\\sklearn\\utils\\validation.py:475: DataConversionWarning: Data with input dtype int64 was converted to float64 by StandardScaler.\n",
      "  warnings.warn(msg, DataConversionWarning)\n"
     ]
    }
   ],
   "source": [
    "polynomial_regression(X, Y, feature_list=['ProductCategory', 'MasterSKU',\n",
    "                    'dealer_volume_group', 'month'], d=4, boxcox_transform=True)"
   ]
  },
  {
   "cell_type": "code",
   "execution_count": 33,
   "metadata": {},
   "outputs": [
    {
     "name": "stderr",
     "output_type": "stream",
     "text": [
      "C:\\Users\\Edith.Zeng\\AppData\\Local\\Continuum\\anaconda3\\lib\\site-packages\\sklearn\\utils\\validation.py:475: DataConversionWarning: Data with input dtype int64 was converted to float64 by StandardScaler.\n",
      "  warnings.warn(msg, DataConversionWarning)\n"
     ]
    },
    {
     "ename": "MemoryError",
     "evalue": "",
     "output_type": "error",
     "traceback": [
      "\u001b[1;31m---------------------------------------------------------------------------\u001b[0m",
      "\u001b[1;31mMemoryError\u001b[0m                               Traceback (most recent call last)",
      "\u001b[1;32m<ipython-input-33-cb5eb06272ef>\u001b[0m in \u001b[0;36m<module>\u001b[1;34m()\u001b[0m\n\u001b[0;32m      1\u001b[0m polynomial_regression(X_80, Y_80, feature_list=['ProductCategory', 'MasterSKU',\n\u001b[1;32m----> 2\u001b[1;33m                     'dealer_volume_group', 'month'], d=3, boxcox_transform=True)\n\u001b[0m",
      "\u001b[1;32m<ipython-input-32-29116f13cffb>\u001b[0m in \u001b[0;36mpolynomial_regression\u001b[1;34m(X, Y, feature_list, d, boxcox_transform)\u001b[0m\n\u001b[0;32m     31\u001b[0m     \u001b[0mr2_list\u001b[0m \u001b[1;33m=\u001b[0m \u001b[0mcross_val_score\u001b[0m\u001b[1;33m(\u001b[0m\u001b[0mmodel\u001b[0m\u001b[1;33m,\u001b[0m \u001b[0mX_train\u001b[0m\u001b[1;33m,\u001b[0m \u001b[0mY_train\u001b[0m\u001b[1;33m,\u001b[0m \u001b[0mscoring\u001b[0m\u001b[1;33m=\u001b[0m\u001b[1;34m'r2'\u001b[0m\u001b[1;33m)\u001b[0m\u001b[1;33m\u001b[0m\u001b[0m\n\u001b[0;32m     32\u001b[0m     \u001b[0madj_r2\u001b[0m \u001b[1;33m=\u001b[0m \u001b[0mnp\u001b[0m\u001b[1;33m.\u001b[0m\u001b[0mmean\u001b[0m\u001b[1;33m(\u001b[0m\u001b[1;33m[\u001b[0m\u001b[0mcalculate_adj_r2\u001b[0m\u001b[1;33m(\u001b[0m\u001b[0mr2\u001b[0m\u001b[1;33m,\u001b[0m \u001b[0mlen\u001b[0m\u001b[1;33m(\u001b[0m\u001b[0mX\u001b[0m\u001b[1;33m)\u001b[0m\u001b[1;33m,\u001b[0m \u001b[0mlen\u001b[0m\u001b[1;33m(\u001b[0m\u001b[0mfeature_list\u001b[0m\u001b[1;33m)\u001b[0m\u001b[1;33m)\u001b[0m \u001b[1;32mfor\u001b[0m \u001b[0mr2\u001b[0m \u001b[1;32min\u001b[0m \u001b[0mr2_list\u001b[0m\u001b[1;33m]\u001b[0m\u001b[1;33m)\u001b[0m\u001b[1;33m\u001b[0m\u001b[0m\n\u001b[1;32m---> 33\u001b[1;33m     \u001b[0mMAPE\u001b[0m \u001b[1;33m=\u001b[0m \u001b[0mcross_val_mape\u001b[0m\u001b[1;33m(\u001b[0m\u001b[0mmodel\u001b[0m\u001b[1;33m,\u001b[0m \u001b[0mX\u001b[0m\u001b[1;33m,\u001b[0m \u001b[0mY\u001b[0m\u001b[1;33m)\u001b[0m\u001b[1;33m\u001b[0m\u001b[0m\n\u001b[0m\u001b[0;32m     34\u001b[0m \u001b[1;33m\u001b[0m\u001b[0m\n\u001b[0;32m     35\u001b[0m     print(\"Method: {}\\nRMSE: {}\\nAdjusted R2: {}\\nMAPE:{}%\".format(\n",
      "\u001b[1;32m<ipython-input-10-b54492d6a2ac>\u001b[0m in \u001b[0;36mcross_val_mape\u001b[1;34m(model, X_, Y_, fold, rand_seed)\u001b[0m\n\u001b[0;32m     27\u001b[0m     \u001b[0mY_pred\u001b[0m \u001b[1;33m=\u001b[0m \u001b[0mmodel\u001b[0m\u001b[1;33m.\u001b[0m\u001b[0mpredict\u001b[0m\u001b[1;33m(\u001b[0m\u001b[0mX_test\u001b[0m\u001b[1;33m)\u001b[0m\u001b[1;33m\u001b[0m\u001b[0m\n\u001b[0;32m     28\u001b[0m \u001b[1;33m\u001b[0m\u001b[0m\n\u001b[1;32m---> 29\u001b[1;33m     \u001b[0mmape_score\u001b[0m \u001b[1;33m=\u001b[0m \u001b[0mmape\u001b[0m\u001b[1;33m(\u001b[0m\u001b[0mY_test\u001b[0m\u001b[1;33m,\u001b[0m \u001b[0mY_pred\u001b[0m\u001b[1;33m)\u001b[0m\u001b[1;33m\u001b[0m\u001b[0m\n\u001b[0m\u001b[0;32m     30\u001b[0m \u001b[1;33m\u001b[0m\u001b[0m\n\u001b[0;32m     31\u001b[0m     \u001b[1;32mreturn\u001b[0m \u001b[0mmape_score\u001b[0m\u001b[1;33m\u001b[0m\u001b[0m\n",
      "\u001b[1;32m<ipython-input-10-b54492d6a2ac>\u001b[0m in \u001b[0;36mmape\u001b[1;34m(Y_test, Y_pred)\u001b[0m\n\u001b[0;32m      5\u001b[0m     \u001b[0mY_test\u001b[0m\u001b[1;33m,\u001b[0m \u001b[0mY_pred\u001b[0m \u001b[1;33m=\u001b[0m \u001b[0mnp\u001b[0m\u001b[1;33m.\u001b[0m\u001b[0marray\u001b[0m\u001b[1;33m(\u001b[0m\u001b[0mY_test\u001b[0m\u001b[1;33m)\u001b[0m\u001b[1;33m,\u001b[0m \u001b[0mnp\u001b[0m\u001b[1;33m.\u001b[0m\u001b[0marray\u001b[0m\u001b[1;33m(\u001b[0m\u001b[0mY_pred\u001b[0m\u001b[1;33m)\u001b[0m\u001b[1;33m\u001b[0m\u001b[0m\n\u001b[0;32m      6\u001b[0m     \u001b[0mY_test\u001b[0m \u001b[1;33m=\u001b[0m \u001b[1;33m[\u001b[0m\u001b[0my\u001b[0m \u001b[1;32mif\u001b[0m \u001b[0my\u001b[0m \u001b[1;33m!=\u001b[0m \u001b[1;36m0\u001b[0m \u001b[1;32melse\u001b[0m \u001b[1;36m0.01\u001b[0m \u001b[1;32mfor\u001b[0m \u001b[0my\u001b[0m \u001b[1;32min\u001b[0m \u001b[0mY_test\u001b[0m\u001b[1;33m]\u001b[0m\u001b[1;33m\u001b[0m\u001b[0m\n\u001b[1;32m----> 7\u001b[1;33m     \u001b[1;32mreturn\u001b[0m \u001b[0mnp\u001b[0m\u001b[1;33m.\u001b[0m\u001b[0mmean\u001b[0m\u001b[1;33m(\u001b[0m\u001b[1;33m(\u001b[0m\u001b[0mnp\u001b[0m\u001b[1;33m.\u001b[0m\u001b[0mabs\u001b[0m\u001b[1;33m(\u001b[0m\u001b[1;33m(\u001b[0m\u001b[0mY_test\u001b[0m\u001b[1;33m-\u001b[0m\u001b[0mY_pred\u001b[0m\u001b[1;33m)\u001b[0m\u001b[1;33m/\u001b[0m\u001b[0mY_test\u001b[0m\u001b[1;33m)\u001b[0m\u001b[1;33m)\u001b[0m\u001b[1;33m)\u001b[0m \u001b[1;33m*\u001b[0m \u001b[1;36m100\u001b[0m\u001b[1;33m\u001b[0m\u001b[0m\n\u001b[0m\u001b[0;32m      8\u001b[0m \u001b[1;33m\u001b[0m\u001b[0m\n\u001b[0;32m      9\u001b[0m \u001b[1;32mdef\u001b[0m \u001b[0msplit_data\u001b[0m\u001b[1;33m(\u001b[0m\u001b[0mdata\u001b[0m\u001b[1;33m,\u001b[0m \u001b[0msample_size\u001b[0m\u001b[1;33m)\u001b[0m\u001b[1;33m:\u001b[0m\u001b[1;33m\u001b[0m\u001b[0m\n",
      "\u001b[1;31mMemoryError\u001b[0m: "
     ]
    }
   ],
   "source": [
    "polynomial_regression(X_80, Y_80, feature_list=['ProductCategory', 'MasterSKU',\n",
    "                    'dealer_volume_group', 'month'], d=3, boxcox_transform=True)"
   ]
  },
  {
   "cell_type": "markdown",
   "metadata": {},
   "source": [
    "### WLS\n",
    "weighted least square (WLS) handles heteroskedasticity. "
   ]
  },
  {
   "cell_type": "code",
   "execution_count": 112,
   "metadata": {},
   "outputs": [],
   "source": [
    "def wls_sm(X_, Y_, feature_list, w, boxcox_transform=False):\n",
    "\n",
    "    sc = StandardScaler()\n",
    "    X_ = sc.fit_transform(X)\n",
    "    if boxcox_transform:   # may generate 0 in Y; don't use if cause problem with MAPE\n",
    "        Y_, best_lambda = boxcox(Y_)\n",
    "\n",
    "    X_train, X_test, Y_train, Y_test = train_test_split(X, Y, test_size=0.2, random_state=12)\n",
    "\n",
    "    # X_train = sm.add_constant(X_train)\n",
    "    model = sm.WLS(Y_train, X_train, weight=w)\n",
    "    result = model.fit()\n",
    "    \n",
    "    return result.summary()"
   ]
  },
  {
   "cell_type": "code",
   "execution_count": 133,
   "metadata": {},
   "outputs": [],
   "source": [
    "def wls(X_, Y_, feature_list, boxcox_transform=False):\n",
    "\n",
    "    sc = StandardScaler()\n",
    "    X_ = sc.fit_transform(X_)\n",
    "    if boxcox_transform:\n",
    "        Y_, _ = boxcox(Y_)\n",
    "\n",
    "    X_train, X_test, Y_train, Y_test = train_test_split(X_, Y_, test_size=0.2, random_state=12)\n",
    "\n",
    "    lr = LinearRegression()\n",
    "    lr.fit(X_train, Y_train, sample_weight=[i**2 for i in range(1,len(X_train)+1)])\n",
    "    Y_pred = lr.predict(X_test)\n",
    "    \n",
    "    rmse = np.mean(-1 * cross_val_score(lr, X_train, Y_train, \n",
    "                                   scoring='neg_mean_squared_error',\n",
    "                                   cv=5))\n",
    "    r2_list = cross_val_score(lr, X_train, Y_train, scoring='r2')\n",
    "    adj_r2 = np.mean([calculate_adj_r2(r2, len(X), len(feature_list)) for r2 in r2_list])\n",
    "    MAPE = cross_val_mape(lr, Y_test, Y_pred)\n",
    "    \n",
    "    print(\"Method: {}\\nRMSE: {}\\nAdjusted R2: {}\\nMAPE :{}%\".format(\n",
    "        'OLS', rmse, adj_r2, MAPE))\n",
    "    \n",
    "    X_mean, Y_mean = sum(X_test)/len(X), sum(Y_test)/len(Y)\n",
    "    res = Y_test - Y_pred\n",
    "    Y_SD = np.sqrt(sum([(Y_i-Y_mean)**2 for Y_i in Y_test])/len(Y))\n",
    "    Y_SE = Y_SD**2 / len(Y)\n",
    "    stu_res = res / Y_SE\n",
    "    \n",
    "    fig1, ax1 = plt.subplots(1)\n",
    "    ax1.scatter(Y_pred, stu_res, alpha=0.7)\n",
    "    plt.grid(color='grey', linestyle='-', linewidth=1, alpha=.2)\n",
    "    ax1.set_title('Linear Regression: internally studentized residuals')\n",
    "    ax1.set_ylabel('residual')\n",
    "    ax1.set_xlabel('y-hat')"
   ]
  },
  {
   "cell_type": "code",
   "execution_count": 122,
   "metadata": {},
   "outputs": [
    {
     "data": {
      "text/html": [
       "<table class=\"simpletable\">\n",
       "<caption>WLS Regression Results</caption>\n",
       "<tr>\n",
       "  <th>Dep. Variable:</th>            <td>y</td>        <th>  R-squared:         </th>  <td>   0.312</td>  \n",
       "</tr>\n",
       "<tr>\n",
       "  <th>Model:</th>                   <td>WLS</td>       <th>  Adj. R-squared:    </th>  <td>   0.312</td>  \n",
       "</tr>\n",
       "<tr>\n",
       "  <th>Method:</th>             <td>Least Squares</td>  <th>  F-statistic:       </th>  <td>1.093e+04</td> \n",
       "</tr>\n",
       "<tr>\n",
       "  <th>Date:</th>             <td>Mon, 16 Jul 2018</td> <th>  Prob (F-statistic):</th>   <td>  0.00</td>   \n",
       "</tr>\n",
       "<tr>\n",
       "  <th>Time:</th>                 <td>16:38:43</td>     <th>  Log-Likelihood:    </th> <td>-1.1639e+06</td>\n",
       "</tr>\n",
       "<tr>\n",
       "  <th>No. Observations:</th>      <td> 96424</td>      <th>  AIC:               </th>  <td>2.328e+06</td> \n",
       "</tr>\n",
       "<tr>\n",
       "  <th>Df Residuals:</th>          <td> 96420</td>      <th>  BIC:               </th>  <td>2.328e+06</td> \n",
       "</tr>\n",
       "<tr>\n",
       "  <th>Df Model:</th>              <td>     4</td>      <th>                     </th>      <td> </td>     \n",
       "</tr>\n",
       "<tr>\n",
       "  <th>Covariance Type:</th>      <td>nonrobust</td>    <th>                     </th>      <td> </td>     \n",
       "</tr>\n",
       "</table>\n",
       "<table class=\"simpletable\">\n",
       "<tr>\n",
       "   <td></td>     <th>coef</th>     <th>std err</th>      <th>t</th>      <th>P>|t|</th>  <th>[0.025</th>    <th>0.975]</th>  \n",
       "</tr>\n",
       "<tr>\n",
       "  <th>x1</th> <td>-2080.5101</td> <td>  115.261</td> <td>  -18.050</td> <td> 0.000</td> <td>-2306.420</td> <td>-1854.601</td>\n",
       "</tr>\n",
       "<tr>\n",
       "  <th>x2</th> <td> 1063.5425</td> <td>   10.840</td> <td>   98.111</td> <td> 0.000</td> <td> 1042.296</td> <td> 1084.789</td>\n",
       "</tr>\n",
       "<tr>\n",
       "  <th>x3</th> <td>-4942.1241</td> <td>  174.682</td> <td>  -28.292</td> <td> 0.000</td> <td>-5284.498</td> <td>-4599.750</td>\n",
       "</tr>\n",
       "<tr>\n",
       "  <th>x4</th> <td> 1325.4741</td> <td>   40.038</td> <td>   33.106</td> <td> 0.000</td> <td> 1247.001</td> <td> 1403.947</td>\n",
       "</tr>\n",
       "</table>\n",
       "<table class=\"simpletable\">\n",
       "<tr>\n",
       "  <th>Omnibus:</th>       <td>25328.744</td> <th>  Durbin-Watson:     </th> <td>   1.969</td> \n",
       "</tr>\n",
       "<tr>\n",
       "  <th>Prob(Omnibus):</th>  <td> 0.000</td>   <th>  Jarque-Bera (JB):  </th> <td>57486.482</td>\n",
       "</tr>\n",
       "<tr>\n",
       "  <th>Skew:</th>           <td> 1.506</td>   <th>  Prob(JB):          </th> <td>    0.00</td> \n",
       "</tr>\n",
       "<tr>\n",
       "  <th>Kurtosis:</th>       <td> 5.289</td>   <th>  Cond. No.          </th> <td>    33.8</td> \n",
       "</tr>\n",
       "</table>"
      ],
      "text/plain": [
       "<class 'statsmodels.iolib.summary.Summary'>\n",
       "\"\"\"\n",
       "                            WLS Regression Results                            \n",
       "==============================================================================\n",
       "Dep. Variable:                      y   R-squared:                       0.312\n",
       "Model:                            WLS   Adj. R-squared:                  0.312\n",
       "Method:                 Least Squares   F-statistic:                 1.093e+04\n",
       "Date:                Mon, 16 Jul 2018   Prob (F-statistic):               0.00\n",
       "Time:                        16:38:43   Log-Likelihood:            -1.1639e+06\n",
       "No. Observations:               96424   AIC:                         2.328e+06\n",
       "Df Residuals:                   96420   BIC:                         2.328e+06\n",
       "Df Model:                           4                                         \n",
       "Covariance Type:            nonrobust                                         \n",
       "==============================================================================\n",
       "                 coef    std err          t      P>|t|      [0.025      0.975]\n",
       "------------------------------------------------------------------------------\n",
       "x1         -2080.5101    115.261    -18.050      0.000   -2306.420   -1854.601\n",
       "x2          1063.5425     10.840     98.111      0.000    1042.296    1084.789\n",
       "x3         -4942.1241    174.682    -28.292      0.000   -5284.498   -4599.750\n",
       "x4          1325.4741     40.038     33.106      0.000    1247.001    1403.947\n",
       "==============================================================================\n",
       "Omnibus:                    25328.744   Durbin-Watson:                   1.969\n",
       "Prob(Omnibus):                  0.000   Jarque-Bera (JB):            57486.482\n",
       "Skew:                           1.506   Prob(JB):                         0.00\n",
       "Kurtosis:                       5.289   Cond. No.                         33.8\n",
       "==============================================================================\n",
       "\n",
       "Warnings:\n",
       "[1] Standard Errors assume that the covariance matrix of the errors is correctly specified.\n",
       "\"\"\""
      ]
     },
     "execution_count": 122,
     "metadata": {},
     "output_type": "execute_result"
    }
   ],
   "source": [
    "wls_sm(X, Y, ['ProductCategory', 'MasterSKU', 'dealer_volume_group', 'month'], w=[1/i for i in range(1,len(X)+1)])"
   ]
  },
  {
   "cell_type": "code",
   "execution_count": 134,
   "metadata": {},
   "outputs": [
    {
     "name": "stdout",
     "output_type": "stream",
     "text": [
      "Method: OLS\n",
      "RMSE: 1344860518.6030436\n",
      "Adjusted R2: 0.20636292713691387\n",
      "MAPE :257.07525220085626%\n"
     ]
    },
    {
     "data": {
      "image/png": "[encoded data removed]",
      "text/plain": [
       "<matplotlib.figure.Figure at 0x1f81afac320>"
      ]
     },
     "metadata": {},
     "output_type": "display_data"
    }
   ],
   "source": [
    "wls(X, Y, feature_list=['ProductCategory', 'MasterSKU', 'dealer_volume_group', 'month'])"
   ]
  },
  {
   "cell_type": "markdown",
   "metadata": {},
   "source": [
    "### K-Nearest Neighbors"
   ]
  },
  {
   "cell_type": "code",
   "execution_count": 8,
   "metadata": {},
   "outputs": [],
   "source": [
    "def local_knn(X_,Y_,lo,hi, boxcox_transform=False):\n",
    "    \n",
    "    normalize(X_, norm='l2', copy=False)\n",
    "    X_train, X_test, Y_train, Y_test = train_test_split(X_, Y_,\n",
    "                                                        test_size=0.3,\n",
    "                                                        random_state=12)\n",
    "    \n",
    "    sc = StandardScaler()\n",
    "    X_train, X_test = sc.fit_transform(X_train), sc.fit_transform(X_test)\n",
    "    if boxcox_transform:\n",
    "        Y_train = boxcox(Y_train)\n",
    "        Y_test = boxcox(Y_test)\n",
    "    \n",
    "    # cross validate\n",
    "    r2_list = []\n",
    "    for k in range(lo, hi):\n",
    "        knn = KNeighborsRegressor(n_neighbors = k)\n",
    "        knn.fit(X_, Y_)    \n",
    "        r2 = np.mean(cross_val_score(knn, X_, Y_, scoring='r2'))\n",
    "        r2_list.append(r2)\n",
    "    print(\"cross validated {} of values for K\".format(len(r2_list)))\n",
    "    \n",
    "    n = len(X_)     # number of observations\n",
    "    p = len(X_[0])  # number of features\n",
    "    adj_r2_list = [calculate_adj_r2(r2, n, p) for r2 in r2_list]\n",
    "    print(\"Best adjusted R2: {}\".format(np.amax(adj_r2_list)))\n",
    "    \n",
    "    return adj_r2_list\n",
    "    \n",
    "# plot KNN results (adjusted R2)\n",
    "def plot_knn_results(lo, hi, k_adj_r2):\n",
    "    fig2, ax2 = plt.subplots()\n",
    "    X2, Y2 = [k for k in range(lo, hi)], k_adj_r2\n",
    "    ax2.plot(X2, Y2)\n",
    "    plt.grid(color='grey',linestyle='-', linewidth=1, alpha=.2)\n",
    "    ax2.set_title(\"KNN regressor ({} < k < {})\".format(lo-1,hi))\n",
    "    ax2.set_xlabel(\"number of neighbors\")\n",
    "    ax2.set_ylabel(\"Adjusted R2\")"
   ]
  },
  {
   "cell_type": "code",
   "execution_count": 70,
   "metadata": {},
   "outputs": [
    {
     "name": "stdout",
     "output_type": "stream",
     "text": [
      "cross validated 48 of values for K\n",
      "Best adjusted R2: 0.966278393793333\n"
     ]
    },
    {
     "data": {
      "image/png": "[encoded data removed]",
      "text/plain": [
       "<matplotlib.figure.Figure at 0x1e5e2c14518>"
      ]
     },
     "metadata": {},
     "output_type": "display_data"
    }
   ],
   "source": [
    "knn_adj_r2 = local_knn(X, Y, 2, 50)\n",
    "plot_knn_results(2, 50, knn_adj_r2)"
   ]
  },
  {
   "cell_type": "code",
   "execution_count": 71,
   "metadata": {},
   "outputs": [
    {
     "name": "stdout",
     "output_type": "stream",
     "text": [
      "cross validated 8 of values for K\n",
      "Best adjusted R2: 0.966278393793333\n"
     ]
    },
    {
     "data": {
      "image/png": "[encoded data removed]",
      "text/plain": [
       "<matplotlib.figure.Figure at 0x1e5e2c0a0b8>"
      ]
     },
     "metadata": {},
     "output_type": "display_data"
    }
   ],
   "source": [
    "knn_adj_r2 = local_knn(X, Y, 2, 10)\n",
    "plot_knn_results(2, 10, knn_adj_r2)"
   ]
  },
  {
   "cell_type": "markdown",
   "metadata": {},
   "source": [
    "Based on this plot, select K = 8 when the model has the highest adjusted R2"
   ]
  },
  {
   "cell_type": "code",
   "execution_count": 9,
   "metadata": {},
   "outputs": [],
   "source": [
    "# interally studentized residuals\n",
    "def local_knn_resplot_studentized(X, Y, k, boxcox_transform=False):\n",
    "    X_train, X_test, Y_train, Y_test = train_test_split(X, Y,\n",
    "                                                        test_size=0.3,\n",
    "                                                        random_state=12)\n",
    "    \n",
    "    sc = StandardScaler()\n",
    "    X_train, X_test = sc.fit_transform(X_train), sc.fit_transform(X_test)\n",
    "    if boxcox_transform:\n",
    "        Y_train,_ = boxcox(Y_train)\n",
    "        Y_test,_ = boxcox(Y_test)\n",
    "    \n",
    "    knn = KNeighborsRegressor(n_neighbors=k)\n",
    "    knn.fit(X_train, Y_train)\n",
    "    Y_pred = knn.predict(X_test)\n",
    "    \n",
    "    X_mean, Y_mean = sum(X_test)/len(X), sum(Y_test)/len(Y)\n",
    "    res = Y_test - Y_pred\n",
    "    Y_SD = np.sqrt(sum([(Y_i-Y_mean)**2 for Y_i in Y_test])/len(Y))\n",
    "    Y_SE = Y_SD**2 / len(Y)\n",
    "    stu_res = res / Y_SE\n",
    "     \n",
    "    fig1, ax1 = plt.subplots(1)\n",
    "    ax1.scatter(Y_pred, stu_res, alpha=0.7)\n",
    "    plt.grid(color='grey', linestyle='-', linewidth=1, alpha=.2)\n",
    "    ax1.set_title('knn regressor (k = {}) residuals'.format(k))\n",
    "    ax1.set_ylabel('internally studentized residuals')\n",
    "    ax1.set_xlabel('y-hat')"
   ]
  },
  {
   "cell_type": "code",
   "execution_count": 227,
   "metadata": {},
   "outputs": [
    {
     "name": "stderr",
     "output_type": "stream",
     "text": [
      "C:\\Users\\Edith.Zeng\\AppData\\Local\\Continuum\\anaconda3\\lib\\site-packages\\sklearn\\utils\\validation.py:475: DataConversionWarning: Data with input dtype int64 was converted to float64 by StandardScaler.\n",
      "  warnings.warn(msg, DataConversionWarning)\n"
     ]
    },
    {
     "data": {
      "image/png": "[encoded data removed]",
      "text/plain": [
       "<matplotlib.figure.Figure at 0x21a4713a400>"
      ]
     },
     "metadata": {},
     "output_type": "display_data"
    }
   ],
   "source": [
    "local_knn_resplot_studentized(X, Y, 8)"
   ]
  },
  {
   "cell_type": "code",
   "execution_count": 10,
   "metadata": {},
   "outputs": [],
   "source": [
    "def local_knn_rmse(X_,Y_,lo,hi,boxcox_transform=False):\n",
    "    \n",
    "    X_train, X_test, Y_train, Y_test = train_test_split(X, Y,\n",
    "                                                        test_size=0.3,\n",
    "                                                        random_state=12)\n",
    "    \n",
    "    sc = StandardScaler()\n",
    "    X_train, X_test = sc.fit_transform(X_train), sc.fit_transform(X_test)\n",
    "    if boxcox_transform:\n",
    "        Y_train = boxcox(Y_train)\n",
    "        Y_test = boxcox(Y_test)\n",
    "    \n",
    "    # cross validate\n",
    "    score_list = []\n",
    "    for k in range(lo, hi):\n",
    "        knn = KNeighborsRegressor(n_neighbors = k)\n",
    "        knn.fit(X_, Y_)    \n",
    "        rmse = np.sqrt(np.mean(-1 * cross_val_score(knn, X_, Y_, scoring='neg_mean_squared_error')))\n",
    "        score_list.append(rmse)\n",
    "    print(\"cross validated {} of values for K\".format(len(score_list)))\n",
    "    print(\"Best adjusted MSE: {}\".format(np.amin(score_list)))\n",
    "    \n",
    "    return score_list\n",
    "    \n",
    "# plot KNN results (adj r2)\n",
    "def plot_knn_results(lo, hi, score_list):\n",
    "    fig2, ax2 = plt.subplots()\n",
    "    X2, Y2 = [k for k in range(lo, hi)], score_list\n",
    "    ax2.plot(X2, Y2)\n",
    "    plt.grid(color='grey',linestyle='-', linewidth=1, alpha=.2)\n",
    "    ax2.set_title(\"KNN regressor ({} < k < {})\".format(lo-1,hi))\n",
    "    ax2.set_xlabel(\"number of neighbors\")\n",
    "    ax2.set_ylabel(\"RMSE\")"
   ]
  },
  {
   "cell_type": "code",
   "execution_count": 231,
   "metadata": {},
   "outputs": [
    {
     "name": "stderr",
     "output_type": "stream",
     "text": [
      "C:\\Users\\Edith.Zeng\\AppData\\Local\\Continuum\\anaconda3\\lib\\site-packages\\sklearn\\utils\\validation.py:475: DataConversionWarning: Data with input dtype int64 was converted to float64 by StandardScaler.\n",
      "  warnings.warn(msg, DataConversionWarning)\n"
     ]
    },
    {
     "name": "stdout",
     "output_type": "stream",
     "text": [
      "cross validated 48 of values for K\n",
      "Best adjusted MSE: 7563.657245434612\n"
     ]
    },
    {
     "data": {
      "image/png": "[encoded data removed]",
      "text/plain": [
       "<matplotlib.figure.Figure at 0x21a4732e748>"
      ]
     },
     "metadata": {},
     "output_type": "display_data"
    }
   ],
   "source": [
    "knn_rmse_result = local_knn_rmse(X,Y,2,50)\n",
    "plot_knn_results(2,50,knn_rmse_result)"
   ]
  },
  {
   "cell_type": "code",
   "execution_count": 232,
   "metadata": {},
   "outputs": [
    {
     "name": "stderr",
     "output_type": "stream",
     "text": [
      "C:\\Users\\Edith.Zeng\\AppData\\Local\\Continuum\\anaconda3\\lib\\site-packages\\sklearn\\utils\\validation.py:475: DataConversionWarning: Data with input dtype int64 was converted to float64 by StandardScaler.\n",
      "  warnings.warn(msg, DataConversionWarning)\n"
     ]
    },
    {
     "name": "stdout",
     "output_type": "stream",
     "text": [
      "cross validated 8 of values for K\n",
      "Best adjusted MSE: 7563.657245434612\n"
     ]
    },
    {
     "data": {
      "image/png": "[encoded data removed]",
      "text/plain": [
       "<matplotlib.figure.Figure at 0x21a4719bdd8>"
      ]
     },
     "metadata": {},
     "output_type": "display_data"
    }
   ],
   "source": [
    "knn_rmse_result = local_knn_rmse(X,Y,2,10)\n",
    "plot_knn_results(2,10,knn_rmse_result)"
   ]
  },
  {
   "cell_type": "markdown",
   "metadata": {},
   "source": [
    "Based on the RMSE plot, the model achieves the best performance at K = 8"
   ]
  },
  {
   "cell_type": "code",
   "execution_count": 11,
   "metadata": {},
   "outputs": [],
   "source": [
    "def cross_val_mape_knn(k, X_, Y_, fold=5, rand_seed=None):\n",
    "    \n",
    "    X_train, X_test, Y_train, Y_test = [],[],[],[]\n",
    "    \n",
    "    kf = KFold(n_splits=fold, random_state=rand_seed)\n",
    "    for train_indices, test_indices in kf.split(X_, Y_):\n",
    "        X_train, X_test = X_[train_indices], X_[test_indices]\n",
    "        Y_train, Y_test = Y_[train_indices], Y_[test_indices]\n",
    "    \n",
    "    knn = KNeighborsRegressor(n_neighbors = k)\n",
    "    knn.fit(X_train, Y_train)\n",
    "    \n",
    "    Y_pred = knn.predict(X_test)\n",
    "    mape_score = mape(Y_test, Y_pred)\n",
    "    \n",
    "    return mape_score\n",
    "\n",
    "\n",
    "def local_knn_mape(X_,Y_, lo, hi, boxcox_transform=False):\n",
    "    \n",
    "    # center and scale\n",
    "    sc = StandardScaler()\n",
    "    X_ = sc.fit_transform(X_)\n",
    "    if boxcox_transform: \n",
    "        if lambda_ is None:\n",
    "            Y_, bestlambda = boxcox(Y_)\n",
    "            print(\"best lambda:\", bestlambda)\n",
    "        else:\n",
    "            Y_ = boxcox(Y_, lmbda=lambda_)\n",
    "\n",
    "    # cross validate\n",
    "    score_list = []\n",
    "    for k in range(lo, hi):\n",
    "        score_list.append(cross_val_mape_knn(k, X_, Y_, rand_seed=19))\n",
    "\n",
    "    return score_list\n",
    "\n",
    "def plot_knn_results(lo, hi, score_list):\n",
    "    fig2, ax2 = plt.subplots()\n",
    "    X2, Y2 = [k for k in range(lo, hi)], score_list\n",
    "    ax2.plot(X2, Y2)\n",
    "    plt.grid(color='grey',linestyle='-', linewidth=1, alpha=.2)\n",
    "    ax2.set_title(\"KNN regressor ({} < k < {})\".format(lo-1,hi))\n",
    "    ax2.set_xlabel(\"number of neighbors\")\n",
    "    ax2.set_ylabel(\"MAPE (percentage)\")"
   ]
  },
  {
   "cell_type": "code",
   "execution_count": null,
   "metadata": {},
   "outputs": [],
   "source": [
    "knn_mape_results = local_knn_mape(X, Y, 2, 50)"
   ]
  },
  {
   "cell_type": "code",
   "execution_count": 240,
   "metadata": {},
   "outputs": [
    {
     "data": {
      "image/png": "[encoded data removed]",
      "text/plain": [
       "<matplotlib.figure.Figure at 0x21a48127f60>"
      ]
     },
     "metadata": {},
     "output_type": "display_data"
    }
   ],
   "source": [
    "plot_knn_results(2, 50, knn_mape_results)"
   ]
  },
  {
   "cell_type": "code",
   "execution_count": 242,
   "metadata": {},
   "outputs": [
    {
     "name": "stderr",
     "output_type": "stream",
     "text": [
      "C:\\Users\\Edith.Zeng\\AppData\\Local\\Continuum\\anaconda3\\lib\\site-packages\\sklearn\\utils\\validation.py:475: DataConversionWarning: Data with input dtype int64 was converted to float64 by StandardScaler.\n",
      "  warnings.warn(msg, DataConversionWarning)\n"
     ]
    },
    {
     "data": {
      "image/png": "[encoded data removed]",
      "text/plain": [
       "<matplotlib.figure.Figure at 0x21a4794f710>"
      ]
     },
     "metadata": {},
     "output_type": "display_data"
    }
   ],
   "source": [
    "KNN_mape_results_small = local_knn_mape(X, Y, 2, 10)\n",
    "plot_knn_results(2,10,KNN_mape_results_small)"
   ]
  },
  {
   "cell_type": "code",
   "execution_count": 12,
   "metadata": {},
   "outputs": [],
   "source": [
    "def knn_final(X_, Y_, k, feature_list=None, boxcox_transform=False):\n",
    "    \n",
    "    sc = StandardScaler()\n",
    "    X_ = sc.fit_transform(X)\n",
    "    if boxcox_transform:\n",
    "        Y_, _ = boxcox(Y_)\n",
    "        \n",
    "    X_train, X_test, Y_train, Y_test = train_test_split(X_, Y_,\n",
    "                                                        test_size=0.3,\n",
    "                                                        random_state=12)\n",
    "\n",
    "    model = KNeighborsRegressor(n_neighbors=k)\n",
    "    model.fit(X_train, Y_train)\n",
    "    \n",
    "    rmse = np.mean(-1 * cross_val_score(model, X_train, Y_train, \n",
    "                                   scoring='neg_mean_squared_error',\n",
    "                                   cv=5))\n",
    "    r2_list = cross_val_score(model, X_train, Y_train, scoring='r2')\n",
    "    adj_r2 = np.mean([calculate_adj_r2(r2, len(X), len(feature_list)) for r2 in r2_list])\n",
    "    MAPE = np.mean(cross_val_mape(model, X, Y))\n",
    "    \n",
    "    print(\"KNN with K = {} \\n \\\n",
    "        features considered at each split: all \\n \\\n",
    "        RMSE: {} \\n Adjusted R2: {} \\n \\\n",
    "        MAPE: {}%\".format(k, rmse, adj_r2, MAPE))"
   ]
  },
  {
   "cell_type": "code",
   "execution_count": 175,
   "metadata": {},
   "outputs": [
    {
     "name": "stdout",
     "output_type": "stream",
     "text": [
      "KNN with K = 2 \n",
      "         features considered at each split: all \n",
      "         RMSE: 140776342.69879526 \n",
      " Adjusted R2: 0.9148184016238744 \n",
      "         MAPE: 26.37392545599712%\n"
     ]
    }
   ],
   "source": [
    "knn_final(X, Y, 2, feature_list=['ProductCategory', 'MasterSKU',\n",
    "                    'dealer_volume_group', 'month'], boxcox_transform=False)"
   ]
  },
  {
   "cell_type": "code",
   "execution_count": 176,
   "metadata": {},
   "outputs": [
    {
     "ename": "MemoryError",
     "evalue": "",
     "output_type": "error",
     "traceback": [
      "\u001b[1;31m---------------------------------------------------------------------------\u001b[0m",
      "\u001b[1;31mMemoryError\u001b[0m                               Traceback (most recent call last)",
      "\u001b[1;32m<ipython-input-176-5b6d9d7d3d99>\u001b[0m in \u001b[0;36m<module>\u001b[1;34m()\u001b[0m\n\u001b[0;32m      1\u001b[0m knn_final(X, Y, 2, feature_list=['ProductCategory', 'MasterSKU',\n\u001b[1;32m----> 2\u001b[1;33m                     'dealer_volume_group', 'month'], boxcox_transform=True)\n\u001b[0m",
      "\u001b[1;32m<ipython-input-174-5f4fdc4763b7>\u001b[0m in \u001b[0;36mknn_final\u001b[1;34m(X, Y, k, feature_list, boxcox_transform)\u001b[0m\n\u001b[0;32m     18\u001b[0m     \u001b[0mr2_list\u001b[0m \u001b[1;33m=\u001b[0m \u001b[0mcross_val_score\u001b[0m\u001b[1;33m(\u001b[0m\u001b[0mmodel\u001b[0m\u001b[1;33m,\u001b[0m \u001b[0mX_train\u001b[0m\u001b[1;33m,\u001b[0m \u001b[0mY_train\u001b[0m\u001b[1;33m,\u001b[0m \u001b[0mscoring\u001b[0m\u001b[1;33m=\u001b[0m\u001b[1;34m'r2'\u001b[0m\u001b[1;33m)\u001b[0m\u001b[1;33m\u001b[0m\u001b[0m\n\u001b[0;32m     19\u001b[0m     \u001b[0madj_r2\u001b[0m \u001b[1;33m=\u001b[0m \u001b[0mnp\u001b[0m\u001b[1;33m.\u001b[0m\u001b[0mmean\u001b[0m\u001b[1;33m(\u001b[0m\u001b[1;33m[\u001b[0m\u001b[0mcalculate_adj_r2\u001b[0m\u001b[1;33m(\u001b[0m\u001b[0mr2\u001b[0m\u001b[1;33m,\u001b[0m \u001b[0mlen\u001b[0m\u001b[1;33m(\u001b[0m\u001b[0mX\u001b[0m\u001b[1;33m)\u001b[0m\u001b[1;33m,\u001b[0m \u001b[0mlen\u001b[0m\u001b[1;33m(\u001b[0m\u001b[0mfeature_list\u001b[0m\u001b[1;33m)\u001b[0m\u001b[1;33m)\u001b[0m \u001b[1;32mfor\u001b[0m \u001b[0mr2\u001b[0m \u001b[1;32min\u001b[0m \u001b[0mr2_list\u001b[0m\u001b[1;33m]\u001b[0m\u001b[1;33m)\u001b[0m\u001b[1;33m\u001b[0m\u001b[0m\n\u001b[1;32m---> 20\u001b[1;33m     \u001b[0mMAPE\u001b[0m \u001b[1;33m=\u001b[0m \u001b[0mnp\u001b[0m\u001b[1;33m.\u001b[0m\u001b[0mmean\u001b[0m\u001b[1;33m(\u001b[0m\u001b[0mcross_val_mape\u001b[0m\u001b[1;33m(\u001b[0m\u001b[0mmodel\u001b[0m\u001b[1;33m,\u001b[0m \u001b[0mX\u001b[0m\u001b[1;33m,\u001b[0m \u001b[0mY\u001b[0m\u001b[1;33m)\u001b[0m\u001b[1;33m)\u001b[0m\u001b[1;33m\u001b[0m\u001b[0m\n\u001b[0m\u001b[0;32m     21\u001b[0m \u001b[1;33m\u001b[0m\u001b[0m\n\u001b[0;32m     22\u001b[0m     \u001b[0mprint\u001b[0m\u001b[1;33m(\u001b[0m\u001b[1;34m\"KNN with K = {} \\n         features considered at each split: all \\n         RMSE: {} \\n Adjusted R2: {} \\n         MAPE: {}%\"\u001b[0m\u001b[1;33m.\u001b[0m\u001b[0mformat\u001b[0m\u001b[1;33m(\u001b[0m\u001b[0mk\u001b[0m\u001b[1;33m,\u001b[0m \u001b[0mrmse\u001b[0m\u001b[1;33m,\u001b[0m \u001b[0madj_r2\u001b[0m\u001b[1;33m,\u001b[0m \u001b[0mMAPE\u001b[0m\u001b[1;33m)\u001b[0m\u001b[1;33m)\u001b[0m\u001b[1;33m\u001b[0m\u001b[0m\n",
      "\u001b[1;32m<ipython-input-159-9e0d8806a3ef>\u001b[0m in \u001b[0;36mcross_val_mape\u001b[1;34m(model, X_, Y_, fold, rand_seed)\u001b[0m\n\u001b[0;32m     27\u001b[0m \u001b[1;33m\u001b[0m\u001b[0m\n\u001b[0;32m     28\u001b[0m     \u001b[0mY_pred\u001b[0m \u001b[1;33m=\u001b[0m \u001b[0mmodel\u001b[0m\u001b[1;33m.\u001b[0m\u001b[0mpredict\u001b[0m\u001b[1;33m(\u001b[0m\u001b[0mX_test\u001b[0m\u001b[1;33m)\u001b[0m\u001b[1;33m\u001b[0m\u001b[0m\n\u001b[1;32m---> 29\u001b[1;33m     \u001b[0mmape_score\u001b[0m \u001b[1;33m=\u001b[0m \u001b[0mmape\u001b[0m\u001b[1;33m(\u001b[0m\u001b[0mY_test\u001b[0m\u001b[1;33m,\u001b[0m \u001b[0mY_pred\u001b[0m\u001b[1;33m)\u001b[0m\u001b[1;33m\u001b[0m\u001b[0m\n\u001b[0m\u001b[0;32m     30\u001b[0m \u001b[1;33m\u001b[0m\u001b[0m\n\u001b[0;32m     31\u001b[0m     \u001b[1;32mreturn\u001b[0m \u001b[0mmape_score\u001b[0m\u001b[1;33m\u001b[0m\u001b[0m\n",
      "\u001b[1;32m<ipython-input-159-9e0d8806a3ef>\u001b[0m in \u001b[0;36mmape\u001b[1;34m(Y_test, Y_pred)\u001b[0m\n\u001b[0;32m      5\u001b[0m     \u001b[0mY_test\u001b[0m\u001b[1;33m,\u001b[0m \u001b[0mY_pred\u001b[0m \u001b[1;33m=\u001b[0m \u001b[0mnp\u001b[0m\u001b[1;33m.\u001b[0m\u001b[0marray\u001b[0m\u001b[1;33m(\u001b[0m\u001b[0mY_test\u001b[0m\u001b[1;33m)\u001b[0m\u001b[1;33m,\u001b[0m \u001b[0mnp\u001b[0m\u001b[1;33m.\u001b[0m\u001b[0marray\u001b[0m\u001b[1;33m(\u001b[0m\u001b[0mY_pred\u001b[0m\u001b[1;33m)\u001b[0m\u001b[1;33m\u001b[0m\u001b[0m\n\u001b[0;32m      6\u001b[0m     \u001b[0mY_test\u001b[0m \u001b[1;33m=\u001b[0m \u001b[1;33m[\u001b[0m\u001b[0my\u001b[0m \u001b[1;32mif\u001b[0m \u001b[0my\u001b[0m \u001b[1;33m!=\u001b[0m \u001b[1;36m0\u001b[0m \u001b[1;32melse\u001b[0m \u001b[1;36m0.1\u001b[0m \u001b[1;32mfor\u001b[0m \u001b[0my\u001b[0m \u001b[1;32min\u001b[0m \u001b[0mY_test\u001b[0m\u001b[1;33m]\u001b[0m\u001b[1;33m\u001b[0m\u001b[0m\n\u001b[1;32m----> 7\u001b[1;33m     \u001b[1;32mreturn\u001b[0m \u001b[0mnp\u001b[0m\u001b[1;33m.\u001b[0m\u001b[0mmean\u001b[0m\u001b[1;33m(\u001b[0m\u001b[1;33m(\u001b[0m\u001b[0mnp\u001b[0m\u001b[1;33m.\u001b[0m\u001b[0mabs\u001b[0m\u001b[1;33m(\u001b[0m\u001b[1;33m(\u001b[0m\u001b[0mY_test\u001b[0m\u001b[1;33m-\u001b[0m\u001b[0mY_pred\u001b[0m\u001b[1;33m)\u001b[0m\u001b[1;33m/\u001b[0m\u001b[0mY_test\u001b[0m\u001b[1;33m)\u001b[0m\u001b[1;33m)\u001b[0m\u001b[1;33m)\u001b[0m \u001b[1;33m*\u001b[0m \u001b[1;36m100\u001b[0m\u001b[1;33m\u001b[0m\u001b[0m\n\u001b[0m\u001b[0;32m      8\u001b[0m \u001b[1;33m\u001b[0m\u001b[0m\n\u001b[0;32m      9\u001b[0m \u001b[1;32mdef\u001b[0m \u001b[0msplit_data\u001b[0m\u001b[1;33m(\u001b[0m\u001b[0mdata\u001b[0m\u001b[1;33m,\u001b[0m \u001b[0msample_size\u001b[0m\u001b[1;33m)\u001b[0m\u001b[1;33m:\u001b[0m\u001b[1;33m\u001b[0m\u001b[0m\n",
      "\u001b[1;31mMemoryError\u001b[0m: "
     ]
    }
   ],
   "source": [
    "knn_final(X, Y, 2, feature_list=['ProductCategory', 'MasterSKU',\n",
    "                    'dealer_volume_group', 'month'], boxcox_transform=True)"
   ]
  },
  {
   "cell_type": "code",
   "execution_count": 14,
   "metadata": {},
   "outputs": [
    {
     "name": "stderr",
     "output_type": "stream",
     "text": [
      "C:\\Users\\Edith.Zeng\\AppData\\Local\\Continuum\\anaconda3\\lib\\site-packages\\sklearn\\utils\\validation.py:475: DataConversionWarning: Data with input dtype int64 was converted to float64 by StandardScaler.\n",
      "  warnings.warn(msg, DataConversionWarning)\n"
     ]
    },
    {
     "name": "stdout",
     "output_type": "stream",
     "text": [
      "KNN with K = 8 \n",
      "         features considered at each split: all \n",
      "         RMSE: 94921418.1065645 \n",
      " Adjusted R2: 0.939740647722528 \n",
      "         MAPE: 44.680046145897286%\n"
     ]
    }
   ],
   "source": [
    "knn_final(X, Y, 8, feature_list=['ProductCategory', 'MasterSKU',\n",
    "                    'dealer_volume_group', 'month'], boxcox_transform=False)"
   ]
  },
  {
   "cell_type": "code",
   "execution_count": null,
   "metadata": {},
   "outputs": [
    {
     "name": "stderr",
     "output_type": "stream",
     "text": [
      "C:\\Users\\Edith.Zeng\\AppData\\Local\\Continuum\\anaconda3\\lib\\site-packages\\sklearn\\utils\\validation.py:475: DataConversionWarning: Data with input dtype int64 was converted to float64 by StandardScaler.\n",
      "  warnings.warn(msg, DataConversionWarning)\n"
     ]
    }
   ],
   "source": [
    "knn_final(X, Y, 8, feature_list=['ProductCategory', 'MasterSKU',\n",
    "                    'dealer_volume_group', 'month'], boxcox_transform=True)"
   ]
  },
  {
   "cell_type": "markdown",
   "metadata": {},
   "source": [
    "## Ensemble - Random Forest\n",
    "Tree-based methods have the following advantages over linear methods:\n",
    "- similar to KNN regressor, they can model highly non-linear and complex relationships;\n",
    "- better than KNN regressor, their results and decision process is interpretable; and \n",
    "- mirroring human decision process, trees are intuitive to understand and provide good graphics for visualization.\n",
    "\n",
    "Cons:\n",
    "- A single decision trees have high variance and are prone to overfit.\n",
    "- As a result, tree-based methods ofen give less accurate predictions when the true relationship is close to linear.\n",
    "- Non-robust: small changes in the data can lead to large changes in final estimates.\n",
    "\n",
    "\n",
    "The random forest regressor fits a number of decision trees on various sub-samples of the data, and then use averages to improve accuracy and control overfitting. \n",
    "\n",
    "Pros:\n",
    "- Improves prediction accuracy over single decision tree\n",
    "- A highly flexible method with high complexity.\n",
    "\n",
    "Cons:\n",
    "- no longer interpretable\n",
    "- there's still the risk of overfitting; it takes much more efforts to construct, tune and train.\n",
    "- requires more computational resources: time-consuming to train and predict."
   ]
  },
  {
   "cell_type": "code",
   "execution_count": 13,
   "metadata": {},
   "outputs": [],
   "source": [
    "from sklearn.ensemble import RandomForestRegressor\n",
    "import warnings\n",
    "warnings.filterwarnings(\"ignore\")\n",
    "\n",
    "def random_forest_reg(X_, Y_, max_depth=3, feature_list=None, boxcox_transform=False):\n",
    "    \n",
    "    \"\"\" memory-intesive mod \"\"\"\n",
    "    \"\"\" the random forest regressor is paralleled using all CPU cores \"\"\"\n",
    "    \n",
    "    sc = StandardScaler()\n",
    "    X_ = sc.fit_transform(X_)\n",
    "    if boxcox_transform:\n",
    "        Y_, _ = boxcox(Y_)\n",
    "\n",
    "    X_train, X_test, Y_train, Y_test = train_test_split(X_, Y_,\n",
    "                                                        test_size=0.2,\n",
    "                                                        random_state=12)\n",
    "\n",
    "    model = RandomForestRegressor(bootstrap=True,random_state=0,\n",
    "                                 max_depth=max_depth,n_jobs=-1)\n",
    "    model.fit(X_train, np.ravel(Y_train))\n",
    "\n",
    "    rmse = np.mean(-1 * cross_val_score(model, X_train, Y_train, \n",
    "                                   scoring='neg_mean_squared_error',\n",
    "                                   cv=5))\n",
    "    r2_list = cross_val_score(model, X_train, Y_train, scoring='r2')\n",
    "    adj_r2 = np.mean([calculate_adj_r2(r2, len(X), len(feature_list)) for r2 in r2_list])\n",
    "    MAPE = np.mean(cross_val_mape(model, X, Y))\n",
    "    \n",
    "    print(\"Random Forest with max depth = {}\\n \\\n",
    "        features considered at each split: all \\n \\\n",
    "        RMSE: {} \\n \\\n",
    "        Adjusted R2: {}\\n \\\n",
    "        MAPE:{}%\".format(max_depth,rmse,adj_r2,MAPE))\n",
    "    "
   ]
  },
  {
   "cell_type": "code",
   "execution_count": 164,
   "metadata": {},
   "outputs": [
    {
     "name": "stdout",
     "output_type": "stream",
     "text": [
      "Random Forest with max depth = 3\n",
      "         features considered at each split: all \n",
      "         RMSE: 674209676.7525152 \n",
      "         Adjusted R2: 0.6027201447284973\n",
      "         MAPE:2660.751049858898%\n"
     ]
    }
   ],
   "source": [
    "# no Box-Cox transformation, max_depth = 3\n",
    "random_forest_reg(X, Y, feature_list= ['ProductCategory', 'MasterSKU', 'Color', 'dealer_volume_group', 'month'])"
   ]
  },
  {
   "cell_type": "code",
   "execution_count": 165,
   "metadata": {},
   "outputs": [
    {
     "name": "stdout",
     "output_type": "stream",
     "text": [
      "Random Forest with max depth = 3\n",
      "         features considered at each split: all \n",
      "         RMSE: 6.434668981911645 \n",
      "         Adjusted R2: 0.7107796918918051\n",
      "         MAPE:15.254747660346185%\n"
     ]
    }
   ],
   "source": [
    "random_forest_reg(X, Y, \n",
    "                  feature_list=['ProductCategory', 'MasterSKU', 'Color', 'dealer_volume_group', 'month'], \n",
    "                  boxcox_transform=True)"
   ]
  },
  {
   "cell_type": "code",
   "execution_count": 23,
   "metadata": {},
   "outputs": [
    {
     "name": "stdout",
     "output_type": "stream",
     "text": [
      "Random Forest with max depth = 4\n",
      "         features considered at each split: all \n",
      "         RMSE: 538355682.6773136 \n",
      "         Adjusted R2: 0.682674236379138\n",
      "         MAPE (not cross validated):2598.659323843676%\n"
     ]
    }
   ],
   "source": [
    "random_forest_reg(X, Y, max_depth=4, \n",
    "                  feature_list= ['ProductCategory', 'MasterSKU', 'Color', 'dealer_volume_group', 'month'])"
   ]
  },
  {
   "cell_type": "code",
   "execution_count": 166,
   "metadata": {},
   "outputs": [
    {
     "name": "stdout",
     "output_type": "stream",
     "text": [
      "Random Forest with max depth = 5\n",
      "         features considered at each split: all \n",
      "         RMSE: 3.8635699196307884 \n",
      "         Adjusted R2: 0.8272801188714981\n",
      "         MAPE:11.348832380403662%\n"
     ]
    }
   ],
   "source": [
    "random_forest_reg(X, Y, max_depth=5,\n",
    "                  feature_list= ['ProductCategory', 'MasterSKU', 'Color', 'dealer_volume_group', 'month'], \n",
    "                 boxcox_transform = True)"
   ]
  },
  {
   "cell_type": "code",
   "execution_count": 28,
   "metadata": {},
   "outputs": [
    {
     "name": "stdout",
     "output_type": "stream",
     "text": [
      "Random Forest with max depth = 8\n",
      "         features considered at each split: all \n",
      "         RMSE: 167603620.19329026 \n",
      "         Adjusted R2: 0.9015302195658906\n",
      "         MAPE (not cross validated):2607.960624636037%\n"
     ]
    }
   ],
   "source": [
    "random_forest_reg(X, Y, max_depth=8,\n",
    "                  feature_list= ['ProductCategory', 'MasterSKU', 'Color', 'dealer_volume_group', 'month'])"
   ]
  },
  {
   "cell_type": "code",
   "execution_count": 167,
   "metadata": {},
   "outputs": [
    {
     "name": "stdout",
     "output_type": "stream",
     "text": [
      "Random Forest with max depth = None\n",
      "         features considered at each split: all \n",
      "         RMSE: 0.457958466511711 \n",
      "         Adjusted R2: 0.9791507369960565\n",
      "         MAPE:2.584979641170958%\n"
     ]
    }
   ],
   "source": [
    "random_forest_reg(X, Y, max_depth=None,\n",
    "                  feature_list= ['ProductCategory', 'MasterSKU', 'Color', 'dealer_volume_group', 'month'],\n",
    "                 boxcox_transform=True)"
   ]
  },
  {
   "cell_type": "markdown",
   "metadata": {},
   "source": [
    "## test models on June 2018 data"
   ]
  },
  {
   "cell_type": "code",
   "execution_count": 75,
   "metadata": {},
   "outputs": [],
   "source": [
    "conn = pyodbc.connect(\"Driver={ODBC Driver 13 for SQL Server};Server=yetidb01.database.windows.net;database=YETISQLDW01;uid=ezeng;PWD=Ed1tH2EnG#\")\n",
    "cursor = conn.cursor()\n",
    "\n",
    "qry1 = \"\"\"\n",
    "SELECT S.CustomerID, C.Customer, S.OrderDate, S.Requested_Date, S.SalesOffice, S.OrderQty, P.ProductCategory, P.MasterSKU\n",
    "FROM EDW_DS.ORDERFCT S \n",
    "inner join [EDW].[PRODUCT_DIM] P ON P.ProductID = S.ProductID \n",
    "left join EDW_DS.CUSTOMER_DIM C on S.CustomerID = C.CustomerID\n",
    "WHERE P.ISCORE = 'TRUE' and S.SalesOffice in ('STD','HYB') \n",
    "and S.RejectionReason is null\n",
    "and S.Ordertype Not in ('ZARF','ZARM','ZEG2','ZERF','ZERM','ZRE') and S.SoldtoParty not in ('91860','0000107894','0000114883','0000108654')\n",
    "and S.OrderDate >= '2018-06-01' and S.OrderDate <= '2018-06-30'\n",
    "order by OrderDate ASC\n",
    "\"\"\"\n",
    "\n",
    "test_data = pd.read_sql(qry1, conn)\n",
    "test_data['CustomerID'] = test_data['CustomerID'].apply(lambda x: x.zfill(10))"
   ]
  },
  {
   "cell_type": "code",
   "execution_count": 76,
   "metadata": {},
   "outputs": [
    {
     "data": {
      "text/plain": [
       "Index(['CustomerID', 'Customer', 'OrderDate', 'Requested_Date', 'SalesOffice',\n",
       "       'OrderQty', 'ProductCategory', 'MasterSKU', 'dealer_volume_group'],\n",
       "      dtype='object')"
      ]
     },
     "execution_count": 76,
     "metadata": {},
     "output_type": "execute_result"
    }
   ],
   "source": [
    "%store -r volume_groups\n",
    "def add_test_data_cols():\n",
    "    test_data['dealer_volume_group'] = test_data.apply(lambda _: '', axis=1)\n",
    "    for i, row in test_data.iterrows():\n",
    "        try: \n",
    "            test_data.at[i, 'dealer_volume_group'] = volume_groups[row[0]]\n",
    "        except KeyError:   # skip new dealers\n",
    "            continue\n",
    "add_test_data_cols()\n",
    "test_data.columns"
   ]
  },
  {
   "cell_type": "code",
   "execution_count": 77,
   "metadata": {},
   "outputs": [
    {
     "data": {
      "text/plain": [
       "Index(['OrderQty', 'ProductCategory', 'MasterSKU', 'dealer_volume_group'], dtype='object')"
      ]
     },
     "execution_count": 77,
     "metadata": {},
     "output_type": "execute_result"
    }
   ],
   "source": [
    "test_data.drop(columns=['CustomerID', 'Customer','OrderDate','Requested_Date', 'SalesOffice'], inplace=True)\n",
    "test_data.columns"
   ]
  },
  {
   "cell_type": "code",
   "execution_count": 78,
   "metadata": {},
   "outputs": [],
   "source": [
    "def update_monthly_sum(dFrame):\n",
    "            \n",
    "    new_dFrame = dFrame.copy()\n",
    "    new_dFrame['monthly_sum_Order_Qty'] = np.nan\n",
    "    hi = len(dFrame)\n",
    "\n",
    "    for i, row in dFrame.iterrows():\n",
    "        \n",
    "        subset = dFrame.loc[(dFrame['MasterSKU'] == row[2])\n",
    "                            & (dFrame['dealer_volume_group'] == row[3])]\n",
    "        \n",
    "        subset_order_sum = subset['OrderQty'].sum(min_count=1)\n",
    "\n",
    "        new_dFrame.loc[(\n",
    "                        (np.isnan(new_dFrame['monthly_sum_Order_Qty']))\n",
    "                        & (dFrame['MasterSKU'] == row[2])\n",
    "                        & (dFrame['dealer_volume_group'] == row[3])\n",
    "                        ), 'monthly_sum_Order_Qty'] = subset_order_sum\n",
    "            \n",
    "        if (i % 1000) == 0 and i <= hi:\n",
    "            sys.stdout.write('\\r'+\"{0:.3%}\".format(i/hi))\n",
    "            sys.stdout.flush()\n",
    "            \n",
    "    return new_dFrame\n",
    "\n",
    "def encode_categorical_predictors(dFrame):\n",
    "    op = dFrame.copy()\n",
    "    le = LabelEncoder()\n",
    "    for c in ['ProductCategory', 'MasterSKU']:\n",
    "        op[c] = le.fit_transform(op[c].astype(str))\n",
    "    return op"
   ]
  },
  {
   "cell_type": "code",
   "execution_count": 79,
   "metadata": {},
   "outputs": [
    {
     "name": "stdout",
     "output_type": "stream",
     "text": [
      "99.547%"
     ]
    }
   ],
   "source": [
    "df = update_monthly_sum(test_data)"
   ]
  },
  {
   "cell_type": "code",
   "execution_count": 23,
   "metadata": {},
   "outputs": [],
   "source": [
    "df_num = encode_categorical_predictors(df)\n",
    "df_num['month'] = df.apply(lambda _:6, axis=1)\n",
    "df_num['dealer_volume_group'] = pd.to_numeric(df_num['dealer_volume_group'])\n",
    "df_num['dealer_volume_group'] = df_num['dealer_volume_group'].fillna(value=-1)"
   ]
  },
  {
   "cell_type": "code",
   "execution_count": 92,
   "metadata": {},
   "outputs": [],
   "source": [
    "test_data_X = df_num[['ProductCategory','MasterSKU','dealer_volume_group', 'month']].values\n",
    "test_data_Y = df_num['monthly_sum_Order_Qty'].values.reshape(-1,1)"
   ]
  },
  {
   "cell_type": "code",
   "execution_count": 108,
   "metadata": {},
   "outputs": [],
   "source": [
    "def knn_test(X, Y, test_data_X, test_data_Y, k=21, feature_list=None, boxcox_transform=False):\n",
    "    sc = StandardScaler(X)\n",
    "    X = sc.fit_transform(X)\n",
    "    X_test = sc.transform(test_data_X)\n",
    "\n",
    "    if boxcox_transform:\n",
    "        Y, best_lambda = boxcox(Y)\n",
    "        Y_test = boxcox(test_data_Y)\n",
    "    else:\n",
    "        Y_test = test_data_Y\n",
    "\n",
    "    X_train, Y_train = X, Y\n",
    "\n",
    "    knn = KNeighborsRegressor(n_neighbors=k)\n",
    "    knn.fit(X_train, Y_train)\n",
    "    \n",
    "    Y_pred = knn.predict(X_test)\n",
    "    \n",
    "    rmse = np.mean(-1 * cross_val_score(knn, X_train, Y_train, \n",
    "                                   scoring='neg_mean_squared_error',\n",
    "                                   cv=5))\n",
    "    r2_list = cross_val_score(knn, X_train, Y_train, scoring='r2')\n",
    "    adj_r2 = np.mean([calculate_adj_r2(r2, len(X), len(feature_list)) for r2 in r2_list])\n",
    "    MAPE = cross_val_mape(knn, Y_test, Y_pred)\n",
    "    \n",
    "    print(\"KNN with K = {} \\n \\\n",
    "        features considered at each split: all \\n \\\n",
    "        RMSE: {} \\n Adjusted R2: {} \\n \\\n",
    "        MAPE: {}%\".format(k, rmse, adj_r2, MAPE))\n",
    "    \n",
    "def random_forest_test(X, Y, test_data_X, test_data_Y, max_depth=None, feature_list=None, boxcox_transform=False):\n",
    "\n",
    "    sc = StandardScaler()\n",
    "    X = sc.fit_transform(X)\n",
    "    X_test = sc.transform(test_data_X)\n",
    "    \n",
    "    if boxcox_transform:\n",
    "        Y, best_lambda = boxcox(Y)\n",
    "        Y_test = boxcox(test_data_Y,lmbda=best_lambda)\n",
    "    else:\n",
    "        Y_test = test_data_Y.reshape\n",
    "    \n",
    "    X_train, Y_train = X, Y\n",
    "    model = RandomForestRegressor(bootstrap=True,random_state=0,max_depth=max_depth,n_jobs=-1)\n",
    "    model.fit(X_train, Y_train)\n",
    "    Y_pred = model.predict(X_test)\n",
    "\n",
    "    rmse = np.mean(-1 * cross_val_score(model, X_train, Y_train, \n",
    "                                   scoring='neg_mean_squared_error',\n",
    "                                   cv=5))\n",
    "    r2_list = cross_val_score(model, X_train, Y_train, scoring='r2')\n",
    "    adj_r2 = np.mean([calculate_adj_r2(r2, len(X), len(feature_list)) for r2 in r2_list])\n",
    "    MAPE = cross_val_mape(model, Y_test, Y_pred) # not enough memory to calculate this for Random Forest\n",
    "    \n",
    "    print(\"Features:\", feature_list)\n",
    "    print(\"Random Forest with max depth = {}\\n \\\n",
    "        features considered at each split: all \\n \\\n",
    "        RMSE: {} \\n Adjusted R2: {}\\nMAPE: {}%\".format(max_depth,rmse,adj_r2,MAPE))\n",
    "\n",
    "def poly_reg_test(X, Y, test_data_X, test_data_Y, feature_list, d, boxcox_transform=False):\n",
    "    \n",
    "    sc = StandardScaler()\n",
    "    X = sc.fit_transform(X)\n",
    "    X_train, Y_train = X, Y\n",
    "    X_test = sc.transform(test_data_X)    \n",
    "    if boxcox_transform:\n",
    "        Y, best_lambda = boxcox(Y)\n",
    "        Y_test = boxcox(test_data_Y).reshape(-1,1)\n",
    "    else:\n",
    "        Y_test = test_data_Y.reshape(-1,1)\n",
    "    \n",
    "    model = Pipeline([\n",
    "        ('poly', PolynomialFeatures(degree=d)),\n",
    "        ('linear', LinearRegression())\n",
    "    ])\n",
    "    model = model.fit(X_train, Y_train)\n",
    "    Y_pred = model.predict(X_test).reshape(-1,1)\n",
    "    \n",
    "    # cross validate & evaluate performance\n",
    "    rmse = np.mean(-1 * cross_val_score(model, X_train, Y_train, \n",
    "                                   scoring='neg_mean_squared_error',\n",
    "                                   cv=5))\n",
    "    r2_list = cross_val_score(model, X_train, Y_train, scoring='r2')\n",
    "    adj_r2 = np.mean([calculate_adj_r2(r2, len(X), len(feature_list)) for r2 in r2_list])\n",
    "    MAPE = cross_val_mape(model, Y_test, Y_pred)\n",
    "    \n",
    "    print(\"Method: {} degree: {} \\nRMSE: {}\\n\\\n",
    "        Adjusted R2: {}\\nMAPE :{}%\".format(\n",
    "        'Polynomial OLS', d, rmse, adj_r2, MAPE\n",
    "    ))\n",
    "    \n",
    "    # calculate internally studentized residuals\n",
    "    X_mean, Y_mean = sum(X_test)/len(X), sum(Y_test)/len(Y)\n",
    "    res = Y_test - Y_pred\n",
    "    Y_SD = np.sqrt(sum([(Y_i-Y_mean)**2 for Y_i in Y_test])/len(Y))\n",
    "    Y_SE = Y_SD**2 / len(Y)\n",
    "    stu_res = res / Y_SE\n",
    "    \n",
    "    # visualize internally studentized residuals\n",
    "    fig1, ax1 = plt.subplots(1)\n",
    "    ax1.scatter(Y_pred, stu_res, alpha=0.7)\n",
    "    plt.grid(color='grey', linestyle='-', linewidth=1, alpha=.2)\n",
    "    ax1.set_title('Polynomial Linear Regression, degree = {}\\ninternally studentized residuals'.format(d))\n",
    "    ax1.set_ylabel('residual')\n",
    "    ax1.set_xlabel('y-hat')"
   ]
  },
  {
   "cell_type": "code",
   "execution_count": 94,
   "metadata": {},
   "outputs": [
    {
     "data": {
      "text/plain": [
       "(120530, 4)"
      ]
     },
     "execution_count": 94,
     "metadata": {},
     "output_type": "execute_result"
    }
   ],
   "source": [
    "X.shape"
   ]
  },
  {
   "cell_type": "code",
   "execution_count": 95,
   "metadata": {},
   "outputs": [
    {
     "data": {
      "text/plain": [
       "(31141, 4)"
      ]
     },
     "execution_count": 95,
     "metadata": {},
     "output_type": "execute_result"
    }
   ],
   "source": [
    "test_data_X.shape"
   ]
  },
  {
   "cell_type": "code",
   "execution_count": 106,
   "metadata": {},
   "outputs": [
    {
     "name": "stdout",
     "output_type": "stream",
     "text": [
      "Method: Polynomial OLS degree: 1 \n",
      "RMSE: 1344134846.4384043\n",
      "        Adjusted R2: 0.20779310490291358\n",
      "MAPE :182.47379905391676%\n"
     ]
    },
    {
     "data": {
      "image/png": "[encoded data removed]",
      "text/plain": [
       "<matplotlib.figure.Figure at 0x1f81b05ceb8>"
      ]
     },
     "metadata": {},
     "output_type": "display_data"
    }
   ],
   "source": [
    "poly_reg_test(X, Y, test_data_X, test_data_Y, feature_list=['ProductCategory','MasterSKU','dealer_volume_group', 'month'], d=1, boxcox_transform=False)"
   ]
  },
  {
   "cell_type": "code",
   "execution_count": 109,
   "metadata": {},
   "outputs": [
    {
     "ename": "ValueError",
     "evalue": "Data must be positive.",
     "output_type": "error",
     "traceback": [
      "\u001b[1;31m---------------------------------------------------------------------------\u001b[0m",
      "\u001b[1;31mValueError\u001b[0m                                Traceback (most recent call last)",
      "\u001b[1;32m<ipython-input-109-b0e86eae7fdf>\u001b[0m in \u001b[0;36m<module>\u001b[1;34m()\u001b[0m\n\u001b[1;32m----> 1\u001b[1;33m \u001b[0mpoly_reg_test\u001b[0m\u001b[1;33m(\u001b[0m\u001b[0mX\u001b[0m\u001b[1;33m,\u001b[0m \u001b[0mY\u001b[0m\u001b[1;33m,\u001b[0m \u001b[0mtest_data_X\u001b[0m\u001b[1;33m,\u001b[0m \u001b[0mtest_data_Y\u001b[0m\u001b[1;33m,\u001b[0m \u001b[0mfeature_list\u001b[0m\u001b[1;33m=\u001b[0m\u001b[1;33m[\u001b[0m\u001b[1;34m'ProductCategory'\u001b[0m\u001b[1;33m,\u001b[0m\u001b[1;34m'MasterSKU'\u001b[0m\u001b[1;33m,\u001b[0m\u001b[1;34m'dealer_volume_group'\u001b[0m\u001b[1;33m,\u001b[0m \u001b[1;34m'month'\u001b[0m\u001b[1;33m]\u001b[0m\u001b[1;33m,\u001b[0m \u001b[0md\u001b[0m\u001b[1;33m=\u001b[0m\u001b[1;36m1\u001b[0m\u001b[1;33m,\u001b[0m \u001b[0mboxcox_transform\u001b[0m\u001b[1;33m=\u001b[0m\u001b[1;32mTrue\u001b[0m\u001b[1;33m)\u001b[0m\u001b[1;33m\u001b[0m\u001b[0m\n\u001b[0m",
      "\u001b[1;32m<ipython-input-108-48736c89e524>\u001b[0m in \u001b[0;36mpoly_reg_test\u001b[1;34m(X, Y, test_data_X, test_data_Y, feature_list, d, boxcox_transform)\u001b[0m\n\u001b[0;32m     61\u001b[0m     \u001b[1;32mif\u001b[0m \u001b[0mboxcox_transform\u001b[0m\u001b[1;33m:\u001b[0m\u001b[1;33m\u001b[0m\u001b[0m\n\u001b[0;32m     62\u001b[0m         \u001b[0mY\u001b[0m\u001b[1;33m,\u001b[0m \u001b[0mbest_lambda\u001b[0m \u001b[1;33m=\u001b[0m \u001b[0mboxcox\u001b[0m\u001b[1;33m(\u001b[0m\u001b[0mY\u001b[0m\u001b[1;33m)\u001b[0m\u001b[1;33m\u001b[0m\u001b[0m\n\u001b[1;32m---> 63\u001b[1;33m         \u001b[0mY_test\u001b[0m \u001b[1;33m=\u001b[0m \u001b[0mboxcox\u001b[0m\u001b[1;33m(\u001b[0m\u001b[0mtest_data_Y\u001b[0m\u001b[1;33m)\u001b[0m\u001b[1;33m.\u001b[0m\u001b[0mreshape\u001b[0m\u001b[1;33m(\u001b[0m\u001b[1;33m-\u001b[0m\u001b[1;36m1\u001b[0m\u001b[1;33m,\u001b[0m\u001b[1;36m1\u001b[0m\u001b[1;33m)\u001b[0m\u001b[1;33m\u001b[0m\u001b[0m\n\u001b[0m\u001b[0;32m     64\u001b[0m     \u001b[1;32melse\u001b[0m\u001b[1;33m:\u001b[0m\u001b[1;33m\u001b[0m\u001b[0m\n\u001b[0;32m     65\u001b[0m         \u001b[0mY_test\u001b[0m \u001b[1;33m=\u001b[0m \u001b[0mtest_data_Y\u001b[0m\u001b[1;33m.\u001b[0m\u001b[0mreshape\u001b[0m\u001b[1;33m(\u001b[0m\u001b[1;33m-\u001b[0m\u001b[1;36m1\u001b[0m\u001b[1;33m,\u001b[0m\u001b[1;36m1\u001b[0m\u001b[1;33m)\u001b[0m\u001b[1;33m\u001b[0m\u001b[0m\n",
      "\u001b[1;32m~\\AppData\\Local\\Continuum\\anaconda3\\lib\\site-packages\\scipy\\stats\\morestats.py\u001b[0m in \u001b[0;36mboxcox\u001b[1;34m(x, lmbda, alpha)\u001b[0m\n\u001b[0;32m   1029\u001b[0m \u001b[1;33m\u001b[0m\u001b[0m\n\u001b[0;32m   1030\u001b[0m     \u001b[1;32mif\u001b[0m \u001b[0many\u001b[0m\u001b[1;33m(\u001b[0m\u001b[0mx\u001b[0m \u001b[1;33m<=\u001b[0m \u001b[1;36m0\u001b[0m\u001b[1;33m)\u001b[0m\u001b[1;33m:\u001b[0m\u001b[1;33m\u001b[0m\u001b[0m\n\u001b[1;32m-> 1031\u001b[1;33m         \u001b[1;32mraise\u001b[0m \u001b[0mValueError\u001b[0m\u001b[1;33m(\u001b[0m\u001b[1;34m\"Data must be positive.\"\u001b[0m\u001b[1;33m)\u001b[0m\u001b[1;33m\u001b[0m\u001b[0m\n\u001b[0m\u001b[0;32m   1032\u001b[0m \u001b[1;33m\u001b[0m\u001b[0m\n\u001b[0;32m   1033\u001b[0m     \u001b[1;32mif\u001b[0m \u001b[0mlmbda\u001b[0m \u001b[1;32mis\u001b[0m \u001b[1;32mnot\u001b[0m \u001b[1;32mNone\u001b[0m\u001b[1;33m:\u001b[0m  \u001b[1;31m# single transformation\u001b[0m\u001b[1;33m\u001b[0m\u001b[0m\n",
      "\u001b[1;31mValueError\u001b[0m: Data must be positive."
     ]
    }
   ],
   "source": [
    "poly_reg_test(X, Y, test_data_X, test_data_Y, feature_list=['ProductCategory','MasterSKU','dealer_volume_group', 'month'], d=1, boxcox_transform=True)"
   ]
  },
  {
   "cell_type": "code",
   "execution_count": 97,
   "metadata": {},
   "outputs": [
    {
     "name": "stdout",
     "output_type": "stream",
     "text": [
      "Method: Polynomial OLS degree: 3 \n",
      "RMSE: 943602133.1578591\n",
      "        Adjusted R2: 0.4437232730184671\n",
      "MAPE :216.6904503000358%\n"
     ]
    },
    {
     "data": {
      "image/png": "[encoded data removed]",
      "text/plain": [
       "<matplotlib.figure.Figure at 0x1f81a584a58>"
      ]
     },
     "metadata": {},
     "output_type": "display_data"
    }
   ],
   "source": [
    "poly_reg_test(X, Y, test_data_X, test_data_Y, feature_list=['ProductCategory','MasterSKU','dealer_volume_group', 'month'], d=3, boxcox_transform=False)"
   ]
  },
  {
   "cell_type": "code",
   "execution_count": 96,
   "metadata": {},
   "outputs": [
    {
     "name": "stdout",
     "output_type": "stream",
     "text": [
      "Method: Polynomial OLS degree: 4 \n",
      "RMSE: 871656820.0236738\n",
      "        Adjusted R2: 0.48624746659529633\n",
      "MAPE :234631585.33617342%\n"
     ]
    },
    {
     "data": {
      "image/png": "[encoded data removed]",
      "text/plain": [
       "<matplotlib.figure.Figure at 0x1f81a56c390>"
      ]
     },
     "metadata": {},
     "output_type": "display_data"
    }
   ],
   "source": [
    "poly_reg_test(X, Y, test_data_X, test_data_Y, feature_list=['ProductCategory','MasterSKU','dealer_volume_group', 'month'], d=4, boxcox_transform=False)"
   ]
  },
  {
   "cell_type": "code",
   "execution_count": 110,
   "metadata": {},
   "outputs": [
    {
     "ename": "ValueError",
     "evalue": "The truth value of an array with more than one element is ambiguous. Use a.any() or a.all()",
     "output_type": "error",
     "traceback": [
      "\u001b[1;31m---------------------------------------------------------------------------\u001b[0m",
      "\u001b[1;31mValueError\u001b[0m                                Traceback (most recent call last)",
      "\u001b[1;32m<ipython-input-110-544c227c14f6>\u001b[0m in \u001b[0;36m<module>\u001b[1;34m()\u001b[0m\n\u001b[1;32m----> 1\u001b[1;33m \u001b[0mknn_test\u001b[0m\u001b[1;33m(\u001b[0m\u001b[0mX\u001b[0m\u001b[1;33m,\u001b[0m \u001b[0mY\u001b[0m\u001b[1;33m,\u001b[0m \u001b[0mtest_data_X\u001b[0m\u001b[1;33m,\u001b[0m \u001b[0mtest_data_Y\u001b[0m\u001b[1;33m,\u001b[0m \u001b[0mk\u001b[0m\u001b[1;33m=\u001b[0m\u001b[1;36m8\u001b[0m\u001b[1;33m,\u001b[0m \u001b[0mfeature_list\u001b[0m\u001b[1;33m=\u001b[0m\u001b[1;33m[\u001b[0m\u001b[1;34m'ProductCategory'\u001b[0m\u001b[1;33m,\u001b[0m\u001b[1;34m'dealer_volume_group'\u001b[0m\u001b[1;33m,\u001b[0m \u001b[1;34m'month'\u001b[0m\u001b[1;33m]\u001b[0m\u001b[1;33m,\u001b[0m \u001b[0mboxcox_transform\u001b[0m\u001b[1;33m=\u001b[0m\u001b[1;32mFalse\u001b[0m\u001b[1;33m)\u001b[0m\u001b[1;33m\u001b[0m\u001b[0m\n\u001b[0m",
      "\u001b[1;32m<ipython-input-108-48736c89e524>\u001b[0m in \u001b[0;36mknn_test\u001b[1;34m(X, Y, test_data_X, test_data_Y, k, feature_list, boxcox_transform)\u001b[0m\n\u001b[0;32m      1\u001b[0m \u001b[1;32mdef\u001b[0m \u001b[0mknn_test\u001b[0m\u001b[1;33m(\u001b[0m\u001b[0mX\u001b[0m\u001b[1;33m,\u001b[0m \u001b[0mY\u001b[0m\u001b[1;33m,\u001b[0m \u001b[0mtest_data_X\u001b[0m\u001b[1;33m,\u001b[0m \u001b[0mtest_data_Y\u001b[0m\u001b[1;33m,\u001b[0m \u001b[0mk\u001b[0m\u001b[1;33m=\u001b[0m\u001b[1;36m21\u001b[0m\u001b[1;33m,\u001b[0m \u001b[0mfeature_list\u001b[0m\u001b[1;33m=\u001b[0m\u001b[1;32mNone\u001b[0m\u001b[1;33m,\u001b[0m \u001b[0mboxcox_transform\u001b[0m\u001b[1;33m=\u001b[0m\u001b[1;32mFalse\u001b[0m\u001b[1;33m)\u001b[0m\u001b[1;33m:\u001b[0m\u001b[1;33m\u001b[0m\u001b[0m\n\u001b[0;32m      2\u001b[0m     \u001b[0msc\u001b[0m \u001b[1;33m=\u001b[0m \u001b[0mStandardScaler\u001b[0m\u001b[1;33m(\u001b[0m\u001b[0mX\u001b[0m\u001b[1;33m)\u001b[0m\u001b[1;33m\u001b[0m\u001b[0m\n\u001b[1;32m----> 3\u001b[1;33m     \u001b[0mX\u001b[0m \u001b[1;33m=\u001b[0m \u001b[0msc\u001b[0m\u001b[1;33m.\u001b[0m\u001b[0mfit_transform\u001b[0m\u001b[1;33m(\u001b[0m\u001b[0mX\u001b[0m\u001b[1;33m)\u001b[0m\u001b[1;33m\u001b[0m\u001b[0m\n\u001b[0m\u001b[0;32m      4\u001b[0m     \u001b[0mX_test\u001b[0m \u001b[1;33m=\u001b[0m \u001b[0msc\u001b[0m\u001b[1;33m.\u001b[0m\u001b[0mtransform\u001b[0m\u001b[1;33m(\u001b[0m\u001b[0mtest_data_X\u001b[0m\u001b[1;33m)\u001b[0m\u001b[1;33m\u001b[0m\u001b[0m\n\u001b[0;32m      5\u001b[0m \u001b[1;33m\u001b[0m\u001b[0m\n",
      "\u001b[1;32m~\\AppData\\Local\\Continuum\\anaconda3\\lib\\site-packages\\sklearn\\base.py\u001b[0m in \u001b[0;36mfit_transform\u001b[1;34m(self, X, y, **fit_params)\u001b[0m\n\u001b[0;32m    515\u001b[0m         \u001b[1;32mif\u001b[0m \u001b[0my\u001b[0m \u001b[1;32mis\u001b[0m \u001b[1;32mNone\u001b[0m\u001b[1;33m:\u001b[0m\u001b[1;33m\u001b[0m\u001b[0m\n\u001b[0;32m    516\u001b[0m             \u001b[1;31m# fit method of arity 1 (unsupervised transformation)\u001b[0m\u001b[1;33m\u001b[0m\u001b[1;33m\u001b[0m\u001b[0m\n\u001b[1;32m--> 517\u001b[1;33m             \u001b[1;32mreturn\u001b[0m \u001b[0mself\u001b[0m\u001b[1;33m.\u001b[0m\u001b[0mfit\u001b[0m\u001b[1;33m(\u001b[0m\u001b[0mX\u001b[0m\u001b[1;33m,\u001b[0m \u001b[1;33m**\u001b[0m\u001b[0mfit_params\u001b[0m\u001b[1;33m)\u001b[0m\u001b[1;33m.\u001b[0m\u001b[0mtransform\u001b[0m\u001b[1;33m(\u001b[0m\u001b[0mX\u001b[0m\u001b[1;33m)\u001b[0m\u001b[1;33m\u001b[0m\u001b[0m\n\u001b[0m\u001b[0;32m    518\u001b[0m         \u001b[1;32melse\u001b[0m\u001b[1;33m:\u001b[0m\u001b[1;33m\u001b[0m\u001b[0m\n\u001b[0;32m    519\u001b[0m             \u001b[1;31m# fit method of arity 2 (supervised transformation)\u001b[0m\u001b[1;33m\u001b[0m\u001b[1;33m\u001b[0m\u001b[0m\n",
      "\u001b[1;32m~\\AppData\\Local\\Continuum\\anaconda3\\lib\\site-packages\\sklearn\\preprocessing\\data.py\u001b[0m in \u001b[0;36mfit\u001b[1;34m(self, X, y)\u001b[0m\n\u001b[0;32m    588\u001b[0m         \u001b[1;31m# Reset internal state before fitting\u001b[0m\u001b[1;33m\u001b[0m\u001b[1;33m\u001b[0m\u001b[0m\n\u001b[0;32m    589\u001b[0m         \u001b[0mself\u001b[0m\u001b[1;33m.\u001b[0m\u001b[0m_reset\u001b[0m\u001b[1;33m(\u001b[0m\u001b[1;33m)\u001b[0m\u001b[1;33m\u001b[0m\u001b[0m\n\u001b[1;32m--> 590\u001b[1;33m         \u001b[1;32mreturn\u001b[0m \u001b[0mself\u001b[0m\u001b[1;33m.\u001b[0m\u001b[0mpartial_fit\u001b[0m\u001b[1;33m(\u001b[0m\u001b[0mX\u001b[0m\u001b[1;33m,\u001b[0m \u001b[0my\u001b[0m\u001b[1;33m)\u001b[0m\u001b[1;33m\u001b[0m\u001b[0m\n\u001b[0m\u001b[0;32m    591\u001b[0m \u001b[1;33m\u001b[0m\u001b[0m\n\u001b[0;32m    592\u001b[0m     \u001b[1;32mdef\u001b[0m \u001b[0mpartial_fit\u001b[0m\u001b[1;33m(\u001b[0m\u001b[0mself\u001b[0m\u001b[1;33m,\u001b[0m \u001b[0mX\u001b[0m\u001b[1;33m,\u001b[0m \u001b[0my\u001b[0m\u001b[1;33m=\u001b[0m\u001b[1;32mNone\u001b[0m\u001b[1;33m)\u001b[0m\u001b[1;33m:\u001b[0m\u001b[1;33m\u001b[0m\u001b[0m\n",
      "\u001b[1;32m~\\AppData\\Local\\Continuum\\anaconda3\\lib\\site-packages\\sklearn\\preprocessing\\data.py\u001b[0m in \u001b[0;36mpartial_fit\u001b[1;34m(self, X, y)\u001b[0m\n\u001b[0;32m    610\u001b[0m         \"\"\"\n\u001b[0;32m    611\u001b[0m         X = check_array(X, accept_sparse=('csr', 'csc'), copy=self.copy,\n\u001b[1;32m--> 612\u001b[1;33m                         warn_on_dtype=True, estimator=self, dtype=FLOAT_DTYPES)\n\u001b[0m\u001b[0;32m    613\u001b[0m \u001b[1;33m\u001b[0m\u001b[0m\n\u001b[0;32m    614\u001b[0m         \u001b[1;31m# Even in the case of `with_mean=False`, we update the mean anyway\u001b[0m\u001b[1;33m\u001b[0m\u001b[1;33m\u001b[0m\u001b[0m\n",
      "\u001b[1;32m~\\AppData\\Local\\Continuum\\anaconda3\\lib\\site-packages\\sklearn\\utils\\validation.py\u001b[0m in \u001b[0;36mcheck_array\u001b[1;34m(array, accept_sparse, dtype, order, copy, force_all_finite, ensure_2d, allow_nd, ensure_min_samples, ensure_min_features, warn_on_dtype, estimator)\u001b[0m\n\u001b[0;32m    431\u001b[0m                                       force_all_finite)\n\u001b[0;32m    432\u001b[0m     \u001b[1;32melse\u001b[0m\u001b[1;33m:\u001b[0m\u001b[1;33m\u001b[0m\u001b[0m\n\u001b[1;32m--> 433\u001b[1;33m         \u001b[0marray\u001b[0m \u001b[1;33m=\u001b[0m \u001b[0mnp\u001b[0m\u001b[1;33m.\u001b[0m\u001b[0marray\u001b[0m\u001b[1;33m(\u001b[0m\u001b[0marray\u001b[0m\u001b[1;33m,\u001b[0m \u001b[0mdtype\u001b[0m\u001b[1;33m=\u001b[0m\u001b[0mdtype\u001b[0m\u001b[1;33m,\u001b[0m \u001b[0morder\u001b[0m\u001b[1;33m=\u001b[0m\u001b[0morder\u001b[0m\u001b[1;33m,\u001b[0m \u001b[0mcopy\u001b[0m\u001b[1;33m=\u001b[0m\u001b[0mcopy\u001b[0m\u001b[1;33m)\u001b[0m\u001b[1;33m\u001b[0m\u001b[0m\n\u001b[0m\u001b[0;32m    434\u001b[0m \u001b[1;33m\u001b[0m\u001b[0m\n\u001b[0;32m    435\u001b[0m         \u001b[1;32mif\u001b[0m \u001b[0mensure_2d\u001b[0m\u001b[1;33m:\u001b[0m\u001b[1;33m\u001b[0m\u001b[0m\n",
      "\u001b[1;31mValueError\u001b[0m: The truth value of an array with more than one element is ambiguous. Use a.any() or a.all()"
     ]
    }
   ],
   "source": [
    "knn_test(X, Y, test_data_X, test_data_Y, k=8, feature_list=['ProductCategory','dealer_volume_group', 'month'], boxcox_transform=False)"
   ]
  },
  {
   "cell_type": "code",
   "execution_count": 91,
   "metadata": {},
   "outputs": [
    {
     "ename": "ValueError",
     "evalue": "Data must be positive.",
     "output_type": "error",
     "traceback": [
      "\u001b[1;31m---------------------------------------------------------------------------\u001b[0m",
      "\u001b[1;31mValueError\u001b[0m                                Traceback (most recent call last)",
      "\u001b[1;32m<ipython-input-91-6cc5e1e3e49b>\u001b[0m in \u001b[0;36m<module>\u001b[1;34m()\u001b[0m\n\u001b[1;32m----> 1\u001b[1;33m \u001b[0mrandom_forest_test\u001b[0m\u001b[1;33m(\u001b[0m\u001b[0mX\u001b[0m\u001b[1;33m,\u001b[0m \u001b[0mY\u001b[0m\u001b[1;33m,\u001b[0m \u001b[0mtest_data_X\u001b[0m\u001b[1;33m,\u001b[0m \u001b[0mtest_data_Y\u001b[0m\u001b[1;33m,\u001b[0m \u001b[0mfeature_list\u001b[0m\u001b[1;33m=\u001b[0m\u001b[1;33m[\u001b[0m\u001b[1;34m'ProductCategory'\u001b[0m\u001b[1;33m,\u001b[0m\u001b[1;34m'dealer_volume_group'\u001b[0m\u001b[1;33m,\u001b[0m \u001b[1;34m'month'\u001b[0m\u001b[1;33m]\u001b[0m\u001b[1;33m,\u001b[0m \u001b[0mboxcox_transform\u001b[0m\u001b[1;33m=\u001b[0m\u001b[1;32mTrue\u001b[0m\u001b[1;33m)\u001b[0m\u001b[1;33m\u001b[0m\u001b[0m\n\u001b[0m",
      "\u001b[1;32m<ipython-input-86-d7f57b58fd6e>\u001b[0m in \u001b[0;36mrandom_forest_test\u001b[1;34m(X, Y, test_data_X, test_data_Y, max_depth, feature_list, boxcox_transform)\u001b[0m\n\u001b[0;32m     34\u001b[0m     \u001b[1;32mif\u001b[0m \u001b[0mboxcox_transform\u001b[0m\u001b[1;33m:\u001b[0m\u001b[1;33m\u001b[0m\u001b[0m\n\u001b[0;32m     35\u001b[0m         \u001b[0mY\u001b[0m\u001b[1;33m,\u001b[0m \u001b[0mbest_lambda\u001b[0m \u001b[1;33m=\u001b[0m \u001b[0mboxcox\u001b[0m\u001b[1;33m(\u001b[0m\u001b[0mY\u001b[0m\u001b[1;33m)\u001b[0m\u001b[1;33m\u001b[0m\u001b[0m\n\u001b[1;32m---> 36\u001b[1;33m         \u001b[0mY_test\u001b[0m \u001b[1;33m=\u001b[0m \u001b[0mboxcox\u001b[0m\u001b[1;33m(\u001b[0m\u001b[0mtest_data_Y\u001b[0m\u001b[1;33m,\u001b[0m\u001b[0mlmbda\u001b[0m\u001b[1;33m=\u001b[0m\u001b[0mbest_lambda\u001b[0m\u001b[1;33m)\u001b[0m\u001b[1;33m\u001b[0m\u001b[0m\n\u001b[0m\u001b[0;32m     37\u001b[0m     \u001b[1;32melse\u001b[0m\u001b[1;33m:\u001b[0m\u001b[1;33m\u001b[0m\u001b[0m\n\u001b[0;32m     38\u001b[0m         \u001b[0mY_test\u001b[0m \u001b[1;33m=\u001b[0m \u001b[0mtest_data_Y\u001b[0m\u001b[1;33m.\u001b[0m\u001b[0mreshape\u001b[0m\u001b[1;33m\u001b[0m\u001b[0m\n",
      "\u001b[1;32m~\\AppData\\Local\\Continuum\\anaconda3\\lib\\site-packages\\scipy\\stats\\morestats.py\u001b[0m in \u001b[0;36mboxcox\u001b[1;34m(x, lmbda, alpha)\u001b[0m\n\u001b[0;32m   1029\u001b[0m \u001b[1;33m\u001b[0m\u001b[0m\n\u001b[0;32m   1030\u001b[0m     \u001b[1;32mif\u001b[0m \u001b[0many\u001b[0m\u001b[1;33m(\u001b[0m\u001b[0mx\u001b[0m \u001b[1;33m<=\u001b[0m \u001b[1;36m0\u001b[0m\u001b[1;33m)\u001b[0m\u001b[1;33m:\u001b[0m\u001b[1;33m\u001b[0m\u001b[0m\n\u001b[1;32m-> 1031\u001b[1;33m         \u001b[1;32mraise\u001b[0m \u001b[0mValueError\u001b[0m\u001b[1;33m(\u001b[0m\u001b[1;34m\"Data must be positive.\"\u001b[0m\u001b[1;33m)\u001b[0m\u001b[1;33m\u001b[0m\u001b[0m\n\u001b[0m\u001b[0;32m   1032\u001b[0m \u001b[1;33m\u001b[0m\u001b[0m\n\u001b[0;32m   1033\u001b[0m     \u001b[1;32mif\u001b[0m \u001b[0mlmbda\u001b[0m \u001b[1;32mis\u001b[0m \u001b[1;32mnot\u001b[0m \u001b[1;32mNone\u001b[0m\u001b[1;33m:\u001b[0m  \u001b[1;31m# single transformation\u001b[0m\u001b[1;33m\u001b[0m\u001b[0m\n",
      "\u001b[1;31mValueError\u001b[0m: Data must be positive."
     ]
    }
   ],
   "source": [
    "random_forest_test(X, Y, test_data_X, test_data_Y, feature_list=['ProductCategory','dealer_volume_group', 'month'], boxcox_transform=True)"
   ]
  }
 ],
 "metadata": {
  "kernelspec": {
   "display_name": "Python 3",
   "language": "python",
   "name": "python3"
  },
  "language_info": {
   "codemirror_mode": {
    "name": "ipython",
    "version": 3
   },
   "file_extension": ".py",
   "mimetype": "text/x-python",
   "name": "python",
   "nbconvert_exporter": "python",
   "pygments_lexer": "ipython3",
   "version": "3.6.4"
  }
 },
 "nbformat": 4,
 "nbformat_minor": 2
}
