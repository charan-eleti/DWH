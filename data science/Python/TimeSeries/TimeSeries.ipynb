{
 "cells": [
  {
   "cell_type": "code",
   "execution_count": 1,
   "metadata": {},
   "outputs": [],
   "source": [
    "import pandas as pd\n",
    "import numpy as np\n",
    "import pyodbc  \n",
    "from datetime import datetime \n",
    "import matplotlib.pylab as plt\n",
    "from sklearn.cluster import KMeans\n",
    "import seaborn as sns\n",
    "import collections\n",
    "import warnings\n",
    "warnings.filterwarnings('ignore')\n",
    "from dateutil.relativedelta import relativedelta\n",
    "from statsmodels.graphics.tsaplots import plot_acf, plot_pacf\n",
    "%matplotlib inline\n",
    "from matplotlib.pylab import rcParams\n",
    "rcParams['figure.figsize'] = 15, 6\n",
    "from statsmodels.tsa.stattools import adfuller # stationary or not \n",
    "from statsmodels.stats.diagnostic import acorr_ljungbox # white noise test\n",
    "from statsmodels.tsa.stattools import arma_order_select_ic # AIC BIC\n",
    "import statsmodels.api as sm # predict\n",
    "from scipy import  stats\n",
    "from statsmodels.graphics.api import qqplot\n",
    "from sklearn.metrics import mean_squared_error\n",
    "from math import sqrt\n",
    "import itertools\n",
    "from sklearn.metrics import r2_score\n",
    "from statsmodels.tsa.arima_model import ARIMA\n",
    "from fbprophet import Prophet\n",
    "import warnings\n",
    "warnings.filterwarnings('ignore')"
   ]
  },
  {
   "cell_type": "code",
   "execution_count": 2,
   "metadata": {},
   "outputs": [],
   "source": [
    "# read data from data warehouse\n",
    "conn = pyodbc.connect(\"Driver={ODBC Driver 13 for SQL Server};Server=yetidb01.database.windows.net;database=YETISQLDW01;uid=htian;PWD=HeLeNtIAn52!\")\n",
    "cursor = conn.cursor()"
   ]
  },
  {
   "cell_type": "markdown",
   "metadata": {},
   "source": [
    "# Run"
   ]
  },
  {
   "cell_type": "markdown",
   "metadata": {},
   "source": [
    "## Core function (after running all other functions):"
   ]
  },
  {
   "cell_type": "code",
   "execution_count": 50,
   "metadata": {},
   "outputs": [],
   "source": [
    "def time_series(DF, begin, cut, end, MasterSKU,  model, corr_result):\n",
    "    data = data_clean(DF, begin, end, to_csv=True)\n",
    "\n",
    "    print (model + ' model result with overall segment method: ')\n",
    "    print (modeling(data,  MasterSKU, 'Overall', model ,cut ))\n",
    "\n",
    "    print (model + ' model result with ProductCategory segment method: ')\n",
    "    print (modeling(data,  MasterSKU, 'ProductCategory', model ,cut ))\n",
    "\n",
    "    print (model + ' model result without segment: ')\n",
    "    print (modeling(data,  MasterSKU, 'No_segment', model ,cut ))"
   ]
  },
  {
   "cell_type": "code",
   "execution_count": 51,
   "metadata": {},
   "outputs": [],
   "source": [
    "begin = pd.to_datetime('2014-01-01')"
   ]
  },
  {
   "cell_type": "code",
   "execution_count": 52,
   "metadata": {},
   "outputs": [],
   "source": [
    "end = pd.to_datetime('2018-05-31')"
   ]
  },
  {
   "cell_type": "code",
   "execution_count": 53,
   "metadata": {},
   "outputs": [],
   "source": [
    "cut = pd.to_datetime('2017-05-31')"
   ]
  },
  {
   "cell_type": "code",
   "execution_count": 54,
   "metadata": {},
   "outputs": [],
   "source": [
    "# for example: "
   ]
  },
  {
   "cell_type": "code",
   "execution_count": 62,
   "metadata": {},
   "outputs": [
    {
     "name": "stdout",
     "output_type": "stream",
     "text": [
      "The number of stable STD is: 1587\n",
      "ARIMA model result with overall segment method: \n",
      "The ARIMA order value for class 0 is: ARIMA(8, 2, 0)\n",
      "The ARIMA order value for class 1 is: ARIMA(0, 1, 1)\n",
      "The ARIMA order value for class 2 is: ARIMA(8, 1, 2)\n",
      "ARIMA Model result:  43.92 %\n",
      "None\n",
      "ARIMA model result with ProductCategory segment method: \n",
      "The ARIMA order value for class 0 is: ARIMA(9, 1, 3)\n",
      "The ARIMA order value for class 1 is: ARIMA(0, 1, 1)\n",
      "The ARIMA order value for class 2 is: ARIMA(8, 1, 2)\n",
      "ARIMA Model result:  42.69 %\n",
      "None\n",
      "ARIMA model result without segment: \n",
      "The ARIMA order value for class 0 is: ARIMA(1, 1, 6)\n",
      "ARIMA Model result:  47.06 %\n",
      "None\n"
     ]
    }
   ],
   "source": [
    "time_series(DF, begin, cut, end, 'Tundra 75',  'ARIMA', False)"
   ]
  },
  {
   "cell_type": "code",
   "execution_count": 56,
   "metadata": {},
   "outputs": [],
   "source": [
    "# you can out put the detail information of time series model"
   ]
  },
  {
   "cell_type": "code",
   "execution_count": null,
   "metadata": {},
   "outputs": [],
   "source": [
    "# for example the best ARIMA model for Tundra 75, class 0, without segment is ARIMA(1, 1, 6)"
   ]
  },
  {
   "cell_type": "code",
   "execution_count": 64,
   "metadata": {},
   "outputs": [
    {
     "name": "stdout",
     "output_type": "stream",
     "text": [
      "The number of stable STD is: 1587\n",
      "QQ plot of residuals (should be like a straight line)\n",
      "######################\n",
      "result of residual's white noice testing (should be very large)\n",
      "stat                  | p-value\n",
      "[0.00075881] |\n",
      "[0.97802391] |\n",
      "######################\n",
      "######################\n",
      "mean squared error:  29.653755275357213\n",
      "######################\n",
      "Date\n",
      "2017-05-29/2017-06-04      61.054918\n",
      "2017-06-05/2017-06-11      28.419899\n",
      "2017-06-12/2017-06-18      22.493218\n",
      "2017-06-19/2017-06-25      27.981514\n",
      "2017-06-26/2017-07-02      23.849612\n",
      "2017-07-03/2017-07-09       7.164959\n",
      "2017-07-10/2017-07-16      24.641508\n",
      "2017-07-17/2017-07-23      13.738534\n",
      "2017-07-24/2017-07-30      48.570533\n",
      "2017-07-31/2017-08-06      12.485286\n",
      "2017-08-07/2017-08-13      11.740544\n",
      "2017-08-14/2017-08-20      25.768642\n",
      "2017-08-21/2017-08-27      10.821096\n",
      "2017-08-28/2017-09-03      15.562002\n",
      "2017-09-04/2017-09-10      32.421326\n",
      "2017-09-11/2017-09-17       0.992506\n",
      "2017-09-18/2017-09-24      11.222770\n",
      "2017-09-25/2017-10-01      41.684562\n",
      "2017-10-02/2017-10-08      42.468040\n",
      "2017-10-09/2017-10-15      78.994806\n",
      "2017-10-16/2017-10-22      48.866981\n",
      "2017-10-23/2017-10-29       7.352458\n",
      "2017-10-30/2017-11-05       2.224892\n",
      "2017-11-06/2017-11-12       8.170938\n",
      "2017-11-13/2017-11-19      37.362792\n",
      "2017-11-20/2017-11-26      48.842140\n",
      "2017-11-27/2017-12-03      17.886934\n",
      "2017-12-04/2017-12-10       6.144047\n",
      "2017-12-11/2017-12-17      13.730922\n",
      "2017-12-18/2017-12-24     223.120845\n",
      "2017-12-25/2017-12-31    1859.759714\n",
      "2018-01-01/2018-01-07     145.983883\n",
      "2018-01-08/2018-01-14      42.869776\n",
      "2018-01-15/2018-01-21     231.909658\n",
      "2018-01-22/2018-01-28     260.386518\n",
      "2018-01-29/2018-02-04      25.189751\n",
      "2018-02-05/2018-02-11      67.511127\n",
      "2018-02-12/2018-02-18      30.035194\n",
      "2018-02-19/2018-02-25       3.881886\n",
      "2018-02-26/2018-03-04       3.219419\n",
      "2018-03-05/2018-03-11      58.920818\n",
      "2018-03-12/2018-03-18      41.699325\n",
      "2018-03-19/2018-03-25       5.436886\n",
      "2018-03-26/2018-04-01      24.938940\n",
      "2018-04-02/2018-04-08      93.737760\n",
      "2018-04-09/2018-04-15       8.022859\n",
      "2018-04-16/2018-04-22      40.153806\n",
      "2018-04-23/2018-04-29      59.044235\n",
      "2018-04-30/2018-05-06      16.417927\n",
      "2018-05-07/2018-05-13      40.512117\n",
      "2018-05-14/2018-05-20      15.615380\n",
      "2018-05-21/2018-05-27      29.165033\n",
      "2018-05-28/2018-06-03      76.181752\n",
      "Freq: W-SUN, dtype: float64\n",
      "average MAPE:  78.04477332187724 %\n",
      "If MAPE is \"Inf\", it because the test data contains 0\n",
      "######################\n",
      "Date\n",
      "2017-05-29/2017-06-04     46.775535\n",
      "2017-06-05/2017-06-11     33.127266\n",
      "2017-06-12/2017-06-18     25.343503\n",
      "2017-06-19/2017-06-25     32.533148\n",
      "2017-06-26/2017-07-02     27.078694\n",
      "2017-07-03/2017-07-09      7.431180\n",
      "2017-07-10/2017-07-16     28.104151\n",
      "2017-07-17/2017-07-23     14.751880\n",
      "2017-07-24/2017-07-30     64.149381\n",
      "2017-07-31/2017-08-06     13.316593\n",
      "2017-08-07/2017-08-13     12.472727\n",
      "2017-08-14/2017-08-20     29.579798\n",
      "2017-08-21/2017-08-27     10.265667\n",
      "2017-08-28/2017-09-03     16.875050\n",
      "2017-09-04/2017-09-10     27.898753\n",
      "2017-09-11/2017-09-17      0.987605\n",
      "2017-09-18/2017-09-24     11.889961\n",
      "2017-09-25/2017-10-01     52.660136\n",
      "2017-10-02/2017-10-08     35.029804\n",
      "2017-10-09/2017-10-15     56.628156\n",
      "2017-10-16/2017-10-22     39.271566\n",
      "2017-10-23/2017-10-29      7.091749\n",
      "2017-10-30/2017-11-05      2.249921\n",
      "2017-11-06/2017-11-12      7.850220\n",
      "2017-11-13/2017-11-19     45.946180\n",
      "2017-11-20/2017-11-26     39.255522\n",
      "2017-11-27/2017-12-03     19.643768\n",
      "2017-12-04/2017-12-10      5.960926\n",
      "2017-12-11/2017-12-17     12.848793\n",
      "2017-12-18/2017-12-24    105.464360\n",
      "2017-12-25/2017-12-31    180.580259\n",
      "2018-01-01/2018-01-07     84.387678\n",
      "2018-01-08/2018-01-14     35.302685\n",
      "2018-01-15/2018-01-21    107.388040\n",
      "2018-01-22/2018-01-28    113.116483\n",
      "2018-01-29/2018-02-04     22.372022\n",
      "2018-02-05/2018-02-11     50.473509\n",
      "2018-02-12/2018-02-18     26.113564\n",
      "2018-02-19/2018-02-25      3.958722\n",
      "2018-02-26/2018-03-04      3.168417\n",
      "2018-03-05/2018-03-11     45.512615\n",
      "2018-03-12/2018-03-18     34.505123\n",
      "2018-03-19/2018-03-25      5.588814\n",
      "2018-03-26/2018-04-01     28.491705\n",
      "2018-04-02/2018-04-08     63.824113\n",
      "2018-04-09/2018-04-15      8.358140\n",
      "2018-04-16/2018-04-22     50.240553\n",
      "2018-04-23/2018-04-29     45.586218\n",
      "2018-04-30/2018-05-06     17.886199\n",
      "2018-05-07/2018-05-13     50.802753\n",
      "2018-05-14/2018-05-20     16.937834\n",
      "2018-05-21/2018-05-27     34.144102\n",
      "2018-05-28/2018-06-03     55.167839\n",
      "Freq: W-SUN, dtype: float64\n",
      "average Symmetric MAPE:  36.158290184306075 %\n",
      "None\n"
     ]
    },
    {
     "data": {
      "image/png": "[encoded data removed]",
      "text/plain": [
       "<matplotlib.figure.Figure at 0x257dd0cc4e0>"
      ]
     },
     "metadata": {},
     "output_type": "display_data"
    },
    {
     "data": {
      "image/png": "[encoded data removed]",
      "text/plain": [
       "<matplotlib.figure.Figure at 0x257dd43b438>"
      ]
     },
     "metadata": {},
     "output_type": "display_data"
    }
   ],
   "source": [
    "Plot('Tundra 75', 'ARIMA',(1, 1, 6), 'No_segment', DF,0, begin, end, cut)"
   ]
  },
  {
   "cell_type": "code",
   "execution_count": null,
   "metadata": {},
   "outputs": [],
   "source": [
    "# you can do predict after getting the best Model result"
   ]
  },
  {
   "cell_type": "code",
   "execution_count": null,
   "metadata": {},
   "outputs": [],
   "source": [
    "# for example, we already have the Tundra 75, Product category segment ARIMA result:\n",
    "# ARIMA(9, 1, 3); ARIMA(0, 1, 1); ARIMA(8, 1, 2)\n",
    "# Just combine all order value to the same list and take it to the prediction function\n",
    "# do not forget to enter number of predictions you want "
   ]
  },
  {
   "cell_type": "code",
   "execution_count": 68,
   "metadata": {},
   "outputs": [
    {
     "name": "stdout",
     "output_type": "stream",
     "text": [
      "The number of stable STD is: 1587\n"
     ]
    },
    {
     "data": {
      "text/plain": [
       "[148.05929375222985,\n",
       " 148.65695780603613,\n",
       " 147.59882585711838,\n",
       " 147.71019621266282,\n",
       " 147.12504968267146]"
      ]
     },
     "execution_count": 68,
     "metadata": {},
     "output_type": "execute_result"
    }
   ],
   "source": [
    "Prediction('Tundra 75', 'ARIMA', [(9, 1, 3),(0, 1, 1),(8, 1, 2)], 'ProductCategory', DF, begin, end, cut, 5)"
   ]
  },
  {
   "cell_type": "markdown",
   "metadata": {},
   "source": [
    "## All other functions are below"
   ]
  },
  {
   "cell_type": "markdown",
   "metadata": {},
   "source": [
    "# Data Pre-processing "
   ]
  },
  {
   "cell_type": "markdown",
   "metadata": {},
   "source": [
    "#### 1) read table; make sure all orderQty>0"
   ]
  },
  {
   "cell_type": "code",
   "execution_count": 3,
   "metadata": {},
   "outputs": [],
   "source": [
    "DF = pd.read_sql(\"SELECT S.CustomerID, C.Customer, S.OrderDate, S.Requested_Date, S.SalesOffice, S.OrderQty, P.ProductCategory, P.MasterSKU,S.sourcesystem FROM EDW_DS.ORDERFCT S  inner join [EDW_DS].[PRODUCT_DIM] P ON P.ProductID = S.ProductID  left join EDW_DS.CUSTOMER_DIM C on S.CustomerID = C.CustomerID WHERE P.ISCORE = 'TRUE' and S.SalesOffice in ('STD','HYB')  and S.RejectionReason is null and S.Ordertype Not in ('ZARF','ZARM','ZEG2','ZERF','ZERM','ZRE') and S.SoldtoParty not in ('91860','0000107894','0000114883','0000108654') and S.OrderQty>0\" , conn)"
   ]
  },
  {
   "cell_type": "code",
   "execution_count": 4,
   "metadata": {},
   "outputs": [],
   "source": [
    "def Extend(data, MSKU1 ,MSKU2 , begin, end):\n",
    "    Copy = data[(data.MasterSKU == MSKU1) & (data.Date >= begin) & (data.Date < end)]\n",
    "    Copy['MasterSKU'] = MSKU2\n",
    "    data1 = pd.concat([data, Copy])\n",
    "    return data1"
   ]
  },
  {
   "cell_type": "code",
   "execution_count": 5,
   "metadata": {},
   "outputs": [],
   "source": [
    "def Combine(data, MSKU_set, new_name):\n",
    "    data.loc[data['MasterSKU'].isin(MSKU_set), 'MasterSKU'] = new_name\n",
    "    return data"
   ]
  },
  {
   "cell_type": "code",
   "execution_count": 6,
   "metadata": {},
   "outputs": [],
   "source": [
    "def stable_STD(data, begin, end):\n",
    "    data = data.sort_values(by=[\"Date\"])\n",
    "    data = data[(data.Date>=begin) & (data.Date<=end)]   # select the data we want to analysis\n",
    "    \n",
    "    years = int((end-begin).days/365)   # how many years in this interval\n",
    "    remainder = (end-begin).days%365   # if the last year is not complete, how long?\n",
    "    new = begin + relativedelta(years=1)  \n",
    "    STD1 = data[(data.Date>=begin)&(data.Date<new)].sort_values(by=[\"Date\"]).drop_duplicates(subset=['CustomerID'])[['CustomerID']]\n",
    "                                    # pick up all STD shown in 2014\n",
    "    if remainder < 0.3:    \n",
    "        years-=1\n",
    "    for i in range(years):  # running a loop to select 2014 STD who also shown in each remaining year\n",
    "        begin = new\n",
    "        new = begin + relativedelta(years=1)\n",
    "        Data = data[(data.Date>=begin)&(data.Date<new)]\n",
    "        STD1 = pd.merge(STD1,Data,on='CustomerID').drop_duplicates(subset=['CustomerID'])[['CustomerID']]\n",
    "    data = pd.merge(data, STD1, on = 'CustomerID')[['CustomerID', 'Date', 'SalesOffice', 'OrderQty', 'ProductCategory', 'MasterSKU']]\n",
    "    return STD1, data # return the stable STD and their order history"
   ]
  },
  {
   "cell_type": "code",
   "execution_count": 7,
   "metadata": {},
   "outputs": [],
   "source": [
    "def data_clean(DF, begin, end, to_csv=True):\n",
    "\n",
    "    \n",
    "    select= [ 'Tank 85',\n",
    " 'Tundra 35',\n",
    " 'Tundra 45',\n",
    " 'R10 Lowball',\n",
    " 'Tundra 105',\n",
    " 'Tank 45',\n",
    " 'Tundra 75',\n",
    " 'Tundra 350',\n",
    " 'Tundra 210',\n",
    " 'Tundra 65',\n",
    " 'Roadie 20',\n",
    " 'R26 Bottle',\n",
    " 'Flip 18',\n",
    " 'Hopper 30',\n",
    " 'R30 Tumbler',\n",
    " 'Tundra 160',\n",
    " 'Hopper2.0 30',\n",
    " 'R18 Bottle',\n",
    " 'Tundra 110',\n",
    " 'R36 Bottle',\n",
    " 'R20 Tumbler',\n",
    " 'Flip 8',\n",
    " 'R Colsters',\n",
    " 'Flip 12',\n",
    " 'Tundra 125',\n",
    " 'Tundra 250']\n",
    "    \n",
    "    # only choose MasterSKU in 'select'\n",
    "    DF=DF[DF['MasterSKU'].isin(select)]\n",
    "    DF['OrderDate'] = pd.to_datetime(DF['OrderDate']) \n",
    "    DF=DF.fillna(pd.to_datetime('2010-01-01')) \n",
    "    DF['Requested_Date'] = pd.to_datetime(DF['Requested_Date'])  \n",
    "    \n",
    "    # 4% Requested_Date earlier than OrderDate\n",
    "    Date = []\n",
    "    for i in range(len(DF)):\n",
    "        if DF.Requested_Date.iloc[i]==0:  # if the data is 0 (was 'nan' before)\n",
    "            Date.append(DF.OrderDate.iloc[i])\n",
    "        elif DF.OrderDate.iloc[i]>DF.Requested_Date.iloc[i]: # orderdate should be earlier than Requested_Date, these are 'strange' data\n",
    "            Date.append(DF.OrderDate.iloc[i])\n",
    "        else:\n",
    "            Date.append(DF.Requested_Date.iloc[i])\n",
    "    DF['Date']=Date\n",
    "    \n",
    "    DF1 = Extend(DF, 'Flip 12' , 'Flip 8' , '2016-08-01', '2017-07-01')\n",
    "    \n",
    "    DF2 = Extend(DF1, 'Flip 12' , 'Flip 18' , '2016-08-01', '2017-07-01') \n",
    "    \n",
    "    DF3 = Extend(DF2, 'R18 Bottle' , 'R26 Bottle' , '2016-03-01', '2017-05-01')\n",
    "    \n",
    "    Large_Tundra = ['Tundra 160',\n",
    "    'Tundra 125',\n",
    "    'Tundra 110',\n",
    "    'Tundra 250',\n",
    "    'Tundra 105',\n",
    "    'Tundra 350',\n",
    "    'Tundra 210']\n",
    "    \n",
    "    DF4 = Combine(DF3, Large_Tundra, 'Large_Tundra')\n",
    "    \n",
    "    Hopper_30 = ['Hopper2.0 30', 'Hopper 30']\n",
    "    \n",
    "    DF5 = Combine(DF4, Hopper_30, 'Hopper 30')\n",
    "    \n",
    "    Tank = ['Tank 45', 'Tank 85']\n",
    "    \n",
    "    DF6 = Combine(DF5, Tank, 'Tank')\n",
    "    \n",
    "    result = stable_STD(DF6, begin, end)\n",
    "    \n",
    "    Stable_STD = result[0] \n",
    "    \n",
    "    print('The number of stable STD is: ' + str(len(Stable_STD)))\n",
    "    \n",
    "    if to_csv:\n",
    "        Stable_STD.to_csv('Stable_STD.csv')\n",
    "    \n",
    "    return result[1]"
   ]
  },
  {
   "cell_type": "markdown",
   "metadata": {},
   "source": [
    "# Segment "
   ]
  },
  {
   "cell_type": "code",
   "execution_count": 8,
   "metadata": {},
   "outputs": [],
   "source": [
    "def remove_duplicates(lst):\n",
    "        return list(collections.OrderedDict(zip(lst, lst)).values())"
   ]
  },
  {
   "cell_type": "code",
   "execution_count": 9,
   "metadata": {},
   "outputs": [],
   "source": [
    "# after k-means clustering, the class name is not ordered by number size.(Class L=2, M=1, S=0)To change it, we use this function.\n",
    "def ChangeLabel(res):\n",
    "    df=res[0]\n",
    "    cla=res[1]\n",
    "    num = []\n",
    "    n=len(cla)-1\n",
    "    for item in cla:\n",
    "        num.append(len(df[df.Class==item]))\n",
    "    for i in range(len(num)):\n",
    "        if i !=0:\n",
    "            num[i]+=num[i-1]\n",
    "    for i in range(len(num)):\n",
    "        if i == 0:\n",
    "            df.Class[:num[i]]=[n]*len(df.Class[:num[i]])\n",
    "            \n",
    "        else:\n",
    "            df.Class[num[i-1]:num[i]] = [n]*len(df.Class[num[i-1]:num[i]])\n",
    "        n-=1\n",
    "    return df"
   ]
  },
  {
   "cell_type": "code",
   "execution_count": 10,
   "metadata": {},
   "outputs": [],
   "source": [
    "def Overall_Segment(DF, cut):\n",
    "    \n",
    "    # calculate age of each STD\n",
    "    \n",
    "    age = DF[['CustomerID','Date']].sort_values(by=[\"Date\"])\n",
    "    age = age.drop_duplicates(subset='CustomerID')\n",
    "    age2=age.copy()\n",
    "    o=[str(x.year)+'-'+str(x.month) for x in age2.Date]\n",
    "    age2.Date=[datetime.strptime(x,'%Y-%m')for x in o] \n",
    "    end = pd.to_datetime([cut]*len(age))           # we only can use the information in training data\n",
    "    age2['end']=end\n",
    "    live = ((age2.end-age2.Date) / np.timedelta64(1, 'M')).astype(int)\n",
    "    age2['age']=live+1\n",
    "    \n",
    "    # use Overall quantity divided by age to get average order quantity\n",
    "    \n",
    "    Qty=DF['OrderQty'].groupby(DF['CustomerID']).sum().to_frame(name='overall_Qty').reset_index()\n",
    "    Qty = Qty.merge(age2[['CustomerID','age']],left_on='CustomerID', right_on='CustomerID',how='inner')\n",
    "    Qty['avg_Qty'] = Qty['overall_Qty']/Qty['age']\n",
    "    Qty = Qty.sort_values(by=[\"avg_Qty\"],ascending=False)\n",
    "\n",
    "    # K means clustering:\n",
    "    # 1) cluster STD into 2 groups\n",
    "    # 2) redo cluster in the large group \n",
    "    \n",
    "    X = np.array(Qty.avg_Qty.iloc[1:].reshape(-1,1))\n",
    "    kmeans = KMeans(n_clusters = 2, random_state=0).fit(X)\n",
    "    kmeans.labels_\n",
    "    Class=[]\n",
    "    Class.append(kmeans.labels_[0])\n",
    "    Class+=list(kmeans.labels_)\n",
    "    Qty[\"Class\"] = Class\n",
    "    ChangeLabel([Qty,remove_duplicates(kmeans.labels_)])\n",
    "    L=len(Qty[Qty.Class==1])\n",
    "    X1 = np.array(Qty.avg_Qty[L:].reshape(-1,1))\n",
    "    kmeans1 = KMeans(n_clusters = 2, random_state=0).fit(X1)\n",
    "    kmeans1.labels_\n",
    "    M=len(kmeans1.labels_[kmeans1.labels_==1])\n",
    "    Qty.Class[L:L+M]=2\n",
    "    ChangeLabel([Qty,[1,2,0]])      # if number of cluster changed, this part must be changed\n",
    "    data1 = pd.merge(DF, Qty[['CustomerID','Class']], on = 'CustomerID', how='left')\n",
    "    return data1\n",
    "       "
   ]
  },
  {
   "cell_type": "code",
   "execution_count": 11,
   "metadata": {},
   "outputs": [],
   "source": [
    "def PC_Segment(DF,PC,cut):\n",
    "    HC=DF[DF['ProductCategory']==PC]\n",
    "    age = HC[['CustomerID','Date']].sort_values(by=[\"Date\"])\n",
    "    age = age.drop_duplicates(subset='CustomerID')\n",
    "    age2=age.copy()\n",
    "    o=[str(x.year)+'-'+str(x.month) for x in age2.Date]\n",
    "    age2.Date=[datetime.strptime(x,'%Y-%m')for x in o] \n",
    "    end = pd.to_datetime([cut]*len(age))\n",
    "    age2['end']=end\n",
    "    live = ((age2.end-age2.Date) / np.timedelta64(1, 'M')).astype(int)\n",
    "    age2['age']=live+1\n",
    "    Qty=HC.groupby(['CustomerID'])['OrderQty'].sum().to_frame(name='overall_Qty').reset_index()\n",
    "    Qty = Qty.merge(age2[['CustomerID','age']],left_on='CustomerID', right_on='CustomerID',how='inner')\n",
    "    Qty['avg_Qty'] = Qty['overall_Qty']/Qty['age']\n",
    "    Qty = Qty.sort_values(by=[\"avg_Qty\"],ascending=False)\n",
    "    X = np.array(Qty.avg_Qty.iloc[1:].reshape(-1,1))\n",
    "    kmeans = KMeans(n_clusters = 2, random_state=0).fit(X)\n",
    "    kmeans.labels_\n",
    "    Class=[]\n",
    "    Class.append(kmeans.labels_[0])\n",
    "    Class+=list(kmeans.labels_)\n",
    "    Qty[\"Class\"] = Class\n",
    "    ChangeLabel([Qty,remove_duplicates(kmeans.labels_)])\n",
    "    L=len(Qty[Qty.Class==1])\n",
    "    X1 = np.array(Qty.avg_Qty[L:].reshape(-1,1))\n",
    "    kmeans1 = KMeans(n_clusters = 2, random_state=0).fit(X1)\n",
    "    kmeans1.labels_\n",
    "    M=len(kmeans1.labels_[kmeans1.labels_==1])\n",
    "    Qty.Class[L:L+M]=2\n",
    "    ChangeLabel([Qty,[1,2,0]])\n",
    "    data1 = pd.merge(DF, Qty[['CustomerID','Class']], on = 'CustomerID', how='left')\n",
    "    return data1"
   ]
  },
  {
   "cell_type": "code",
   "execution_count": 12,
   "metadata": {},
   "outputs": [],
   "source": [
    "def corr_overallQty(dat):\n",
    "    \n",
    "    o=[str(x.year)+'-'+str(x.month) for x in dat.Date]\n",
    "    dat.Date=[datetime.strptime(x,'%Y-%m')for x in o] \n",
    "    \n",
    "    dfO1 = dat.groupby(['Class','Date'])['OrderQty'].mean().to_frame(name = 'OrderQty').reset_index()\n",
    "    print ('Correlation between overall quantity and class size: ')\n",
    "    print(dfO1.corr())\n",
    "    print()\n",
    "    \n",
    "    dfD = dat[dat.ProductCategory=='Drinkware']\n",
    "    dfD1 = dfD.groupby(['Class','Date'])['OrderQty'].mean().to_frame(name = 'DW_Qty').reset_index()\n",
    "    print ('Correlation between Drinkware order quantity and class size: ')\n",
    "    print(dfD1.corr())\n",
    "    print()\n",
    "    \n",
    "    dfH = dat[dat.ProductCategory=='Hard Cooler']\n",
    "    dfH1 = dfH.groupby(['Class','Date'])['OrderQty'].mean().to_frame(name = 'HC_Qty').reset_index()\n",
    "    print ('Correlation between Hard Cooler order quantity and class size: ')\n",
    "    print(dfH1.corr())\n",
    "    print()\n",
    "    \n",
    "    dfS = dat[dat.ProductCategory=='Soft Cooler']\n",
    "    dfS1 = dfS.groupby(['Class','Date'])['OrderQty'].mean().to_frame(name = 'SC_Qty').reset_index()\n",
    "    print ('Correlation between Soft Cooler order quantity and class size: ')\n",
    "    print(dfS1.corr())\n",
    "    "
   ]
  },
  {
   "cell_type": "code",
   "execution_count": 13,
   "metadata": {},
   "outputs": [],
   "source": [
    "# only for drinkware segment result check"
   ]
  },
  {
   "cell_type": "code",
   "execution_count": 13,
   "metadata": {},
   "outputs": [],
   "source": [
    "def corr_drinkware(dat):\n",
    "    \n",
    "    o=[str(x.year)+'-'+str(x.month) for x in dat.Date]\n",
    "    dat.Date=[datetime.strptime(x,'%Y-%m')for x in o] \n",
    "    \n",
    "    dfD = dat[dat.ProductCategory=='Drinkware']\n",
    "    dfD1 = dfD.groupby(['Class','Date'])['OrderQty'].mean().to_frame(name = 'DW_Qty').reset_index()\n",
    "    print ('Correlation between Drinkware order quantity and class size: ')\n",
    "    print(dfD1.corr())\n"
   ]
  },
  {
   "cell_type": "code",
   "execution_count": 14,
   "metadata": {},
   "outputs": [],
   "source": [
    "# only for Hard Cooler segment result check"
   ]
  },
  {
   "cell_type": "code",
   "execution_count": 15,
   "metadata": {},
   "outputs": [],
   "source": [
    "def corr_hardcooler(dat):\n",
    "    \n",
    "    o=[str(x.year)+'-'+str(x.month) for x in dat.Date]\n",
    "    dat.Date=[datetime.strptime(x,'%Y-%m')for x in o] \n",
    "    \n",
    "    dfH = dat[dat.ProductCategory=='Hard Cooler']\n",
    "    dfH1 = dfH.groupby(['Class','Date'])['OrderQty'].mean().to_frame(name = 'HC_Qty').reset_index()\n",
    "    print ('Correlation between Hard Cooler order quantity and class size: ')\n",
    "    print(dfH1.corr())\n"
   ]
  },
  {
   "cell_type": "code",
   "execution_count": 16,
   "metadata": {},
   "outputs": [],
   "source": [
    "# only for Soft Cooler segment result check"
   ]
  },
  {
   "cell_type": "code",
   "execution_count": 17,
   "metadata": {},
   "outputs": [],
   "source": [
    "def corr_softcooler(dat):\n",
    "    \n",
    "    o=[str(x.year)+'-'+str(x.month) for x in dat.Date]\n",
    "    dat.Date=[datetime.strptime(x,'%Y-%m')for x in o] \n",
    "    \n",
    "    dfS = dat[dat.ProductCategory=='Soft Cooler']\n",
    "    dfS1 = dfS.groupby(['Class','Date'])['OrderQty'].mean().to_frame(name = 'SC_Qty').reset_index()\n",
    "    print ('Correlation between Soft Cooler order quantity and class size: ')\n",
    "    print(dfS1.corr())"
   ]
  },
  {
   "cell_type": "code",
   "execution_count": 18,
   "metadata": {},
   "outputs": [],
   "source": [
    "def segment(DF,cut,method, corr_result=True):\n",
    "    if method == 'Overall':\n",
    "        result = Overall_Segment(DF,cut)\n",
    "        if corr_result:\n",
    "            print (corr_overallQty(result))\n",
    "        \n",
    "    elif method == 'ProductCategory':\n",
    "        result = (PC_Segment(DF,'Hard Cooler',cut),PC_Segment(DF,'Soft Cooler',cut),PC_Segment(DF,'Drinkware',cut))\n",
    "        if corr_result:\n",
    "            print (corr_hardcooler(result[0]))\n",
    "            print (corr_softcooler(result[1])) \n",
    "            print (corr_drinkware(result[2]))\n",
    "    else:             # No segment\n",
    "        DF1=DF.copy()\n",
    "        DF1['Class']=0\n",
    "        result = DF1\n",
    "    return result"
   ]
  },
  {
   "cell_type": "markdown",
   "metadata": {},
   "source": [
    "# Time series "
   ]
  },
  {
   "cell_type": "code",
   "execution_count": 21,
   "metadata": {},
   "outputs": [],
   "source": [
    "# transfer datetime to month by change the date to the first day if that month. E.g '2017-03-XX' to '2017-03-01'\n",
    "\n",
    "def day2month(data):\n",
    "    data.copy()\n",
    "    o=[str(x.year)+'-'+str(x.month) for x in data.Date]\n",
    "    data.Date=[datetime.strptime(x,'%Y-%m')for x in o] \n",
    "    return data"
   ]
  },
  {
   "cell_type": "code",
   "execution_count": 22,
   "metadata": {},
   "outputs": [],
   "source": [
    "# select specific MasterSKU\n",
    "\n",
    "def select_Monthly(data, cut, MasterSKU, Class):\n",
    "    data1 = data[(data.MasterSKU==MasterSKU)&(data.Class==Class)]\n",
    "    df = day2month(data1[(data1.Date<=cut)])\n",
    "    dft = day2month(data1[(data1.Date>cut)])\n",
    "    \n",
    "    DW1=df.groupby('Date')['OrderQty'].sum()\n",
    "    DW1=DW1.to_frame(name = 'DW').reset_index()\n",
    "    DW1=DW1.set_index(DW1.Date)\n",
    "    dw=DW1['DW'].astype(float)\n",
    "    \n",
    "    DWT=dft.groupby('Date')['OrderQty'].sum()\n",
    "    DWT=DWT.to_frame(name = 'DW').reset_index()\n",
    "    DWT=DWT.set_index(DWT.Date)\n",
    "    dwt=DWT['DW'].astype(float)\n",
    "    \n",
    "    return (dw,dwt)"
   ]
  },
  {
   "cell_type": "code",
   "execution_count": 23,
   "metadata": {},
   "outputs": [],
   "source": [
    "def select_Weekly(data, Begin, cut, MasterSKU, Class):\n",
    "    data1 = data[(data.Date>=Begin)&(data.MasterSKU==MasterSKU)&(data.Class==Class)]\n",
    "    df = data1[(data1.Date<=cut)]\n",
    "    dft = data1[(data1.Date>cut)]\n",
    "    \n",
    "    DW1=df[['Date','OrderQty']].reset_index().set_index(df.Date).OrderQty.astype(float).to_period('W')\n",
    "    DW2=DW1.to_frame(name = 'OrderQty')\n",
    "    DW2=DW2.groupby('Date')['OrderQty'].sum().to_frame(name = 'OrderQty').reset_index()\n",
    "    DW2=DW2.set_index(DW2.Date)\n",
    "    dw=DW2['OrderQty'].astype(float)\n",
    "    \n",
    "    DWT1=dft[['Date','OrderQty']].reset_index().set_index(dft.Date).OrderQty.astype(float).to_period('W')\n",
    "    DWT2=DWT1.to_frame(name = 'OrderQty')\n",
    "    DWT2=DWT2.groupby('Date')['OrderQty'].sum().to_frame(name = 'OrderQty').reset_index()\n",
    "    DWT2=DWT2.set_index(DWT2.Date)\n",
    "    dwt=DWT2['OrderQty'].astype(float)\n",
    "    \n",
    "    return (dw,dwt)"
   ]
  },
  {
   "cell_type": "markdown",
   "metadata": {},
   "source": [
    "### b) Data check and fill nan "
   ]
  },
  {
   "cell_type": "code",
   "execution_count": 24,
   "metadata": {},
   "outputs": [],
   "source": [
    "def fill0(data,time):\n",
    "    for date in time:\n",
    "        if date not in data.index.values:\n",
    "            data.loc[date] = 0\n",
    "    data = data.sort_index()\n",
    "    return data"
   ]
  },
  {
   "cell_type": "code",
   "execution_count": 25,
   "metadata": {},
   "outputs": [],
   "source": [
    "# check missing data in time series, if yes, using 0 to fill\n",
    "\n",
    "def check_Monthly(data,result,cut):\n",
    "    TRA=select_Monthly(data, cut, 'Roadie 20', 0)[0].index.values  \n",
    "    TES=select_Monthly(data, cut, 'Roadie 20', 0)[1].index.values # use Roadie 20 as Reference \n",
    "                                                          # because Roadie 20 have enough data (no missing value)\n",
    "    if len(result[0])<len(TRA):\n",
    "        R1=fill0(result[0],TRA)\n",
    "    else:\n",
    "        R1=result[0]\n",
    "    if len(result[1])<len(TES):\n",
    "        R2=fill0(result[1],TES)\n",
    "    else:\n",
    "        R2=result[1]\n",
    "    return (R1,R2)"
   ]
  },
  {
   "cell_type": "code",
   "execution_count": 26,
   "metadata": {},
   "outputs": [],
   "source": [
    "# Most masterSKU in each class do not have order every week, we need to fill the order quantity with 0 in these week"
   ]
  },
  {
   "cell_type": "code",
   "execution_count": 27,
   "metadata": {},
   "outputs": [],
   "source": [
    "# check missing data in time series, if yes, using 0 to fill\n",
    "\n",
    "def check_Weekly(data, result, begin, cut):\n",
    "    TRA=select_Weekly(data, begin, cut, 'Roadie 20', 0)[0].index.values  \n",
    "    TES=select_Weekly(data, begin, cut, 'Roadie 20', 0)[1].index.values # use Roadie 20 as Reference \n",
    "                                                          # because Roadie 20 have enough data (no missing value)\n",
    "    if len(result[0])<len(TRA):\n",
    "        R1=fill0(result[0],TRA)\n",
    "    else:\n",
    "        R1=result[0]\n",
    "    if len(result[1])<len(TES):\n",
    "        R2=fill0(result[1],TES)\n",
    "    else:\n",
    "        R2=result[1]\n",
    "    return (R1,R2)"
   ]
  },
  {
   "cell_type": "markdown",
   "metadata": {},
   "source": [
    "#### Order value select (there are 3 order values in ARIMA: p,d,q) "
   ]
  },
  {
   "cell_type": "code",
   "execution_count": 28,
   "metadata": {},
   "outputs": [],
   "source": [
    "# We can not only the function above to determine which order value to use. We also need to test all combination of order value."
   ]
  },
  {
   "cell_type": "code",
   "execution_count": 29,
   "metadata": {},
   "outputs": [],
   "source": [
    "def arima(maxorder,diff, data,test): # diff is a list contains all possible diff\n",
    "    p = q = range(0, maxorder) \n",
    "    d = diff\n",
    "    pdq = list(itertools.product(p, d, q)) # Generate all different combinations of p, q and q triplets\n",
    "    res=pd.DataFrame(columns=['Param','Smape','mse','AIC','BIC'])\n",
    "    \n",
    "    for param in pdq:\n",
    "        try:\n",
    "            mod = ARIMA(data.values,param)                                 \n",
    "            results = mod.fit()\n",
    "                \n",
    "            \n",
    "            # predict and add test to compare\n",
    "            predicts = results.forecast(steps=len(test))[0]\n",
    "            \n",
    "            rms = sqrt(mean_squared_error(test, predicts))\n",
    "            \n",
    "            comp = pd.DataFrame()\n",
    "            comp['original'] = test\n",
    "            comp['predict'] = predicts\n",
    "            q1=(abs(comp['original']-comp['predict'])/((comp['original']+comp['predict'])/2))*100\n",
    "            Smape=np.mean(abs(q1))\n",
    "            \n",
    "            res=res.append({'Param':param,'Smape':Smape, 'mse':rms,'AIC':results.aic,'BIC':results.bic}, ignore_index=True)\n",
    "          #  print (param,results.aic,results.bic,rms)\n",
    "        except:\n",
    "            continue\n",
    "    res0 = res.sort_values(by=['Smape']).reset_index()['Smape'][0]        \n",
    "    res1 = res.sort_values(by=[\"mse\"]).reset_index()['Smape'][0]\n",
    "    para0 = res.sort_values(by=['Smape']).reset_index()['Param'][0]  \n",
    "    para1 = res.sort_values(by=['mse']).reset_index()['Param'][0]\n",
    "    return (res0,res1,para0,para1)"
   ]
  },
  {
   "cell_type": "markdown",
   "metadata": {},
   "source": [
    "#### Output the best result from ARIMA "
   ]
  },
  {
   "cell_type": "code",
   "execution_count": 30,
   "metadata": {},
   "outputs": [],
   "source": [
    "def ARIMA_modeling(data,order,test): \n",
    "    tempModel = ARIMA(data.values,order).fit() # fit the value into model\n",
    "    \n",
    "    fig = plt.figure(figsize=(12,8))\n",
    "    ax = fig.add_subplot(111)\n",
    "    print(\"QQ plot of residuals (should be like a straight line)\")\n",
    "    fig = qqplot(tempModel.resid, line='q', ax=ax, fit=True)\n",
    "    print(\"######################\")\n",
    "    noiseRes = acorr_ljungbox(tempModel.resid, lags=1)\n",
    "    print (\"result of residual's white noice testing (should be very large)\")\n",
    "    print ('stat                  | p-value')\n",
    "    for x in noiseRes:\n",
    "        print (x,'|',)\n",
    "    print(\"######################\")\n",
    "    predicts = tempModel.forecast(steps=len(test))[0]\n",
    "    pred_CI = tempModel.forecast(steps=len(test))[2]\n",
    "    low,high = [],[]\n",
    "    for i in range(len(pred_CI)):\n",
    "        low.append(pred_CI[i][0])\n",
    "        high.append(pred_CI[i][1])\n",
    "        \n",
    "        \n",
    "    comp = pd.DataFrame()\n",
    "    comp['original'] = test\n",
    "    comp['predict'] = predicts\n",
    "    comp['low'] = low\n",
    "    comp['high'] = high\n",
    "    comp.plot()\n",
    "    \n",
    "    print(\"######################\")\n",
    "    rms = sqrt(mean_squared_error(test, predicts))\n",
    "    print('mean squared error: ', rms)\n",
    "    print(\"######################\")\n",
    "    \n",
    "#    comp = comp[comp.original!=0]\n",
    "    q=(abs(comp['original']-comp['predict'])/comp['original'])*100\n",
    "    print(q)\n",
    "    print('average MAPE: ',np.mean(abs(q)), '%')\n",
    "    print('If MAPE is \"Inf\", it because the test data contains 0')\n",
    "    print(\"######################\")\n",
    "    q1=(abs(comp['original']-comp['predict'])/((comp['original']+comp['predict'])/2))*100\n",
    "    print(q1)\n",
    "    print('average Symmetric MAPE: ',np.mean(abs(q1)), '%')"
   ]
  },
  {
   "cell_type": "markdown",
   "metadata": {},
   "source": [
    "### e) Seasonal ARIMA"
   ]
  },
  {
   "cell_type": "markdown",
   "metadata": {},
   "source": [
    "#### Order value select (there are 7 order values in SARIMA: p,d,q, P,D,Q,S) "
   ]
  },
  {
   "cell_type": "code",
   "execution_count": 31,
   "metadata": {},
   "outputs": [],
   "source": [
    "def sarima(maxorder,diff,seasonal,data,test):\n",
    "    p = q = range(0, maxorder) \n",
    "    d = diff\n",
    "    pdq = list(itertools.product(p, d, q)) # Generate all different combinations of p, q and q triplets\n",
    "    \n",
    "\n",
    "    res=pd.DataFrame(columns=['Param','Seasonal_param','Smape','mse','AIC','BIC'])\n",
    "    \n",
    "    for season in seasonal:\n",
    "        pdq_x_PDQs = [(x[0], x[1], x[2], season) for x in list(itertools.product(p, d, q))] # Generate all different combinations of seasonal p, q and q triplets\n",
    "    \n",
    "    \n",
    "        for param in pdq:\n",
    "            for seasonal_param in pdq_x_PDQs:\n",
    "                try:\n",
    "                    mod = sm.tsa.statespace.SARIMAX(data.values,\n",
    "                                                    order=param,\n",
    "                                                    seasonal_order=seasonal_param,\n",
    "                                                    enforce_stationarity=False,\n",
    "                                                    enforce_invertibility=False)\n",
    "                    results = mod.fit()  \n",
    "                \n",
    "            \n",
    "                   # predict and add test to compare\n",
    "                    predicts = results.forecast(steps=len(test))\n",
    "                    rms= sqrt(mean_squared_error(test, predicts))\n",
    "          \n",
    "                    comp = pd.DataFrame()\n",
    "                    comp['original'] = test\n",
    "                    comp['predict'] = predicts\n",
    "                    q1=(abs(comp['original']-comp['predict'])/((comp['original']+comp['predict'])/2))*100\n",
    "                    Smape=np.mean(abs(q1))\n",
    "        \n",
    "                    res=res.append({'Param':param,'Seasonal_param':seasonal_param,'Smape':Smape, 'mse':rms,'AIC':results.aic,'BIC':results.bic}, ignore_index=True)\n",
    "                    \n",
    "                    \n",
    "                except:\n",
    "                    continue\n",
    "    \n",
    "    res0 = res.sort_values(by=['Smape']).reset_index()['Smape'][0]        \n",
    "    res1 = res.sort_values(by=[\"mse\"]).reset_index()['Smape'][0]\n",
    "    paraA0 = res.sort_values(by=['Smape']).reset_index()['Param'][0] \n",
    "    paraA1 = res.sort_values(by=['Smape']).reset_index()['Seasonal_param'][0]\n",
    "    paraS0 = res.sort_values(by=['mse']).reset_index()['Param'][0]\n",
    "    paraS1 = res.sort_values(by=['mse']).reset_index()['Seasonal_param'][0]\n",
    "    return (res0,res1,paraA0,paraA1,paraS0,paraS1)"
   ]
  },
  {
   "cell_type": "markdown",
   "metadata": {},
   "source": [
    "#### Output the best result from SARIMA "
   ]
  },
  {
   "cell_type": "code",
   "execution_count": 32,
   "metadata": {},
   "outputs": [],
   "source": [
    "def SARIMA_modeling(data,order,seasonal_order,test): \n",
    "    mod = sm.tsa.statespace.SARIMAX(data.values, \n",
    "                                  #  exog=exog.values,\n",
    "                                order=order, \n",
    "                                seasonal_order=seasonal_order,   \n",
    "                                enforce_stationarity=False,\n",
    "                                enforce_invertibility=False)\n",
    "    results = mod.fit()\n",
    "    print(results.summary())\n",
    "    print(\"######################\")\n",
    "    pred = results.forecast(steps=len(test))\n",
    "    comp = pd.DataFrame()\n",
    "    comp['original'] = test\n",
    "    comp['predict'] = pred\n",
    "    comp.plot()\n",
    "    print(\"######################\")\n",
    "    rms = sqrt(mean_squared_error(test, pred))\n",
    "    print('mean squared error: ', rms)\n",
    "    print(\"######################\")\n",
    "    noiseRes = acorr_ljungbox(results.resid, lags=1)\n",
    "    print (\"result of residual's white noice testing (should be very large)\")\n",
    "    print ('stat                  | p-value')\n",
    "    for x in noiseRes:\n",
    "        print (x,'|',)\n",
    "    print(\"######################\")\n",
    "    print('residuals')\n",
    "    results.plot_diagnostics(figsize=(15, 12))\n",
    "    plt.show()\n",
    "    print(\"######################\")\n",
    "    q=(abs(comp['original']-comp['predict'])/comp['original'])*100\n",
    "    print(q)\n",
    "    print('average MAPE: ',np.mean(abs(q)), '%')\n",
    "    print('If MAPE is \"Inf\", it because the test data contains 0')\n",
    "    print(\"######################\")\n",
    "    q1=(abs(comp['original']-comp['predict'])/((comp['original']+comp['predict'])/2))*100\n",
    "    print(q1)\n",
    "    print('average Symmetric: ',np.mean(abs(q1)), '%')"
   ]
  },
  {
   "cell_type": "markdown",
   "metadata": {},
   "source": [
    "### f) Baseline: Prophet & Naive Model"
   ]
  },
  {
   "cell_type": "code",
   "execution_count": 33,
   "metadata": {},
   "outputs": [],
   "source": [
    "# output the predict result using Facebook package-Prophet"
   ]
  },
  {
   "cell_type": "code",
   "execution_count": 34,
   "metadata": {},
   "outputs": [],
   "source": [
    "def prophet_W(train,test):\n",
    "    X = pd.DataFrame(index=range(0,len(train)))\n",
    "    c=[]\n",
    "    for item in train.index:\n",
    "        c.append(str(item).split('/')[0])\n",
    "    X['ds'] = c\n",
    "    X['y'] = train.values\n",
    "    m = Prophet()\n",
    "    m.fit(X)\n",
    "    future_data = m.make_future_dataframe(periods=len(test), freq = 'w')\n",
    "    forecast_data = m.predict(future_data)\n",
    "    m.plot(forecast_data)\n",
    "    predict=list(forecast_data['yhat'][-len(test):])\n",
    "    original=list(test)\n",
    "    comp = pd.DataFrame()\n",
    "    comp['original'] = original\n",
    "    comp['predict'] = predict\n",
    "    q1=(abs(comp['original']-comp['predict'])/((comp['original']+comp['predict'])/2))*100\n",
    "\n",
    "    return (np.mean(abs(q1)))"
   ]
  },
  {
   "cell_type": "code",
   "execution_count": 36,
   "metadata": {},
   "outputs": [],
   "source": [
    "def prophet_M(train,test):\n",
    "    X = pd.DataFrame(index=range(0,len(train)))\n",
    "    X['ds'] = train.index\n",
    "    X['y'] = train.values\n",
    "    m = Prophet()\n",
    "    m.fit(X)\n",
    "    future_data = m.make_future_dataframe(periods=len(test), freq = 'm')\n",
    "    forecast_data = m.predict(future_data)\n",
    "    m.plot(forecast_data)\n",
    "    predict=list(forecast_data['yhat'][-len(test):])\n",
    "    original=list(test)\n",
    "    comp = pd.DataFrame()\n",
    "    comp['original'] = original\n",
    "    comp['predict'] = predict\n",
    "\n",
    "    q1=(abs(comp['original']-comp['predict'])/((comp['original']+comp['predict'])/2))*100\n",
    "    return (np.mean(abs(q1)))"
   ]
  },
  {
   "cell_type": "code",
   "execution_count": 38,
   "metadata": {},
   "outputs": [],
   "source": [
    "# use the average of 12 training data as the first predict result then, use average of this predict result and 11 training \n",
    "# data as the second predict result "
   ]
  },
  {
   "cell_type": "code",
   "execution_count": 39,
   "metadata": {},
   "outputs": [],
   "source": [
    "def naive(train,test):\n",
    "    data=list(train[-len(test):])\n",
    "    r=[]\n",
    "    for i in range(len(data)):\n",
    "        r.append(np.mean(data[i:]+r))\n",
    "    original=list(test)\n",
    "    comp = pd.DataFrame()\n",
    "    comp['original'] = original\n",
    "    comp['predict'] = r\n",
    "    \n",
    "    q1=(abs(comp['original']-comp['predict'])/((comp['original']+comp['predict'])/2))*100\n",
    "    return (np.mean(abs(q1)))"
   ]
  },
  {
   "cell_type": "markdown",
   "metadata": {},
   "source": [
    "# Run time series model"
   ]
  },
  {
   "cell_type": "code",
   "execution_count": 49,
   "metadata": {},
   "outputs": [],
   "source": [
    "def modeling(data, MasterSKU, seg_method, model,cut ):\n",
    "    aim=['Tundra 45', 'Tank', 'Roadie 20', 'Large_Tundra','Tundra 65','Tundra 35']\n",
    "    Weekly = {'Tundra 75': '2014-03-01', 'Hopper 30':'2015-02-01', 'R30 Tumbler':'2014-04-01', 'R20 Tumbler':'2014-04-01', \n",
    "          'R Colsters': '2015-02-01', 'R10 Lowball':'2015-09-01', 'R36 Bottle':'2016-03-01','R18 Bottle':'2016-03-01',\n",
    "          'R26 Bottle':'2016-03-01', 'Flip 18':'2016-08-01', 'Flip 8':'2016-08-01', 'Flip 12':'2016-08-01'}\n",
    "    \n",
    "    if seg_method == 'Overall':\n",
    "        DATA = Overall_Segment(data, cut)\n",
    "        n=3\n",
    "    elif seg_method =='ProductCategory':\n",
    "        item = data.drop_duplicates(['MasterSKU'])\n",
    "        PC = item.ProductCategory[item.MasterSKU == MasterSKU].values[0] # find the productCategory this mastersku in \n",
    "        DATA = PC_Segment(data, PC, cut)\n",
    "        n=3\n",
    "    else:\n",
    "        DATA = data.copy()\n",
    "        DATA['Class']=0\n",
    "        n=1\n",
    "        \n",
    "    Class0 = len(DATA[DATA.Class==0])\n",
    "    Class1 = len(DATA[DATA.Class==1])\n",
    "    Class2 = len(DATA[DATA.Class==2])\n",
    "    \n",
    "    \n",
    "    smape = [0,0,0]\n",
    "    if MasterSKU in aim:  # monthly\n",
    "        \n",
    "        for i in range(n):\n",
    "            dat = check_Monthly(DATA,select_Monthly(DATA, cut, MasterSKU, i),cut)\n",
    "            tra,tes = dat[0],dat[1]\n",
    "            if model =='ARIMA':\n",
    "                out = arima(10,[0,1,2], tra,tes)\n",
    "                smape[i]=out[0]\n",
    "                print ('The ARIMA order value for class '+ str(i) +' is: ARIMA' + str(out[2]))\n",
    "            elif model == 'SARIMA':\n",
    "                out = sarima(3, [0,1,2], range(0,13),tra,tes)\n",
    "                smape[i]=out[0]\n",
    "                print ('The SARIMA order value for class '+ str(i) +' is: SARIMA' + str(out[2])) +str(out[3])\n",
    "            elif model == 'Prophet':\n",
    "                out = prophet_M(tra, tes)\n",
    "                smape[i]=out\n",
    "            elif model == 'Naive':\n",
    "                out = naive(tra,tes)\n",
    "                smape[i]=out\n",
    "        \n",
    "    else:\n",
    "        start = pd.to_datetime(Weekly[MasterSKU])\n",
    "        \n",
    "        for i in range(n):\n",
    "            dat = check_Weekly(DATA, select_Weekly(DATA, start,cut, MasterSKU, i),start,cut)\n",
    "            tra,tes = dat[0],dat[1]\n",
    "            if model=='ARIMA':  # Model to use\n",
    "                out = arima(10,[0,1,2], tra,tes)\n",
    "                smape[i]=out[0]\n",
    "                print ('The ARIMA order value for class '+ str(i) +' is: ARIMA' + str(out[2]))\n",
    "            elif model == 'SARIMA':\n",
    "                out = sarima(3, [0,1,2], range(0,13),tra,tes)\n",
    "                smape[i]=out[0]\n",
    "                print ('The SARIMA order value for class '+ str(i) +' is: SARIMA' + str(out[2])) +str(out[3])\n",
    "            elif model == 'Prophet':\n",
    "                out = prophet_W(tra, tes)\n",
    "                smape[i]=out\n",
    "            elif model == 'Naive':\n",
    "                out = naive(tra,tes)\n",
    "                smape[i]=out\n",
    "            \n",
    "    avg = (Class0*smape[0]+Class1*smape[1]+Class2*smape[2])/len(DATA)\n",
    "    print (model +' Model result: ' , \"%.2f\" % avg, '%')    "
   ]
  },
  {
   "cell_type": "markdown",
   "metadata": {},
   "source": [
    "# Plot output"
   ]
  },
  {
   "cell_type": "code",
   "execution_count": 61,
   "metadata": {},
   "outputs": [],
   "source": [
    "def Plot(MasterSKU, model, order, seg_method, DF, Class, begin, end, cut):\n",
    "    \n",
    "    aim=['Tundra 45', 'Tank', 'Roadie 20', 'Large_Tundra','Tundra 65','Tundra 35']\n",
    "    Weekly = {'Tundra 75': '2014-03-01', 'Hopper 30':'2015-02-01', 'R30 Tumbler':'2014-04-01', 'R20 Tumbler':'2014-04-01', \n",
    "          'R Colsters': '2015-02-01', 'R10 Lowball':'2015-09-01', 'R36 Bottle':'2016-03-01','R18 Bottle':'2016-03-01',\n",
    "          'R26 Bottle':'2016-03-01', 'Flip 18':'2016-08-01', 'Flip 8':'2016-08-01', 'Flip 12':'2016-08-01'}\n",
    "    \n",
    "    data = data_clean(DF, begin, end, to_csv=True)\n",
    "    if seg_method == 'Overall':\n",
    "        DATA = Overall_Segment(data, cut)\n",
    "        \n",
    "    elif seg_method =='ProductCategory':\n",
    "        item = data.drop_duplicates(['MasterSKU'])\n",
    "        PC = item.ProductCategory[item.MasterSKU == MasterSKU].values[0] # find the productCategory this mastersku in \n",
    "        DATA = PC_Segment(data, PC, cut)\n",
    "        \n",
    "    else:\n",
    "        DATA = data.copy()\n",
    "        DATA['Class']=0\n",
    "    \n",
    "    if MasterSKU in aim:\n",
    "        dat = check_Monthly(DATA,select_Monthly(DATA, cut, MasterSKU, Class),cut)\n",
    "        tra,tes = dat[0],dat[1]\n",
    "        if model=='ARIMA':\n",
    "            print(ARIMA_modeling(tra,order,tes))\n",
    "        elif model =='SARIMA':\n",
    "            print(SARIMA_modeling(tra,order[0],order[1],tes))\n",
    "            \n",
    "    else:\n",
    "        start = pd.to_datetime(Weekly[MasterSKU])\n",
    "        dat = check_Weekly(DATA, select_Weekly(DATA, start,cut, MasterSKU, Class),start,cut)\n",
    "        tra,tes = dat[0],dat[1]\n",
    "        if model=='ARIMA':\n",
    "            print(ARIMA_modeling(tra,order,tes))\n",
    "        elif model =='SARIMA':\n",
    "            print(SARIMA_modeling(tra,order[0],order[1],tes))\n",
    "  "
   ]
  },
  {
   "cell_type": "markdown",
   "metadata": {},
   "source": [
    "# Forecasting"
   ]
  },
  {
   "cell_type": "code",
   "execution_count": 65,
   "metadata": {},
   "outputs": [],
   "source": [
    "def pred_ARIMA(tra,tes, order, predict_lenth):\n",
    "    tempModel = ARIMA(tra.values,order).fit()\n",
    "    predicts = tempModel.forecast(steps=predict_lenth+len(tes))[0]\n",
    "    return list(predicts[len(tes):])"
   ]
  },
  {
   "cell_type": "code",
   "execution_count": 66,
   "metadata": {},
   "outputs": [],
   "source": [
    "def pred_SARIMA(tra, tes, order,seasonal_order, predict_lenth):\n",
    "    mod = sm.tsa.statespace.SARIMAX(tra.values, \n",
    "                                  #  exog=exog.values,\n",
    "                                order=order, \n",
    "                                seasonal_order=seasonal_order,   \n",
    "                                enforce_stationarity=False,\n",
    "                                enforce_invertibility=False)\n",
    "    results = mod.fit()\n",
    "    pred = results.forecast(steps=predict_lenth+len(tes))\n",
    "    return list(pred[len(tes):])"
   ]
  },
  {
   "cell_type": "code",
   "execution_count": 67,
   "metadata": {},
   "outputs": [],
   "source": [
    "def Prediction(MasterSKU, model, order, seg_method, DF, begin, end, cut, predict_lenth):\n",
    "    \n",
    "    aim=['Tundra 45', 'Tank', 'Roadie 20', 'Large_Tundra','Tundra 65','Tundra 35']\n",
    "    Weekly = {'Tundra 75': '2014-03-01', 'Hopper 30':'2015-02-01', 'R30 Tumbler':'2014-04-01', 'R20 Tumbler':'2014-04-01', \n",
    "          'R Colsters': '2015-02-01', 'R10 Lowball':'2015-09-01', 'R36 Bottle':'2016-03-01','R18 Bottle':'2016-03-01',\n",
    "          'R26 Bottle':'2016-03-01', 'Flip 18':'2016-08-01', 'Flip 8':'2016-08-01', 'Flip 12':'2016-08-01'}\n",
    "    \n",
    "    data = data_clean(DF, begin, end, to_csv=True)\n",
    "    \n",
    "    result = [0]*predict_lenth\n",
    "    \n",
    "    if seg_method == 'Overall':\n",
    "        DATA = Overall_Segment(data, cut)\n",
    "        n=3\n",
    "    elif seg_method =='ProductCategory':\n",
    "        item = data.drop_duplicates(['MasterSKU'])\n",
    "        PC = item.ProductCategory[item.MasterSKU == MasterSKU].values[0] # find the productCategory this mastersku in \n",
    "        DATA = PC_Segment(data, PC, cut)\n",
    "        n=3\n",
    "    else:\n",
    "        DATA = data.copy()\n",
    "        DATA['Class']=0\n",
    "        n=1\n",
    "        \n",
    "    if MasterSKU in aim:\n",
    "        for i in range(n):\n",
    "            dat = check_Monthly(DATA,select_Monthly(DATA, cut, MasterSKU, i),cut)\n",
    "            tra,tes = dat[0],dat[1]\n",
    "            if model =='ARIMA':\n",
    "                a = pred_ARIMA(tra,tes, order[i], predict_lenth)\n",
    "                result = [a[i]+result[i] for i in range(len(a))]\n",
    "            elif model == 'SARIMA':\n",
    "                b = pred_SARIMA(tra, tes, order[i],seasonal_order[i], predict_lenth)\n",
    "                result = [b[i]+result[i] for i in range(len(b))]\n",
    "            \n",
    "    else:\n",
    "        start = pd.to_datetime(Weekly[MasterSKU])\n",
    "        for i in range(n):\n",
    "            dat = check_Weekly(DATA, select_Weekly(DATA, start,cut, MasterSKU, i),start,cut)\n",
    "            tra,tes = dat[0],dat[1]\n",
    "            if model=='ARIMA':\n",
    "                a = pred_ARIMA(tra,tes, order[i], predict_lenth)\n",
    "                result = [a[i]+result[i] for i in range(len(a))]\n",
    "            elif model =='SARIMA':\n",
    "                b = pred_SARIMA(tra, tes, order[i],seasonal_order[i], predict_lenth)\n",
    "                result = [b[i]+result[i] for i in range(len(b))]\n",
    "    return result"
   ]
  },
  {
   "cell_type": "code",
   "execution_count": null,
   "metadata": {},
   "outputs": [],
   "source": []
  }
 ],
 "metadata": {
  "kernelspec": {
   "display_name": "Python 3",
   "language": "python",
   "name": "python3"
  },
  "language_info": {
   "codemirror_mode": {
    "name": "ipython",
    "version": 3
   },
   "file_extension": ".py",
   "mimetype": "text/x-python",
   "name": "python",
   "nbconvert_exporter": "python",
   "pygments_lexer": "ipython3",
   "version": "3.6.4"
  }
 },
 "nbformat": 4,
 "nbformat_minor": 2
}
