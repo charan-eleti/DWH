{
 "cells": [
  {
   "cell_type": "markdown",
   "metadata": {},
   "source": [
    "### Demand Forecasting - what is the most common number of days between order creation date and requested delivery date?"
   ]
  },
  {
   "cell_type": "code",
   "execution_count": 3,
   "metadata": {},
   "outputs": [],
   "source": [
    "import pyodbc\n",
    "conn = pyodbc.connect(\"Driver={ODBC Driver 13 for SQL Server};Server=yetidb01.database.windows.net;database=YETISQLDW01;uid=ezeng;PWD=Ed1tH2EnG#\")\n",
    "cursor = conn.cursor()"
   ]
  },
  {
   "cell_type": "code",
   "execution_count": 4,
   "metadata": {},
   "outputs": [],
   "source": [
    "query = (\"\"\"\n",
    "WITH ZVA05 AS\n",
    "(\n",
    "\t(\n",
    "\t\tSELECT * FROM [EDW].[sap_zva05_fct] \n",
    "\t\tWHERE SL_Status = 'Active SL' \n",
    "\t\tAND Reason_for_Rejection IS NULL\n",
    "\t\tAND SalesOffice = 'STD' \n",
    "        AND Order_Type NOT IN ('ZARF', 'ZARM', 'ZEG2', 'ZERF', 'ZERM', 'ZRE')\n",
    "\t) UNION (\n",
    "\t\tSELECT * FROM [EDW].[sap_zva05_fct] \n",
    "\t\tWHERE SL_Status = 'Active SL'\n",
    "\t\tAND Reason_for_Rejection IS NULL\n",
    "\t\tAND SalesOffice = 'HYB'\n",
    "\t\tAND Order_Type NOT IN ('ZARF', 'ZARM', 'ZEG2', 'ZERF', 'ZERM', 'ZRE')\n",
    "\t)\n",
    ") SELECT Sales_document, Sold_to_Party, SD_Item, SalesOffice, Order_Type, Product_Hierarchy, Material_Description, Unit_Price, Document_Date, Goods_Issue_Date, Overall_Credit_Status, Delivery_Block, Billing_Block, Overall_Delivery_status_Item, Overall_Order_Status_Header, Overall_Order_Status_Item, Block_flag, Line_Req_Deliv_Date, ConfirmationStatus, Confirmed_Line_Quantity, Confirmed_Line_Value, Net_Value, Overall_Credit_Status_Desc, Net_Value_Actual, days_stale\n",
    "FROM ZVA05\n",
    "ORDER BY Document_Date ASC;\n",
    "\"\"\")"
   ]
  },
  {
   "cell_type": "code",
   "execution_count": null,
   "metadata": {
    "scrolled": false
   },
   "outputs": [],
   "source": [
    "import pandas as pd\n",
    "import numpy as np\n",
    "import copy\n",
    "\n",
    "aggregate = pd.read_sql(query, conn)"
   ]
  },
  {
   "cell_type": "code",
   "execution_count": 5,
   "metadata": {
    "scrolled": false
   },
   "outputs": [
    {
     "data": {
      "text/plain": [
       "(630018, 25)"
      ]
     },
     "execution_count": 5,
     "metadata": {},
     "output_type": "execute_result"
    }
   ],
   "source": [
    "aggregate.shape"
   ]
  },
  {
   "cell_type": "code",
   "execution_count": 6,
   "metadata": {
    "scrolled": false
   },
   "outputs": [
    {
     "data": {
      "text/plain": [
       "Index(['Sales_document', 'Sold_to_Party', 'SD_Item', 'SalesOffice',\n",
       "       'Order_Type', 'Product_Hierarchy', 'Material_Description', 'Unit_Price',\n",
       "       'Document_Date', 'Goods_Issue_Date', 'Overall_Credit_Status',\n",
       "       'Delivery_Block', 'Billing_Block', 'Overall_Delivery_status_Item',\n",
       "       'Overall_Order_Status_Header', 'Overall_Order_Status_Item',\n",
       "       'Block_flag', 'Line_Req_Deliv_Date', 'ConfirmationStatus',\n",
       "       'Confirmed_Line_Quantity', 'Confirmed_Line_Value', 'Net_Value',\n",
       "       'Overall_Credit_Status_Desc', 'Net_Value_Actual', 'days_stale'],\n",
       "      dtype='object')"
      ]
     },
     "execution_count": 6,
     "metadata": {},
     "output_type": "execute_result"
    }
   ],
   "source": [
    "aggregate.columns"
   ]
  },
  {
   "cell_type": "code",
   "execution_count": 7,
   "metadata": {},
   "outputs": [
    {
     "data": {
      "text/html": [
       "<div>\n",
       "<style scoped>\n",
       "    .dataframe tbody tr th:only-of-type {\n",
       "        vertical-align: middle;\n",
       "    }\n",
       "\n",
       "    .dataframe tbody tr th {\n",
       "        vertical-align: top;\n",
       "    }\n",
       "\n",
       "    .dataframe thead th {\n",
       "        text-align: right;\n",
       "    }\n",
       "</style>\n",
       "<table border=\"1\" class=\"dataframe\">\n",
       "  <thead>\n",
       "    <tr style=\"text-align: right;\">\n",
       "      <th></th>\n",
       "      <th>Sales_document</th>\n",
       "      <th>Sold_to_Party</th>\n",
       "      <th>SD_Item</th>\n",
       "      <th>SalesOffice</th>\n",
       "      <th>Order_Type</th>\n",
       "      <th>Product_Hierarchy</th>\n",
       "      <th>Material_Description</th>\n",
       "      <th>Unit_Price</th>\n",
       "      <th>Document_Date</th>\n",
       "      <th>Goods_Issue_Date</th>\n",
       "      <th>...</th>\n",
       "      <th>Overall_Order_Status_Item</th>\n",
       "      <th>Block_flag</th>\n",
       "      <th>Line_Req_Deliv_Date</th>\n",
       "      <th>ConfirmationStatus</th>\n",
       "      <th>Confirmed_Line_Quantity</th>\n",
       "      <th>Confirmed_Line_Value</th>\n",
       "      <th>Net_Value</th>\n",
       "      <th>Overall_Credit_Status_Desc</th>\n",
       "      <th>Net_Value_Actual</th>\n",
       "      <th>days_stale</th>\n",
       "    </tr>\n",
       "  </thead>\n",
       "  <tbody>\n",
       "    <tr>\n",
       "      <th>0</th>\n",
       "      <td>0010000013</td>\n",
       "      <td>0000101539</td>\n",
       "      <td>000010</td>\n",
       "      <td>STD</td>\n",
       "      <td>OR</td>\n",
       "      <td>1011122022162000</td>\n",
       "      <td>Hopper Flip 12 Field Tan</td>\n",
       "      <td>189.72</td>\n",
       "      <td>2017-02-04</td>\n",
       "      <td>2017-03-28</td>\n",
       "      <td>...</td>\n",
       "      <td>C</td>\n",
       "      <td>None</td>\n",
       "      <td>2017-03-01</td>\n",
       "      <td>Confirmed</td>\n",
       "      <td>3.0</td>\n",
       "      <td>569.17</td>\n",
       "      <td>569.17</td>\n",
       "      <td>No Credit Issue</td>\n",
       "      <td>569.17</td>\n",
       "      <td>FALSE</td>\n",
       "    </tr>\n",
       "    <tr>\n",
       "      <th>1</th>\n",
       "      <td>0010000012</td>\n",
       "      <td>0000101539</td>\n",
       "      <td>000010</td>\n",
       "      <td>STD</td>\n",
       "      <td>OR</td>\n",
       "      <td>1011122022162000</td>\n",
       "      <td>Hopper Flip 12 Field Tan</td>\n",
       "      <td>189.72</td>\n",
       "      <td>2017-02-04</td>\n",
       "      <td>2017-03-28</td>\n",
       "      <td>...</td>\n",
       "      <td>C</td>\n",
       "      <td>None</td>\n",
       "      <td>2017-03-01</td>\n",
       "      <td>Confirmed</td>\n",
       "      <td>3.0</td>\n",
       "      <td>569.17</td>\n",
       "      <td>569.17</td>\n",
       "      <td>No Credit Issue</td>\n",
       "      <td>569.17</td>\n",
       "      <td>FALSE</td>\n",
       "    </tr>\n",
       "    <tr>\n",
       "      <th>2</th>\n",
       "      <td>0010000011</td>\n",
       "      <td>0000101539</td>\n",
       "      <td>000010</td>\n",
       "      <td>STD</td>\n",
       "      <td>OR</td>\n",
       "      <td>1011122022162000</td>\n",
       "      <td>Hopper Flip 12 Field Tan</td>\n",
       "      <td>189.72</td>\n",
       "      <td>2017-02-04</td>\n",
       "      <td>2017-03-28</td>\n",
       "      <td>...</td>\n",
       "      <td>C</td>\n",
       "      <td>None</td>\n",
       "      <td>2017-03-01</td>\n",
       "      <td>Confirmed</td>\n",
       "      <td>3.0</td>\n",
       "      <td>569.17</td>\n",
       "      <td>569.17</td>\n",
       "      <td>No Credit Issue</td>\n",
       "      <td>569.17</td>\n",
       "      <td>FALSE</td>\n",
       "    </tr>\n",
       "    <tr>\n",
       "      <th>3</th>\n",
       "      <td>0010000000</td>\n",
       "      <td>0000101539</td>\n",
       "      <td>000010</td>\n",
       "      <td>STD</td>\n",
       "      <td>OR</td>\n",
       "      <td>1011122022162000</td>\n",
       "      <td>Hopper Flip 12 Field Tan</td>\n",
       "      <td>189.72</td>\n",
       "      <td>2017-02-04</td>\n",
       "      <td>2017-03-28</td>\n",
       "      <td>...</td>\n",
       "      <td>C</td>\n",
       "      <td>None</td>\n",
       "      <td>2017-03-01</td>\n",
       "      <td>Confirmed</td>\n",
       "      <td>1.0</td>\n",
       "      <td>189.72</td>\n",
       "      <td>189.72</td>\n",
       "      <td>No Credit Issue</td>\n",
       "      <td>189.72</td>\n",
       "      <td>FALSE</td>\n",
       "    </tr>\n",
       "    <tr>\n",
       "      <th>4</th>\n",
       "      <td>0010000009</td>\n",
       "      <td>0000101539</td>\n",
       "      <td>000010</td>\n",
       "      <td>STD</td>\n",
       "      <td>OR</td>\n",
       "      <td>1011122022162000</td>\n",
       "      <td>Hopper Flip 12 Field Tan</td>\n",
       "      <td>189.72</td>\n",
       "      <td>2017-02-04</td>\n",
       "      <td>2017-03-28</td>\n",
       "      <td>...</td>\n",
       "      <td>C</td>\n",
       "      <td>None</td>\n",
       "      <td>2017-03-01</td>\n",
       "      <td>Confirmed</td>\n",
       "      <td>3.0</td>\n",
       "      <td>569.17</td>\n",
       "      <td>569.17</td>\n",
       "      <td>No Credit Issue</td>\n",
       "      <td>569.17</td>\n",
       "      <td>FALSE</td>\n",
       "    </tr>\n",
       "  </tbody>\n",
       "</table>\n",
       "<p>5 rows × 25 columns</p>\n",
       "</div>"
      ],
      "text/plain": [
       "  Sales_document Sold_to_Party SD_Item SalesOffice Order_Type  \\\n",
       "0     0010000013    0000101539  000010         STD         OR   \n",
       "1     0010000012    0000101539  000010         STD         OR   \n",
       "2     0010000011    0000101539  000010         STD         OR   \n",
       "3     0010000000    0000101539  000010         STD         OR   \n",
       "4     0010000009    0000101539  000010         STD         OR   \n",
       "\n",
       "  Product_Hierarchy      Material_Description  Unit_Price Document_Date  \\\n",
       "0  1011122022162000  Hopper Flip 12 Field Tan      189.72    2017-02-04   \n",
       "1  1011122022162000  Hopper Flip 12 Field Tan      189.72    2017-02-04   \n",
       "2  1011122022162000  Hopper Flip 12 Field Tan      189.72    2017-02-04   \n",
       "3  1011122022162000  Hopper Flip 12 Field Tan      189.72    2017-02-04   \n",
       "4  1011122022162000  Hopper Flip 12 Field Tan      189.72    2017-02-04   \n",
       "\n",
       "  Goods_Issue_Date     ...     Overall_Order_Status_Item Block_flag  \\\n",
       "0       2017-03-28     ...                             C       None   \n",
       "1       2017-03-28     ...                             C       None   \n",
       "2       2017-03-28     ...                             C       None   \n",
       "3       2017-03-28     ...                             C       None   \n",
       "4       2017-03-28     ...                             C       None   \n",
       "\n",
       "  Line_Req_Deliv_Date ConfirmationStatus Confirmed_Line_Quantity  \\\n",
       "0          2017-03-01          Confirmed                     3.0   \n",
       "1          2017-03-01          Confirmed                     3.0   \n",
       "2          2017-03-01          Confirmed                     3.0   \n",
       "3          2017-03-01          Confirmed                     1.0   \n",
       "4          2017-03-01          Confirmed                     3.0   \n",
       "\n",
       "  Confirmed_Line_Value Net_Value Overall_Credit_Status_Desc Net_Value_Actual  \\\n",
       "0               569.17    569.17            No Credit Issue           569.17   \n",
       "1               569.17    569.17            No Credit Issue           569.17   \n",
       "2               569.17    569.17            No Credit Issue           569.17   \n",
       "3               189.72    189.72            No Credit Issue           189.72   \n",
       "4               569.17    569.17            No Credit Issue           569.17   \n",
       "\n",
       "   days_stale  \n",
       "0       FALSE  \n",
       "1       FALSE  \n",
       "2       FALSE  \n",
       "3       FALSE  \n",
       "4       FALSE  \n",
       "\n",
       "[5 rows x 25 columns]"
      ]
     },
     "execution_count": 7,
     "metadata": {},
     "output_type": "execute_result"
    }
   ],
   "source": [
    "aggregate.head(5)"
   ]
  },
  {
   "cell_type": "code",
   "execution_count": 10,
   "metadata": {},
   "outputs": [
    {
     "data": {
      "text/plain": [
       "Sales_document                       0\n",
       "Sold_to_Party                        0\n",
       "SD_Item                              0\n",
       "SalesOffice                          0\n",
       "Order_Type                           0\n",
       "Product_Hierarchy                10186\n",
       "Material_Description                 0\n",
       "Unit_Price                           0\n",
       "Document_Date                        0\n",
       "Goods_Issue_Date                     0\n",
       "Overall_Credit_Status            40368\n",
       "Delivery_Block                  622672\n",
       "Billing_Block                   629774\n",
       "Overall_Delivery_status_Item     29865\n",
       "Overall_Order_Status_Header          0\n",
       "Overall_Order_Status_Item            3\n",
       "Block_flag                      612901\n",
       "Line_Req_Deliv_Date                  0\n",
       "ConfirmationStatus                   0\n",
       "Confirmed_Line_Quantity              0\n",
       "Confirmed_Line_Value                 0\n",
       "Net_Value                            0\n",
       "Overall_Credit_Status_Desc           0\n",
       "Net_Value_Actual                     0\n",
       "days_stale                           0\n",
       "dtype: int64"
      ]
     },
     "execution_count": 10,
     "metadata": {},
     "output_type": "execute_result"
    }
   ],
   "source": [
    "aggregate.isnull().sum()"
   ]
  },
  {
   "cell_type": "code",
   "execution_count": 11,
   "metadata": {},
   "outputs": [],
   "source": [
    "import matplotlib.pyplot as plt\n",
    "%matplotlib inline\n",
    "import seaborn as sns\n",
    "\n",
    "def plot_waiting_period(X, kde_bool, x_lo, x_hi):\n",
    "    plt.figure(figsize=(15,8))\n",
    "    sns.set_style('darkgrid')\n",
    "    fig = sns.distplot(X, kde=kde_bool, hist_kws=dict(edgecolor='k',linewidth=.5))\n",
    "    plt.xlim(x_lo, x_hi)"
   ]
  },
  {
   "cell_type": "code",
   "execution_count": 1,
   "metadata": {
    "scrolled": false
   },
   "outputs": [
    {
     "ename": "NameError",
     "evalue": "name 'aggregate' is not defined",
     "output_type": "error",
     "traceback": [
      "\u001b[1;31m---------------------------------------------------------------------------\u001b[0m",
      "\u001b[1;31mNameError\u001b[0m                                 Traceback (most recent call last)",
      "\u001b[1;32m<ipython-input-1-1e029979ee82>\u001b[0m in \u001b[0;36m<module>\u001b[1;34m()\u001b[0m\n\u001b[0;32m      1\u001b[0m \u001b[1;31m# add new column waiting_days to count intervals\u001b[0m\u001b[1;33m\u001b[0m\u001b[1;33m\u001b[0m\u001b[0m\n\u001b[1;32m----> 2\u001b[1;33m \u001b[0maggregate\u001b[0m\u001b[1;33m[\u001b[0m\u001b[1;34m'waiting_days'\u001b[0m\u001b[1;33m]\u001b[0m \u001b[1;33m=\u001b[0m \u001b[0maggregate\u001b[0m\u001b[1;33m.\u001b[0m\u001b[0mapply\u001b[0m\u001b[1;33m(\u001b[0m\u001b[1;32mlambda\u001b[0m \u001b[0m_\u001b[0m\u001b[1;33m:\u001b[0m \u001b[1;34m''\u001b[0m\u001b[1;33m,\u001b[0m \u001b[0maxis\u001b[0m\u001b[1;33m=\u001b[0m\u001b[1;36m1\u001b[0m\u001b[1;33m)\u001b[0m\u001b[1;33m\u001b[0m\u001b[0m\n\u001b[0m\u001b[0;32m      3\u001b[0m \u001b[0maggregate\u001b[0m\u001b[1;33m.\u001b[0m\u001b[0mhead\u001b[0m\u001b[1;33m(\u001b[0m\u001b[1;36m5\u001b[0m\u001b[1;33m)\u001b[0m\u001b[1;33m\u001b[0m\u001b[0m\n",
      "\u001b[1;31mNameError\u001b[0m: name 'aggregate' is not defined"
     ]
    }
   ],
   "source": [
    "# add new column waiting_days to count intervals\n",
    "aggregate['waiting_days'] = aggregate.apply(lambda _: '', axis=1)\n",
    "aggregate.head(5)"
   ]
  },
  {
   "cell_type": "code",
   "execution_count": null,
   "metadata": {
    "scrolled": true
   },
   "outputs": [],
   "source": [
    "import sys\n",
    "import time\n",
    "def update_waiting_days():\n",
    "    df = copy.deepcopy(aggregate)\n",
    "    for row_index, row in df.iterrows():\n",
    "        interval = df.loc[row_index,'Line_Req_Deliv_Date'] - df.loc[row_index,'Document_Date']\n",
    "        df.loc[row_index,'waiting_days'] = interval.days\n",
    "        if row_index%10000 == 0:\n",
    "            sys.stdout.write('\\r'+\"{0:.3%}\".format(row_index/len(aggregate)))\n",
    "            sys.stdout.flush()\n",
    "    return df\n",
    "df = update_waiting_days()"
   ]
  },
  {
   "cell_type": "code",
   "execution_count": 13,
   "metadata": {
    "scrolled": false
   },
   "outputs": [
    {
     "data": {
      "text/html": [
       "<div>\n",
       "<style scoped>\n",
       "    .dataframe tbody tr th:only-of-type {\n",
       "        vertical-align: middle;\n",
       "    }\n",
       "\n",
       "    .dataframe tbody tr th {\n",
       "        vertical-align: top;\n",
       "    }\n",
       "\n",
       "    .dataframe thead th {\n",
       "        text-align: right;\n",
       "    }\n",
       "</style>\n",
       "<table border=\"1\" class=\"dataframe\">\n",
       "  <thead>\n",
       "    <tr style=\"text-align: right;\">\n",
       "      <th></th>\n",
       "      <th>Sales_document</th>\n",
       "      <th>Sold_to_Party</th>\n",
       "      <th>SD_Item</th>\n",
       "      <th>SalesOffice</th>\n",
       "      <th>Order_Type</th>\n",
       "      <th>Product_Hierarchy</th>\n",
       "      <th>Material_Description</th>\n",
       "      <th>Unit_Price</th>\n",
       "      <th>Document_Date</th>\n",
       "      <th>Goods_Issue_Date</th>\n",
       "      <th>...</th>\n",
       "      <th>Block_flag</th>\n",
       "      <th>Line_Req_Deliv_Date</th>\n",
       "      <th>ConfirmationStatus</th>\n",
       "      <th>Confirmed_Line_Quantity</th>\n",
       "      <th>Confirmed_Line_Value</th>\n",
       "      <th>Net_Value</th>\n",
       "      <th>Overall_Credit_Status_Desc</th>\n",
       "      <th>Net_Value_Actual</th>\n",
       "      <th>days_stale</th>\n",
       "      <th>waiting_days</th>\n",
       "    </tr>\n",
       "  </thead>\n",
       "  <tbody>\n",
       "    <tr>\n",
       "      <th>622769</th>\n",
       "      <td>0011249157</td>\n",
       "      <td>0000107560</td>\n",
       "      <td>000050</td>\n",
       "      <td>STD</td>\n",
       "      <td>OR</td>\n",
       "      <td>2013143013032900</td>\n",
       "      <td>Rambler 20 oz Charcoal w/ MS Lid</td>\n",
       "      <td>18.76</td>\n",
       "      <td>2018-06-10</td>\n",
       "      <td>2018-06-13</td>\n",
       "      <td>...</td>\n",
       "      <td>Block Issue</td>\n",
       "      <td>2018-06-10</td>\n",
       "      <td>Confirmed</td>\n",
       "      <td>6.0</td>\n",
       "      <td>112.53</td>\n",
       "      <td>112.53</td>\n",
       "      <td>No Credit Issue</td>\n",
       "      <td>112.53</td>\n",
       "      <td>TRUE</td>\n",
       "      <td>0</td>\n",
       "    </tr>\n",
       "    <tr>\n",
       "      <th>622770</th>\n",
       "      <td>0011249157</td>\n",
       "      <td>0000107560</td>\n",
       "      <td>000040</td>\n",
       "      <td>STD</td>\n",
       "      <td>OR</td>\n",
       "      <td>2013143013033400</td>\n",
       "      <td>Rambler 20 oz w/MS Lid Sky Blue</td>\n",
       "      <td>18.76</td>\n",
       "      <td>2018-06-10</td>\n",
       "      <td>2018-06-13</td>\n",
       "      <td>...</td>\n",
       "      <td>Block Issue</td>\n",
       "      <td>2018-06-10</td>\n",
       "      <td>Unconfirmed</td>\n",
       "      <td>0.0</td>\n",
       "      <td>0.00</td>\n",
       "      <td>0.00</td>\n",
       "      <td>No Credit Issue</td>\n",
       "      <td>112.53</td>\n",
       "      <td>TRUE</td>\n",
       "      <td>0</td>\n",
       "    </tr>\n",
       "    <tr>\n",
       "      <th>622771</th>\n",
       "      <td>0011249157</td>\n",
       "      <td>0000107560</td>\n",
       "      <td>000020</td>\n",
       "      <td>STD</td>\n",
       "      <td>OR</td>\n",
       "      <td>2013143013031000</td>\n",
       "      <td>Rambler 20 oz w/MS Lid White</td>\n",
       "      <td>18.76</td>\n",
       "      <td>2018-06-10</td>\n",
       "      <td>2018-06-13</td>\n",
       "      <td>...</td>\n",
       "      <td>Block Issue</td>\n",
       "      <td>2018-06-10</td>\n",
       "      <td>Confirmed</td>\n",
       "      <td>6.0</td>\n",
       "      <td>112.53</td>\n",
       "      <td>112.53</td>\n",
       "      <td>No Credit Issue</td>\n",
       "      <td>112.53</td>\n",
       "      <td>TRUE</td>\n",
       "      <td>0</td>\n",
       "    </tr>\n",
       "    <tr>\n",
       "      <th>622772</th>\n",
       "      <td>0011249157</td>\n",
       "      <td>0000107560</td>\n",
       "      <td>000010</td>\n",
       "      <td>STD</td>\n",
       "      <td>OR</td>\n",
       "      <td>2013143013031500</td>\n",
       "      <td>Rambler 20 oz w/MS Lid Seafoam</td>\n",
       "      <td>18.76</td>\n",
       "      <td>2018-06-10</td>\n",
       "      <td>2018-06-13</td>\n",
       "      <td>...</td>\n",
       "      <td>Block Issue</td>\n",
       "      <td>2018-06-10</td>\n",
       "      <td>Confirmed</td>\n",
       "      <td>6.0</td>\n",
       "      <td>112.53</td>\n",
       "      <td>112.53</td>\n",
       "      <td>No Credit Issue</td>\n",
       "      <td>112.53</td>\n",
       "      <td>TRUE</td>\n",
       "      <td>0</td>\n",
       "    </tr>\n",
       "    <tr>\n",
       "      <th>622773</th>\n",
       "      <td>0011249157</td>\n",
       "      <td>0000107560</td>\n",
       "      <td>000030</td>\n",
       "      <td>STD</td>\n",
       "      <td>OR</td>\n",
       "      <td>2013143013033200</td>\n",
       "      <td>Rambler 20 oz w/MS Lid LE Coral</td>\n",
       "      <td>18.76</td>\n",
       "      <td>2018-06-10</td>\n",
       "      <td>2018-06-13</td>\n",
       "      <td>...</td>\n",
       "      <td>Block Issue</td>\n",
       "      <td>2018-06-10</td>\n",
       "      <td>Confirmed</td>\n",
       "      <td>6.0</td>\n",
       "      <td>112.53</td>\n",
       "      <td>112.53</td>\n",
       "      <td>No Credit Issue</td>\n",
       "      <td>112.53</td>\n",
       "      <td>TRUE</td>\n",
       "      <td>0</td>\n",
       "    </tr>\n",
       "  </tbody>\n",
       "</table>\n",
       "<p>5 rows × 26 columns</p>\n",
       "</div>"
      ],
      "text/plain": [
       "       Sales_document Sold_to_Party SD_Item SalesOffice Order_Type  \\\n",
       "622769     0011249157    0000107560  000050         STD         OR   \n",
       "622770     0011249157    0000107560  000040         STD         OR   \n",
       "622771     0011249157    0000107560  000020         STD         OR   \n",
       "622772     0011249157    0000107560  000010         STD         OR   \n",
       "622773     0011249157    0000107560  000030         STD         OR   \n",
       "\n",
       "       Product_Hierarchy              Material_Description  Unit_Price  \\\n",
       "622769  2013143013032900  Rambler 20 oz Charcoal w/ MS Lid       18.76   \n",
       "622770  2013143013033400   Rambler 20 oz w/MS Lid Sky Blue       18.76   \n",
       "622771  2013143013031000      Rambler 20 oz w/MS Lid White       18.76   \n",
       "622772  2013143013031500    Rambler 20 oz w/MS Lid Seafoam       18.76   \n",
       "622773  2013143013033200   Rambler 20 oz w/MS Lid LE Coral       18.76   \n",
       "\n",
       "       Document_Date Goods_Issue_Date      ...        Block_flag  \\\n",
       "622769    2018-06-10       2018-06-13      ...       Block Issue   \n",
       "622770    2018-06-10       2018-06-13      ...       Block Issue   \n",
       "622771    2018-06-10       2018-06-13      ...       Block Issue   \n",
       "622772    2018-06-10       2018-06-13      ...       Block Issue   \n",
       "622773    2018-06-10       2018-06-13      ...       Block Issue   \n",
       "\n",
       "       Line_Req_Deliv_Date ConfirmationStatus Confirmed_Line_Quantity  \\\n",
       "622769          2018-06-10          Confirmed                     6.0   \n",
       "622770          2018-06-10        Unconfirmed                     0.0   \n",
       "622771          2018-06-10          Confirmed                     6.0   \n",
       "622772          2018-06-10          Confirmed                     6.0   \n",
       "622773          2018-06-10          Confirmed                     6.0   \n",
       "\n",
       "       Confirmed_Line_Value Net_Value Overall_Credit_Status_Desc  \\\n",
       "622769               112.53    112.53            No Credit Issue   \n",
       "622770                 0.00      0.00            No Credit Issue   \n",
       "622771               112.53    112.53            No Credit Issue   \n",
       "622772               112.53    112.53            No Credit Issue   \n",
       "622773               112.53    112.53            No Credit Issue   \n",
       "\n",
       "       Net_Value_Actual days_stale  waiting_days  \n",
       "622769           112.53       TRUE             0  \n",
       "622770           112.53       TRUE             0  \n",
       "622771           112.53       TRUE             0  \n",
       "622772           112.53       TRUE             0  \n",
       "622773           112.53       TRUE             0  \n",
       "\n",
       "[5 rows x 26 columns]"
      ]
     },
     "execution_count": 13,
     "metadata": {},
     "output_type": "execute_result"
    }
   ],
   "source": [
    "df.tail(5)"
   ]
  },
  {
   "cell_type": "code",
   "execution_count": 25,
   "metadata": {
    "scrolled": false
   },
   "outputs": [
    {
     "data": {
      "text/plain": [
       "count    621303.000000\n",
       "mean         18.357062\n",
       "std          32.183172\n",
       "min        -366.000000\n",
       "25%           0.000000\n",
       "50%           0.000000\n",
       "75%          29.000000\n",
       "max         387.000000\n",
       "Name: waiting_days, dtype: float64"
      ]
     },
     "execution_count": 25,
     "metadata": {},
     "output_type": "execute_result"
    }
   ],
   "source": [
    "df['waiting_days'].describe()  # negative intervals"
   ]
  },
  {
   "cell_type": "code",
   "execution_count": 26,
   "metadata": {},
   "outputs": [
    {
     "data": {
      "text/plain": [
       "621303"
      ]
     },
     "execution_count": 26,
     "metadata": {},
     "output_type": "execute_result"
    }
   ],
   "source": [
    "len(df)"
   ]
  },
  {
   "cell_type": "code",
   "execution_count": 29,
   "metadata": {},
   "outputs": [
    {
     "data": {
      "text/plain": [
       "pandas.core.frame.DataFrame"
      ]
     },
     "execution_count": 29,
     "metadata": {},
     "output_type": "execute_result"
    }
   ],
   "source": [
    "type(df)"
   ]
  },
  {
   "cell_type": "code",
   "execution_count": 31,
   "metadata": {},
   "outputs": [],
   "source": [
    "# local copy\n",
    "df.to_csv(\"df.csv\",float_format)"
   ]
  },
  {
   "cell_type": "code",
   "execution_count": 121,
   "metadata": {
    "scrolled": false
   },
   "outputs": [
    {
     "name": "stdout",
     "output_type": "stream",
     "text": [
      "Stored 'df_zva05' (DataFrame)\n"
     ]
    }
   ],
   "source": [
    "# store local var\n",
    "df_zva05 = df"
   ]
  },
  {
   "cell_type": "code",
   "execution_count": 408,
   "metadata": {
    "scrolled": true
   },
   "outputs": [
    {
     "data": {
      "text/plain": [
       "count    591850.000000\n",
       "mean         19.662274\n",
       "std          31.966221\n",
       "min           0.000000\n",
       "25%           0.000000\n",
       "50%           0.000000\n",
       "75%          32.000000\n",
       "max         387.000000\n",
       "Name: waiting_days, dtype: float64"
      ]
     },
     "execution_count": 408,
     "metadata": {},
     "output_type": "execute_result"
    }
   ],
   "source": [
    "df_zva05.loc[df_zva05['waiting_days']>=0]['waiting_days'].describe()"
   ]
  },
  {
   "cell_type": "code",
   "execution_count": 486,
   "metadata": {},
   "outputs": [
    {
     "name": "stdout",
     "output_type": "stream",
     "text": [
      "number of records with 0-day wait period:\n"
     ]
    },
    {
     "data": {
      "text/plain": [
       "316523"
      ]
     },
     "execution_count": 486,
     "metadata": {},
     "output_type": "execute_result"
    }
   ],
   "source": [
    "print(\"number of records with 0-day wait period:\")\n",
    "len(df_zva05.loc[df_zva05['waiting_days']==0])"
   ]
  },
  {
   "cell_type": "code",
   "execution_count": 487,
   "metadata": {},
   "outputs": [
    {
     "name": "stdout",
     "output_type": "stream",
     "text": [
      "total number of records:\n"
     ]
    },
    {
     "data": {
      "text/plain": [
       "622774"
      ]
     },
     "execution_count": 487,
     "metadata": {},
     "output_type": "execute_result"
    }
   ],
   "source": [
    "print(\"total number of records:\")\n",
    "len(df)"
   ]
  },
  {
   "cell_type": "code",
   "execution_count": 488,
   "metadata": {},
   "outputs": [
    {
     "name": "stdout",
     "output_type": "stream",
     "text": [
      "number of records with at least 1 day of wait period:\n"
     ]
    },
    {
     "data": {
      "text/plain": [
       "275327"
      ]
     },
     "execution_count": 488,
     "metadata": {},
     "output_type": "execute_result"
    }
   ],
   "source": [
    "print(\"number of records with at least 1 day of wait period:\")\n",
    "len(df[df['waiting_days'] > 0])"
   ]
  },
  {
   "cell_type": "markdown",
   "metadata": {},
   "source": [
    "### Visualize the intervals between requested delivery dates and order dates"
   ]
  },
  {
   "cell_type": "code",
   "execution_count": 85,
   "metadata": {},
   "outputs": [
    {
     "data": {
      "text/plain": [
       "35.0"
      ]
     },
     "execution_count": 85,
     "metadata": {},
     "output_type": "execute_result"
    }
   ],
   "source": [
    "# exclude records with negative intervals\n",
    "df_corrected = df[df['waiting_days'] > 0]\n",
    "df_corrected['waiting_days'].median()"
   ]
  },
  {
   "cell_type": "code",
   "execution_count": 454,
   "metadata": {},
   "outputs": [],
   "source": [
    "import matplotlib.pyplot as plt\n",
    "%matplotlib inline\n",
    "import seaborn as sns\n",
    "\n",
    "def plot_waiting_period(X, kde_bool, x_lo, x_hi, mean_line=None, median_line=None, bins_=None):\n",
    "    plt.figure(figsize=(15,8))\n",
    "    sns.set_style('darkgrid')\n",
    "    fig = sns.distplot(X, kde=kde_bool,bins=bins_,hist_kws=dict(edgecolor='k',linewidth=.5))\n",
    "    if mean_line:\n",
    "        plt.axvline(x=mean_line,color='green',linestyle='dashed',alpha=0.8)\n",
    "    if median_line:\n",
    "        plt.axvline(x=median_line,color='purple',linestyle='dotted',alpha=0.8)\n",
    "    plt.xlim(x_lo, x_hi)"
   ]
  },
  {
   "cell_type": "code",
   "execution_count": 495,
   "metadata": {
    "scrolled": true
   },
   "outputs": [
    {
     "name": "stdout",
     "output_type": "stream",
     "text": [
      "Overall stat for wait_days (interval > 0)\n"
     ]
    },
    {
     "data": {
      "image/png": "[encoded data removed]",
      "text/plain": [
       "<matplotlib.figure.Figure at 0x22289c079e8>"
      ]
     },
     "metadata": {},
     "output_type": "display_data"
    }
   ],
   "source": [
    "print(\"Overall stat for wait_days (interval > 0)\")\n",
    "plot_waiting_period(df_corrected['waiting_days'], True, 0, 200, mean_line=19.662274, bins_= [i for i in range(300)])"
   ]
  },
  {
   "cell_type": "code",
   "execution_count": 455,
   "metadata": {},
   "outputs": [],
   "source": [
    "# What is the most common interval for STD/HYB customers? Including 0 days datapoints\n",
    "def breakdown_salesoffice_intervals(SalesOffice, include_zero_bool, lo=0, hi=60, mean_line=None, median_line=None,bins_=None):\n",
    "    df_mini = df[df['waiting_days'] >= 0] if include_zero_bool else df[df['waiting_days'] > 0]\n",
    "    grouped = df_mini['waiting_days'].groupby(df_mini['SalesOffice'])\n",
    "    X = df_mini.loc[df['SalesOffice'] == SalesOffice]['waiting_days']\n",
    "    plot_waiting_period(X,False,lo,hi,mean_line,median_line,bins_)\n",
    "    \n",
    "    return df_mini.describe()"
   ]
  },
  {
   "cell_type": "code",
   "execution_count": 456,
   "metadata": {},
   "outputs": [
    {
     "data": {
      "text/html": [
       "<div>\n",
       "<style scoped>\n",
       "    .dataframe tbody tr th:only-of-type {\n",
       "        vertical-align: middle;\n",
       "    }\n",
       "\n",
       "    .dataframe tbody tr th {\n",
       "        vertical-align: top;\n",
       "    }\n",
       "\n",
       "    .dataframe thead th {\n",
       "        text-align: right;\n",
       "    }\n",
       "</style>\n",
       "<table border=\"1\" class=\"dataframe\">\n",
       "  <thead>\n",
       "    <tr style=\"text-align: right;\">\n",
       "      <th></th>\n",
       "      <th>count</th>\n",
       "      <th>mean</th>\n",
       "      <th>std</th>\n",
       "      <th>min</th>\n",
       "      <th>25%</th>\n",
       "      <th>50%</th>\n",
       "      <th>75%</th>\n",
       "      <th>max</th>\n",
       "    </tr>\n",
       "    <tr>\n",
       "      <th>SalesOffice</th>\n",
       "      <th></th>\n",
       "      <th></th>\n",
       "      <th></th>\n",
       "      <th></th>\n",
       "      <th></th>\n",
       "      <th></th>\n",
       "      <th></th>\n",
       "      <th></th>\n",
       "    </tr>\n",
       "  </thead>\n",
       "  <tbody>\n",
       "    <tr>\n",
       "      <th>HYB</th>\n",
       "      <td>44287.0</td>\n",
       "      <td>14.00779</td>\n",
       "      <td>25.914710</td>\n",
       "      <td>0.0</td>\n",
       "      <td>0.0</td>\n",
       "      <td>7.0</td>\n",
       "      <td>14.0</td>\n",
       "      <td>220.0</td>\n",
       "    </tr>\n",
       "    <tr>\n",
       "      <th>STD</th>\n",
       "      <td>547563.0</td>\n",
       "      <td>20.11961</td>\n",
       "      <td>32.363175</td>\n",
       "      <td>0.0</td>\n",
       "      <td>0.0</td>\n",
       "      <td>0.0</td>\n",
       "      <td>34.0</td>\n",
       "      <td>387.0</td>\n",
       "    </tr>\n",
       "  </tbody>\n",
       "</table>\n",
       "</div>"
      ],
      "text/plain": [
       "                count      mean        std  min  25%  50%   75%    max\n",
       "SalesOffice                                                           \n",
       "HYB           44287.0  14.00779  25.914710  0.0  0.0  7.0  14.0  220.0\n",
       "STD          547563.0  20.11961  32.363175  0.0  0.0  0.0  34.0  387.0"
      ]
     },
     "execution_count": 456,
     "metadata": {},
     "output_type": "execute_result"
    }
   ],
   "source": [
    "df.loc[df['waiting_days']>=0].groupby(df['SalesOffice'])['waiting_days'].describe()"
   ]
  },
  {
   "cell_type": "code",
   "execution_count": 483,
   "metadata": {},
   "outputs": [
    {
     "name": "stdout",
     "output_type": "stream",
     "text": [
      "Waiting period count (including zero days) for STD\n"
     ]
    },
    {
     "data": {
      "image/png": "[encoded data removed]",
      "text/plain": [
       "<matplotlib.figure.Figure at 0x222fb685278>"
      ]
     },
     "metadata": {},
     "output_type": "display_data"
    }
   ],
   "source": [
    "breakdown_salesoffice_intervals('STD',True,0,60,bins_=[i for i in range(60)])\n",
    "print(\"Waiting period count (including zero days) for STD\")"
   ]
  },
  {
   "cell_type": "code",
   "execution_count": 481,
   "metadata": {
    "scrolled": true
   },
   "outputs": [
    {
     "name": "stdout",
     "output_type": "stream",
     "text": [
      "Waiting period count (including zero days) for HYB\n"
     ]
    },
    {
     "data": {
      "image/png": "[encoded data removed]",
      "text/plain": [
       "<matplotlib.figure.Figure at 0x222f2749e48>"
      ]
     },
     "metadata": {},
     "output_type": "display_data"
    }
   ],
   "source": [
    "breakdown_salesoffice_intervals('HYB', True, 0, 60,mean_line=13.7,median_line=7,bins_=[i for i in range(60)])\n",
    "print(\"Waiting period count (including zero days) for HYB\")"
   ]
  },
  {
   "cell_type": "code",
   "execution_count": 70,
   "metadata": {},
   "outputs": [
    {
     "data": {
      "text/html": [
       "<div>\n",
       "<style scoped>\n",
       "    .dataframe tbody tr th:only-of-type {\n",
       "        vertical-align: middle;\n",
       "    }\n",
       "\n",
       "    .dataframe tbody tr th {\n",
       "        vertical-align: top;\n",
       "    }\n",
       "\n",
       "    .dataframe thead th {\n",
       "        text-align: right;\n",
       "    }\n",
       "</style>\n",
       "<table border=\"1\" class=\"dataframe\">\n",
       "  <thead>\n",
       "    <tr style=\"text-align: right;\">\n",
       "      <th></th>\n",
       "      <th>count</th>\n",
       "      <th>mean</th>\n",
       "      <th>std</th>\n",
       "      <th>min</th>\n",
       "      <th>25%</th>\n",
       "      <th>50%</th>\n",
       "      <th>75%</th>\n",
       "      <th>max</th>\n",
       "    </tr>\n",
       "    <tr>\n",
       "      <th>SalesOffice</th>\n",
       "      <th></th>\n",
       "      <th></th>\n",
       "      <th></th>\n",
       "      <th></th>\n",
       "      <th></th>\n",
       "      <th></th>\n",
       "      <th></th>\n",
       "      <th></th>\n",
       "    </tr>\n",
       "  </thead>\n",
       "  <tbody>\n",
       "    <tr>\n",
       "      <th>HYB</th>\n",
       "      <td>30825.0</td>\n",
       "      <td>19.562109</td>\n",
       "      <td>27.959768</td>\n",
       "      <td>1.0</td>\n",
       "      <td>7.0</td>\n",
       "      <td>9.0</td>\n",
       "      <td>17.0</td>\n",
       "      <td>220.0</td>\n",
       "    </tr>\n",
       "    <tr>\n",
       "      <th>STD</th>\n",
       "      <td>244239.0</td>\n",
       "      <td>45.112013</td>\n",
       "      <td>34.946561</td>\n",
       "      <td>1.0</td>\n",
       "      <td>20.0</td>\n",
       "      <td>38.0</td>\n",
       "      <td>60.0</td>\n",
       "      <td>387.0</td>\n",
       "    </tr>\n",
       "  </tbody>\n",
       "</table>\n",
       "</div>"
      ],
      "text/plain": [
       "                count       mean        std  min   25%   50%   75%    max\n",
       "SalesOffice                                                              \n",
       "HYB           30825.0  19.562109  27.959768  1.0   7.0   9.0  17.0  220.0\n",
       "STD          244239.0  45.112013  34.946561  1.0  20.0  38.0  60.0  387.0"
      ]
     },
     "execution_count": 70,
     "metadata": {},
     "output_type": "execute_result"
    }
   ],
   "source": [
    "# What is the common interval for STD/HYB customers? Excluding 0 days datapoints\n",
    "df_corrected['waiting_days'].groupby(df_corrected['SalesOffice']).describe()"
   ]
  },
  {
   "cell_type": "code",
   "execution_count": 496,
   "metadata": {},
   "outputs": [
    {
     "name": "stdout",
     "output_type": "stream",
     "text": [
      "Waiting period counts (excluding zero days) for STD dealers\n"
     ]
    },
    {
     "data": {
      "image/png": "[encoded data removed]",
      "text/plain": [
       "<matplotlib.figure.Figure at 0x22308ca60f0>"
      ]
     },
     "metadata": {},
     "output_type": "display_data"
    }
   ],
   "source": [
    "breakdown_salesoffice_intervals('STD', False, 0, 100, mean_line=45.112013,bins_=[i for i in range(300)])\n",
    "print(\"Waiting period counts (excluding zero days) for STD dealers\")"
   ]
  },
  {
   "cell_type": "code",
   "execution_count": 497,
   "metadata": {
    "scrolled": true
   },
   "outputs": [
    {
     "name": "stdout",
     "output_type": "stream",
     "text": [
      "Wait period counts (excluding zero days) for HYB dealers\n"
     ]
    },
    {
     "data": {
      "image/png": "[encoded data removed]",
      "text/plain": [
       "<matplotlib.figure.Figure at 0x222e1e10470>"
      ]
     },
     "metadata": {},
     "output_type": "display_data"
    }
   ],
   "source": [
    "breakdown_salesoffice_intervals('HYB',False,0,50,median_line=9,bins_=[i for i in range(300)])  # median, NOT mean\n",
    "print(\"Wait period counts (excluding zero days) for HYB dealers\")"
   ]
  },
  {
   "cell_type": "code",
   "execution_count": 4,
   "metadata": {},
   "outputs": [
    {
     "data": {
      "text/html": [
       "<div>\n",
       "<style scoped>\n",
       "    .dataframe tbody tr th:only-of-type {\n",
       "        vertical-align: middle;\n",
       "    }\n",
       "\n",
       "    .dataframe tbody tr th {\n",
       "        vertical-align: top;\n",
       "    }\n",
       "\n",
       "    .dataframe thead th {\n",
       "        text-align: right;\n",
       "    }\n",
       "</style>\n",
       "<table border=\"1\" class=\"dataframe\">\n",
       "  <thead>\n",
       "    <tr style=\"text-align: right;\">\n",
       "      <th></th>\n",
       "      <th>SD_Item</th>\n",
       "      <th>Product_Hierarchy</th>\n",
       "      <th>Unit_Price</th>\n",
       "      <th>Confirmed_Line_Quantity</th>\n",
       "      <th>Confirmed_Line_Value</th>\n",
       "      <th>Net_Value</th>\n",
       "      <th>Net_Value_Actual</th>\n",
       "      <th>waiting_days</th>\n",
       "    </tr>\n",
       "  </thead>\n",
       "  <tbody>\n",
       "    <tr>\n",
       "      <th>count</th>\n",
       "      <td>315335.000000</td>\n",
       "      <td>3.124190e+05</td>\n",
       "      <td>315335.000000</td>\n",
       "      <td>315335.000000</td>\n",
       "      <td>3.153350e+05</td>\n",
       "      <td>315335.000000</td>\n",
       "      <td>3.153350e+05</td>\n",
       "      <td>315335.0</td>\n",
       "    </tr>\n",
       "    <tr>\n",
       "      <th>mean</th>\n",
       "      <td>92.288138</td>\n",
       "      <td>1.573280e+15</td>\n",
       "      <td>96.615205</td>\n",
       "      <td>14.611883</td>\n",
       "      <td>5.125195e+02</td>\n",
       "      <td>37.400989</td>\n",
       "      <td>5.183426e+02</td>\n",
       "      <td>0.0</td>\n",
       "    </tr>\n",
       "    <tr>\n",
       "      <th>std</th>\n",
       "      <td>99.537444</td>\n",
       "      <td>4.973814e+14</td>\n",
       "      <td>101.313522</td>\n",
       "      <td>122.141822</td>\n",
       "      <td>5.575661e+03</td>\n",
       "      <td>522.418782</td>\n",
       "      <td>5.590584e+03</td>\n",
       "      <td>0.0</td>\n",
       "    </tr>\n",
       "    <tr>\n",
       "      <th>min</th>\n",
       "      <td>10.000000</td>\n",
       "      <td>1.010101e+15</td>\n",
       "      <td>0.000000</td>\n",
       "      <td>0.000000</td>\n",
       "      <td>0.000000e+00</td>\n",
       "      <td>0.000000</td>\n",
       "      <td>0.000000e+00</td>\n",
       "      <td>0.0</td>\n",
       "    </tr>\n",
       "    <tr>\n",
       "      <th>25%</th>\n",
       "      <td>30.000000</td>\n",
       "      <td>1.010101e+15</td>\n",
       "      <td>17.990000</td>\n",
       "      <td>2.000000</td>\n",
       "      <td>1.199600e+02</td>\n",
       "      <td>2.000000</td>\n",
       "      <td>1.199800e+02</td>\n",
       "      <td>0.0</td>\n",
       "    </tr>\n",
       "    <tr>\n",
       "      <th>50%</th>\n",
       "      <td>60.000000</td>\n",
       "      <td>2.013143e+15</td>\n",
       "      <td>23.990000</td>\n",
       "      <td>6.000000</td>\n",
       "      <td>2.144900e+02</td>\n",
       "      <td>6.000000</td>\n",
       "      <td>2.158800e+02</td>\n",
       "      <td>0.0</td>\n",
       "    </tr>\n",
       "    <tr>\n",
       "      <th>75%</th>\n",
       "      <td>120.000000</td>\n",
       "      <td>2.013143e+15</td>\n",
       "      <td>194.990000</td>\n",
       "      <td>12.000000</td>\n",
       "      <td>3.726800e+02</td>\n",
       "      <td>12.000000</td>\n",
       "      <td>3.778200e+02</td>\n",
       "      <td>0.0</td>\n",
       "    </tr>\n",
       "    <tr>\n",
       "      <th>max</th>\n",
       "      <td>1200.000000</td>\n",
       "      <td>2.013193e+15</td>\n",
       "      <td>1104.990000</td>\n",
       "      <td>20958.000000</td>\n",
       "      <td>2.305360e+06</td>\n",
       "      <td>126743.500000</td>\n",
       "      <td>2.305360e+06</td>\n",
       "      <td>0.0</td>\n",
       "    </tr>\n",
       "  </tbody>\n",
       "</table>\n",
       "</div>"
      ],
      "text/plain": [
       "             SD_Item  Product_Hierarchy     Unit_Price  \\\n",
       "count  315335.000000       3.124190e+05  315335.000000   \n",
       "mean       92.288138       1.573280e+15      96.615205   \n",
       "std        99.537444       4.973814e+14     101.313522   \n",
       "min        10.000000       1.010101e+15       0.000000   \n",
       "25%        30.000000       1.010101e+15      17.990000   \n",
       "50%        60.000000       2.013143e+15      23.990000   \n",
       "75%       120.000000       2.013143e+15     194.990000   \n",
       "max      1200.000000       2.013193e+15    1104.990000   \n",
       "\n",
       "       Confirmed_Line_Quantity  Confirmed_Line_Value      Net_Value  \\\n",
       "count            315335.000000          3.153350e+05  315335.000000   \n",
       "mean                 14.611883          5.125195e+02      37.400989   \n",
       "std                 122.141822          5.575661e+03     522.418782   \n",
       "min                   0.000000          0.000000e+00       0.000000   \n",
       "25%                   2.000000          1.199600e+02       2.000000   \n",
       "50%                   6.000000          2.144900e+02       6.000000   \n",
       "75%                  12.000000          3.726800e+02      12.000000   \n",
       "max               20958.000000          2.305360e+06  126743.500000   \n",
       "\n",
       "       Net_Value_Actual  waiting_days  \n",
       "count      3.153350e+05      315335.0  \n",
       "mean       5.183426e+02           0.0  \n",
       "std        5.590584e+03           0.0  \n",
       "min        0.000000e+00           0.0  \n",
       "25%        1.199800e+02           0.0  \n",
       "50%        2.158800e+02           0.0  \n",
       "75%        3.778200e+02           0.0  \n",
       "max        2.305360e+06           0.0  "
      ]
     },
     "execution_count": 4,
     "metadata": {},
     "output_type": "execute_result"
    }
   ],
   "source": [
    "asap_group = df[df['waiting_days']==0]\n",
    "asap_group.describe()"
   ]
  },
  {
   "cell_type": "code",
   "execution_count": 5,
   "metadata": {},
   "outputs": [
    {
     "data": {
      "text/html": [
       "<div>\n",
       "<style scoped>\n",
       "    .dataframe tbody tr th:only-of-type {\n",
       "        vertical-align: middle;\n",
       "    }\n",
       "\n",
       "    .dataframe tbody tr th {\n",
       "        vertical-align: top;\n",
       "    }\n",
       "\n",
       "    .dataframe thead th {\n",
       "        text-align: right;\n",
       "    }\n",
       "</style>\n",
       "<table border=\"1\" class=\"dataframe\">\n",
       "  <thead>\n",
       "    <tr style=\"text-align: right;\">\n",
       "      <th></th>\n",
       "      <th>SD_Item</th>\n",
       "      <th>Product_Hierarchy</th>\n",
       "      <th>Unit_Price</th>\n",
       "      <th>Confirmed_Line_Quantity</th>\n",
       "      <th>Confirmed_Line_Value</th>\n",
       "      <th>Net_Value</th>\n",
       "      <th>Net_Value_Actual</th>\n",
       "      <th>waiting_days</th>\n",
       "    </tr>\n",
       "  </thead>\n",
       "  <tbody>\n",
       "    <tr>\n",
       "      <th>count</th>\n",
       "      <td>275064.000000</td>\n",
       "      <td>2.680300e+05</td>\n",
       "      <td>275064.000000</td>\n",
       "      <td>275064.000000</td>\n",
       "      <td>275064.000000</td>\n",
       "      <td>275064.000000</td>\n",
       "      <td>275064.000000</td>\n",
       "      <td>275064.000000</td>\n",
       "    </tr>\n",
       "    <tr>\n",
       "      <th>mean</th>\n",
       "      <td>104.290896</td>\n",
       "      <td>1.617836e+15</td>\n",
       "      <td>89.771429</td>\n",
       "      <td>21.707592</td>\n",
       "      <td>705.012408</td>\n",
       "      <td>321.438641</td>\n",
       "      <td>717.486700</td>\n",
       "      <td>42.248768</td>\n",
       "    </tr>\n",
       "    <tr>\n",
       "      <th>std</th>\n",
       "      <td>117.748553</td>\n",
       "      <td>4.898662e+14</td>\n",
       "      <td>94.586023</td>\n",
       "      <td>97.203313</td>\n",
       "      <td>2354.578578</td>\n",
       "      <td>1473.090244</td>\n",
       "      <td>2361.589214</td>\n",
       "      <td>35.170482</td>\n",
       "    </tr>\n",
       "    <tr>\n",
       "      <th>min</th>\n",
       "      <td>1.000000</td>\n",
       "      <td>2.000000e+01</td>\n",
       "      <td>0.000000</td>\n",
       "      <td>0.000000</td>\n",
       "      <td>0.000000</td>\n",
       "      <td>0.000000</td>\n",
       "      <td>0.000000</td>\n",
       "      <td>1.000000</td>\n",
       "    </tr>\n",
       "    <tr>\n",
       "      <th>25%</th>\n",
       "      <td>30.000000</td>\n",
       "      <td>1.011122e+15</td>\n",
       "      <td>17.990000</td>\n",
       "      <td>2.000000</td>\n",
       "      <td>125.940000</td>\n",
       "      <td>6.000000</td>\n",
       "      <td>125.940000</td>\n",
       "      <td>15.000000</td>\n",
       "    </tr>\n",
       "    <tr>\n",
       "      <th>50%</th>\n",
       "      <td>70.000000</td>\n",
       "      <td>2.013143e+15</td>\n",
       "      <td>23.990000</td>\n",
       "      <td>6.000000</td>\n",
       "      <td>227.490000</td>\n",
       "      <td>71.940000</td>\n",
       "      <td>227.490000</td>\n",
       "      <td>35.000000</td>\n",
       "    </tr>\n",
       "    <tr>\n",
       "      <th>75%</th>\n",
       "      <td>130.000000</td>\n",
       "      <td>2.013143e+15</td>\n",
       "      <td>181.990000</td>\n",
       "      <td>12.000000</td>\n",
       "      <td>441.990000</td>\n",
       "      <td>227.490000</td>\n",
       "      <td>454.980000</td>\n",
       "      <td>56.000000</td>\n",
       "    </tr>\n",
       "    <tr>\n",
       "      <th>max</th>\n",
       "      <td>1430.000000</td>\n",
       "      <td>2.013193e+15</td>\n",
       "      <td>844.990000</td>\n",
       "      <td>5544.000000</td>\n",
       "      <td>134219.100000</td>\n",
       "      <td>134219.100000</td>\n",
       "      <td>134219.100000</td>\n",
       "      <td>387.000000</td>\n",
       "    </tr>\n",
       "  </tbody>\n",
       "</table>\n",
       "</div>"
      ],
      "text/plain": [
       "             SD_Item  Product_Hierarchy     Unit_Price  \\\n",
       "count  275064.000000       2.680300e+05  275064.000000   \n",
       "mean      104.290896       1.617836e+15      89.771429   \n",
       "std       117.748553       4.898662e+14      94.586023   \n",
       "min         1.000000       2.000000e+01       0.000000   \n",
       "25%        30.000000       1.011122e+15      17.990000   \n",
       "50%        70.000000       2.013143e+15      23.990000   \n",
       "75%       130.000000       2.013143e+15     181.990000   \n",
       "max      1430.000000       2.013193e+15     844.990000   \n",
       "\n",
       "       Confirmed_Line_Quantity  Confirmed_Line_Value      Net_Value  \\\n",
       "count            275064.000000         275064.000000  275064.000000   \n",
       "mean                 21.707592            705.012408     321.438641   \n",
       "std                  97.203313           2354.578578    1473.090244   \n",
       "min                   0.000000              0.000000       0.000000   \n",
       "25%                   2.000000            125.940000       6.000000   \n",
       "50%                   6.000000            227.490000      71.940000   \n",
       "75%                  12.000000            441.990000     227.490000   \n",
       "max                5544.000000         134219.100000  134219.100000   \n",
       "\n",
       "       Net_Value_Actual   waiting_days  \n",
       "count     275064.000000  275064.000000  \n",
       "mean         717.486700      42.248768  \n",
       "std         2361.589214      35.170482  \n",
       "min            0.000000       1.000000  \n",
       "25%          125.940000      15.000000  \n",
       "50%          227.490000      35.000000  \n",
       "75%          454.980000      56.000000  \n",
       "max       134219.100000     387.000000  "
      ]
     },
     "execution_count": 5,
     "metadata": {},
     "output_type": "execute_result"
    }
   ],
   "source": [
    "waiting_group = df[df['waiting_days']>0]\n",
    "waiting_group.describe()"
   ]
  }
 ],
 "metadata": {
  "kernelspec": {
   "display_name": "Python 3",
   "language": "python",
   "name": "python3"
  },
  "language_info": {
   "codemirror_mode": {
    "name": "ipython",
    "version": 3
   },
   "file_extension": ".py",
   "mimetype": "text/x-python",
   "name": "python",
   "nbconvert_exporter": "python",
   "pygments_lexer": "ipython3",
   "version": "3.6.4"
  }
 },
 "nbformat": 4,
 "nbformat_minor": 2
}
