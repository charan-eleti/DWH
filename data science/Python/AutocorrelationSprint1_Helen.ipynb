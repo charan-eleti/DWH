{
 "cells": [
  {
   "cell_type": "code",
   "execution_count": 1,
   "metadata": {},
   "outputs": [
    {
     "name": "stderr",
     "output_type": "stream",
     "text": [
      "C:\\Users\\Helen.Tian\\AppData\\Local\\Continuum\\anaconda3\\lib\\site-packages\\statsmodels\\compat\\pandas.py:56: FutureWarning: The pandas.core.datetools module is deprecated and will be removed in a future version. Please use the pandas.tseries module instead.\n",
      "  from pandas.core import datetools\n"
     ]
    }
   ],
   "source": [
    "import pandas as pd\n",
    "import numpy as np\n",
    "import pyodbc          #link to the data warehouse\n",
    "from statsmodels.graphics.tsaplots import plot_acf, plot_pacf  #acf and pacf plot\n",
    "from datetime import datetime \n",
    "import matplotlib.pylab as plt"
   ]
  },
  {
   "cell_type": "code",
   "execution_count": 2,
   "metadata": {},
   "outputs": [],
   "source": [
    "conn = pyodbc.connect(\"Driver={ODBC Driver 13 for SQL Server};Server=yetidb01.database.windows.net;database=YETISQLDW01;uid=htian;PWD=HeLeNtIAn52!\")\n",
    "cursor = conn.cursor()"
   ]
  },
  {
   "cell_type": "code",
   "execution_count": 3,
   "metadata": {},
   "outputs": [],
   "source": [
    "# order_fct join product_dim // SalesOffice = STD + HYP execlude: 'TJX' and 'ACK LLC' // Core + not been cancelled + GrossPrice>0\n",
    "df = pd.read_sql(\"SELECT O.OrderDate, O.ProductID, O.GrossPrice , O.SalesOffice, O.OrderQTY, P.ProductID, P.ProductCategory, P.MasterSKU, P.ProductType FROM [EDW].[ORDER_FCT] O left join [EDW].[PRODUCT_DIM] P on O.ProductID = P.ProductID WHERE O.SalesOffice = 'STD' or O.SalesOffice = 'HYB' and CustomerID != '91860' and CustomerID != '0000107894' and CustomerID != '0000114883' and P.ISCore = 'TRUE' and O.isCancelled = 'N' and O.GrossPrice>0 \", conn)"
   ]
  },
  {
   "cell_type": "code",
   "execution_count": 4,
   "metadata": {},
   "outputs": [
    {
     "data": {
      "text/html": [
       "<div>\n",
       "<style scoped>\n",
       "    .dataframe tbody tr th:only-of-type {\n",
       "        vertical-align: middle;\n",
       "    }\n",
       "\n",
       "    .dataframe tbody tr th {\n",
       "        vertical-align: top;\n",
       "    }\n",
       "\n",
       "    .dataframe thead th {\n",
       "        text-align: right;\n",
       "    }\n",
       "</style>\n",
       "<table border=\"1\" class=\"dataframe\">\n",
       "  <thead>\n",
       "    <tr style=\"text-align: right;\">\n",
       "      <th></th>\n",
       "      <th>OrderDate</th>\n",
       "      <th>ProductID</th>\n",
       "      <th>GrossPrice</th>\n",
       "      <th>SalesOffice</th>\n",
       "      <th>OrderQTY</th>\n",
       "      <th>ProductID</th>\n",
       "      <th>ProductCategory</th>\n",
       "      <th>MasterSKU</th>\n",
       "      <th>ProductType</th>\n",
       "    </tr>\n",
       "  </thead>\n",
       "  <tbody>\n",
       "    <tr>\n",
       "      <th>0</th>\n",
       "      <td>2017-03-30</td>\n",
       "      <td>10105010000</td>\n",
       "      <td>325.25</td>\n",
       "      <td>STD</td>\n",
       "      <td>1</td>\n",
       "      <td>10105010000</td>\n",
       "      <td>Hard Cooler</td>\n",
       "      <td>Tundra 105</td>\n",
       "      <td>Tundra</td>\n",
       "    </tr>\n",
       "    <tr>\n",
       "      <th>1</th>\n",
       "      <td>2018-02-09</td>\n",
       "      <td>21020070005</td>\n",
       "      <td>13.95</td>\n",
       "      <td>STD</td>\n",
       "      <td>3</td>\n",
       "      <td>21020070005</td>\n",
       "      <td>Gear &amp; Apparel</td>\n",
       "      <td>Shirts</td>\n",
       "      <td>Gear</td>\n",
       "    </tr>\n",
       "    <tr>\n",
       "      <th>2</th>\n",
       "      <td>2018-01-03</td>\n",
       "      <td>20020010001</td>\n",
       "      <td>54.72</td>\n",
       "      <td>STD</td>\n",
       "      <td>1</td>\n",
       "      <td>20020010001</td>\n",
       "      <td>Hard Cooler</td>\n",
       "      <td>Corner Chocks</td>\n",
       "      <td>Tie Down</td>\n",
       "    </tr>\n",
       "    <tr>\n",
       "      <th>3</th>\n",
       "      <td>2018-04-09</td>\n",
       "      <td>18060130001</td>\n",
       "      <td>162.49</td>\n",
       "      <td>HYB</td>\n",
       "      <td>1</td>\n",
       "      <td>18060130001</td>\n",
       "      <td>Soft Cooler</td>\n",
       "      <td>Flip 12</td>\n",
       "      <td>Flip</td>\n",
       "    </tr>\n",
       "    <tr>\n",
       "      <th>4</th>\n",
       "      <td>2018-02-20</td>\n",
       "      <td>17045010000</td>\n",
       "      <td>129.99</td>\n",
       "      <td>HYB</td>\n",
       "      <td>1</td>\n",
       "      <td>17045010000</td>\n",
       "      <td>Hard Cooler</td>\n",
       "      <td>Tank 45</td>\n",
       "      <td>Tank</td>\n",
       "    </tr>\n",
       "  </tbody>\n",
       "</table>\n",
       "</div>"
      ],
      "text/plain": [
       "    OrderDate    ProductID  GrossPrice SalesOffice  OrderQTY    ProductID  \\\n",
       "0  2017-03-30  10105010000      325.25         STD         1  10105010000   \n",
       "1  2018-02-09  21020070005       13.95         STD         3  21020070005   \n",
       "2  2018-01-03  20020010001       54.72         STD         1  20020010001   \n",
       "3  2018-04-09  18060130001      162.49         HYB         1  18060130001   \n",
       "4  2018-02-20  17045010000      129.99         HYB         1  17045010000   \n",
       "\n",
       "  ProductCategory      MasterSKU ProductType  \n",
       "0     Hard Cooler     Tundra 105      Tundra  \n",
       "1  Gear & Apparel         Shirts        Gear  \n",
       "2     Hard Cooler  Corner Chocks    Tie Down  \n",
       "3     Soft Cooler        Flip 12        Flip  \n",
       "4     Hard Cooler        Tank 45        Tank  "
      ]
     },
     "execution_count": 4,
     "metadata": {},
     "output_type": "execute_result"
    }
   ],
   "source": [
    "df.head()"
   ]
  },
  {
   "cell_type": "code",
   "execution_count": 5,
   "metadata": {},
   "outputs": [],
   "source": [
    "df1=df.copy()\n",
    "o=[str(x.year)+'-'+str(x.month) for x in df1.OrderDate]\n",
    "df1.OrderDate=[datetime.strptime(x,'%Y-%m')for x in o]  # change datetime from Y-M-D to Y-M-01 => same month\n"
   ]
  },
  {
   "cell_type": "code",
   "execution_count": 6,
   "metadata": {},
   "outputs": [],
   "source": [
    "# Drinkware\n",
    "DK=df1[df1.ProductCategory=='Drinkware']\n",
    "DK = DK.sort_values(by='OrderDate', ascending=True)\n",
    "dk = DK.groupby('OrderDate')['OrderQTY'].sum()[3:-6]"
   ]
  },
  {
   "cell_type": "code",
   "execution_count": 10,
   "metadata": {},
   "outputs": [
    {
     "data": {
      "text/plain": [
       "Timestamp('2013-10-01 00:00:00')"
      ]
     },
     "execution_count": 10,
     "metadata": {},
     "output_type": "execute_result"
    }
   ],
   "source": [
    "min(DK.OrderDate)"
   ]
  },
  {
   "cell_type": "code",
   "execution_count": 7,
   "metadata": {},
   "outputs": [],
   "source": [
    "#DK[(DK['OrderDate'] >= '2014-01-01') & (DK['OrderDate'] < '2018-01-01')]"
   ]
  },
  {
   "cell_type": "code",
   "execution_count": 8,
   "metadata": {
    "scrolled": true
   },
   "outputs": [
    {
     "data": {
      "text/plain": [
       "OrderDate\n",
       "2014-01-01        108\n",
       "2014-02-01      18580\n",
       "2014-03-01      12739\n",
       "2014-04-01       3510\n",
       "2014-05-01      19763\n",
       "2014-06-01      42057\n",
       "2014-07-01      76095\n",
       "2014-08-01     107840\n",
       "2014-09-01     116589\n",
       "2014-10-01      86050\n",
       "2014-11-01     116353\n",
       "2014-12-01     454643\n",
       "2015-01-01     220795\n",
       "2015-02-01     292205\n",
       "2015-03-01     593259\n",
       "2015-04-01     679369\n",
       "2015-05-01     319170\n",
       "2015-06-01     691050\n",
       "2015-07-01     961036\n",
       "2015-08-01    1584980\n",
       "2015-09-01    1398364\n",
       "2015-10-01    2000301\n",
       "2015-11-01    1740753\n",
       "2015-12-01    4255714\n",
       "2016-01-01     918899\n",
       "2016-02-01     434985\n",
       "2016-03-01     349590\n",
       "2016-04-01    4665010\n",
       "2016-05-01    2670233\n",
       "2016-06-01    1539383\n",
       "2016-07-01     513700\n",
       "2016-08-01     612352\n",
       "2016-09-01     437964\n",
       "2016-10-01     243512\n",
       "2016-11-01     281800\n",
       "2016-12-01     478473\n",
       "2017-01-01     173857\n",
       "2017-02-01     935877\n",
       "2017-03-01     561397\n",
       "2017-04-01     844355\n",
       "2017-05-01     519970\n",
       "2017-06-01     899461\n",
       "2017-07-01    1267902\n",
       "2017-08-01     903334\n",
       "2017-09-01     727955\n",
       "2017-10-01     924868\n",
       "2017-11-01     720204\n",
       "2017-12-01     773175\n",
       "Name: OrderQTY, dtype: int64"
      ]
     },
     "execution_count": 8,
     "metadata": {},
     "output_type": "execute_result"
    }
   ],
   "source": [
    "dk"
   ]
  },
  {
   "cell_type": "code",
   "execution_count": 9,
   "metadata": {},
   "outputs": [],
   "source": [
    "avg1dk = [dk[:12]/np.sum(dk[:12])]\n",
    "avg2dk = [dk[12:24]/np.sum(dk[12:24])]\n",
    "avg3dk = [dk[24:36]/np.sum(dk[24:36])]\n",
    "avg4dk = [dk[36:]/np.sum(dk[36:])]"
   ]
  },
  {
   "cell_type": "code",
   "execution_count": 10,
   "metadata": {},
   "outputs": [],
   "source": [
    "q1=avg1dk[0].to_frame(name='Y2014').reset_index()['Y2014']\n",
    "q2=avg2dk[0].to_frame(name='Y2015').reset_index()['Y2015']\n",
    "q3=avg3dk[0].to_frame(name='Y2016').reset_index()['Y2016']\n",
    "q4=avg4dk[0].to_frame(name='Y2017').reset_index()['Y2017']"
   ]
  },
  {
   "cell_type": "code",
   "execution_count": 11,
   "metadata": {},
   "outputs": [],
   "source": [
    "D_K = pd.DataFrame(\n",
    "    {'Y2014': q1,\n",
    "     'Y2015': q2,\n",
    "     'Y2016': q3,\n",
    "     'Y2017': q4\n",
    "    })"
   ]
  },
  {
   "cell_type": "code",
   "execution_count": 26,
   "metadata": {},
   "outputs": [
    {
     "data": {
      "text/html": [
       "<div>\n",
       "<style scoped>\n",
       "    .dataframe tbody tr th:only-of-type {\n",
       "        vertical-align: middle;\n",
       "    }\n",
       "\n",
       "    .dataframe tbody tr th {\n",
       "        vertical-align: top;\n",
       "    }\n",
       "\n",
       "    .dataframe thead th {\n",
       "        text-align: right;\n",
       "    }\n",
       "</style>\n",
       "<table border=\"1\" class=\"dataframe\">\n",
       "  <thead>\n",
       "    <tr style=\"text-align: right;\">\n",
       "      <th></th>\n",
       "      <th>Y2014</th>\n",
       "      <th>Y2015</th>\n",
       "      <th>Y2016</th>\n",
       "      <th>Y2017</th>\n",
       "    </tr>\n",
       "  </thead>\n",
       "  <tbody>\n",
       "    <tr>\n",
       "      <th>Y2014</th>\n",
       "      <td>1.000000</td>\n",
       "      <td>0.959467</td>\n",
       "      <td>-0.322709</td>\n",
       "      <td>0.152978</td>\n",
       "    </tr>\n",
       "    <tr>\n",
       "      <th>Y2015</th>\n",
       "      <td>0.959467</td>\n",
       "      <td>1.000000</td>\n",
       "      <td>-0.331571</td>\n",
       "      <td>0.210490</td>\n",
       "    </tr>\n",
       "    <tr>\n",
       "      <th>Y2016</th>\n",
       "      <td>-0.322709</td>\n",
       "      <td>-0.331571</td>\n",
       "      <td>1.000000</td>\n",
       "      <td>-0.086284</td>\n",
       "    </tr>\n",
       "    <tr>\n",
       "      <th>Y2017</th>\n",
       "      <td>0.152978</td>\n",
       "      <td>0.210490</td>\n",
       "      <td>-0.086284</td>\n",
       "      <td>1.000000</td>\n",
       "    </tr>\n",
       "  </tbody>\n",
       "</table>\n",
       "</div>"
      ],
      "text/plain": [
       "          Y2014     Y2015     Y2016     Y2017\n",
       "Y2014  1.000000  0.959467 -0.322709  0.152978\n",
       "Y2015  0.959467  1.000000 -0.331571  0.210490\n",
       "Y2016 -0.322709 -0.331571  1.000000 -0.086284\n",
       "Y2017  0.152978  0.210490 -0.086284  1.000000"
      ]
     },
     "execution_count": 26,
     "metadata": {},
     "output_type": "execute_result"
    }
   ],
   "source": [
    "D_K.corr()"
   ]
  },
  {
   "cell_type": "code",
   "execution_count": 27,
   "metadata": {},
   "outputs": [
    {
     "data": {
      "text/plain": [
       "[None,\n",
       " None,\n",
       " None,\n",
       " None,\n",
       " None,\n",
       " None,\n",
       " None,\n",
       " None,\n",
       " None,\n",
       " None,\n",
       " None,\n",
       " None,\n",
       " None,\n",
       " None,\n",
       " None,\n",
       " None,\n",
       " None,\n",
       " None,\n",
       " None,\n",
       " None,\n",
       " None,\n",
       " None,\n",
       " None,\n",
       " None,\n",
       " None,\n",
       " None,\n",
       " None,\n",
       " None,\n",
       " None,\n",
       " None,\n",
       " None,\n",
       " None]"
      ]
     },
     "execution_count": 27,
     "metadata": {},
     "output_type": "execute_result"
    },
    {
     "data": {
      "image/png": "[encoded data removed]",
      "text/plain": [
       "<matplotlib.figure.Figure at 0x21c970d7278>"
      ]
     },
     "metadata": {},
     "output_type": "display_data"
    }
   ],
   "source": [
    "q=0\n",
    "Mon = ['Jan','Feb','Mar', 'Apr', 'May','Jun','Jul','Aug','Sep', 'Oct','Nov','Dec']\n",
    "f, axarr = plt.subplots(3, 4, figsize=(15,8))\n",
    "for i in range(3):\n",
    "    for j in range(4):\n",
    "        axarr[i,j].bar(['Y2014','Y2015','Y2016','Y2017'],D_K.iloc[q] )\n",
    "        axarr[i,j].set_title(Mon[q])\n",
    "        q+=1\n",
    "plt.suptitle(\"Drinkware\")\n",
    "plt.setp([a.get_xticklabels() for a in axarr[0, :]], visible=False)\n",
    "plt.setp([a.get_xticklabels() for a in axarr[1, :]], visible=False)"
   ]
  },
  {
   "cell_type": "code",
   "execution_count": 28,
   "metadata": {},
   "outputs": [],
   "source": [
    "# Soft Cooler\n",
    "SC=df1[df1.ProductCategory=='Soft Cooler']\n",
    "SC = SC.sort_values(by='OrderDate', ascending=True)\n",
    "sc = SC.groupby('OrderDate')['OrderQTY'].sum()[6:-6]"
   ]
  },
  {
   "cell_type": "code",
   "execution_count": 29,
   "metadata": {},
   "outputs": [
    {
     "data": {
      "text/plain": [
       "OrderDate\n",
       "2015-01-01     44779\n",
       "2015-02-01     18895\n",
       "2015-03-01     27864\n",
       "2015-04-01     17533\n",
       "2015-05-01     11932\n",
       "2015-06-01     36721\n",
       "2015-07-01     46208\n",
       "2015-08-01     51986\n",
       "2015-09-01     32288\n",
       "2015-10-01     36622\n",
       "2015-11-01     62843\n",
       "2015-12-01    137481\n",
       "2016-01-01     27786\n",
       "2016-02-01     16071\n",
       "2016-03-01     17971\n",
       "2016-04-01    193879\n",
       "2016-05-01     94062\n",
       "2016-06-01     46894\n",
       "2016-07-01     17182\n",
       "2016-08-01     32702\n",
       "2016-09-01     24892\n",
       "2016-10-01     13999\n",
       "2016-11-01     19220\n",
       "2016-12-01     26335\n",
       "2017-01-01      7244\n",
       "2017-02-01     61039\n",
       "2017-03-01     20298\n",
       "2017-04-01     20549\n",
       "2017-05-01     22201\n",
       "2017-06-01     41636\n",
       "2017-07-01    121969\n",
       "2017-08-01     33510\n",
       "2017-09-01     19287\n",
       "2017-10-01     24161\n",
       "2017-11-01     29268\n",
       "2017-12-01     13345\n",
       "Name: OrderQTY, dtype: int64"
      ]
     },
     "execution_count": 29,
     "metadata": {},
     "output_type": "execute_result"
    }
   ],
   "source": [
    "sc"
   ]
  },
  {
   "cell_type": "code",
   "execution_count": 30,
   "metadata": {},
   "outputs": [],
   "source": [
    "avg1sc = [sc[:12]/np.sum(sc[:12])]\n",
    "avg2sc = [sc[12:24]/np.sum(sc[12:24])]\n",
    "avg3sc = [sc[24:]/np.sum(sc[24:])]"
   ]
  },
  {
   "cell_type": "code",
   "execution_count": 31,
   "metadata": {},
   "outputs": [],
   "source": [
    "q1=avg1sc[0].to_frame(name='Y2015').reset_index()['Y2015']\n",
    "q2=avg2sc[0].to_frame(name='Y2016').reset_index()['Y2016']\n",
    "q3=avg3sc[0].to_frame(name='Y2017').reset_index()['Y2017']"
   ]
  },
  {
   "cell_type": "code",
   "execution_count": 32,
   "metadata": {},
   "outputs": [],
   "source": [
    "S_C = pd.DataFrame(\n",
    "    {'Y2015': q1,\n",
    "     'Y2016': q2,\n",
    "     'Y2017': q3\n",
    "    })"
   ]
  },
  {
   "cell_type": "code",
   "execution_count": 35,
   "metadata": {},
   "outputs": [
    {
     "data": {
      "text/html": [
       "<div>\n",
       "<style scoped>\n",
       "    .dataframe tbody tr th:only-of-type {\n",
       "        vertical-align: middle;\n",
       "    }\n",
       "\n",
       "    .dataframe tbody tr th {\n",
       "        vertical-align: top;\n",
       "    }\n",
       "\n",
       "    .dataframe thead th {\n",
       "        text-align: right;\n",
       "    }\n",
       "</style>\n",
       "<table border=\"1\" class=\"dataframe\">\n",
       "  <thead>\n",
       "    <tr style=\"text-align: right;\">\n",
       "      <th></th>\n",
       "      <th>Y2015</th>\n",
       "      <th>Y2016</th>\n",
       "      <th>Y2017</th>\n",
       "    </tr>\n",
       "  </thead>\n",
       "  <tbody>\n",
       "    <tr>\n",
       "      <th>Y2015</th>\n",
       "      <td>1.000000</td>\n",
       "      <td>-0.333493</td>\n",
       "      <td>-0.123009</td>\n",
       "    </tr>\n",
       "    <tr>\n",
       "      <th>Y2016</th>\n",
       "      <td>-0.333493</td>\n",
       "      <td>1.000000</td>\n",
       "      <td>-0.217551</td>\n",
       "    </tr>\n",
       "    <tr>\n",
       "      <th>Y2017</th>\n",
       "      <td>-0.123009</td>\n",
       "      <td>-0.217551</td>\n",
       "      <td>1.000000</td>\n",
       "    </tr>\n",
       "  </tbody>\n",
       "</table>\n",
       "</div>"
      ],
      "text/plain": [
       "          Y2015     Y2016     Y2017\n",
       "Y2015  1.000000 -0.333493 -0.123009\n",
       "Y2016 -0.333493  1.000000 -0.217551\n",
       "Y2017 -0.123009 -0.217551  1.000000"
      ]
     },
     "execution_count": 35,
     "metadata": {},
     "output_type": "execute_result"
    }
   ],
   "source": [
    "S_C.corr()"
   ]
  },
  {
   "cell_type": "code",
   "execution_count": 36,
   "metadata": {},
   "outputs": [
    {
     "data": {
      "text/plain": [
       "[None,\n",
       " None,\n",
       " None,\n",
       " None,\n",
       " None,\n",
       " None,\n",
       " None,\n",
       " None,\n",
       " None,\n",
       " None,\n",
       " None,\n",
       " None,\n",
       " None,\n",
       " None,\n",
       " None,\n",
       " None,\n",
       " None,\n",
       " None,\n",
       " None,\n",
       " None,\n",
       " None,\n",
       " None,\n",
       " None,\n",
       " None]"
      ]
     },
     "execution_count": 36,
     "metadata": {},
     "output_type": "execute_result"
    },
    {
     "data": {
      "image/png": "[encoded data removed]",
      "text/plain": [
       "<matplotlib.figure.Figure at 0x21c99c64dd8>"
      ]
     },
     "metadata": {},
     "output_type": "display_data"
    }
   ],
   "source": [
    "q=0\n",
    "Mon = ['Jan','Feb','Mar', 'Apr', 'May','Jun','Jul','Aug','Sep', 'Oct','Nov','Dec']\n",
    "f, axarr = plt.subplots(3, 4, figsize=(15,8))\n",
    "for i in range(3):\n",
    "    for j in range(4):\n",
    "        axarr[i,j].bar(['Y2015','Y2016','Y2017'],S_C.iloc[q] )\n",
    "        axarr[i,j].set_title(Mon[q])\n",
    "        q+=1\n",
    "plt.suptitle(\"Soft Cooler\")\n",
    "plt.setp([a.get_xticklabels() for a in axarr[0, :]], visible=False)\n",
    "plt.setp([a.get_xticklabels() for a in axarr[1, :]], visible=False)"
   ]
  },
  {
   "cell_type": "code",
   "execution_count": 37,
   "metadata": {},
   "outputs": [],
   "source": [
    "# Hard Cooler\n",
    "HC=df1[df1.ProductCategory=='Hard Cooler']\n",
    "HC = HC.sort_values(by='OrderDate', ascending=True)\n",
    "hc = HC.groupby('OrderDate')['OrderQTY'].sum()[7:-6]"
   ]
  },
  {
   "cell_type": "code",
   "execution_count": 38,
   "metadata": {},
   "outputs": [
    {
     "data": {
      "text/plain": [
       "OrderDate\n",
       "2013-01-01       316\n",
       "2013-02-01      5110\n",
       "2013-03-01      3591\n",
       "2013-04-01     20170\n",
       "2013-05-01     26030\n",
       "2013-06-01     37181\n",
       "2013-07-01     35080\n",
       "2013-08-01     37810\n",
       "2013-09-01     40355\n",
       "2013-10-01     22016\n",
       "2013-11-01     22656\n",
       "2013-12-01     24691\n",
       "2014-01-01     18512\n",
       "2014-02-01     33460\n",
       "2014-03-01     33317\n",
       "2014-04-01     23693\n",
       "2014-05-01     30926\n",
       "2014-06-01     47379\n",
       "2014-07-01     43479\n",
       "2014-08-01     42813\n",
       "2014-09-01     42784\n",
       "2014-10-01     37930\n",
       "2014-11-01     38532\n",
       "2014-12-01     65646\n",
       "2015-01-01     23333\n",
       "2015-02-01     28800\n",
       "2015-03-01     38501\n",
       "2015-04-01     36921\n",
       "2015-05-01     64221\n",
       "2015-06-01     79317\n",
       "2015-07-01     83887\n",
       "2015-08-01    115677\n",
       "2015-09-01     94783\n",
       "2015-10-01     86725\n",
       "2015-11-01     60609\n",
       "2015-12-01    149187\n",
       "2016-01-01     29571\n",
       "2016-02-01     21569\n",
       "2016-03-01     20700\n",
       "2016-04-01    181912\n",
       "2016-05-01     89217\n",
       "2016-06-01     54660\n",
       "2016-07-01     36058\n",
       "2016-08-01     56108\n",
       "2016-09-01     39514\n",
       "2016-10-01     17731\n",
       "2016-11-01     19169\n",
       "2016-12-01     28455\n",
       "2017-01-01     12451\n",
       "2017-02-01     86895\n",
       "2017-03-01     33702\n",
       "2017-04-01     25514\n",
       "2017-05-01     29105\n",
       "2017-06-01     52700\n",
       "2017-07-01     64179\n",
       "2017-08-01     42412\n",
       "2017-09-01     31156\n",
       "2017-10-01     34119\n",
       "2017-11-01     25613\n",
       "2017-12-01     20750\n",
       "Name: OrderQTY, dtype: int64"
      ]
     },
     "execution_count": 38,
     "metadata": {},
     "output_type": "execute_result"
    }
   ],
   "source": [
    "hc"
   ]
  },
  {
   "cell_type": "code",
   "execution_count": 39,
   "metadata": {},
   "outputs": [],
   "source": [
    "avg1hc = [hc[:12]/np.sum(hc[:12])]\n",
    "avg2hc = [hc[12:24]/np.sum(hc[12:24])]\n",
    "avg3hc = [hc[24:36]/np.sum(hc[24:36])]\n",
    "avg4hc = [hc[36:48]/np.sum(hc[36:48])]\n",
    "avg5hc = [hc[48:]/np.sum(hc[48:])]"
   ]
  },
  {
   "cell_type": "code",
   "execution_count": 40,
   "metadata": {},
   "outputs": [],
   "source": [
    "q1=avg1hc[0].to_frame(name='Y2013').reset_index()['Y2013']\n",
    "q2=avg2hc[0].to_frame(name='Y2014').reset_index()['Y2014']\n",
    "q3=avg3hc[0].to_frame(name='Y2015').reset_index()['Y2015']\n",
    "q4=avg4hc[0].to_frame(name='Y2016').reset_index()['Y2016']\n",
    "q5=avg5hc[0].to_frame(name='Y2017').reset_index()['Y2017']"
   ]
  },
  {
   "cell_type": "code",
   "execution_count": 41,
   "metadata": {},
   "outputs": [],
   "source": [
    "H_C = pd.DataFrame(\n",
    "    {'Y2013': q1,\n",
    "     'Y2014': q2,\n",
    "     'Y2015': q3,\n",
    "     'Y2016': q4,\n",
    "     'Y2017': q5\n",
    "    })"
   ]
  },
  {
   "cell_type": "code",
   "execution_count": 42,
   "metadata": {},
   "outputs": [
    {
     "data": {
      "text/html": [
       "<div>\n",
       "<style scoped>\n",
       "    .dataframe tbody tr th:only-of-type {\n",
       "        vertical-align: middle;\n",
       "    }\n",
       "\n",
       "    .dataframe tbody tr th {\n",
       "        vertical-align: top;\n",
       "    }\n",
       "\n",
       "    .dataframe thead th {\n",
       "        text-align: right;\n",
       "    }\n",
       "</style>\n",
       "<table border=\"1\" class=\"dataframe\">\n",
       "  <thead>\n",
       "    <tr style=\"text-align: right;\">\n",
       "      <th></th>\n",
       "      <th>Y2013</th>\n",
       "      <th>Y2014</th>\n",
       "      <th>Y2015</th>\n",
       "      <th>Y2016</th>\n",
       "      <th>Y2017</th>\n",
       "    </tr>\n",
       "  </thead>\n",
       "  <tbody>\n",
       "    <tr>\n",
       "      <th>Y2013</th>\n",
       "      <td>1.000000</td>\n",
       "      <td>0.562958</td>\n",
       "      <td>0.701573</td>\n",
       "      <td>0.155165</td>\n",
       "      <td>0.078376</td>\n",
       "    </tr>\n",
       "    <tr>\n",
       "      <th>Y2014</th>\n",
       "      <td>0.562958</td>\n",
       "      <td>1.000000</td>\n",
       "      <td>0.887737</td>\n",
       "      <td>-0.349561</td>\n",
       "      <td>0.117458</td>\n",
       "    </tr>\n",
       "    <tr>\n",
       "      <th>Y2015</th>\n",
       "      <td>0.701573</td>\n",
       "      <td>0.887737</td>\n",
       "      <td>1.000000</td>\n",
       "      <td>-0.187876</td>\n",
       "      <td>-0.117589</td>\n",
       "    </tr>\n",
       "    <tr>\n",
       "      <th>Y2016</th>\n",
       "      <td>0.155165</td>\n",
       "      <td>-0.349561</td>\n",
       "      <td>-0.187876</td>\n",
       "      <td>1.000000</td>\n",
       "      <td>-0.193609</td>\n",
       "    </tr>\n",
       "    <tr>\n",
       "      <th>Y2017</th>\n",
       "      <td>0.078376</td>\n",
       "      <td>0.117458</td>\n",
       "      <td>-0.117589</td>\n",
       "      <td>-0.193609</td>\n",
       "      <td>1.000000</td>\n",
       "    </tr>\n",
       "  </tbody>\n",
       "</table>\n",
       "</div>"
      ],
      "text/plain": [
       "          Y2013     Y2014     Y2015     Y2016     Y2017\n",
       "Y2013  1.000000  0.562958  0.701573  0.155165  0.078376\n",
       "Y2014  0.562958  1.000000  0.887737 -0.349561  0.117458\n",
       "Y2015  0.701573  0.887737  1.000000 -0.187876 -0.117589\n",
       "Y2016  0.155165 -0.349561 -0.187876  1.000000 -0.193609\n",
       "Y2017  0.078376  0.117458 -0.117589 -0.193609  1.000000"
      ]
     },
     "execution_count": 42,
     "metadata": {},
     "output_type": "execute_result"
    }
   ],
   "source": [
    "H_C.corr()"
   ]
  },
  {
   "cell_type": "code",
   "execution_count": 21,
   "metadata": {},
   "outputs": [
    {
     "data": {
      "text/plain": [
       "[None,\n",
       " None,\n",
       " None,\n",
       " None,\n",
       " None,\n",
       " None,\n",
       " None,\n",
       " None,\n",
       " None,\n",
       " None,\n",
       " None,\n",
       " None,\n",
       " None,\n",
       " None,\n",
       " None,\n",
       " None,\n",
       " None,\n",
       " None,\n",
       " None,\n",
       " None,\n",
       " None,\n",
       " None,\n",
       " None,\n",
       " None,\n",
       " None,\n",
       " None,\n",
       " None,\n",
       " None,\n",
       " None,\n",
       " None,\n",
       " None,\n",
       " None,\n",
       " None,\n",
       " None,\n",
       " None,\n",
       " None,\n",
       " None,\n",
       " None,\n",
       " None,\n",
       " None]"
      ]
     },
     "execution_count": 21,
     "metadata": {},
     "output_type": "execute_result"
    },
    {
     "data": {
      "image/png": "[encoded data removed]",
      "text/plain": [
       "<matplotlib.figure.Figure at 0x1e16d232390>"
      ]
     },
     "metadata": {},
     "output_type": "display_data"
    }
   ],
   "source": [
    "q=0\n",
    "Mon = ['Jan','Feb','Mar', 'Apr', 'May','Jun','Jul','Aug','Sep', 'Oct','Nov','Dec']\n",
    "f, axarr = plt.subplots(3, 4, figsize=(15,8))\n",
    "for i in range(3):\n",
    "    for j in range(4):\n",
    "        axarr[i,j].bar(['Y2013', 'Y2014','Y2015','Y2016','Y2017'],H_C.iloc[q] )\n",
    "        axarr[i,j].set_title(Mon[q])\n",
    "        q+=1\n",
    "plt.suptitle(\"Hard Cooler\")\n",
    "plt.setp([a.get_xticklabels() for a in axarr[0, :]], visible=False)\n",
    "plt.setp([a.get_xticklabels() for a in axarr[1, :]], visible=False)  "
   ]
  },
  {
   "cell_type": "code",
   "execution_count": null,
   "metadata": {},
   "outputs": [],
   "source": []
  }
 ],
 "metadata": {
  "kernelspec": {
   "display_name": "Python 3",
   "language": "python",
   "name": "python3"
  },
  "language_info": {
   "codemirror_mode": {
    "name": "ipython",
    "version": 3
   },
   "file_extension": ".py",
   "mimetype": "text/x-python",
   "name": "python",
   "nbconvert_exporter": "python",
   "pygments_lexer": "ipython3",
   "version": "3.6.4"
  }
 },
 "nbformat": 4,
 "nbformat_minor": 2
}
