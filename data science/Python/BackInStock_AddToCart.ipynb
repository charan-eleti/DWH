{
 "cells": [
  {
   "cell_type": "code",
   "execution_count": 2,
   "metadata": {},
   "outputs": [],
   "source": [
    "from google.cloud import bigquery\n",
    "from google.oauth2 import service_account\n",
    "import numpy as np\n",
    "import pandas as pd\n",
    "import matplotlib.pylab as plt\n",
    "import seaborn as sns\n",
    "credentials = service_account.Credentials.from_service_account_file('C:/Users/Helen.Tian/Downloads/YETI Google Analytics-45214aca550b.json')# PATH IN YOUR COMPUTER\n",
    "project_id = 'enduring-hue-184016'   \n",
    "client = bigquery.Client(credentials= credentials,project=project_id)"
   ]
  },
  {
   "cell_type": "code",
   "execution_count": 3,
   "metadata": {},
   "outputs": [],
   "source": [
    "#add soft coolers to cart actions\n",
    "query_job = client.query(\"SELECT * FROM `enduring-hue-184016.121992452.BackInStock_AddToCart` \")\n",
    "results = query_job.result()\n",
    "df = results.to_dataframe()"
   ]
  },
  {
   "cell_type": "code",
   "execution_count": 4,
   "metadata": {},
   "outputs": [],
   "source": [
    "df = df.rename(columns={'a_date': 'noti_date','a_eventLabel': 'label', 'a_visitorid': 'visitorid', 'b_date': 'add_date' })"
   ]
  },
  {
   "cell_type": "code",
   "execution_count": 5,
   "metadata": {},
   "outputs": [],
   "source": [
    "df=df.sort_values(['noti_date', 'add_date'])"
   ]
  },
  {
   "cell_type": "code",
   "execution_count": 6,
   "metadata": {},
   "outputs": [],
   "source": [
    "df=df.drop_duplicates(subset=['noti_date','visitorid','label'],keep='first')"
   ]
  },
  {
   "cell_type": "code",
   "execution_count": 7,
   "metadata": {},
   "outputs": [
    {
     "data": {
      "text/html": [
       "<div>\n",
       "<style scoped>\n",
       "    .dataframe tbody tr th:only-of-type {\n",
       "        vertical-align: middle;\n",
       "    }\n",
       "\n",
       "    .dataframe tbody tr th {\n",
       "        vertical-align: top;\n",
       "    }\n",
       "\n",
       "    .dataframe thead th {\n",
       "        text-align: right;\n",
       "    }\n",
       "</style>\n",
       "<table border=\"1\" class=\"dataframe\">\n",
       "  <thead>\n",
       "    <tr style=\"text-align: right;\">\n",
       "      <th></th>\n",
       "      <th>noti_date</th>\n",
       "      <th>visitorid</th>\n",
       "      <th>label</th>\n",
       "      <th>add_date</th>\n",
       "    </tr>\n",
       "  </thead>\n",
       "  <tbody>\n",
       "    <tr>\n",
       "      <th>1377</th>\n",
       "      <td>2018-01-01</td>\n",
       "      <td>6024834859958877284</td>\n",
       "      <td>tundra 105</td>\n",
       "      <td>2018-01-02</td>\n",
       "    </tr>\n",
       "    <tr>\n",
       "      <th>1392</th>\n",
       "      <td>2018-01-01</td>\n",
       "      <td>130447693118504633</td>\n",
       "      <td>loadout lid</td>\n",
       "      <td>2018-01-03</td>\n",
       "    </tr>\n",
       "    <tr>\n",
       "      <th>2086</th>\n",
       "      <td>2018-01-01</td>\n",
       "      <td>6302383768400349464</td>\n",
       "      <td>hopper flip 8</td>\n",
       "      <td>2018-01-03</td>\n",
       "    </tr>\n",
       "    <tr>\n",
       "      <th>2573</th>\n",
       "      <td>2018-01-01</td>\n",
       "      <td>2145889413471518220</td>\n",
       "      <td>rambler 14 oz mug</td>\n",
       "      <td>2018-01-03</td>\n",
       "    </tr>\n",
       "    <tr>\n",
       "      <th>8800</th>\n",
       "      <td>2018-01-01</td>\n",
       "      <td>5418812650916859363</td>\n",
       "      <td>rambler 10 oz lowball</td>\n",
       "      <td>2018-01-03</td>\n",
       "    </tr>\n",
       "  </tbody>\n",
       "</table>\n",
       "</div>"
      ],
      "text/plain": [
       "       noti_date            visitorid                  label    add_date\n",
       "1377  2018-01-01  6024834859958877284             tundra 105  2018-01-02\n",
       "1392  2018-01-01   130447693118504633            loadout lid  2018-01-03\n",
       "2086  2018-01-01  6302383768400349464          hopper flip 8  2018-01-03\n",
       "2573  2018-01-01  2145889413471518220      rambler 14 oz mug  2018-01-03\n",
       "8800  2018-01-01  5418812650916859363  rambler 10 oz lowball  2018-01-03"
      ]
     },
     "execution_count": 7,
     "metadata": {},
     "output_type": "execute_result"
    }
   ],
   "source": [
    "df.head()"
   ]
  },
  {
   "cell_type": "code",
   "execution_count": 8,
   "metadata": {},
   "outputs": [
    {
     "data": {
      "text/html": [
       "<div>\n",
       "<style scoped>\n",
       "    .dataframe tbody tr th:only-of-type {\n",
       "        vertical-align: middle;\n",
       "    }\n",
       "\n",
       "    .dataframe tbody tr th {\n",
       "        vertical-align: top;\n",
       "    }\n",
       "\n",
       "    .dataframe thead th {\n",
       "        text-align: right;\n",
       "    }\n",
       "</style>\n",
       "<table border=\"1\" class=\"dataframe\">\n",
       "  <thead>\n",
       "    <tr style=\"text-align: right;\">\n",
       "      <th></th>\n",
       "      <th>label</th>\n",
       "      <th>num</th>\n",
       "    </tr>\n",
       "  </thead>\n",
       "  <tbody>\n",
       "    <tr>\n",
       "      <th>33</th>\n",
       "      <td>rambler 10 oz wine tumbler</td>\n",
       "      <td>13293</td>\n",
       "    </tr>\n",
       "    <tr>\n",
       "      <th>37</th>\n",
       "      <td>rambler 20 oz tumbler</td>\n",
       "      <td>2160</td>\n",
       "    </tr>\n",
       "    <tr>\n",
       "      <th>2</th>\n",
       "      <td>camino carryall 35</td>\n",
       "      <td>1626</td>\n",
       "    </tr>\n",
       "    <tr>\n",
       "      <th>39</th>\n",
       "      <td>rambler 30 oz tumbler</td>\n",
       "      <td>1521</td>\n",
       "    </tr>\n",
       "    <tr>\n",
       "      <th>35</th>\n",
       "      <td>rambler 14 oz mug</td>\n",
       "      <td>1458</td>\n",
       "    </tr>\n",
       "    <tr>\n",
       "      <th>32</th>\n",
       "      <td>rambler 10 oz lowball</td>\n",
       "      <td>738</td>\n",
       "    </tr>\n",
       "    <tr>\n",
       "      <th>51</th>\n",
       "      <td>roadie 20</td>\n",
       "      <td>557</td>\n",
       "    </tr>\n",
       "    <tr>\n",
       "      <th>36</th>\n",
       "      <td>rambler 18 oz bottle</td>\n",
       "      <td>464</td>\n",
       "    </tr>\n",
       "    <tr>\n",
       "      <th>41</th>\n",
       "      <td>rambler bottle chug cap</td>\n",
       "      <td>426</td>\n",
       "    </tr>\n",
       "    <tr>\n",
       "      <th>54</th>\n",
       "      <td>sidekick dry</td>\n",
       "      <td>345</td>\n",
       "    </tr>\n",
       "    <tr>\n",
       "      <th>50</th>\n",
       "      <td>replacement magslider</td>\n",
       "      <td>319</td>\n",
       "    </tr>\n",
       "    <tr>\n",
       "      <th>10</th>\n",
       "      <td>hopper backflip 24</td>\n",
       "      <td>307</td>\n",
       "    </tr>\n",
       "    <tr>\n",
       "      <th>40</th>\n",
       "      <td>rambler 36 oz bottle</td>\n",
       "      <td>251</td>\n",
       "    </tr>\n",
       "    <tr>\n",
       "      <th>61</th>\n",
       "      <td>tundra 45</td>\n",
       "      <td>243</td>\n",
       "    </tr>\n",
       "    <tr>\n",
       "      <th>23</th>\n",
       "      <td>loadout lid</td>\n",
       "      <td>197</td>\n",
       "    </tr>\n",
       "    <tr>\n",
       "      <th>60</th>\n",
       "      <td>tundra 35</td>\n",
       "      <td>187</td>\n",
       "    </tr>\n",
       "    <tr>\n",
       "      <th>38</th>\n",
       "      <td>rambler 26 oz bottle</td>\n",
       "      <td>128</td>\n",
       "    </tr>\n",
       "    <tr>\n",
       "      <th>22</th>\n",
       "      <td>loadout caddy</td>\n",
       "      <td>103</td>\n",
       "    </tr>\n",
       "    <tr>\n",
       "      <th>42</th>\n",
       "      <td>rambler colster</td>\n",
       "      <td>80</td>\n",
       "    </tr>\n",
       "    <tr>\n",
       "      <th>48</th>\n",
       "      <td>replacement bottle cap straws</td>\n",
       "      <td>55</td>\n",
       "    </tr>\n",
       "  </tbody>\n",
       "</table>\n",
       "</div>"
      ],
      "text/plain": [
       "                            label    num\n",
       "33     rambler 10 oz wine tumbler  13293\n",
       "37          rambler 20 oz tumbler   2160\n",
       "2              camino carryall 35   1626\n",
       "39          rambler 30 oz tumbler   1521\n",
       "35              rambler 14 oz mug   1458\n",
       "32          rambler 10 oz lowball    738\n",
       "51                      roadie 20    557\n",
       "36           rambler 18 oz bottle    464\n",
       "41        rambler bottle chug cap    426\n",
       "54                   sidekick dry    345\n",
       "50          replacement magslider    319\n",
       "10             hopper backflip 24    307\n",
       "40           rambler 36 oz bottle    251\n",
       "61                      tundra 45    243\n",
       "23                    loadout lid    197\n",
       "60                      tundra 35    187\n",
       "38           rambler 26 oz bottle    128\n",
       "22                  loadout caddy    103\n",
       "42                rambler colster     80\n",
       "48  replacement bottle cap straws     55"
      ]
     },
     "execution_count": 8,
     "metadata": {},
     "output_type": "execute_result"
    }
   ],
   "source": [
    "df.groupby(['label'])['noti_date'].count().to_frame(name = 'num').reset_index().sort_values(['num'], ascending=False).head(20)"
   ]
  },
  {
   "cell_type": "code",
   "execution_count": 9,
   "metadata": {},
   "outputs": [],
   "source": [
    "df.noti_date= pd.to_datetime(df.noti_date) "
   ]
  },
  {
   "cell_type": "code",
   "execution_count": 10,
   "metadata": {},
   "outputs": [],
   "source": [
    "df.add_date= pd.to_datetime(df.add_date) "
   ]
  },
  {
   "cell_type": "code",
   "execution_count": 11,
   "metadata": {},
   "outputs": [],
   "source": [
    "TimeInterval = ((df.add_date-df.noti_date) / np.timedelta64(1, 'D')).astype(int)"
   ]
  },
  {
   "cell_type": "code",
   "execution_count": 12,
   "metadata": {},
   "outputs": [],
   "source": [
    "from collections import Counter"
   ]
  },
  {
   "cell_type": "code",
   "execution_count": 13,
   "metadata": {},
   "outputs": [],
   "source": [
    "labels, values = zip(*Counter(TimeInterval).items())"
   ]
  },
  {
   "cell_type": "code",
   "execution_count": 17,
   "metadata": {},
   "outputs": [
    {
     "data": {
      "text/plain": [
       "Counter({1: 1435,\n",
       "         2: 1190,\n",
       "         3: 970,\n",
       "         4: 928,\n",
       "         5: 769,\n",
       "         6: 868,\n",
       "         7: 920,\n",
       "         8: 686,\n",
       "         9: 659,\n",
       "         10: 691,\n",
       "         11: 585,\n",
       "         12: 515,\n",
       "         13: 726,\n",
       "         14: 1413,\n",
       "         15: 531,\n",
       "         16: 484,\n",
       "         17: 575,\n",
       "         18: 408,\n",
       "         19: 373,\n",
       "         20: 374,\n",
       "         21: 414,\n",
       "         22: 321,\n",
       "         23: 374,\n",
       "         24: 282,\n",
       "         25: 275,\n",
       "         26: 400,\n",
       "         27: 276,\n",
       "         28: 403,\n",
       "         29: 724,\n",
       "         30: 206,\n",
       "         31: 132,\n",
       "         32: 139,\n",
       "         33: 121,\n",
       "         34: 102,\n",
       "         35: 148,\n",
       "         36: 119,\n",
       "         37: 141,\n",
       "         38: 117,\n",
       "         39: 91,\n",
       "         40: 110,\n",
       "         41: 92,\n",
       "         42: 148,\n",
       "         43: 157,\n",
       "         44: 94,\n",
       "         45: 83,\n",
       "         46: 67,\n",
       "         47: 89,\n",
       "         48: 64,\n",
       "         49: 65,\n",
       "         50: 65,\n",
       "         51: 64,\n",
       "         52: 61,\n",
       "         53: 60,\n",
       "         54: 75,\n",
       "         55: 59,\n",
       "         56: 82,\n",
       "         57: 102,\n",
       "         58: 82,\n",
       "         59: 82,\n",
       "         60: 74,\n",
       "         61: 91,\n",
       "         62: 82,\n",
       "         63: 86,\n",
       "         64: 103,\n",
       "         65: 94,\n",
       "         66: 97,\n",
       "         67: 81,\n",
       "         68: 124,\n",
       "         69: 131,\n",
       "         70: 215,\n",
       "         71: 809,\n",
       "         72: 88,\n",
       "         73: 48,\n",
       "         74: 66,\n",
       "         75: 37,\n",
       "         76: 41,\n",
       "         77: 41,\n",
       "         78: 25,\n",
       "         79: 16,\n",
       "         80: 19,\n",
       "         81: 21,\n",
       "         82: 17,\n",
       "         83: 16,\n",
       "         84: 14,\n",
       "         85: 16,\n",
       "         86: 19,\n",
       "         87: 12,\n",
       "         88: 16,\n",
       "         89: 17,\n",
       "         90: 19,\n",
       "         91: 13,\n",
       "         92: 25,\n",
       "         93: 15,\n",
       "         94: 27,\n",
       "         95: 23,\n",
       "         96: 24,\n",
       "         97: 33,\n",
       "         98: 32,\n",
       "         99: 49,\n",
       "         100: 134,\n",
       "         101: 24,\n",
       "         102: 19,\n",
       "         103: 13,\n",
       "         104: 9,\n",
       "         105: 17,\n",
       "         106: 22,\n",
       "         107: 15,\n",
       "         108: 12,\n",
       "         109: 17,\n",
       "         110: 18,\n",
       "         111: 22,\n",
       "         112: 17,\n",
       "         113: 18,\n",
       "         114: 16,\n",
       "         115: 7,\n",
       "         116: 8,\n",
       "         117: 21,\n",
       "         118: 8,\n",
       "         119: 19,\n",
       "         120: 6,\n",
       "         121: 6,\n",
       "         122: 2,\n",
       "         123: 5,\n",
       "         124: 7,\n",
       "         125: 5,\n",
       "         126: 9,\n",
       "         127: 9,\n",
       "         128: 1,\n",
       "         129: 7,\n",
       "         130: 1,\n",
       "         131: 4,\n",
       "         132: 9,\n",
       "         133: 5,\n",
       "         134: 4,\n",
       "         135: 7,\n",
       "         136: 5,\n",
       "         137: 2,\n",
       "         138: 3,\n",
       "         141: 4,\n",
       "         147: 1})"
      ]
     },
     "execution_count": 17,
     "metadata": {},
     "output_type": "execute_result"
    }
   ],
   "source": [
    "Counter(TimeInterval)"
   ]
  },
  {
   "cell_type": "code",
   "execution_count": 18,
   "metadata": {},
   "outputs": [
    {
     "data": {
      "image/png": "[encoded data removed]",
      "text/plain": [
       "<matplotlib.figure.Figure at 0x1b991cc47b8>"
      ]
     },
     "metadata": {},
     "output_type": "display_data"
    }
   ],
   "source": [
    "indexes = np.arange(len(labels))\n",
    "width = 1\n",
    "\n",
    "plt.bar(indexes, values, width)\n",
    "plt.xticks(indexes + width * 0.5, labels)\n",
    "plt.show()"
   ]
  },
  {
   "cell_type": "code",
   "execution_count": 19,
   "metadata": {},
   "outputs": [
    {
     "data": {
      "text/plain": [
       "count    24900.000000\n",
       "mean        24.485261\n",
       "std         25.403651\n",
       "min          1.000000\n",
       "25%          7.000000\n",
       "50%         15.000000\n",
       "75%         30.000000\n",
       "max        147.000000\n",
       "dtype: float64"
      ]
     },
     "execution_count": 19,
     "metadata": {},
     "output_type": "execute_result"
    }
   ],
   "source": [
    "TimeInterval.describe()"
   ]
  },
  {
   "cell_type": "code",
   "execution_count": 44,
   "metadata": {},
   "outputs": [
    {
     "data": {
      "text/plain": [
       "24900"
      ]
     },
     "execution_count": 44,
     "metadata": {},
     "output_type": "execute_result"
    }
   ],
   "source": [
    "len(df)"
   ]
  },
  {
   "cell_type": "code",
   "execution_count": 45,
   "metadata": {},
   "outputs": [
    {
     "data": {
      "text/plain": [
       "0.169746879452447"
      ]
     },
     "execution_count": 45,
     "metadata": {},
     "output_type": "execute_result"
    }
   ],
   "source": [
    "24900/146689"
   ]
  },
  {
   "cell_type": "code",
   "execution_count": null,
   "metadata": {},
   "outputs": [],
   "source": []
  }
 ],
 "metadata": {
  "kernelspec": {
   "display_name": "Python 3",
   "language": "python",
   "name": "python3"
  },
  "language_info": {
   "codemirror_mode": {
    "name": "ipython",
    "version": 3
   },
   "file_extension": ".py",
   "mimetype": "text/x-python",
   "name": "python",
   "nbconvert_exporter": "python",
   "pygments_lexer": "ipython3",
   "version": "3.6.4"
  }
 },
 "nbformat": 4,
 "nbformat_minor": 2
}
