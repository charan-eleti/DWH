{
 "cells": [
  {
   "cell_type": "markdown",
   "metadata": {},
   "source": [
    "Codes in this jupyter notebook shows work on ZVA05 (SAP data) from Jan 1, 2017 - May 31, 2015.\n",
    "\n",
    "The overall goal is to predict monthly sum order quantity for each Product Category.\n",
    "\n",
    "Dealers from sales office 'HYB' and 'STD' are segmented using the entire ZVA05 dataset into 4 volume groups: Small, Medium, Large and X-Large.\n",
    "\n",
    "Algorithm tested: OLS, WLS, KNN, random forest.\n",
    "\n",
    "Main conclusions:\n",
    "- data is not homoskedastic, cannot use OLS regression, Pearson correlation, t-test and p-value.\n",
    "- segment method is wrong (mix of training and testing data)"
   ]
  },
  {
   "cell_type": "code",
   "execution_count": 167,
   "metadata": {},
   "outputs": [],
   "source": [
    "import pandas as pd\n",
    "import numpy as np\n",
    "import datetime\n",
    "import pyodbc\n",
    "import copy\n",
    "import sys\n",
    "import matplotlib.pyplot as plt\n",
    "import statsmodels.api as sm\n",
    "import seaborn as sns\n",
    "from sklearn.preprocessing import LabelEncoder, StandardScaler, normalize\n",
    "from sklearn.linear_model import LinearRegression\n",
    "from sklearn.model_selection import cross_val_score, train_test_split, cross_val_predict, train_test_split, KFold\n",
    "from sklearn.neighbors import KNeighborsRegressor\n",
    "from sklearn.ensemble import RandomForestRegressor\n",
    "from sklearn.pipeline import Pipeline\n",
    "from sklearn.metrics import mean_squared_error, r2_score\n",
    "from sklearn.preprocessing import PolynomialFeatures\n",
    "from scipy.stats import levene, bartlett, boxcox\n",
    "from graphviz import Source\n",
    "from IPython.display import Image, SVG, display\n",
    "from sklearn.tree import export_graphviz"
   ]
  },
  {
   "cell_type": "code",
   "execution_count": null,
   "metadata": {},
   "outputs": [],
   "source": [
    "%store -r df_new\n",
    "df_new.shape\n",
    "df = df_new.copy()"
   ]
  },
  {
   "cell_type": "markdown",
   "metadata": {},
   "source": [
    "## 1) Data Cleansing & Proprocessing\n",
    "### 1.1) Label each dealer's Volume_Group\n",
    "- classify each dealer into one of 4 distinct volume_groups based on their sum(Order_Qty) divided by the number of months being a customer\n",
    "- only data points that fall within the timespan from Jan-01-2017 to May-31-2018 are considered for segmentation, analysis and modelling # __wrong approach__"
   ]
  },
  {
   "cell_type": "code",
   "execution_count": 22,
   "metadata": {},
   "outputs": [
    {
     "data": {
      "text/plain": [
       "(5667, 2)"
      ]
     },
     "execution_count": 22,
     "metadata": {},
     "output_type": "execute_result"
    }
   ],
   "source": [
    "vol3 = pd.read_csv('Volume3.csv', index_col = 0, dtype = {'Sold_to_Party':object})\n",
    "vol3.shape"
   ]
  },
  {
   "cell_type": "code",
   "execution_count": 23,
   "metadata": {
    "scrolled": true
   },
   "outputs": [
    {
     "data": {
      "text/html": [
       "<div>\n",
       "<style scoped>\n",
       "    .dataframe tbody tr th:only-of-type {\n",
       "        vertical-align: middle;\n",
       "    }\n",
       "\n",
       "    .dataframe tbody tr th {\n",
       "        vertical-align: top;\n",
       "    }\n",
       "\n",
       "    .dataframe thead th {\n",
       "        text-align: right;\n",
       "    }\n",
       "</style>\n",
       "<table border=\"1\" class=\"dataframe\">\n",
       "  <thead>\n",
       "    <tr style=\"text-align: right;\">\n",
       "      <th></th>\n",
       "      <th>Sold_to_Party</th>\n",
       "      <th>Class</th>\n",
       "    </tr>\n",
       "  </thead>\n",
       "  <tbody>\n",
       "    <tr>\n",
       "      <th>1318</th>\n",
       "      <td>0000101813</td>\n",
       "      <td>3</td>\n",
       "    </tr>\n",
       "    <tr>\n",
       "      <th>528</th>\n",
       "      <td>0000100710</td>\n",
       "      <td>3</td>\n",
       "    </tr>\n",
       "    <tr>\n",
       "      <th>1955</th>\n",
       "      <td>0000102853</td>\n",
       "      <td>3</td>\n",
       "    </tr>\n",
       "    <tr>\n",
       "      <th>1341</th>\n",
       "      <td>0000101886</td>\n",
       "      <td>3</td>\n",
       "    </tr>\n",
       "    <tr>\n",
       "      <th>642</th>\n",
       "      <td>0000100873</td>\n",
       "      <td>3</td>\n",
       "    </tr>\n",
       "    <tr>\n",
       "      <th>300</th>\n",
       "      <td>0000100395</td>\n",
       "      <td>2</td>\n",
       "    </tr>\n",
       "    <tr>\n",
       "      <th>236</th>\n",
       "      <td>0000100315</td>\n",
       "      <td>2</td>\n",
       "    </tr>\n",
       "    <tr>\n",
       "      <th>1657</th>\n",
       "      <td>0000102433</td>\n",
       "      <td>2</td>\n",
       "    </tr>\n",
       "    <tr>\n",
       "      <th>754</th>\n",
       "      <td>0000101026</td>\n",
       "      <td>2</td>\n",
       "    </tr>\n",
       "    <tr>\n",
       "      <th>1252</th>\n",
       "      <td>0000101711</td>\n",
       "      <td>2</td>\n",
       "    </tr>\n",
       "  </tbody>\n",
       "</table>\n",
       "</div>"
      ],
      "text/plain": [
       "     Sold_to_Party  Class\n",
       "1318    0000101813      3\n",
       "528     0000100710      3\n",
       "1955    0000102853      3\n",
       "1341    0000101886      3\n",
       "642     0000100873      3\n",
       "300     0000100395      2\n",
       "236     0000100315      2\n",
       "1657    0000102433      2\n",
       "754     0000101026      2\n",
       "1252    0000101711      2"
      ]
     },
     "execution_count": 23,
     "metadata": {},
     "output_type": "execute_result"
    }
   ],
   "source": [
    "vol3.head(10)"
   ]
  },
  {
   "cell_type": "code",
   "execution_count": 24,
   "metadata": {
    "scrolled": false
   },
   "outputs": [
    {
     "data": {
      "text/plain": [
       "array([0, 1, 2, 3], dtype=int64)"
      ]
     },
     "execution_count": 24,
     "metadata": {},
     "output_type": "execute_result"
    }
   ],
   "source": [
    "# check the # of unique volume groups\n",
    "np.unique(vol3.Class)"
   ]
  },
  {
   "cell_type": "code",
   "execution_count": 205,
   "metadata": {},
   "outputs": [
    {
     "name": "stdout",
     "output_type": "stream",
     "text": [
      "# of dealers in volume group 0: 5560\n",
      "# of dealers in volume group 1: 87\n",
      "# of dealers in volume group 2: 15\n",
      "# of dealers in volume group 3: 5\n"
     ]
    }
   ],
   "source": [
    "# calculate the number of dealers in each volume group\n",
    "def get_volume_group_size(group):\n",
    "    return len(vol3.groupby(['Class']).groups[i])\n",
    "for i in range(0,4):\n",
    "    print(\"# of dealers in volume group {}: {}\".format(i,get_volume_group_size(i)))"
   ]
  },
  {
   "cell_type": "code",
   "execution_count": 206,
   "metadata": {},
   "outputs": [],
   "source": [
    "volume_groups = vol3.set_index('Sold_to_Party')['Class'].to_dict()"
   ]
  },
  {
   "cell_type": "code",
   "execution_count": 207,
   "metadata": {},
   "outputs": [
    {
     "data": {
      "text/plain": [
       "5667"
      ]
     },
     "execution_count": 207,
     "metadata": {},
     "output_type": "execute_result"
    }
   ],
   "source": [
    "len(volume_groups)"
   ]
  },
  {
   "cell_type": "code",
   "execution_count": 7,
   "metadata": {},
   "outputs": [
    {
     "name": "stdout",
     "output_type": "stream",
     "text": [
      "Stored 'volume_groups' (dict)\n"
     ]
    }
   ],
   "source": [
    "# volume_groups = {'customerID':volume_groupID }\n",
    "\"\"\"\n",
    "{'0000101813': 3,\n",
    " '0000100710': 3,\n",
    " '0000102853': 3,\n",
    " '0000101886': 3,\n",
    " '0000100873': 3,\n",
    " '0000100395': 2,\n",
    " '0000100315': 2,\n",
    " '0000102433': 2,\n",
    " '0000101026': 2, ...}\n",
    "\"\"\"\n",
    "%store volume_groups"
   ]
  },
  {
   "cell_type": "code",
   "execution_count": 14,
   "metadata": {},
   "outputs": [
    {
     "data": {
      "text/plain": [
       "{}"
      ]
     },
     "execution_count": 14,
     "metadata": {},
     "output_type": "execute_result"
    }
   ],
   "source": [
    "# Check for differences between volume grouping and all orders (customers who are segmented but not in orders list)\n",
    "{ k: volume_groups[k] for k in set(volume_groups) - set(all_orders) }"
   ]
  },
  {
   "cell_type": "code",
   "execution_count": 208,
   "metadata": {
    "scrolled": false
   },
   "outputs": [
    {
     "name": "stdout",
     "output_type": "stream",
     "text": [
      "Delivery date range: 2017-01-01 2018-05-31\n",
      "Order date range: 2017-02-04 2018-05-31\n"
     ]
    }
   ],
   "source": [
    "print(\"Delivery date range:\", min(df['Line_Req_Deliv_Date']), max(df['Line_Req_Deliv_Date'])) \n",
    "print(\"Order date range:\", min(df['Document_Date']), max(df['Document_Date']))"
   ]
  },
  {
   "cell_type": "code",
   "execution_count": 209,
   "metadata": {
    "scrolled": false
   },
   "outputs": [
    {
     "data": {
      "text/plain": [
       "(602653, 32)"
      ]
     },
     "execution_count": 209,
     "metadata": {},
     "output_type": "execute_result"
    }
   ],
   "source": [
    "df = df[['Sales_document', 'Sold_to_Party', 'SalesOffice', 'Order_Type',\n",
    "       'Unit_Price', 'Order_Qty', 'Document_Date', 'Req_Delivery_Date',\n",
    "       'Goods_Issue_Date', 'Delivery_Date', 'Overall_Credit_Status',\n",
    "       'Delivery_Block', 'Billing_Block', 'Block_flag', 'Line_Req_Deliv_Date',\n",
    "       'Confirmed_Line_Quantity', 'Confirmed_Line_Value',\n",
    "       'Overall_Credit_Status_Desc', 'Net_Value_Actual', 'ProductCategory',\n",
    "       'MasterSKU', 'Color', 'CurrentFlag', 'CustomerID', 'Customer', 'City',\n",
    "       'State', 'Zipcode', 'Country', 'District', 'waiting_days', 'wait']]\n",
    "df.shape"
   ]
  },
  {
   "cell_type": "markdown",
   "metadata": {},
   "source": [
    "### 1.2) Extract month and year of each row's order creation date and create two new columns"
   ]
  },
  {
   "cell_type": "code",
   "execution_count": 217,
   "metadata": {},
   "outputs": [],
   "source": [
    "def add_year_month_cols():\n",
    "    df['year'] = df.apply(lambda _: '', axis=1)\n",
    "    df['month'] = df.apply(lambda _: '', axis=1)\n",
    "\n",
    "def extract_order_year_month():\n",
    "    df['Document_Date'] = pd.to_datetime(df['Document_Date'])\n",
    "    df['year'], df['month'] = df['Document_Date'].dt.year, df['Document_Date'].dt.month"
   ]
  },
  {
   "cell_type": "code",
   "execution_count": 218,
   "metadata": {
    "scrolled": true
   },
   "outputs": [
    {
     "data": {
      "text/html": [
       "<div>\n",
       "<style scoped>\n",
       "    .dataframe tbody tr th:only-of-type {\n",
       "        vertical-align: middle;\n",
       "    }\n",
       "\n",
       "    .dataframe tbody tr th {\n",
       "        vertical-align: top;\n",
       "    }\n",
       "\n",
       "    .dataframe thead th {\n",
       "        text-align: right;\n",
       "    }\n",
       "</style>\n",
       "<table border=\"1\" class=\"dataframe\">\n",
       "  <thead>\n",
       "    <tr style=\"text-align: right;\">\n",
       "      <th></th>\n",
       "      <th>Sales_document</th>\n",
       "      <th>Sold_to_Party</th>\n",
       "      <th>SalesOffice</th>\n",
       "      <th>Order_Type</th>\n",
       "      <th>Unit_Price</th>\n",
       "      <th>Order_Qty</th>\n",
       "      <th>Document_Date</th>\n",
       "      <th>Req_Delivery_Date</th>\n",
       "      <th>Goods_Issue_Date</th>\n",
       "      <th>Delivery_Date</th>\n",
       "      <th>...</th>\n",
       "      <th>Customer</th>\n",
       "      <th>City</th>\n",
       "      <th>State</th>\n",
       "      <th>Zipcode</th>\n",
       "      <th>Country</th>\n",
       "      <th>District</th>\n",
       "      <th>waiting_days</th>\n",
       "      <th>wait</th>\n",
       "      <th>year</th>\n",
       "      <th>month</th>\n",
       "    </tr>\n",
       "  </thead>\n",
       "  <tbody>\n",
       "    <tr>\n",
       "      <th>108993</th>\n",
       "      <td>0020003485</td>\n",
       "      <td>0000107125</td>\n",
       "      <td>STD</td>\n",
       "      <td>QT</td>\n",
       "      <td>62.54</td>\n",
       "      <td>2.0</td>\n",
       "      <td>2017-04-23</td>\n",
       "      <td>2017-04-23</td>\n",
       "      <td>2017-05-17</td>\n",
       "      <td>2017-05-22</td>\n",
       "      <td>...</td>\n",
       "      <td>Surfside Sports</td>\n",
       "      <td>Costa Mesa</td>\n",
       "      <td>CA</td>\n",
       "      <td>92627-3831</td>\n",
       "      <td>US</td>\n",
       "      <td>CALS</td>\n",
       "      <td>29</td>\n",
       "      <td>1</td>\n",
       "      <td>2017</td>\n",
       "      <td>4</td>\n",
       "    </tr>\n",
       "    <tr>\n",
       "      <th>419094</th>\n",
       "      <td>0010707927</td>\n",
       "      <td>0000101399</td>\n",
       "      <td>HYB</td>\n",
       "      <td>OR</td>\n",
       "      <td>185.24</td>\n",
       "      <td>1.0</td>\n",
       "      <td>2017-12-06</td>\n",
       "      <td>2017-12-14</td>\n",
       "      <td>2017-12-13</td>\n",
       "      <td>2017-12-15</td>\n",
       "      <td>...</td>\n",
       "      <td>DO It Best Corp</td>\n",
       "      <td>Fort Wayne</td>\n",
       "      <td>IN</td>\n",
       "      <td>46801-0868</td>\n",
       "      <td>US</td>\n",
       "      <td>INKY</td>\n",
       "      <td>8</td>\n",
       "      <td>1</td>\n",
       "      <td>2017</td>\n",
       "      <td>12</td>\n",
       "    </tr>\n",
       "  </tbody>\n",
       "</table>\n",
       "<p>2 rows × 34 columns</p>\n",
       "</div>"
      ],
      "text/plain": [
       "       Sales_document Sold_to_Party SalesOffice Order_Type  Unit_Price  \\\n",
       "108993     0020003485    0000107125         STD         QT       62.54   \n",
       "419094     0010707927    0000101399         HYB         OR      185.24   \n",
       "\n",
       "        Order_Qty Document_Date Req_Delivery_Date Goods_Issue_Date  \\\n",
       "108993        2.0    2017-04-23        2017-04-23       2017-05-17   \n",
       "419094        1.0    2017-12-06        2017-12-14       2017-12-13   \n",
       "\n",
       "       Delivery_Date  ...          Customer        City State     Zipcode  \\\n",
       "108993    2017-05-22  ...   Surfside Sports  Costa Mesa    CA  92627-3831   \n",
       "419094    2017-12-15  ...   DO It Best Corp  Fort Wayne    IN  46801-0868   \n",
       "\n",
       "       Country  District  waiting_days wait  year month  \n",
       "108993      US      CALS            29    1  2017     4  \n",
       "419094      US      INKY             8    1  2017    12  \n",
       "\n",
       "[2 rows x 34 columns]"
      ]
     },
     "execution_count": 218,
     "metadata": {},
     "output_type": "execute_result"
    }
   ],
   "source": [
    "add_year_month_cols()\n",
    "extract_order_year_month()\n",
    "df.sample(2)"
   ]
  },
  {
   "cell_type": "markdown",
   "metadata": {},
   "source": [
    "### 1.3) Append a new column to the end of each row indicating dealer's volume group "
   ]
  },
  {
   "cell_type": "code",
   "execution_count": 219,
   "metadata": {
    "scrolled": false
   },
   "outputs": [
    {
     "data": {
      "text/plain": [
       "Index(['Sales_document', 'Sold_to_Party', 'SalesOffice', 'Order_Type',\n",
       "       'Unit_Price', 'Order_Qty', 'Document_Date', 'Req_Delivery_Date',\n",
       "       'Goods_Issue_Date', 'Delivery_Date', 'Overall_Credit_Status',\n",
       "       'Delivery_Block', 'Billing_Block', 'Block_flag', 'Line_Req_Deliv_Date',\n",
       "       'Confirmed_Line_Quantity', 'Confirmed_Line_Value',\n",
       "       'Overall_Credit_Status_Desc', 'Net_Value_Actual', 'ProductCategory',\n",
       "       'MasterSKU', 'Color', 'CurrentFlag', 'CustomerID', 'Customer', 'City',\n",
       "       'State', 'Zipcode', 'Country', 'District', 'waiting_days', 'wait',\n",
       "       'year', 'month', 'dealer_volume_group'],\n",
       "      dtype='object')"
      ]
     },
     "execution_count": 219,
     "metadata": {},
     "output_type": "execute_result"
    }
   ],
   "source": [
    "df['dealer_volume_group'] = df.apply(lambda _: '', axis=1)\n",
    "df.columns"
   ]
  },
  {
   "cell_type": "code",
   "execution_count": 220,
   "metadata": {},
   "outputs": [],
   "source": [
    "def update_dealer_volume_group():\n",
    "    for i, row in df.iterrows():\n",
    "        dealer = row[1]\n",
    "        group = volume_groups[dealer]\n",
    "        df.at[i, 'dealer_volume_group'] = group"
   ]
  },
  {
   "cell_type": "code",
   "execution_count": 221,
   "metadata": {},
   "outputs": [],
   "source": [
    "update_dealer_volume_group()"
   ]
  },
  {
   "cell_type": "code",
   "execution_count": 224,
   "metadata": {
    "scrolled": true
   },
   "outputs": [
    {
     "data": {
      "text/html": [
       "<div>\n",
       "<style scoped>\n",
       "    .dataframe tbody tr th:only-of-type {\n",
       "        vertical-align: middle;\n",
       "    }\n",
       "\n",
       "    .dataframe tbody tr th {\n",
       "        vertical-align: top;\n",
       "    }\n",
       "\n",
       "    .dataframe thead th {\n",
       "        text-align: right;\n",
       "    }\n",
       "</style>\n",
       "<table border=\"1\" class=\"dataframe\">\n",
       "  <thead>\n",
       "    <tr style=\"text-align: right;\">\n",
       "      <th></th>\n",
       "      <th>Sales_document</th>\n",
       "      <th>Sold_to_Party</th>\n",
       "      <th>SalesOffice</th>\n",
       "      <th>Order_Type</th>\n",
       "      <th>Unit_Price</th>\n",
       "      <th>Order_Qty</th>\n",
       "      <th>Document_Date</th>\n",
       "      <th>Req_Delivery_Date</th>\n",
       "      <th>Goods_Issue_Date</th>\n",
       "      <th>Delivery_Date</th>\n",
       "      <th>...</th>\n",
       "      <th>City</th>\n",
       "      <th>State</th>\n",
       "      <th>Zipcode</th>\n",
       "      <th>Country</th>\n",
       "      <th>District</th>\n",
       "      <th>waiting_days</th>\n",
       "      <th>wait</th>\n",
       "      <th>year</th>\n",
       "      <th>month</th>\n",
       "      <th>dealer_volume_group</th>\n",
       "    </tr>\n",
       "  </thead>\n",
       "  <tbody>\n",
       "    <tr>\n",
       "      <th>590920</th>\n",
       "      <td>0011186228</td>\n",
       "      <td>0000103056</td>\n",
       "      <td>STD</td>\n",
       "      <td>OR</td>\n",
       "      <td>129.99</td>\n",
       "      <td>1.0</td>\n",
       "      <td>2018-05-17</td>\n",
       "      <td>2018-05-17</td>\n",
       "      <td>2018-05-24</td>\n",
       "      <td>2018-05-31</td>\n",
       "      <td>...</td>\n",
       "      <td>Oakdale</td>\n",
       "      <td>CA</td>\n",
       "      <td>95361</td>\n",
       "      <td>US</td>\n",
       "      <td>CALN</td>\n",
       "      <td>0</td>\n",
       "      <td>0</td>\n",
       "      <td>2018</td>\n",
       "      <td>5</td>\n",
       "      <td>0</td>\n",
       "    </tr>\n",
       "    <tr>\n",
       "      <th>285874</th>\n",
       "      <td>0010403338</td>\n",
       "      <td>0000101886</td>\n",
       "      <td>STD</td>\n",
       "      <td>OR</td>\n",
       "      <td>20.99</td>\n",
       "      <td>12.0</td>\n",
       "      <td>2017-08-08</td>\n",
       "      <td>2017-08-08</td>\n",
       "      <td>2017-08-10</td>\n",
       "      <td>2017-08-15</td>\n",
       "      <td>...</td>\n",
       "      <td>Mattoon</td>\n",
       "      <td>IL</td>\n",
       "      <td>61938-6643</td>\n",
       "      <td>US</td>\n",
       "      <td>ILWI</td>\n",
       "      <td>0</td>\n",
       "      <td>0</td>\n",
       "      <td>2017</td>\n",
       "      <td>8</td>\n",
       "      <td>3</td>\n",
       "    </tr>\n",
       "    <tr>\n",
       "      <th>52540</th>\n",
       "      <td>0010051792</td>\n",
       "      <td>0000100710</td>\n",
       "      <td>HYB</td>\n",
       "      <td>OR</td>\n",
       "      <td>27.99</td>\n",
       "      <td>12.0</td>\n",
       "      <td>2017-03-07</td>\n",
       "      <td>2017-03-08</td>\n",
       "      <td>2017-04-06</td>\n",
       "      <td>2017-04-11</td>\n",
       "      <td>...</td>\n",
       "      <td>Fargo</td>\n",
       "      <td>ND</td>\n",
       "      <td>58103</td>\n",
       "      <td>US</td>\n",
       "      <td>ILWI</td>\n",
       "      <td>1</td>\n",
       "      <td>1</td>\n",
       "      <td>2017</td>\n",
       "      <td>3</td>\n",
       "      <td>3</td>\n",
       "    </tr>\n",
       "    <tr>\n",
       "      <th>466407</th>\n",
       "      <td>0010914965</td>\n",
       "      <td>0000101711</td>\n",
       "      <td>STD</td>\n",
       "      <td>OR</td>\n",
       "      <td>14.24</td>\n",
       "      <td>72.0</td>\n",
       "      <td>2018-01-30</td>\n",
       "      <td>2018-01-30</td>\n",
       "      <td>2018-02-05</td>\n",
       "      <td>2018-02-05</td>\n",
       "      <td>...</td>\n",
       "      <td>Summerville</td>\n",
       "      <td>SC</td>\n",
       "      <td>29483-7338</td>\n",
       "      <td>US</td>\n",
       "      <td>GAS</td>\n",
       "      <td>0</td>\n",
       "      <td>0</td>\n",
       "      <td>2018</td>\n",
       "      <td>1</td>\n",
       "      <td>2</td>\n",
       "    </tr>\n",
       "    <tr>\n",
       "      <th>582338</th>\n",
       "      <td>0011169976</td>\n",
       "      <td>0000104235</td>\n",
       "      <td>STD</td>\n",
       "      <td>OR</td>\n",
       "      <td>14.99</td>\n",
       "      <td>6.0</td>\n",
       "      <td>2018-05-10</td>\n",
       "      <td>2018-05-10</td>\n",
       "      <td>2018-06-04</td>\n",
       "      <td>2018-06-06</td>\n",
       "      <td>...</td>\n",
       "      <td>Garden City</td>\n",
       "      <td>KS</td>\n",
       "      <td>67846-5426</td>\n",
       "      <td>US</td>\n",
       "      <td>KSMO</td>\n",
       "      <td>0</td>\n",
       "      <td>0</td>\n",
       "      <td>2018</td>\n",
       "      <td>5</td>\n",
       "      <td>0</td>\n",
       "    </tr>\n",
       "    <tr>\n",
       "      <th>244924</th>\n",
       "      <td>0010351419</td>\n",
       "      <td>0000100672</td>\n",
       "      <td>STD</td>\n",
       "      <td>OR</td>\n",
       "      <td>129.99</td>\n",
       "      <td>2.0</td>\n",
       "      <td>2017-07-17</td>\n",
       "      <td>2017-07-13</td>\n",
       "      <td>2017-07-18</td>\n",
       "      <td>2017-07-18</td>\n",
       "      <td>...</td>\n",
       "      <td>El Campo</td>\n",
       "      <td>TX</td>\n",
       "      <td>77437-4054</td>\n",
       "      <td>US</td>\n",
       "      <td>HOUST</td>\n",
       "      <td>-4</td>\n",
       "      <td></td>\n",
       "      <td>2017</td>\n",
       "      <td>7</td>\n",
       "      <td>0</td>\n",
       "    </tr>\n",
       "    <tr>\n",
       "      <th>149242</th>\n",
       "      <td>0010170379</td>\n",
       "      <td>0000107458</td>\n",
       "      <td>STD</td>\n",
       "      <td>OR</td>\n",
       "      <td>47.99</td>\n",
       "      <td>12.0</td>\n",
       "      <td>2017-05-23</td>\n",
       "      <td>2017-09-28</td>\n",
       "      <td>2017-11-15</td>\n",
       "      <td>2017-11-20</td>\n",
       "      <td>...</td>\n",
       "      <td>Englishtown</td>\n",
       "      <td>NJ</td>\n",
       "      <td>07726-1622</td>\n",
       "      <td>US</td>\n",
       "      <td>NYC</td>\n",
       "      <td>128</td>\n",
       "      <td>1</td>\n",
       "      <td>2017</td>\n",
       "      <td>5</td>\n",
       "      <td>0</td>\n",
       "    </tr>\n",
       "    <tr>\n",
       "      <th>325607</th>\n",
       "      <td>0010461789</td>\n",
       "      <td>0000104070</td>\n",
       "      <td>STD</td>\n",
       "      <td>OR</td>\n",
       "      <td>11.99</td>\n",
       "      <td>12.0</td>\n",
       "      <td>2017-09-07</td>\n",
       "      <td>2017-09-07</td>\n",
       "      <td>2017-09-07</td>\n",
       "      <td>2017-09-08</td>\n",
       "      <td>...</td>\n",
       "      <td>Norman</td>\n",
       "      <td>OK</td>\n",
       "      <td>73069-5644</td>\n",
       "      <td>US</td>\n",
       "      <td>OKAR</td>\n",
       "      <td>0</td>\n",
       "      <td>0</td>\n",
       "      <td>2017</td>\n",
       "      <td>9</td>\n",
       "      <td>0</td>\n",
       "    </tr>\n",
       "    <tr>\n",
       "      <th>132173</th>\n",
       "      <td>0010125815</td>\n",
       "      <td>0000100192</td>\n",
       "      <td>STD</td>\n",
       "      <td>OR</td>\n",
       "      <td>14.99</td>\n",
       "      <td>6.0</td>\n",
       "      <td>2017-05-01</td>\n",
       "      <td>2017-06-05</td>\n",
       "      <td>2017-06-22</td>\n",
       "      <td>2017-06-27</td>\n",
       "      <td>...</td>\n",
       "      <td>Stroudsburg</td>\n",
       "      <td>PA</td>\n",
       "      <td>18360-2003</td>\n",
       "      <td>US</td>\n",
       "      <td>PANY</td>\n",
       "      <td>52</td>\n",
       "      <td>1</td>\n",
       "      <td>2017</td>\n",
       "      <td>5</td>\n",
       "      <td>0</td>\n",
       "    </tr>\n",
       "    <tr>\n",
       "      <th>362834</th>\n",
       "      <td>0010527234</td>\n",
       "      <td>0000115902</td>\n",
       "      <td>STD</td>\n",
       "      <td>OR</td>\n",
       "      <td>129.99</td>\n",
       "      <td>2.0</td>\n",
       "      <td>2017-10-11</td>\n",
       "      <td>2017-10-11</td>\n",
       "      <td>2017-10-11</td>\n",
       "      <td>2017-10-11</td>\n",
       "      <td>...</td>\n",
       "      <td>Galena</td>\n",
       "      <td>MD</td>\n",
       "      <td>21635</td>\n",
       "      <td>US</td>\n",
       "      <td>MATL</td>\n",
       "      <td>0</td>\n",
       "      <td>0</td>\n",
       "      <td>2017</td>\n",
       "      <td>10</td>\n",
       "      <td>0</td>\n",
       "    </tr>\n",
       "  </tbody>\n",
       "</table>\n",
       "<p>10 rows × 35 columns</p>\n",
       "</div>"
      ],
      "text/plain": [
       "       Sales_document Sold_to_Party SalesOffice Order_Type  Unit_Price  \\\n",
       "590920     0011186228    0000103056         STD         OR      129.99   \n",
       "285874     0010403338    0000101886         STD         OR       20.99   \n",
       "52540      0010051792    0000100710         HYB         OR       27.99   \n",
       "466407     0010914965    0000101711         STD         OR       14.24   \n",
       "582338     0011169976    0000104235         STD         OR       14.99   \n",
       "244924     0010351419    0000100672         STD         OR      129.99   \n",
       "149242     0010170379    0000107458         STD         OR       47.99   \n",
       "325607     0010461789    0000104070         STD         OR       11.99   \n",
       "132173     0010125815    0000100192         STD         OR       14.99   \n",
       "362834     0010527234    0000115902         STD         OR      129.99   \n",
       "\n",
       "        Order_Qty Document_Date Req_Delivery_Date Goods_Issue_Date  \\\n",
       "590920        1.0    2018-05-17        2018-05-17       2018-05-24   \n",
       "285874       12.0    2017-08-08        2017-08-08       2017-08-10   \n",
       "52540        12.0    2017-03-07        2017-03-08       2017-04-06   \n",
       "466407       72.0    2018-01-30        2018-01-30       2018-02-05   \n",
       "582338        6.0    2018-05-10        2018-05-10       2018-06-04   \n",
       "244924        2.0    2017-07-17        2017-07-13       2017-07-18   \n",
       "149242       12.0    2017-05-23        2017-09-28       2017-11-15   \n",
       "325607       12.0    2017-09-07        2017-09-07       2017-09-07   \n",
       "132173        6.0    2017-05-01        2017-06-05       2017-06-22   \n",
       "362834        2.0    2017-10-11        2017-10-11       2017-10-11   \n",
       "\n",
       "       Delivery_Date         ...                 City State     Zipcode  \\\n",
       "590920    2018-05-31         ...              Oakdale    CA       95361   \n",
       "285874    2017-08-15         ...              Mattoon    IL  61938-6643   \n",
       "52540     2017-04-11         ...                Fargo    ND       58103   \n",
       "466407    2018-02-05         ...          Summerville    SC  29483-7338   \n",
       "582338    2018-06-06         ...          Garden City    KS  67846-5426   \n",
       "244924    2017-07-18         ...             El Campo    TX  77437-4054   \n",
       "149242    2017-11-20         ...          Englishtown    NJ  07726-1622   \n",
       "325607    2017-09-08         ...               Norman    OK  73069-5644   \n",
       "132173    2017-06-27         ...          Stroudsburg    PA  18360-2003   \n",
       "362834    2017-10-11         ...               Galena    MD       21635   \n",
       "\n",
       "       Country District  waiting_days  wait  year  month dealer_volume_group  \n",
       "590920      US     CALN             0     0  2018      5                   0  \n",
       "285874      US     ILWI             0     0  2017      8                   3  \n",
       "52540       US     ILWI             1     1  2017      3                   3  \n",
       "466407      US      GAS             0     0  2018      1                   2  \n",
       "582338      US     KSMO             0     0  2018      5                   0  \n",
       "244924      US    HOUST            -4        2017      7                   0  \n",
       "149242      US      NYC           128     1  2017      5                   0  \n",
       "325607      US     OKAR             0     0  2017      9                   0  \n",
       "132173      US     PANY            52     1  2017      5                   0  \n",
       "362834      US     MATL             0     0  2017     10                   0  \n",
       "\n",
       "[10 rows x 35 columns]"
      ]
     },
     "execution_count": 224,
     "metadata": {},
     "output_type": "execute_result"
    }
   ],
   "source": [
    "df.sample(10)"
   ]
  },
  {
   "cell_type": "code",
   "execution_count": 238,
   "metadata": {},
   "outputs": [],
   "source": [
    "data = df.copy()"
   ]
  },
  {
   "cell_type": "markdown",
   "metadata": {},
   "source": [
    "### 1.4) Cleansing\n",
    "- change empty fields (negative wait intervals) to NaN in 'wait' indicator\n",
    "- replace Nulls and empty fields"
   ]
  },
  {
   "cell_type": "code",
   "execution_count": 239,
   "metadata": {},
   "outputs": [
    {
     "data": {
      "text/plain": [
       "Sales_document                     0\n",
       "Sold_to_Party                      0\n",
       "SalesOffice                        0\n",
       "Order_Type                         0\n",
       "Unit_Price                         0\n",
       "Order_Qty                          0\n",
       "Document_Date                      0\n",
       "Req_Delivery_Date                  0\n",
       "Goods_Issue_Date                   0\n",
       "Delivery_Date                      0\n",
       "Overall_Credit_Status          40039\n",
       "Delivery_Block                597467\n",
       "Billing_Block                 602409\n",
       "Block_flag                    589283\n",
       "Line_Req_Deliv_Date                0\n",
       "Confirmed_Line_Quantity            0\n",
       "Confirmed_Line_Value               0\n",
       "Overall_Credit_Status_Desc         0\n",
       "Net_Value_Actual                   0\n",
       "ProductCategory                    0\n",
       "MasterSKU                          0\n",
       "Color                              0\n",
       "CurrentFlag                        0\n",
       "CustomerID                         0\n",
       "Customer                           0\n",
       "City                               0\n",
       "State                            213\n",
       "Zipcode                            0\n",
       "Country                            0\n",
       "District                           3\n",
       "waiting_days                       0\n",
       "wait                           30390\n",
       "year                               0\n",
       "month                              0\n",
       "dealer_volume_group                0\n",
       "dtype: int64"
      ]
     },
     "execution_count": 239,
     "metadata": {},
     "output_type": "execute_result"
    }
   ],
   "source": [
    "data['wait'].replace('', np.nan, inplace=True)\n",
    "# check for null fields\n",
    "data.isnull().sum()"
   ]
  },
  {
   "cell_type": "code",
   "execution_count": 241,
   "metadata": {},
   "outputs": [],
   "source": [
    "data.drop(columns=['Sales_document','Sold_to_Party','Unit_Price',\n",
    "                   'Document_Date', 'Req_Delivery_Date',\n",
    "                   'Goods_Issue_Date', 'Delivery_Date',\n",
    "                   'Line_Req_Deliv_Date', 'Confirmed_Line_Quantity',\n",
    "                   'Confirmed_Line_Value', 'Net_Value_Actual',\n",
    "                   'CurrentFlag', 'CustomerID', 'Customer',\n",
    "                  ], inplace=True, errors='raise')"
   ]
  },
  {
   "cell_type": "code",
   "execution_count": 242,
   "metadata": {},
   "outputs": [
    {
     "data": {
      "text/plain": [
       "SalesOffice                        0\n",
       "Order_Type                         0\n",
       "Order_Qty                          0\n",
       "Overall_Credit_Status          40039\n",
       "Delivery_Block                597467\n",
       "Billing_Block                 602409\n",
       "Block_flag                    589283\n",
       "Overall_Credit_Status_Desc         0\n",
       "ProductCategory                    0\n",
       "MasterSKU                          0\n",
       "Color                              0\n",
       "City                               0\n",
       "State                            213\n",
       "Zipcode                            0\n",
       "Country                            0\n",
       "District                           3\n",
       "waiting_days                       0\n",
       "wait                           30390\n",
       "year                               0\n",
       "month                              0\n",
       "dealer_volume_group                0\n",
       "dtype: int64"
      ]
     },
     "execution_count": 242,
     "metadata": {},
     "output_type": "execute_result"
    }
   ],
   "source": [
    "data.isnull().sum()"
   ]
  },
  {
   "cell_type": "code",
   "execution_count": 243,
   "metadata": {},
   "outputs": [],
   "source": [
    "data.iloc[:, 3:7] = data.iloc[:, 3:7].fillna('0')   # Overall_Credit_Status, Delivery_Block, Billing_Block, Block_flag\n",
    "data.iloc[:, 12] = data.iloc[:, 12].fillna('1')  # state\n",
    "data.iloc[:, 15] = data.iloc[:, 15].fillna('2')  # district "
   ]
  },
  {
   "cell_type": "code",
   "execution_count": 244,
   "metadata": {},
   "outputs": [
    {
     "data": {
      "text/plain": [
       "SalesOffice                       0\n",
       "Order_Type                        0\n",
       "Order_Qty                         0\n",
       "Overall_Credit_Status             0\n",
       "Delivery_Block                    0\n",
       "Billing_Block                     0\n",
       "Block_flag                        0\n",
       "Overall_Credit_Status_Desc        0\n",
       "ProductCategory                   0\n",
       "MasterSKU                         0\n",
       "Color                             0\n",
       "City                              0\n",
       "State                             0\n",
       "Zipcode                           0\n",
       "Country                           0\n",
       "District                          0\n",
       "waiting_days                      0\n",
       "wait                          30390\n",
       "year                              0\n",
       "month                             0\n",
       "dealer_volume_group               0\n",
       "dtype: int64"
      ]
     },
     "execution_count": 244,
     "metadata": {},
     "output_type": "execute_result"
    }
   ],
   "source": [
    "data.isnull().sum()"
   ]
  },
  {
   "cell_type": "markdown",
   "metadata": {},
   "source": [
    "### 1.5) Convert relevant categorical data to numerical\n",
    "Since scikit-learn requires numerical input and output for modelling, convert all string-based data to numerical & convert data type from pandas.Object to float or int64"
   ]
  },
  {
   "cell_type": "code",
   "execution_count": 245,
   "metadata": {},
   "outputs": [],
   "source": [
    "def encode_categorical_predictors(dFrame):    \n",
    "    categorical_cols = ['SalesOffice', 'Order_Type', 'Overall_Credit_Status', \n",
    "                        'Delivery_Block', 'Billing_Block', 'Block_flag',\n",
    "                        'Overall_Credit_Status_Desc', 'ProductCategory',\n",
    "                        'MasterSKU', 'Color', 'City', 'State',\n",
    "                        'Zipcode','Country', 'District']\n",
    "    le = LabelEncoder()\n",
    "    for c in categorical_cols:\n",
    "        le.fit(dFrame[c].values)\n",
    "        dFrame[c] = le.transform(dFrame[c])\n",
    "    return dFrame"
   ]
  },
  {
   "cell_type": "code",
   "execution_count": 246,
   "metadata": {},
   "outputs": [],
   "source": [
    "data = encode_categorical_predictors(data)"
   ]
  },
  {
   "cell_type": "code",
   "execution_count": 247,
   "metadata": {},
   "outputs": [],
   "source": [
    "d = data.copy()"
   ]
  },
  {
   "cell_type": "code",
   "execution_count": 248,
   "metadata": {
    "scrolled": true
   },
   "outputs": [
    {
     "data": {
      "text/html": [
       "<div>\n",
       "<style scoped>\n",
       "    .dataframe tbody tr th:only-of-type {\n",
       "        vertical-align: middle;\n",
       "    }\n",
       "\n",
       "    .dataframe tbody tr th {\n",
       "        vertical-align: top;\n",
       "    }\n",
       "\n",
       "    .dataframe thead th {\n",
       "        text-align: right;\n",
       "    }\n",
       "</style>\n",
       "<table border=\"1\" class=\"dataframe\">\n",
       "  <thead>\n",
       "    <tr style=\"text-align: right;\">\n",
       "      <th></th>\n",
       "      <th>SalesOffice</th>\n",
       "      <th>Order_Type</th>\n",
       "      <th>Order_Qty</th>\n",
       "      <th>Overall_Credit_Status</th>\n",
       "      <th>Delivery_Block</th>\n",
       "      <th>Billing_Block</th>\n",
       "      <th>Block_flag</th>\n",
       "      <th>Overall_Credit_Status_Desc</th>\n",
       "      <th>ProductCategory</th>\n",
       "      <th>MasterSKU</th>\n",
       "      <th>...</th>\n",
       "      <th>City</th>\n",
       "      <th>State</th>\n",
       "      <th>Zipcode</th>\n",
       "      <th>Country</th>\n",
       "      <th>District</th>\n",
       "      <th>waiting_days</th>\n",
       "      <th>wait</th>\n",
       "      <th>year</th>\n",
       "      <th>month</th>\n",
       "      <th>dealer_volume_group</th>\n",
       "    </tr>\n",
       "  </thead>\n",
       "  <tbody>\n",
       "    <tr>\n",
       "      <th>507339</th>\n",
       "      <td>1</td>\n",
       "      <td>2</td>\n",
       "      <td>6.0</td>\n",
       "      <td>1</td>\n",
       "      <td>0</td>\n",
       "      <td>0</td>\n",
       "      <td>0</td>\n",
       "      <td>1</td>\n",
       "      <td>2</td>\n",
       "      <td>22</td>\n",
       "      <td>...</td>\n",
       "      <td>794</td>\n",
       "      <td>43</td>\n",
       "      <td>4987</td>\n",
       "      <td>5</td>\n",
       "      <td>59</td>\n",
       "      <td>62</td>\n",
       "      <td>1.0</td>\n",
       "      <td>2018</td>\n",
       "      <td>2</td>\n",
       "      <td>0</td>\n",
       "    </tr>\n",
       "    <tr>\n",
       "      <th>163829</th>\n",
       "      <td>1</td>\n",
       "      <td>2</td>\n",
       "      <td>6.0</td>\n",
       "      <td>1</td>\n",
       "      <td>0</td>\n",
       "      <td>0</td>\n",
       "      <td>0</td>\n",
       "      <td>1</td>\n",
       "      <td>2</td>\n",
       "      <td>26</td>\n",
       "      <td>...</td>\n",
       "      <td>2516</td>\n",
       "      <td>20</td>\n",
       "      <td>3224</td>\n",
       "      <td>5</td>\n",
       "      <td>21</td>\n",
       "      <td>63</td>\n",
       "      <td>1.0</td>\n",
       "      <td>2017</td>\n",
       "      <td>6</td>\n",
       "      <td>0</td>\n",
       "    </tr>\n",
       "  </tbody>\n",
       "</table>\n",
       "<p>2 rows × 21 columns</p>\n",
       "</div>"
      ],
      "text/plain": [
       "        SalesOffice  Order_Type  Order_Qty  Overall_Credit_Status  \\\n",
       "507339            1           2        6.0                      1   \n",
       "163829            1           2        6.0                      1   \n",
       "\n",
       "        Delivery_Block  Billing_Block  Block_flag  Overall_Credit_Status_Desc  \\\n",
       "507339               0              0           0                           1   \n",
       "163829               0              0           0                           1   \n",
       "\n",
       "        ProductCategory  MasterSKU         ...           City  State  Zipcode  \\\n",
       "507339                2         22         ...            794     43     4987   \n",
       "163829                2         26         ...           2516     20     3224   \n",
       "\n",
       "        Country  District  waiting_days  wait  year  month  \\\n",
       "507339        5        59            62   1.0  2018      2   \n",
       "163829        5        21            63   1.0  2017      6   \n",
       "\n",
       "        dealer_volume_group  \n",
       "507339                    0  \n",
       "163829                    0  \n",
       "\n",
       "[2 rows x 21 columns]"
      ]
     },
     "execution_count": 248,
     "metadata": {},
     "output_type": "execute_result"
    }
   ],
   "source": [
    "d.sample(2)"
   ]
  },
  {
   "cell_type": "code",
   "execution_count": 249,
   "metadata": {
    "scrolled": true
   },
   "outputs": [
    {
     "data": {
      "text/plain": [
       "array([4, 3, 2, 1, 0], dtype=int64)"
      ]
     },
     "execution_count": 249,
     "metadata": {},
     "output_type": "execute_result"
    }
   ],
   "source": [
    "# check unique product categories\n",
    "d['ProductCategory'].unique()"
   ]
  },
  {
   "cell_type": "markdown",
   "metadata": {},
   "source": [
    "### 1.6) Create the response variable (Y)\n",
    "\n",
    "The dependent variable to be predicted is each volume group's monthly sum Order_Qty per Product Category. \n",
    "\n",
    "Function update_monthly_sum() adds a column to the end of each record indicating this dealer group's monthly sum Order_Qty in the same product category."
   ]
  },
  {
   "cell_type": "code",
   "execution_count": 263,
   "metadata": {},
   "outputs": [],
   "source": [
    "import sys\n",
    "\n",
    "def update_monthly_sum(dFrame):\n",
    "            \n",
    "    new_dFrame = dFrame.copy()\n",
    "    \n",
    "    # column to the end of the dataframe\n",
    "    new_dFrame['monthly_sum_Order_Qty'] = np.nan\n",
    "    \n",
    "    hi = len(dFrame)\n",
    "\n",
    "    for i, row in dFrame.iterrows():\n",
    "        \n",
    "        # find the same MasterSKU sold in the same month (regardless of year)\n",
    "        # to the same dealer volume group\n",
    "        subset = dFrame.loc[(dFrame['year'] == row[18]) \n",
    "                            & (dFrame['month'] == row[19]) \n",
    "                            & (dFrame['ProductCategory'] == row[8])\n",
    "                            & (dFrame['dealer_volume_group'] == row[20])]\n",
    "\n",
    "        # calculate their sum Order_Qty\n",
    "        subset_order_sum = subset['Order_Qty'].sum(min_count=1)\n",
    "            \n",
    "        # update sum of Order_Qty for all relevant rows\n",
    "        new_dFrame.loc[(\n",
    "                        (np.isnan(new_dFrame['monthly_sum_Order_Qty']))\n",
    "                        & (dFrame['year'] == row[18]) \n",
    "                        & (dFrame['month'] == row[19]) \n",
    "                        & (dFrame['ProductCategory'] == row[8])\n",
    "                        & (dFrame['dealer_volume_group'] == row[20])\n",
    "                        ), 'monthly_sum_Order_Qty'] = subset_order_sum\n",
    "            \n",
    "        # status update\n",
    "        if (i % 1000) == 0 and i <= hi:\n",
    "            sys.stdout.write('\\r'+\"{0:.3%}\".format(i/hi))\n",
    "            sys.stdout.flush()\n",
    "            \n",
    "    return new_dFrame"
   ]
  },
  {
   "cell_type": "code",
   "execution_count": 264,
   "metadata": {},
   "outputs": [
    {
     "name": "stdout",
     "output_type": "stream",
     "text": [
      "99.892%"
     ]
    }
   ],
   "source": [
    "aggr_data_sum = update_monthly_sum(d)"
   ]
  },
  {
   "cell_type": "code",
   "execution_count": 265,
   "metadata": {
    "scrolled": true
   },
   "outputs": [
    {
     "data": {
      "text/plain": [
       "(602653, 22)"
      ]
     },
     "execution_count": 265,
     "metadata": {},
     "output_type": "execute_result"
    }
   ],
   "source": [
    "aggr_data.shape"
   ]
  },
  {
   "cell_type": "code",
   "execution_count": 266,
   "metadata": {},
   "outputs": [
    {
     "data": {
      "text/html": [
       "<div>\n",
       "<style scoped>\n",
       "    .dataframe tbody tr th:only-of-type {\n",
       "        vertical-align: middle;\n",
       "    }\n",
       "\n",
       "    .dataframe tbody tr th {\n",
       "        vertical-align: top;\n",
       "    }\n",
       "\n",
       "    .dataframe thead th {\n",
       "        text-align: right;\n",
       "    }\n",
       "</style>\n",
       "<table border=\"1\" class=\"dataframe\">\n",
       "  <thead>\n",
       "    <tr style=\"text-align: right;\">\n",
       "      <th></th>\n",
       "      <th>SalesOffice</th>\n",
       "      <th>Order_Type</th>\n",
       "      <th>Order_Qty</th>\n",
       "      <th>Overall_Credit_Status</th>\n",
       "      <th>Delivery_Block</th>\n",
       "      <th>Billing_Block</th>\n",
       "      <th>Block_flag</th>\n",
       "      <th>Overall_Credit_Status_Desc</th>\n",
       "      <th>ProductCategory</th>\n",
       "      <th>MasterSKU</th>\n",
       "      <th>...</th>\n",
       "      <th>State</th>\n",
       "      <th>Zipcode</th>\n",
       "      <th>Country</th>\n",
       "      <th>District</th>\n",
       "      <th>waiting_days</th>\n",
       "      <th>wait</th>\n",
       "      <th>dealer_volume_group</th>\n",
       "      <th>year</th>\n",
       "      <th>month</th>\n",
       "      <th>monthly_sum_Order_Qty</th>\n",
       "    </tr>\n",
       "  </thead>\n",
       "  <tbody>\n",
       "    <tr>\n",
       "      <th>18462</th>\n",
       "      <td>1</td>\n",
       "      <td>2</td>\n",
       "      <td>2.0</td>\n",
       "      <td>1</td>\n",
       "      <td>0</td>\n",
       "      <td>0</td>\n",
       "      <td>0</td>\n",
       "      <td>1</td>\n",
       "      <td>4</td>\n",
       "      <td>3</td>\n",
       "      <td>...</td>\n",
       "      <td>61</td>\n",
       "      <td>690</td>\n",
       "      <td>5</td>\n",
       "      <td>28</td>\n",
       "      <td>24</td>\n",
       "      <td>2</td>\n",
       "      <td>0</td>\n",
       "      <td>2017</td>\n",
       "      <td>2</td>\n",
       "      <td>47234.0</td>\n",
       "    </tr>\n",
       "    <tr>\n",
       "      <th>85010</th>\n",
       "      <td>1</td>\n",
       "      <td>3</td>\n",
       "      <td>1.0</td>\n",
       "      <td>0</td>\n",
       "      <td>0</td>\n",
       "      <td>0</td>\n",
       "      <td>0</td>\n",
       "      <td>1</td>\n",
       "      <td>3</td>\n",
       "      <td>42</td>\n",
       "      <td>...</td>\n",
       "      <td>18</td>\n",
       "      <td>2885</td>\n",
       "      <td>5</td>\n",
       "      <td>33</td>\n",
       "      <td>71</td>\n",
       "      <td>2</td>\n",
       "      <td>0</td>\n",
       "      <td>2017</td>\n",
       "      <td>4</td>\n",
       "      <td>20821.0</td>\n",
       "    </tr>\n",
       "    <tr>\n",
       "      <th>218994</th>\n",
       "      <td>1</td>\n",
       "      <td>2</td>\n",
       "      <td>12.0</td>\n",
       "      <td>1</td>\n",
       "      <td>0</td>\n",
       "      <td>0</td>\n",
       "      <td>0</td>\n",
       "      <td>1</td>\n",
       "      <td>2</td>\n",
       "      <td>17</td>\n",
       "      <td>...</td>\n",
       "      <td>30</td>\n",
       "      <td>3062</td>\n",
       "      <td>5</td>\n",
       "      <td>33</td>\n",
       "      <td>-7</td>\n",
       "      <td>0</td>\n",
       "      <td>0</td>\n",
       "      <td>2017</td>\n",
       "      <td>7</td>\n",
       "      <td>872203.0</td>\n",
       "    </tr>\n",
       "  </tbody>\n",
       "</table>\n",
       "<p>3 rows × 22 columns</p>\n",
       "</div>"
      ],
      "text/plain": [
       "        SalesOffice  Order_Type  Order_Qty  Overall_Credit_Status  \\\n",
       "18462             1           2        2.0                      1   \n",
       "85010             1           3        1.0                      0   \n",
       "218994            1           2       12.0                      1   \n",
       "\n",
       "        Delivery_Block  Billing_Block  Block_flag  Overall_Credit_Status_Desc  \\\n",
       "18462                0              0           0                           1   \n",
       "85010                0              0           0                           1   \n",
       "218994               0              0           0                           1   \n",
       "\n",
       "        ProductCategory  MasterSKU          ...            State  Zipcode  \\\n",
       "18462                 4          3          ...               61      690   \n",
       "85010                 3         42          ...               18     2885   \n",
       "218994                2         17          ...               30     3062   \n",
       "\n",
       "        Country  District  waiting_days  wait  dealer_volume_group  year  \\\n",
       "18462         5        28            24     2                    0  2017   \n",
       "85010         5        33            71     2                    0  2017   \n",
       "218994        5        33            -7     0                    0  2017   \n",
       "\n",
       "        month  monthly_sum_Order_Qty  \n",
       "18462       2                47234.0  \n",
       "85010       4                20821.0  \n",
       "218994      7               872203.0  \n",
       "\n",
       "[3 rows x 22 columns]"
      ]
     },
     "execution_count": 266,
     "metadata": {},
     "output_type": "execute_result"
    }
   ],
   "source": [
    "aggr_data.sample(3)"
   ]
  },
  {
   "cell_type": "code",
   "execution_count": 268,
   "metadata": {},
   "outputs": [
    {
     "name": "stdout",
     "output_type": "stream",
     "text": [
      "Stored 'aggr_data' (DataFrame)\n"
     ]
    }
   ],
   "source": [
    "%store aggr_data"
   ]
  },
  {
   "cell_type": "markdown",
   "metadata": {},
   "source": [
    "## 2) Feature Selection\n",
    "### 2.1) Feature selection with linear models: hypothesis test and regularization"
   ]
  },
  {
   "cell_type": "markdown",
   "metadata": {},
   "source": [
    "#### OLS multiple linear regression to predict monthly sum of Order_Qty per product category based on volume groupings\n",
    "Advantages of OLS:\n",
    "- Simple and good for inferences: intuitive to understand, help to perform feature selection with t-test (p-values) and regularization (lasso, ridge)\n",
    "\n",
    "Disadvantages:\n",
    "- Sensitivity to outliers\n",
    "- requires optimal polynomials in case of non-linearity\n",
    "- tendency to overfit (requires ridge or lasso to regularize)\n",
    "- lots of [assumptions](https://www.albert.io/blog/key-assumptions-of-ols-econometrics-review/): centered to have mean 0; no perfect collinearity; spherical errors (homoscedastic and no autocorrelation); normally distributed errors, etc."
   ]
  },
  {
   "cell_type": "code",
   "execution_count": 7,
   "metadata": {},
   "outputs": [],
   "source": [
    "%store -r aggr_data\n",
    "\n",
    "def split_data(data, sample_size=0.2):\n",
    "    X = data[['ProductCategory', 'dealer_volume_group', 'month']].values\n",
    "    Y = data['monthly_sum_Order_Qty'].values.reshape(-1,1)\n",
    "    X_train, X_test, Y_train, Y_test = train_test_split(X, Y, \n",
    "                                                        test_size=(1-sample_size),\n",
    "                                                        random_state=42)\n",
    "    return X_train, Y_train"
   ]
  },
  {
   "cell_type": "markdown",
   "metadata": {},
   "source": [
    "### Use 20% of all data to test models\n",
    "- a smaller dataset efficiently test model performances\n",
    "- 6 features (color, productCategory, masterSKU, district, month, dealer_volume_group) -> 3 features (productCategory, month, dealer_volume_group)\n",
    "- 5 fold cross validate within the 20% data"
   ]
  },
  {
   "cell_type": "code",
   "execution_count": 8,
   "metadata": {
    "scrolled": true
   },
   "outputs": [
    {
     "name": "stdout",
     "output_type": "stream",
     "text": [
      "Sample size: 120530\n"
     ]
    }
   ],
   "source": [
    "# 20% of data\n",
    "X, Y = split_data(aggr_data)\n",
    "len(X) == len(Y)\n",
    "print('Sample size:',len(X))"
   ]
  },
  {
   "cell_type": "code",
   "execution_count": 148,
   "metadata": {},
   "outputs": [
    {
     "name": "stdout",
     "output_type": "stream",
     "text": [
      "Sample size: 542387\n"
     ]
    }
   ],
   "source": [
    "# 90% of data\n",
    "X_90, Y_90 = split_data(aggr_data, sample_size=0.9)\n",
    "print('Sample size:',len(X))"
   ]
  },
  {
   "cell_type": "code",
   "execution_count": 140,
   "metadata": {
    "scrolled": true
   },
   "outputs": [
    {
     "data": {
      "text/plain": [
       "Index(['SalesOffice', 'Order_Type', 'Order_Qty', 'Overall_Credit_Status',\n",
       "       'Delivery_Block', 'Billing_Block', 'Block_flag',\n",
       "       'Overall_Credit_Status_Desc', 'ProductCategory', 'MasterSKU', 'Color',\n",
       "       'City', 'State', 'Zipcode', 'Country', 'District', 'waiting_days',\n",
       "       'wait', 'dealer_volume_group', 'year', 'month',\n",
       "       'monthly_sum_Order_Qty'],\n",
       "      dtype='object')"
      ]
     },
     "execution_count": 140,
     "metadata": {},
     "output_type": "execute_result"
    }
   ],
   "source": [
    "aggr_data.columns"
   ]
  },
  {
   "cell_type": "markdown",
   "metadata": {},
   "source": [
    "### 2.3) Transform dependent variable Y\n",
    "#### normalize\n",
    "Y is not normally distributed and shows large variances. Power transformation helps to monotonically transform and stablize data points to make them closer to normal distribution. Method used here is [Box-Cox transformation](https://en.wikipedia.org/wiki/Power_transform).\n",
    "\n",
    "#### Box-Cox Transformation with lambda = approx. 0.3 yields the best residual plot results\n",
    "<center> $Y_{i, transformed} = 1 - \\frac{Y_{i, original}^{0.3}-1}{0.3}$ </center>"
   ]
  },
  {
   "cell_type": "code",
   "execution_count": 319,
   "metadata": {},
   "outputs": [],
   "source": [
    "def plot_Y(Y_, status, boxcox_transform=False):\n",
    "    if boxcox_transform:\n",
    "        Y_, optimal_lambda = boxcox(Y_, lmbda=None)\n",
    "        print(\"Optimal lambda for Box-Cox transformation on this dataset:\", optimal_lambda)\n",
    "    fig6, ax6 = plt.subplots(1)\n",
    "    ax6.hist(Y_, alpha=0.7)\n",
    "    plt.grid(color='grey', linestyle='-', linewidth=1, alpha=.2)\n",
    "    ax6.set_title('distribution of Y, {}, lambda = {}'.format(status, lambda_))"
   ]
  },
  {
   "cell_type": "code",
   "execution_count": 320,
   "metadata": {},
   "outputs": [
    {
     "data": {
      "image/png": "[encoded data removed]",
      "text/plain": [
       "<matplotlib.figure.Figure at 0x15781b4b588>"
      ]
     },
     "metadata": {},
     "output_type": "display_data"
    }
   ],
   "source": [
    "plot_Y(Y, 'original')"
   ]
  },
  {
   "cell_type": "code",
   "execution_count": 322,
   "metadata": {
    "scrolled": true
   },
   "outputs": [
    {
     "name": "stdout",
     "output_type": "stream",
     "text": [
      "Optimal lambda for Box-Cox transformation on this dataset: [0.30223777]\n"
     ]
    },
    {
     "data": {
      "image/png": "[encoded data removed]",
      "text/plain": [
       "<matplotlib.figure.Figure at 0x15781817400>"
      ]
     },
     "metadata": {},
     "output_type": "display_data"
    }
   ],
   "source": [
    "# find optimal lambda & use it to transform Y \n",
    "# into more normal-distribution-resembling shape\n",
    "plot_Y(Y, 'Box-Cox transformed', boxcox_transform=True)"
   ]
  },
  {
   "cell_type": "markdown",
   "metadata": {},
   "source": [
    "## 3) Performance evaluation\n",
    "- The common approaches to measure forecast accuracy include scale-dependent ones (eg. number of units between actual sold quantities and predicted quantities) and scale-independent ones (the percentage of units). \n",
    "- Measures used here include: R2, adjusted R2, RMSE, MAPE\n",
    "- Choos[forecast accuracy measurements](https://robjhyndman.com/papers/mase.pdf) depending on task at hand.\n",
    "\n",
    "### R2 \n",
    "R2 score can be an initial measure the performance of the KNN regressor and helps parameter-tuning. \n",
    "It measures the proportion of variance in orginal data that is explained by the model. A model with high R2 score (close to 1) indicates a good model fit to the dataset: the estimated function can help to explain a large percentage of variability in Y.\n",
    "\n",
    "<center>\n",
    "$R^2 = \\frac{SSR}{SST} = \\frac{\\sum{(\\hat{y}_i-\\bar{y})^2}}{\\sum{(y_i-\\bar{y})^2}}$\n",
    "</center>\n",
    "\n",
    "R2 also has the following limitations: \n",
    "- always increase with more variables (even if the added variable is not related to Y)\n",
    "- a blind pursuit for high R2 leads to overfitting.\n",
    "\n",
    "### Adjusted R2\n",
    "\n",
    "Adjusted R2 improves upon R2 to mitigate the risk of overfitting. It penalizes adding too many variables to the model (p is the number of variables and N is the number of samples)\n",
    "\n",
    "<center>\n",
    "$Adjusted\\:R^2 = 1 - \\frac{(1-R^2)(N-1)}{N-p-1}$\n",
    "</center>"
   ]
  },
  {
   "cell_type": "markdown",
   "metadata": {},
   "source": [
    "### RMSE (root of mean squared error)\n",
    "- [Mean Squared Error (MSE)](https://en.wikipedia.org/wiki/Mean_squared_error) measures the average of the squares of errors. It is always greater than 0 and a value close to 0 is better. Since it puts a very high weight on large deviations, it is better to use [RMSE (root mean squared error)](https://lh4.googleusercontent.com/GD-CcmSDeb1ficAt41u0ZDtFd7syTpJGc_NJ3NGTlQtY-rikX7Tqn9DMaG4b5JtWlKOI6RBayJZNxr4h5SHL2SeKX9ceQCLj9uGTuqeAfgS0EDjh20oZnImahJ2oUa3up9E7KjI): \n",
    "\n",
    "<center>\n",
    "    $RMSE = \\sqrt{MSE} = \\sqrt{\\frac{1}{n} \\sum_{j=1}^{n} (y_j - \\hat{y}_j)^2} $\n",
    "</center>"
   ]
  },
  {
   "cell_type": "markdown",
   "metadata": {},
   "source": [
    "### MAPE (mean absolute percentage error)\n",
    "[MAPE](https://en.wikipedia.org/wiki/Mean_absolute_percentage_error) provides a more intuitive and scale-independent measure of how the regressor perform on actual data. The goal is to minimize this statistics since we want small errors between predictions and true values.\n",
    "![alt text](https://i.stack.imgur.com/8Wdgw.png)\n",
    "[drawbacks](https://stats.stackexchange.com/questions/299712/what-are-the-shortcomings-of-the-mean-absolute-percentage-error-mape):\n",
    "- asymmetric - using MAPE to evaluate model performance encourages underforecast: equal errors above the actual value have greater APEs than those below the actual value;\n",
    "- does not work when Y is (or close to) 0"
   ]
  },
  {
   "cell_type": "markdown",
   "metadata": {},
   "source": [
    "### Studentized Residual Plots: identify outliers and heteroscedasticity\n",
    "To check for the risk of overfitting, plot residuals (actual Y - predicted Y) against predicted Y (y-hat) and analyze the distribution of residuals. Studentized residuals takes into account the variance of residuals: if the theoretical assumption of homoskedastic (error variance is constant) is violated, the data is heteroscedastic.\n",
    "\n",
    "Internally studentized residual is calculated by\n",
    "\n",
    "<center>\n",
    "$\\hat{\\sigma}^2 = \\frac{1}{n-m} \\sum_{j=1}^{n} \\hat{\\epsilon_j}^2$\n",
    "</center>\n",
    "\n",
    "where $m$ is the number of parameter in the model and $n$ is the sample size. \n",
    "\n",
    "It also helps to detect outliers that may affect model performance and evaluation"
   ]
  },
  {
   "cell_type": "code",
   "execution_count": 9,
   "metadata": {},
   "outputs": [],
   "source": [
    "def calculate_adj_r2(r2, n, p):\n",
    "    return 1 - (1-r2) * (n-1)/(n-p-1)\n",
    "\n",
    "def mape(Y_test, Y_pred):\n",
    "    Y_test, Y_pred = np.array(Y_test), np.array(Y_pred)\n",
    "    return np.mean((np.abs(Y_test-Y_pred)/Y_test)) * 100\n",
    "\n",
    "def cross_val_mape(model, X_, Y_, fold=5, rand_seed=None):\n",
    "    \n",
    "    X_train, X_test, Y_train, Y_test = [], [], [], []\n",
    "    \n",
    "    kf = KFold(n_splits=fold, random_state=rand_seed)\n",
    "    \n",
    "    for train_indices, test_indices in kf.split(X_, Y_):\n",
    "        X_train, X_test = X_[train_indices], X_[test_indices]\n",
    "        Y_train, Y_test = Y_[train_indices], Y_[test_indices]\n",
    "    \n",
    "    model.fit(X_train, Y_train)\n",
    "    Y_pred = model.predict(X_test)\n",
    "    \n",
    "    mape_score = mape(Y_test, Y_pred)\n",
    "    \n",
    "    return mape_score"
   ]
  },
  {
   "cell_type": "markdown",
   "metadata": {},
   "source": [
    "## OLS - linear regression\n",
    "hypothesis test (t-test and p-value) "
   ]
  },
  {
   "cell_type": "code",
   "execution_count": 10,
   "metadata": {},
   "outputs": [],
   "source": [
    "def ols_(data):\n",
    "    X = data[['ProductCategory','dealer_volume_group','month']].values\n",
    "    Y = data['monthly_sum_Order_Qty'].values.reshape(-1,1)\n",
    "    \n",
    "    X = sm.add_constant(X)\n",
    "    mod = sm.OLS(Y, X)\n",
    "    res = mod.fit()\n",
    "    \n",
    "    return res.summary()\n",
    "\n",
    "def OLS(X, Y, feature_list=None, boxcox_transform=False):  # call split_data() first to generate X and Y\n",
    "    \n",
    "    X_train, X_test, Y_train, Y_test = train_test_split(X, Y,\n",
    "                                                        test_size=0.3,\n",
    "                                                        random_state=12)\n",
    "    \n",
    "    sc = StandardScaler()\n",
    "    X_train, X_test = sc.fit_transform(X_train), sc.fit_transform(X_test)\n",
    "    if boxcox_transform:\n",
    "        Y_train, _ = boxcox(Y_train)\n",
    "        Y_test, _ = boxcox(Y_test)\n",
    "    \n",
    "    lr = LinearRegression()\n",
    "    model = lr.fit(X_train, Y_train)\n",
    "    Y_pred = model.predict(X_test)\n",
    "    \n",
    "    rmse = np.mean(-1 * cross_val_score(model, X_train, Y_train, \n",
    "                                   scoring='neg_mean_squared_error',\n",
    "                                   cv=5))\n",
    "    r2_list = cross_val_score(model, X_train, Y_train, scoring='r2')\n",
    "    adj_r2 = np.mean([calculate_adj_r2(r2, len(X), len(feature_list)) for r2 in r2_list])\n",
    "    MAPE = cross_val_mape(model, Y_test, Y_pred)\n",
    "    \n",
    "    print(\"OLS with features {} \\n \\\n",
    "        RMSE: {} \\n Adjusted R2: {} \\n \\\n",
    "        MAPE: {}%\".format(feature_list, rmse, adj_r2, MAPE))\n",
    "    \n",
    "\n",
    "def ols_volume_gp_ttest(data, groupNumber, month):\n",
    "    local_data = data.loc[(data['dealer_volume_group'] == groupNumber)\n",
    "                        & (data['month'] == month)]\n",
    "\n",
    "    X = local_data[['SalesOffice','Order_Type','ProductCategory','MasterSKU',\n",
    "                    'State','District']].values\n",
    "    Y = local_data['monthly_sum_Order_Qty'].values.reshape(-1, 1)\n",
    "    \n",
    "    print(\"Month: {}\\nVolume group: {}\\n# of records: {}\".format(month,groupNumber,len(X)))\n",
    "    \n",
    "    X = sm.add_constant(X)\n",
    "    mod = sm.OLS(Y, X)\n",
    "    res = mod.fit()\n",
    "    \n",
    "    return res.summary()"
   ]
  },
  {
   "cell_type": "code",
   "execution_count": 143,
   "metadata": {
    "scrolled": false
   },
   "outputs": [
    {
     "data": {
      "text/html": [
       "<table class=\"simpletable\">\n",
       "<caption>OLS Regression Results</caption>\n",
       "<tr>\n",
       "  <th>Dep. Variable:</th>            <td>y</td>        <th>  R-squared:         </th>  <td>   0.479</td>  \n",
       "</tr>\n",
       "<tr>\n",
       "  <th>Model:</th>                   <td>OLS</td>       <th>  Adj. R-squared:    </th>  <td>   0.479</td>  \n",
       "</tr>\n",
       "<tr>\n",
       "  <th>Method:</th>             <td>Least Squares</td>  <th>  F-statistic:       </th>  <td>1.844e+05</td> \n",
       "</tr>\n",
       "<tr>\n",
       "  <th>Date:</th>             <td>Thu, 12 Jul 2018</td> <th>  Prob (F-statistic):</th>   <td>  0.00</td>   \n",
       "</tr>\n",
       "<tr>\n",
       "  <th>Time:</th>                 <td>11:47:20</td>     <th>  Log-Likelihood:    </th> <td>-8.3142e+06</td>\n",
       "</tr>\n",
       "<tr>\n",
       "  <th>No. Observations:</th>      <td>602653</td>      <th>  AIC:               </th>  <td>1.663e+07</td> \n",
       "</tr>\n",
       "<tr>\n",
       "  <th>Df Residuals:</th>          <td>602649</td>      <th>  BIC:               </th>  <td>1.663e+07</td> \n",
       "</tr>\n",
       "<tr>\n",
       "  <th>Df Model:</th>              <td>     3</td>      <th>                     </th>      <td> </td>     \n",
       "</tr>\n",
       "<tr>\n",
       "  <th>Covariance Type:</th>      <td>nonrobust</td>    <th>                     </th>      <td> </td>     \n",
       "</tr>\n",
       "</table>\n",
       "<table class=\"simpletable\">\n",
       "<tr>\n",
       "    <td></td>       <th>coef</th>     <th>std err</th>      <th>t</th>      <th>P>|t|</th>  <th>[0.025</th>    <th>0.975]</th>  \n",
       "</tr>\n",
       "<tr>\n",
       "  <th>const</th> <td> 1.138e+06</td> <td> 1187.402</td> <td>  958.335</td> <td> 0.000</td> <td> 1.14e+06</td> <td> 1.14e+06</td>\n",
       "</tr>\n",
       "<tr>\n",
       "  <th>x1</th>    <td>-2.911e+05</td> <td>  392.126</td> <td> -742.371</td> <td> 0.000</td> <td>-2.92e+05</td> <td> -2.9e+05</td>\n",
       "</tr>\n",
       "<tr>\n",
       "  <th>x2</th>    <td> 4764.4763</td> <td>  394.461</td> <td>   12.078</td> <td> 0.000</td> <td> 3991.345</td> <td> 5537.608</td>\n",
       "</tr>\n",
       "<tr>\n",
       "  <th>x3</th>    <td>-4166.7829</td> <td>   98.482</td> <td>  -42.310</td> <td> 0.000</td> <td>-4359.804</td> <td>-3973.762</td>\n",
       "</tr>\n",
       "</table>\n",
       "<table class=\"simpletable\">\n",
       "<tr>\n",
       "  <th>Omnibus:</th>       <td>144091.594</td> <th>  Durbin-Watson:     </th>  <td>   1.425</td> \n",
       "</tr>\n",
       "<tr>\n",
       "  <th>Prob(Omnibus):</th>   <td> 0.000</td>   <th>  Jarque-Bera (JB):  </th> <td>498274.495</td>\n",
       "</tr>\n",
       "<tr>\n",
       "  <th>Skew:</th>            <td>-1.191</td>   <th>  Prob(JB):          </th>  <td>    0.00</td> \n",
       "</tr>\n",
       "<tr>\n",
       "  <th>Kurtosis:</th>        <td> 6.765</td>   <th>  Cond. No.          </th>  <td>    27.9</td> \n",
       "</tr>\n",
       "</table>"
      ],
      "text/plain": [
       "<class 'statsmodels.iolib.summary.Summary'>\n",
       "\"\"\"\n",
       "                            OLS Regression Results                            \n",
       "==============================================================================\n",
       "Dep. Variable:                      y   R-squared:                       0.479\n",
       "Model:                            OLS   Adj. R-squared:                  0.479\n",
       "Method:                 Least Squares   F-statistic:                 1.844e+05\n",
       "Date:                Thu, 12 Jul 2018   Prob (F-statistic):               0.00\n",
       "Time:                        11:47:20   Log-Likelihood:            -8.3142e+06\n",
       "No. Observations:              602653   AIC:                         1.663e+07\n",
       "Df Residuals:                  602649   BIC:                         1.663e+07\n",
       "Df Model:                           3                                         \n",
       "Covariance Type:            nonrobust                                         \n",
       "==============================================================================\n",
       "                 coef    std err          t      P>|t|      [0.025      0.975]\n",
       "------------------------------------------------------------------------------\n",
       "const       1.138e+06   1187.402    958.335      0.000    1.14e+06    1.14e+06\n",
       "x1         -2.911e+05    392.126   -742.371      0.000   -2.92e+05    -2.9e+05\n",
       "x2          4764.4763    394.461     12.078      0.000    3991.345    5537.608\n",
       "x3         -4166.7829     98.482    -42.310      0.000   -4359.804   -3973.762\n",
       "==============================================================================\n",
       "Omnibus:                   144091.594   Durbin-Watson:                   1.425\n",
       "Prob(Omnibus):                  0.000   Jarque-Bera (JB):           498274.495\n",
       "Skew:                          -1.191   Prob(JB):                         0.00\n",
       "Kurtosis:                       6.765   Cond. No.                         27.9\n",
       "==============================================================================\n",
       "\n",
       "Warnings:\n",
       "[1] Standard Errors assume that the covariance matrix of the errors is correctly specified.\n",
       "\"\"\""
      ]
     },
     "execution_count": 143,
     "metadata": {},
     "output_type": "execute_result"
    }
   ],
   "source": [
    "ols_(aggr_data)"
   ]
  },
  {
   "cell_type": "code",
   "execution_count": 88,
   "metadata": {},
   "outputs": [
    {
     "name": "stdout",
     "output_type": "stream",
     "text": [
      "OLS with features ['ProductCategory', 'dealer_volume_group', 'month'] \n",
      "         RMSE: 56526828228.98633 \n",
      " Adjusted R2: 0.4763639693196411 \n",
      "         MAPE: -73.06991106563086%\n"
     ]
    }
   ],
   "source": [
    "OLS(X, Y, feature_list=['ProductCategory','dealer_volume_group','month'], boxcox_transform=False)"
   ]
  },
  {
   "cell_type": "code",
   "execution_count": 27,
   "metadata": {},
   "outputs": [
    {
     "name": "stderr",
     "output_type": "stream",
     "text": [
      "C:\\Users\\Edith.Zeng\\AppData\\Local\\Continuum\\anaconda3\\lib\\site-packages\\sklearn\\utils\\validation.py:475: DataConversionWarning: Data with input dtype int64 was converted to float64 by StandardScaler.\n",
      "  warnings.warn(msg, DataConversionWarning)\n"
     ]
    },
    {
     "name": "stdout",
     "output_type": "stream",
     "text": [
      "mape score list: 16.37967033394067\n",
      "OLS with features ['ProductCategory', 'dealer_volume_group', 'month'] \n",
      "         RMSE: 1845.1518050320315 \n",
      " Adjusted R2: 0.4927017782590701 \n",
      "         MAPE: 16.37967033394067%\n"
     ]
    }
   ],
   "source": [
    "OLS(X, Y, feature_list=['ProductCategory','dealer_volume_group','month'], boxcox_transform=True)"
   ]
  },
  {
   "cell_type": "code",
   "execution_count": 296,
   "metadata": {
    "scrolled": true
   },
   "outputs": [
    {
     "name": "stdout",
     "output_type": "stream",
     "text": [
      "Month: 3\n",
      "Volume group: 3\n",
      "# of records: 2221\n"
     ]
    },
    {
     "data": {
      "text/html": [
       "<table class=\"simpletable\">\n",
       "<caption>OLS Regression Results</caption>\n",
       "<tr>\n",
       "  <th>Dep. Variable:</th>            <td>y</td>        <th>  R-squared:         </th> <td>   0.710</td> \n",
       "</tr>\n",
       "<tr>\n",
       "  <th>Model:</th>                   <td>OLS</td>       <th>  Adj. R-squared:    </th> <td>   0.709</td> \n",
       "</tr>\n",
       "<tr>\n",
       "  <th>Method:</th>             <td>Least Squares</td>  <th>  F-statistic:       </th> <td>   901.7</td> \n",
       "</tr>\n",
       "<tr>\n",
       "  <th>Date:</th>             <td>Wed, 11 Jul 2018</td> <th>  Prob (F-statistic):</th>  <td>  0.00</td>  \n",
       "</tr>\n",
       "<tr>\n",
       "  <th>Time:</th>                 <td>09:12:16</td>     <th>  Log-Likelihood:    </th> <td> -29467.</td> \n",
       "</tr>\n",
       "<tr>\n",
       "  <th>No. Observations:</th>      <td>  2221</td>      <th>  AIC:               </th> <td>5.895e+04</td>\n",
       "</tr>\n",
       "<tr>\n",
       "  <th>Df Residuals:</th>          <td>  2214</td>      <th>  BIC:               </th> <td>5.899e+04</td>\n",
       "</tr>\n",
       "<tr>\n",
       "  <th>Df Model:</th>              <td>     6</td>      <th>                     </th>     <td> </td>    \n",
       "</tr>\n",
       "<tr>\n",
       "  <th>Covariance Type:</th>      <td>nonrobust</td>    <th>                     </th>     <td> </td>    \n",
       "</tr>\n",
       "</table>\n",
       "<table class=\"simpletable\">\n",
       "<tr>\n",
       "    <td></td>       <th>coef</th>     <th>std err</th>      <th>t</th>      <th>P>|t|</th>  <th>[0.025</th>    <th>0.975]</th>  \n",
       "</tr>\n",
       "<tr>\n",
       "  <th>const</th> <td> 9.184e+05</td> <td> 1.65e+05</td> <td>    5.558</td> <td> 0.000</td> <td> 5.94e+05</td> <td> 1.24e+06</td>\n",
       "</tr>\n",
       "<tr>\n",
       "  <th>x1</th>    <td> 5.488e+04</td> <td> 7658.179</td> <td>    7.166</td> <td> 0.000</td> <td> 3.99e+04</td> <td> 6.99e+04</td>\n",
       "</tr>\n",
       "<tr>\n",
       "  <th>x2</th>    <td> 2.535e+05</td> <td> 8.11e+04</td> <td>    3.125</td> <td> 0.002</td> <td> 9.44e+04</td> <td> 4.13e+05</td>\n",
       "</tr>\n",
       "<tr>\n",
       "  <th>x3</th>    <td> -3.16e+05</td> <td> 4616.338</td> <td>  -68.444</td> <td> 0.000</td> <td>-3.25e+05</td> <td>-3.07e+05</td>\n",
       "</tr>\n",
       "<tr>\n",
       "  <th>x4</th>    <td>-6720.3945</td> <td>  372.465</td> <td>  -18.043</td> <td> 0.000</td> <td>-7450.811</td> <td>-5989.978</td>\n",
       "</tr>\n",
       "<tr>\n",
       "  <th>x5</th>    <td>-1707.3674</td> <td>  423.981</td> <td>   -4.027</td> <td> 0.000</td> <td>-2538.809</td> <td> -875.925</td>\n",
       "</tr>\n",
       "<tr>\n",
       "  <th>x6</th>    <td>-3227.6923</td> <td>  946.275</td> <td>   -3.411</td> <td> 0.001</td> <td>-5083.372</td> <td>-1372.012</td>\n",
       "</tr>\n",
       "</table>\n",
       "<table class=\"simpletable\">\n",
       "<tr>\n",
       "  <th>Omnibus:</th>       <td>2228.591</td> <th>  Durbin-Watson:     </th>  <td>   1.724</td> \n",
       "</tr>\n",
       "<tr>\n",
       "  <th>Prob(Omnibus):</th>  <td> 0.000</td>  <th>  Jarque-Bera (JB):  </th> <td>105161.061</td>\n",
       "</tr>\n",
       "<tr>\n",
       "  <th>Skew:</th>           <td>-4.947</td>  <th>  Prob(JB):          </th>  <td>    0.00</td> \n",
       "</tr>\n",
       "<tr>\n",
       "  <th>Kurtosis:</th>       <td>35.225</td>  <th>  Cond. No.          </th>  <td>2.57e+03</td> \n",
       "</tr>\n",
       "</table>"
      ],
      "text/plain": [
       "<class 'statsmodels.iolib.summary.Summary'>\n",
       "\"\"\"\n",
       "                            OLS Regression Results                            \n",
       "==============================================================================\n",
       "Dep. Variable:                      y   R-squared:                       0.710\n",
       "Model:                            OLS   Adj. R-squared:                  0.709\n",
       "Method:                 Least Squares   F-statistic:                     901.7\n",
       "Date:                Wed, 11 Jul 2018   Prob (F-statistic):               0.00\n",
       "Time:                        09:12:16   Log-Likelihood:                -29467.\n",
       "No. Observations:                2221   AIC:                         5.895e+04\n",
       "Df Residuals:                    2214   BIC:                         5.899e+04\n",
       "Df Model:                           6                                         \n",
       "Covariance Type:            nonrobust                                         \n",
       "==============================================================================\n",
       "                 coef    std err          t      P>|t|      [0.025      0.975]\n",
       "------------------------------------------------------------------------------\n",
       "const       9.184e+05   1.65e+05      5.558      0.000    5.94e+05    1.24e+06\n",
       "x1          5.488e+04   7658.179      7.166      0.000    3.99e+04    6.99e+04\n",
       "x2          2.535e+05   8.11e+04      3.125      0.002    9.44e+04    4.13e+05\n",
       "x3          -3.16e+05   4616.338    -68.444      0.000   -3.25e+05   -3.07e+05\n",
       "x4         -6720.3945    372.465    -18.043      0.000   -7450.811   -5989.978\n",
       "x5         -1707.3674    423.981     -4.027      0.000   -2538.809    -875.925\n",
       "x6         -3227.6923    946.275     -3.411      0.001   -5083.372   -1372.012\n",
       "==============================================================================\n",
       "Omnibus:                     2228.591   Durbin-Watson:                   1.724\n",
       "Prob(Omnibus):                  0.000   Jarque-Bera (JB):           105161.061\n",
       "Skew:                          -4.947   Prob(JB):                         0.00\n",
       "Kurtosis:                      35.225   Cond. No.                     2.57e+03\n",
       "==============================================================================\n",
       "\n",
       "Warnings:\n",
       "[1] Standard Errors assume that the covariance matrix of the errors is correctly specified.\n",
       "[2] The condition number is large, 2.57e+03. This might indicate that there are\n",
       "strong multicollinearity or other numerical problems.\n",
       "\"\"\""
      ]
     },
     "execution_count": 296,
     "metadata": {},
     "output_type": "execute_result"
    }
   ],
   "source": [
    "ols_volume_gp_ttest(aggr_data, groupNumber=3, month=3)"
   ]
  },
  {
   "cell_type": "code",
   "execution_count": 28,
   "metadata": {},
   "outputs": [],
   "source": [
    "def ols_volume_gp(data, groupNumber, month):\n",
    "    \n",
    "    local_data = data.copy().loc[(data.dealer_volume_group == groupNumber)\n",
    "                                & ((data['month'] == month))]\n",
    "    sc = StandardScaler()\n",
    "    X = sc.fit_transform(local_data[['Order_Type', 'ProductCategory', \n",
    "                                     'MasterSKU', 'City',  'Zipcode',\n",
    "                                     'District', 'year']].values)\n",
    "    Y = local_data['monthly_sum_Order_Qty'].values.reshape(-1, 1)\n",
    "    \n",
    "    X_train, X_test, Y_train, Y_test = train_test_split(X, Y, \n",
    "                                                        test_size=.2, \n",
    "                                                        random_state=19)\n",
    "    lr = LinearRegression()\n",
    "    lr.fit(X_train, Y_train)\n",
    "    \n",
    "    print(\"Month: {}\\nVolume group: {}\\n# of records: {}\".format(month,groupNumber,len(X)))\n",
    "    fig, ax = plt.subplots()\n",
    "    predicted = cross_val_predict(lr, X_train, Y_train, cv=5)\n",
    "\n",
    "    ax.scatter(Y_train, predicted, edgecolors=(0,0,0))\n",
    "    ax.plot([Y_train.min(), Y_train.max()], \n",
    "            [Y_train.min(), Y_train.max()], \n",
    "            'k--', lw=1)\n",
    "    ax.set_xlabel('measured')\n",
    "    ax.set_ylabel('predicted')\n",
    "    \n",
    "    plt.show()\n",
    "    \n",
    "    del fig, ax"
   ]
  },
  {
   "cell_type": "markdown",
   "metadata": {},
   "source": [
    "#### The same small volume group (group 3) has large variations across different months"
   ]
  },
  {
   "cell_type": "code",
   "execution_count": 298,
   "metadata": {
    "scrolled": false
   },
   "outputs": [
    {
     "name": "stdout",
     "output_type": "stream",
     "text": [
      "Month: 4\n",
      "Volume group: 3\n",
      "# of records: 1394\n"
     ]
    },
    {
     "data": {
      "image/png": "[encoded data removed]",
      "text/plain": [
       "<matplotlib.figure.Figure at 0x1578270edd8>"
      ]
     },
     "metadata": {},
     "output_type": "display_data"
    }
   ],
   "source": [
    "ols_volume_gp(aggr_data, 3, 4)"
   ]
  },
  {
   "cell_type": "code",
   "execution_count": 306,
   "metadata": {},
   "outputs": [
    {
     "name": "stdout",
     "output_type": "stream",
     "text": [
      "Month: 7\n",
      "Volume group: 3\n",
      "# of records: 1205\n"
     ]
    },
    {
     "data": {
      "image/png": "[encoded data removed]",
      "text/plain": [
       "<matplotlib.figure.Figure at 0x15781e58198>"
      ]
     },
     "metadata": {},
     "output_type": "display_data"
    }
   ],
   "source": [
    "ols_volume_gp(aggr_data, 3, 7)"
   ]
  },
  {
   "cell_type": "code",
   "execution_count": 305,
   "metadata": {
    "scrolled": true
   },
   "outputs": [
    {
     "name": "stdout",
     "output_type": "stream",
     "text": [
      "Month: 12\n",
      "Volume group: 3\n",
      "# of records: 4857\n"
     ]
    },
    {
     "data": {
      "image/png": "[encoded data removed]",
      "text/plain": [
       "<matplotlib.figure.Figure at 0x157823f3470>"
      ]
     },
     "metadata": {},
     "output_type": "display_data"
    }
   ],
   "source": [
    "ols_volume_gp(aggr_data, 3, 12)"
   ]
  },
  {
   "cell_type": "markdown",
   "metadata": {},
   "source": [
    "#### Data points from the large volume group (group 1) also don't fit well to the linear regression model.\n",
    "#### Pearson coefficient will likely show a strong positive correlation but wrong in this situation. The linear OLS fit indicates that our dataset probrbaly don't satisfies the assumed statistical requirements for OLS."
   ]
  },
  {
   "cell_type": "code",
   "execution_count": 307,
   "metadata": {},
   "outputs": [
    {
     "name": "stdout",
     "output_type": "stream",
     "text": [
      "Month: 3\n",
      "Volume group: 1\n",
      "# of records: 7958\n"
     ]
    },
    {
     "data": {
      "image/png": "[encoded data removed]",
      "text/plain": [
       "<matplotlib.figure.Figure at 0x15781e2d6d8>"
      ]
     },
     "metadata": {},
     "output_type": "display_data"
    }
   ],
   "source": [
    "ols_volume_gp(aggr_data, 1, 3)"
   ]
  },
  {
   "cell_type": "code",
   "execution_count": 309,
   "metadata": {},
   "outputs": [
    {
     "name": "stdout",
     "output_type": "stream",
     "text": [
      "Month: 9\n",
      "Volume group: 1\n",
      "# of records: 5602\n"
     ]
    },
    {
     "data": {
      "image/png": "[encoded data removed]",
      "text/plain": [
       "<matplotlib.figure.Figure at 0x15781cd0128>"
      ]
     },
     "metadata": {},
     "output_type": "display_data"
    }
   ],
   "source": [
    "ols_volume_gp(aggr_data, 1, 9)"
   ]
  },
  {
   "cell_type": "markdown",
   "metadata": {},
   "source": [
    "### Linear OLS results:\n",
    "The low R2 score and plots indicate that OLS multiple linear regression does not fit well to the dataset. This is likely due to many reasons, most likely violations of some of the aforementioned assumptions of OLS:\n",
    "- the relationship between X and Y are highly non-linear\n",
    "    - This can be fixed by polynomial regression or smoothing spline but it's difficult to determine the correct degree of polynomials (not good when exponents are greater than 4)\n",
    "- spherical errors\n",
    "    - the error terms have different variances (not homoscedastic) and/or has autocorrelation\n",
    "    - In other words, the error terms of different observations are likely correlated with each other, making the dataset a better candidate for time series modelling"
   ]
  },
  {
   "cell_type": "markdown",
   "metadata": {},
   "source": [
    "### Polynomial OLS regession"
   ]
  },
  {
   "cell_type": "code",
   "execution_count": 11,
   "metadata": {},
   "outputs": [],
   "source": [
    "def polynomial_regression(X, Y, feature_list, d, boxcox_transform=False):\n",
    "    \n",
    "    # center and scale X; box-cox transform Y\n",
    "    sc = StandardScaler()\n",
    "    X = sc.fit_transform(X)\n",
    "    if boxcox_transform:\n",
    "        Y, _ = boxcox(Y)\n",
    "    \n",
    "    X_train, X_test, Y_train, Y_test = train_test_split(X, Y, test_size=0.2, random_state=12)\n",
    "    \n",
    "    model = Pipeline([\n",
    "        ('poly', PolynomialFeatures(degree=d)),\n",
    "        ('linear', LinearRegression())\n",
    "    ])\n",
    "    model = model.fit(X_train, Y_train)\n",
    "    Y_pred = model.predict(X_test)\n",
    "    \n",
    "    # cross validate & evaluate performance\n",
    "    rmse = np.mean(-1 * cross_val_score(model, X_train, Y_train, \n",
    "                                   scoring='neg_mean_squared_error',\n",
    "                                   cv=5))\n",
    "    r2_list = cross_val_score(model, X_train, Y_train, scoring='r2')\n",
    "    adj_r2 = np.mean([calculate_adj_r2(r2, len(X), len(feature_list)) for r2 in r2_list])\n",
    "    MAPE = cross_val_mape(model, Y_test, Y_pred)\n",
    "    \n",
    "    print(\"Method: {} degree: {} \\nRMSE: {}\\n\\\n",
    "        Adjusted R2: {}\\nMAPE :{}%\".format(\n",
    "        'Polynomial OLS', d, rmse, adj_r2, MAPE\n",
    "    ))\n",
    "    \n",
    "    # calculate internally studentized residuals\n",
    "    X_mean, Y_mean = sum(X_test)/len(X), sum(Y_test)/len(Y)\n",
    "    res = Y_test - Y_pred\n",
    "    Y_SD = np.sqrt(sum([(Y_i-Y_mean)**2 for Y_i in Y_test])/len(Y))\n",
    "    Y_SE = Y_SD**2 / len(Y)\n",
    "    stu_res = res / Y_SE\n",
    "    \n",
    "    # visualize internally studentized residuals\n",
    "    fig1, ax1 = plt.subplots(1)\n",
    "    ax1.scatter(Y_pred, stu_res, alpha=0.7)\n",
    "    plt.grid(color='grey', linestyle='-', linewidth=1, alpha=.2)\n",
    "    ax1.set_title('Polynomial Linear Regression, degree = {}\\ninternally studentized residuals'.format(d))\n",
    "    ax1.set_ylabel('residual')\n",
    "    ax1.set_xlabel('y-hat')"
   ]
  },
  {
   "cell_type": "code",
   "execution_count": 48,
   "metadata": {},
   "outputs": [
    {
     "name": "stdout",
     "output_type": "stream",
     "text": [
      "Method: Polynomial OLS degree: 2 \n",
      "RMSE: 50993473753.26705\n",
      "        Adjusted R2: 0.527492282115459\n",
      "MAPE :-15.193139089553565%\n"
     ]
    },
    {
     "data": {
      "image/png": "[encoded data removed]",
      "text/plain": [
       "<matplotlib.figure.Figure at 0x29caacf8358>"
      ]
     },
     "metadata": {},
     "output_type": "display_data"
    }
   ],
   "source": [
    "import warnings\n",
    "warnings.filterwarnings(\"ignore\")\n",
    "\n",
    "# 20% data\n",
    "polynomial_regression(X, Y, feature_list=['ProductCategory','dealer_volume_group','month'], d=2, boxcox_transform=False)"
   ]
  },
  {
   "cell_type": "code",
   "execution_count": 46,
   "metadata": {},
   "outputs": [
    {
     "name": "stdout",
     "output_type": "stream",
     "text": [
      "Method: Polynomial OLS degree: 2 \n",
      "RMSE: 1407.534872044056\n",
      "        Adjusted R2: 0.5869972020040275\n",
      "MAPE :30.033999628478213%\n"
     ]
    },
    {
     "data": {
      "image/png": "[encoded data removed]",
      "text/plain": [
       "<matplotlib.figure.Figure at 0x29caac37748>"
      ]
     },
     "metadata": {},
     "output_type": "display_data"
    }
   ],
   "source": [
    "# 20% data\n",
    "polynomial_regression(X, Y, feature_list=['ProductCategory','dealer_volume_group','month'], d=2, boxcox_transform=True)"
   ]
  },
  {
   "cell_type": "code",
   "execution_count": 45,
   "metadata": {},
   "outputs": [
    {
     "name": "stdout",
     "output_type": "stream",
     "text": [
      "Method: Polynomial OLS degree: 3 \n",
      "RMSE: 631.0927614914397\n",
      "        Adjusted R2: 0.8148200707152924\n",
      "MAPE :8.02163598351223%\n"
     ]
    },
    {
     "data": {
      "image/png": "[encoded data removed]",
      "text/plain": [
       "<matplotlib.figure.Figure at 0x29caac3e438>"
      ]
     },
     "metadata": {},
     "output_type": "display_data"
    }
   ],
   "source": [
    "# 20% data\n",
    "polynomial_regression(X, Y, feature_list=['ProductCategory','dealer_volume_group','month'], d=3, boxcox_transform=True)"
   ]
  },
  {
   "cell_type": "code",
   "execution_count": 150,
   "metadata": {},
   "outputs": [
    {
     "name": "stdout",
     "output_type": "stream",
     "text": [
      "Method: Polynomial OLS degree: 3 \n",
      "RMSE: 592.4566045363849\n",
      "        Adjusted R2: 0.8161560377278155\n",
      "MAPE (not cross validated):[18.85918169]%\n"
     ]
    },
    {
     "data": {
      "image/png": "[encoded data removed]",
      "text/plain": [
       "<matplotlib.figure.Figure at 0x19801a2cc50>"
      ]
     },
     "metadata": {},
     "output_type": "display_data"
    }
   ],
   "source": [
    "# polynomial_regression(X_90, Y_90, feature_list=['ProductCategory','dealer_volume_group','month'], d=3, boxcox_transform=True)"
   ]
  },
  {
   "cell_type": "code",
   "execution_count": 151,
   "metadata": {},
   "outputs": [
    {
     "name": "stdout",
     "output_type": "stream",
     "text": [
      "Method: Polynomial OLS degree: 4 \n",
      "RMSE: 149.34485547380336\n",
      "        Adjusted R2: 0.953651286965438\n",
      "MAPE (not cross validated):[8.39847866]%\n"
     ]
    },
    {
     "data": {
      "image/png": "[encoded data removed]",
      "text/plain": [
       "<matplotlib.figure.Figure at 0x19800386b38>"
      ]
     },
     "metadata": {},
     "output_type": "display_data"
    }
   ],
   "source": [
    "polynomial_regression(X_90, Y_90, feature_list=['ProductCategory','dealer_volume_group','month'], d=4, boxcox_transform=True)"
   ]
  },
  {
   "cell_type": "code",
   "execution_count": 44,
   "metadata": {},
   "outputs": [
    {
     "name": "stdout",
     "output_type": "stream",
     "text": [
      "Method: Polynomial OLS degree: 4 \n",
      "RMSE: 15299584613.612797\n",
      "        Adjusted R2: 0.8582767184107093\n",
      "MAPE :13.31095662713208%\n"
     ]
    },
    {
     "data": {
      "image/png": "[encoded data removed]",
      "text/plain": [
       "<matplotlib.figure.Figure at 0x29caadd4470>"
      ]
     },
     "metadata": {},
     "output_type": "display_data"
    }
   ],
   "source": [
    "polynomial_regression(X, Y, feature_list=['ProductCategory','dealer_volume_group','month'], d=4, boxcox_transform=False)"
   ]
  },
  {
   "cell_type": "code",
   "execution_count": 43,
   "metadata": {},
   "outputs": [
    {
     "name": "stdout",
     "output_type": "stream",
     "text": [
      "Method: Polynomial OLS degree: 4 \n",
      "RMSE: 158.5824770115452\n",
      "        Adjusted R2: 0.9534793363479541\n",
      "MAPE :6.070000430282309%\n"
     ]
    },
    {
     "data": {
      "image/png": "[encoded data removed]",
      "text/plain": [
       "<matplotlib.figure.Figure at 0x29caab60780>"
      ]
     },
     "metadata": {},
     "output_type": "display_data"
    }
   ],
   "source": [
    "polynomial_regression(X, Y, feature_list=['ProductCategory','dealer_volume_group','month'], d=4, boxcox_transform=True)"
   ]
  },
  {
   "cell_type": "markdown",
   "metadata": {},
   "source": [
    "## 2.2) Algorithm and Model Selection - Local Learning\n",
    "### KNN Regressor (non-weighted Euclidean distance)\n",
    "Advantages: \n",
    "- measures the similarities between nearby observations\n",
    "- no assumption on the underlying process of the data\n",
    "    - no assumption on properties of noise, existence of a global function, etc\n",
    "- good for datasets with missing features, non-stationarity and/or measurement errors\n",
    "    - assumption-free and data-driven approach\n",
    "- non-parametric: \n",
    "    - allows online learning for future data feeding\n",
    "    - scales well with more incoming observations\n",
    "- models non-stationarity: deals with sitations when the stochastic process underlying the data is non-stationary\n",
    "\n",
    "Disadvantages:\n",
    "- very little understanding of the underlying structure/function\n",
    "    - prediction > inference\n",
    "    - not much of a model to interpret"
   ]
  },
  {
   "cell_type": "code",
   "execution_count": 12,
   "metadata": {},
   "outputs": [],
   "source": [
    "def local_knn(X_,Y_,lo,hi, boxcox_transform=False, lambda_=None):\n",
    "    \n",
    "    X_train, X_test, Y_train, Y_test = train_test_split(X, Y,\n",
    "                                                        test_size=0.3,\n",
    "                                                        random_state=12)\n",
    "    \n",
    "    sc = StandardScaler()\n",
    "    X_train, X_test = sc.fit_transform(X_train), sc.fit_transform(X_test)\n",
    "    if boxcox_transform:\n",
    "        Y_train = boxcox(Y_train, lmbda=lambda_)\n",
    "        Y_test = boxcox(Y_test, lmbda=lambda_)\n",
    "    \n",
    "    # cross validate\n",
    "    r2_list = []\n",
    "    for k in range(lo, hi):\n",
    "        knn = KNeighborsRegressor(n_neighbors = k)\n",
    "        knn.fit(X_, Y_)    \n",
    "        r2 = np.mean(cross_val_score(knn, X_, Y_, scoring='r2'))\n",
    "        r2_list.append(r2)\n",
    "    print(\"cross validated {} of values for K\".format(len(r2_list)))\n",
    "    \n",
    "    n = len(X_)     # number of observations\n",
    "    p = len(X_[0])  # number of features\n",
    "    adj_r2_list = [calculate_adj_r2(r2, n, p) for r2 in r2_list]\n",
    "    print(\"Best adjusted R2: {}\".format(np.amax(adj_r2_list)))\n",
    "    \n",
    "    return adj_r2_list\n",
    "    \n",
    "# plot KNN results (adjusted R2)\n",
    "def plot_knn_results(lo, hi, k_adj_r2):\n",
    "    fig2, ax2 = plt.subplots()\n",
    "    X2, Y2 = [k for k in range(lo, hi)], k_adj_r2\n",
    "    ax2.plot(X2, Y2)\n",
    "    plt.grid(color='grey',linestyle='-', linewidth=1, alpha=.2)\n",
    "    ax2.set_title(\"KNN regressor ({} < k < {})\".format(lo-1,hi))\n",
    "    ax2.set_xlabel(\"number of neighbors\")\n",
    "    ax2.set_ylabel(\"Adjusted R2\")"
   ]
  },
  {
   "cell_type": "markdown",
   "metadata": {},
   "source": [
    "### Feature selection\n",
    "- The high R2 score indicates a good fit to the data: the KNN regressor is not underfitting the data\n",
    "- The next step is to check if the model and fits _too well_ to the training data (does not generalize well on new datasets), aka overfit. This is particularly a concern with a very flexible method\n",
    "- Since the adjusted R2 scores are very high, reducing _p_ from 6 to 3 features (month, ProductCategory, dealer volume group) can reduce the risk of overfitting (removed: color, Zipcode, district)"
   ]
  },
  {
   "cell_type": "code",
   "execution_count": 314,
   "metadata": {},
   "outputs": [
    {
     "name": "stdout",
     "output_type": "stream",
     "text": [
      "number of features: 3\n"
     ]
    }
   ],
   "source": [
    "print(\"number of features:\", len(X[1]))"
   ]
  },
  {
   "cell_type": "code",
   "execution_count": 315,
   "metadata": {
    "scrolled": false
   },
   "outputs": [
    {
     "name": "stdout",
     "output_type": "stream",
     "text": [
      "cross validated 47 of values for K\n",
      "Best adjusted R2: 0.9646985014318534\n"
     ]
    },
    {
     "data": {
      "image/png": "[encoded data removed]",
      "text/plain": [
       "<matplotlib.figure.Figure at 0x15781b43d68>"
      ]
     },
     "metadata": {},
     "output_type": "display_data"
    }
   ],
   "source": [
    "import warnings\n",
    "warnings.filterwarnings(\"ignore\")\n",
    "\n",
    "# results from using 20% data, 3 features, K from 2 to 34 inclusive\n",
    "KNN_adj_r2 = local_knn(X,Y,lo=3,hi=50)\n",
    "plot_knn_results(3, 50, KNN_adj_r2)"
   ]
  },
  {
   "cell_type": "markdown",
   "metadata": {},
   "source": [
    "Using adjusted R2 as the performance metric, the KNN regressor achieves best performance at K = 21 where the adjusted R2 is over 96.4%."
   ]
  },
  {
   "cell_type": "code",
   "execution_count": 324,
   "metadata": {},
   "outputs": [
    {
     "name": "stdout",
     "output_type": "stream",
     "text": [
      "cross validated 48 of values for K\n",
      "Best adjusted R2: 0.9646985014318534\n"
     ]
    },
    {
     "data": {
      "image/png": "[encoded data removed]",
      "text/plain": [
       "<matplotlib.figure.Figure at 0x15781592438>"
      ]
     },
     "metadata": {},
     "output_type": "display_data"
    }
   ],
   "source": [
    "all_k_adj_r2_boxcox = local_knn(X,Y,lo=2,hi=50,boxcox_transform=True,lambda_=0.30223777)\n",
    "plot_knn_results(2,50,all_k_adj_r2_boxcox)"
   ]
  },
  {
   "cell_type": "code",
   "execution_count": 168,
   "metadata": {},
   "outputs": [
    {
     "data": {
      "image/png": "[encoded data removed]",
      "text/plain": [
       "<matplotlib.figure.Figure at 0x1570ae8ca20>"
      ]
     },
     "metadata": {},
     "output_type": "display_data"
    }
   ],
   "source": [
    "all_k_adj_r2_boxcox = local_knn(X,Y,lo=2,hi=35,boxcox_transform=True,lambda_=0.30223777)\n",
    "plot_knn_results(2,35,all_k_adj_r2_boxcox)"
   ]
  },
  {
   "cell_type": "markdown",
   "metadata": {},
   "source": [
    "##### After Box-Cox transformation, the optimal K is still around K = 21 with adjusted R2 over 96.4%"
   ]
  },
  {
   "cell_type": "code",
   "execution_count": 13,
   "metadata": {},
   "outputs": [],
   "source": [
    "# residual, non-studentized\n",
    "def local_knn_resplot(X,Y,k,boxcox_transform=False, lambda_=None):\n",
    "    \n",
    "    X_train, X_test, Y_train, Y_test = train_test_split(X, Y,\n",
    "                                                        test_size=0.3,\n",
    "                                                        random_state=12)\n",
    "    \n",
    "    sc = StandardScaler()\n",
    "    X_train, X_test = sc.fit_transform(X_train), sc.fit_transform(X_test)\n",
    "    \n",
    "    if boxcox_transform:\n",
    "        Y_train = boxcox(Y_train, lmbda=lambda_)\n",
    "        Y_test = boxcox(Y_test, lmbda=lambda_)\n",
    "    \n",
    "    knn = KNeighborsRegressor(n_neighbors=k)\n",
    "    knn.fit(X_train, Y_train)\n",
    "    Y_pred = knn.predict(X_test)\n",
    "    res = Y_test - Y_pred\n",
    "    \n",
    "    fig1, ax1 = plt.subplots(1)\n",
    "    ax1.scatter(Y_pred, res, alpha=0.7)\n",
    "    plt.grid(color='grey', linestyle='-', linewidth=1, alpha=.2)\n",
    "    ax1.set_title('knn regressor (k = {}) residuals'.format(k))\n",
    "    ax1.set_ylabel('e')\n",
    "    ax1.set_xlabel('y-hat')"
   ]
  },
  {
   "cell_type": "code",
   "execution_count": 162,
   "metadata": {
    "scrolled": true
   },
   "outputs": [
    {
     "data": {
      "image/png": "[encoded data removed]",
      "text/plain": [
       "<matplotlib.figure.Figure at 0x15708cd5c50>"
      ]
     },
     "metadata": {},
     "output_type": "display_data"
    }
   ],
   "source": [
    "# knn K = 21, 20% of all data\n",
    "local_knn_resplot(X, Y, 21)"
   ]
  },
  {
   "cell_type": "code",
   "execution_count": 176,
   "metadata": {},
   "outputs": [
    {
     "data": {
      "image/png": "[encoded data removed]",
      "text/plain": [
       "<matplotlib.figure.Figure at 0x1570884bc88>"
      ]
     },
     "metadata": {},
     "output_type": "display_data"
    }
   ],
   "source": [
    "# K = 21, 20% of all data, box-cox transformed\n",
    "local_knn_resplot(X, Y, 21, boxcox_transform=True, lambda_=0.30223777)"
   ]
  },
  {
   "cell_type": "code",
   "execution_count": 14,
   "metadata": {},
   "outputs": [],
   "source": [
    "# interally studentized residuals\n",
    "def local_knn_resplot_studentized(X, Y, k, boxcox_transform=False, lambda_=None):\n",
    "    X_train, X_test, Y_train, Y_test = train_test_split(X, Y,\n",
    "                                                        test_size=0.3,\n",
    "                                                        random_state=12)\n",
    "    \n",
    "    sc = StandardScaler()\n",
    "    X_train, X_test = sc.fit_transform(X_train), sc.fit_transform(X_test)\n",
    "    if boxcox_transform:\n",
    "        Y_train = boxcox(Y_train,lmbda=lambda_)\n",
    "        Y_test = boxcox(Y_test,lmbda=lambda_)\n",
    "    \n",
    "    knn = KNeighborsRegressor(n_neighbors=k)\n",
    "    knn.fit(X_train, Y_train)\n",
    "    Y_pred = knn.predict(X_test)\n",
    "    \n",
    "    X_mean, Y_mean = sum(X_test)/len(X), sum(Y_test)/len(Y)\n",
    "    res = Y_test - Y_pred\n",
    "    Y_SD = np.sqrt(sum([(Y_i-Y_mean)**2 for Y_i in Y_test])/len(Y))\n",
    "    Y_SE = Y_SD**2 / len(Y)\n",
    "    stu_res = res / Y_SE\n",
    "     \n",
    "    fig1, ax1 = plt.subplots(1)\n",
    "    ax1.scatter(Y_pred, stu_res, alpha=0.7)\n",
    "    plt.grid(color='grey', linestyle='-', linewidth=1, alpha=.2)\n",
    "    ax1.set_title('knn regressor (k = {}) residuals'.format(k))\n",
    "    ax1.set_ylabel('e')\n",
    "    ax1.set_xlabel('y-hat')"
   ]
  },
  {
   "cell_type": "code",
   "execution_count": 179,
   "metadata": {},
   "outputs": [
    {
     "data": {
      "image/png": "[encoded data removed]",
      "text/plain": [
       "<matplotlib.figure.Figure at 0x15708c3cfd0>"
      ]
     },
     "metadata": {},
     "output_type": "display_data"
    }
   ],
   "source": [
    "local_knn_resplot_studentized(X, Y, 21, boxcox_transform=True, lambda_=0.30223777)"
   ]
  },
  {
   "cell_type": "markdown",
   "metadata": {},
   "source": [
    "## Heteroskedasticity \n",
    "The residual plot and studentized residual plot above shows the problem with heteroskedasticity (variance of Y depends on the value of X)\n",
    "\n",
    "Factors contributing to heteroscedasticity: \n",
    "- Cross-sectional modelling: Y has large variance (very small to very large value)\n",
    "- Time series: if Y changes significantly from the beginning to the end of the series\n",
    "\n",
    "Due to hetroscedasticity, methods that are not appropriate:\n",
    "- (Pearson) correlation\n",
    "- t-test, f-test and p-value -- cannot perform reliable variable selection based on hypothesis test\n",
    "- ANOVA\n",
    "- OLS regression's estimated coefficients are biased\n",
    "\n",
    "Ways to address the problem:\n",
    "- add more useful variables (if an important variable is omitted, its effects add up to the error term)\n",
    "- Box-Cox transformation on Y\n",
    "- weighted least square regression"
   ]
  },
  {
   "cell_type": "code",
   "execution_count": 15,
   "metadata": {},
   "outputs": [],
   "source": [
    "def local_knn_rmse(X_,Y_,lo,hi,boxcox_transform=False, lambda_=None):\n",
    "    \n",
    "    X_train, X_test, Y_train, Y_test = train_test_split(X, Y,\n",
    "                                                        test_size=0.3,\n",
    "                                                        random_state=12)\n",
    "    \n",
    "    sc = StandardScaler()\n",
    "    X_train, X_test = sc.fit_transform(X_train), sc.fit_transform(X_test)\n",
    "    if boxcox_transform:\n",
    "        Y_train = boxcox(Y_train, lmbda=lambda_)\n",
    "        Y_test = boxcox(Y_test, lmbda=lambda_)\n",
    "    \n",
    "    # cross validate\n",
    "    score_list = []\n",
    "    for k in range(lo, hi):\n",
    "        knn = KNeighborsRegressor(n_neighbors = k)\n",
    "        knn.fit(X_, Y_)    \n",
    "        rmse = np.sqrt(np.mean(-1 * cross_val_score(knn, X_, Y_, scoring='neg_mean_squared_error')))\n",
    "        score_list.append(rmse)\n",
    "    print(\"cross validated {} of values for K\".format(len(score_list)))\n",
    "    print(\"Best adjusted MSE: {}\".format(np.amin(score_list)))\n",
    "    \n",
    "    return score_list\n",
    "    \n",
    "# plot KNN results (adj r2)\n",
    "def plot_knn_results(lo, hi, score_list):\n",
    "    fig2, ax2 = plt.subplots()\n",
    "    X2, Y2 = [k for k in range(lo, hi)], score_list\n",
    "    ax2.plot(X2, Y2)\n",
    "    plt.grid(color='grey',linestyle='-', linewidth=1, alpha=.2)\n",
    "    ax2.set_title(\"KNN regressor ({} < k < {})\".format(lo-1,hi))\n",
    "    ax2.set_xlabel(\"number of neighbors\")\n",
    "    ax2.set_ylabel(\"RMSE\")"
   ]
  },
  {
   "cell_type": "code",
   "execution_count": 181,
   "metadata": {
    "scrolled": true
   },
   "outputs": [
    {
     "name": "stdout",
     "output_type": "stream",
     "text": [
      "cross validated 53 of values for K\n",
      "Best adjusted MSE: 61770.614477468596\n"
     ]
    },
    {
     "data": {
      "image/png": "[encoded data removed]",
      "text/plain": [
       "<matplotlib.figure.Figure at 0x15708c621d0>"
      ]
     },
     "metadata": {},
     "output_type": "display_data"
    }
   ],
   "source": [
    "rmse_list = local_knn_rmse(X, Y, 2, 55)\n",
    "plot_knn_results(2,55,rmse_list)"
   ]
  },
  {
   "cell_type": "code",
   "execution_count": 182,
   "metadata": {},
   "outputs": [
    {
     "name": "stdout",
     "output_type": "stream",
     "text": [
      "cross validated 53 of values for K\n",
      "Best adjusted MSE: 61770.614477468596\n"
     ]
    },
    {
     "data": {
      "image/png": "[encoded data removed]",
      "text/plain": [
       "<matplotlib.figure.Figure at 0x15708c57f60>"
      ]
     },
     "metadata": {},
     "output_type": "display_data"
    }
   ],
   "source": [
    "rmse_list_boxcox = local_knn_rmse(X, Y, 2, 55, boxcox_transform=True, lambda_=0.30223777)\n",
    "plot_knn_results(2, 55, rmse_list_boxcox)"
   ]
  },
  {
   "cell_type": "code",
   "execution_count": 16,
   "metadata": {},
   "outputs": [],
   "source": [
    "# cross validate with mape scoring\n",
    "def cross_val_mape_knn(k, X_, Y_, fold=5, rand_seed=None):\n",
    "    \n",
    "    X_train, X_test, Y_train, Y_test = [],[],[],[]\n",
    "    \n",
    "    kf = KFold(n_splits=fold, random_state=rand_seed)\n",
    "    for train_indices, test_indices in kf.split(X_, Y_):\n",
    "        X_train, X_test = X_[train_indices], X_[test_indices]\n",
    "        Y_train, Y_test = Y_[train_indices], Y_[test_indices]\n",
    "    \n",
    "    knn = KNeighborsRegressor(n_neighbors = k)\n",
    "    knn.fit(X_train, Y_train)\n",
    "    \n",
    "    Y_pred = knn.predict(X_test)\n",
    "    mape_score = mape(Y_test, Y_pred)\n",
    "    \n",
    "    return mape_score\n",
    "\n",
    "# find the best number of neighbors (lowest MAPE)\n",
    "def local_knn_mape(X_,Y_, lo, hi, boxcox_transform=False):\n",
    "    \n",
    "    # center and scale\n",
    "    sc = StandardScaler()\n",
    "    X_ = sc.fit_transform(X_)\n",
    "    if boxcox_transform: \n",
    "            Y_, bestlambda = boxcox(Y_)\n",
    "            print(\"best lambda:\", bestlambda)\n",
    "\n",
    "    # cross validate\n",
    "    score_list = []\n",
    "    for k in range(lo, hi):\n",
    "        score_list.append(cross_val_mape_knn(k, X_, Y_, rand_seed=19))\n",
    "\n",
    "    return score_list\n",
    "\n",
    "\n",
    "def plot_knn_results(lo, hi, score_list):\n",
    "    fig2, ax2 = plt.subplots()\n",
    "    X2, Y2 = [k for k in range(lo, hi)], score_list\n",
    "    ax2.plot(X2, Y2)\n",
    "    plt.grid(color='grey',linestyle='-', linewidth=1, alpha=.2)\n",
    "    ax2.set_title(\"KNN regressor ({} < k < {})\".format(lo-1,hi))\n",
    "    ax2.set_xlabel(\"number of neighbors\")\n",
    "    ax2.set_ylabel(\"MAPE (percentage)\")"
   ]
  },
  {
   "cell_type": "code",
   "execution_count": 191,
   "metadata": {},
   "outputs": [],
   "source": [
    "knn_mape_score_list = local_knn_mape(X, Y, 3, 50)"
   ]
  },
  {
   "cell_type": "code",
   "execution_count": 192,
   "metadata": {},
   "outputs": [
    {
     "data": {
      "image/png": "[encoded data removed]",
      "text/plain": [
       "<matplotlib.figure.Figure at 0x1570aeb5e80>"
      ]
     },
     "metadata": {},
     "output_type": "display_data"
    }
   ],
   "source": [
    "plot_knn_results(3,50,knn_mape_score_list)"
   ]
  },
  {
   "cell_type": "code",
   "execution_count": 199,
   "metadata": {},
   "outputs": [
    {
     "name": "stdout",
     "output_type": "stream",
     "text": [
      "best lambda: [0.30223777]\n"
     ]
    },
    {
     "data": {
      "image/png": "[encoded data removed]",
      "text/plain": [
       "<matplotlib.figure.Figure at 0x15708748390>"
      ]
     },
     "metadata": {},
     "output_type": "display_data"
    }
   ],
   "source": [
    "mape_knn_result = local_knn_mape(X, Y, 3, 50, boxcox_transform=True)\n",
    "plot_knn_results(3, 50, mape_knn_result)"
   ]
  },
  {
   "cell_type": "code",
   "execution_count": 32,
   "metadata": {},
   "outputs": [],
   "source": [
    "knn_mape_score_list = local_knn_mape(X, Y, 2, 10)"
   ]
  },
  {
   "cell_type": "code",
   "execution_count": 33,
   "metadata": {
    "scrolled": true
   },
   "outputs": [
    {
     "data": {
      "image/png": "[encoded data removed]",
      "text/plain": [
       "<matplotlib.figure.Figure at 0x198001e8d30>"
      ]
     },
     "metadata": {},
     "output_type": "display_data"
    }
   ],
   "source": [
    "plot_knn_results(2,10,knn_mape_score_list)"
   ]
  },
  {
   "cell_type": "code",
   "execution_count": null,
   "metadata": {},
   "outputs": [],
   "source": [
    "mape_knn_result_90 = local_knn_mape(X_90, Y_90, 2, 50, boxcox_transform=True)\n",
    "plot_knn_results(2, 50, mape_knn_result_90)\n",
    "\n",
    "# rmse_list_90 = local_knn_rmse(X, Y, 2, 50, boxcox_transform=True, lambda_=0.30223777)\n",
    "# plot_knn_results(2, 50,rmse_list_90)\n",
    "\n",
    "# adj_r2_list_90 = local_knn(X, Y, 2, 50, boxcox_transform=True, lambda_=0.30223777)\n",
    "# plot_knn_results(2, 50, adh_r2_list_90)\n"
   ]
  },
  {
   "cell_type": "code",
   "execution_count": 46,
   "metadata": {},
   "outputs": [],
   "source": [
    "def knn_final(X, Y, k, feature_list=None, boxcox_transform=False):\n",
    "    X_train, X_test, Y_train, Y_test = train_test_split(X, Y,\n",
    "                                                        test_size=0.3,\n",
    "                                                        random_state=12)\n",
    "    \n",
    "    sc = StandardScaler()\n",
    "    X_train, X_test = sc.fit_transform(X_train), sc.fit_transform(X_test)\n",
    "    if boxcox_transform:\n",
    "        Y_train, lambda_ = boxcox(Y_train)\n",
    "        Y_test, lambda_ = boxcox(Y_test)\n",
    "        \n",
    "    knn = KNeighborsRegressor(n_neighbors=k)\n",
    "    knn.fit(X_train, Y_train)\n",
    "    Y_pred = knn.predict(X_test)\n",
    "    \n",
    "    rmse = np.mean(-1 * cross_val_score(knn, X_train, Y_train, \n",
    "                                   scoring='neg_mean_squared_error',\n",
    "                                   cv=5))\n",
    "    r2_list = cross_val_score(knn, X_train, Y_train, scoring='r2')\n",
    "    adj_r2 = np.mean([calculate_adj_r2(r2, len(X), len(feature_list)) for r2 in r2_list])\n",
    "    MAPE = cross_val_mape(knn, Y_test, Y_pred)\n",
    "    \n",
    "    print(\"KNN with K = {} \\n \\\n",
    "        features considered at each split: all \\n \\\n",
    "        RMSE: {} \\n Adjusted R2: {} \\n \\\n",
    "        MAPE: {}%\".format(k, rmse, adj_r2, MAPE))"
   ]
  },
  {
   "cell_type": "code",
   "execution_count": 52,
   "metadata": {},
   "outputs": [
    {
     "name": "stdout",
     "output_type": "stream",
     "text": [
      "KNN with K = 21 \n",
      "         features considered at each split: all \n",
      "         RMSE: 3792125270.937037 \n",
      " Adjusted R2: 0.9652422920846111 \n",
      "         MAPE: 1.1291371349491217%\n"
     ]
    }
   ],
   "source": [
    "knn_final(X, Y, k=21, feature_list=['ProductCategory','dealer_volume_group','month'])"
   ]
  },
  {
   "cell_type": "code",
   "execution_count": 53,
   "metadata": {},
   "outputs": [
    {
     "name": "stdout",
     "output_type": "stream",
     "text": [
      "KNN with K = 21 \n",
      "         features considered at each split: all \n",
      "         RMSE: 42.129923487779095 \n",
      " Adjusted R2: 0.9883672719150628 \n",
      "         MAPE: 0.3329950489346145%\n"
     ]
    }
   ],
   "source": [
    "knn_final(X, Y, k=21, feature_list=['ProductCategory','dealer_volume_group','month'], boxcox_transform=True)"
   ]
  },
  {
   "cell_type": "code",
   "execution_count": 54,
   "metadata": {},
   "outputs": [
    {
     "name": "stdout",
     "output_type": "stream",
     "text": [
      "KNN with K = 6 \n",
      "         features considered at each split: all \n",
      "         RMSE: 3940921395.0987196 \n",
      " Adjusted R2: 0.9613886227688851 \n",
      "         MAPE: 1.1141379918936234%\n"
     ]
    }
   ],
   "source": [
    "knn_final(X, Y, k=6, feature_list=['ProductCategory','dealer_volume_group','month'])"
   ]
  },
  {
   "cell_type": "code",
   "execution_count": 55,
   "metadata": {},
   "outputs": [
    {
     "name": "stdout",
     "output_type": "stream",
     "text": [
      "KNN with K = 6 \n",
      "         features considered at each split: all \n",
      "         RMSE: 42.78682193560842 \n",
      " Adjusted R2: 0.987720923725222 \n",
      "         MAPE: 0.3601573780870499%\n"
     ]
    }
   ],
   "source": [
    "knn_final(X, Y, k=6, feature_list=['ProductCategory','dealer_volume_group','month'],boxcox_transform=True)"
   ]
  },
  {
   "cell_type": "markdown",
   "metadata": {},
   "source": [
    "## Random Forest"
   ]
  },
  {
   "cell_type": "code",
   "execution_count": 10,
   "metadata": {},
   "outputs": [
    {
     "data": {
      "text/plain": [
       "(602653, 22)"
      ]
     },
     "execution_count": 10,
     "metadata": {},
     "output_type": "execute_result"
    }
   ],
   "source": [
    "aggr_data.shape"
   ]
  },
  {
   "cell_type": "code",
   "execution_count": 18,
   "metadata": {},
   "outputs": [],
   "source": [
    "import warnings\n",
    "warnings.filterwarnings(\"ignore\")\n",
    "\n",
    "def random_forest_reg(X, Y, max_depth=3, feature_list=None, boxcox_transform=False):\n",
    "    \"\"\" using all CPU cores, memory intensive \"\"\"\n",
    "    \n",
    "    sc = StandardScaler()\n",
    "    X = sc.fit_transform(X)\n",
    "    if boxcox_transform:\n",
    "        Y, _ = boxcox(Y)\n",
    "    \n",
    "    X_train, X_test, Y_train, Y_test = train_test_split(X, Y,\n",
    "                                                        test_size=0.3,\n",
    "                                                        random_state=12)\n",
    "        \n",
    "    model = RandomForestRegressor(bootstrap=True,random_state=0,max_depth=max_depth,n_jobs=-1)\n",
    "    model.fit(X_train, Y_train)\n",
    "    Y_pred = model.predict(X_test)\n",
    "\n",
    "    rmse = np.mean(-1 * cross_val_score(model, X_train, Y_train, \n",
    "                                   scoring='neg_mean_squared_error',\n",
    "                                   cv=5))\n",
    "    r2_list = cross_val_score(model, X_train, Y_train, scoring='r2')\n",
    "    adj_r2 = np.mean([calculate_adj_r2(r2, len(X), len(feature_list)) for r2 in r2_list])\n",
    "    MAPE = cross_val_mape(model, Y_test, Y_pred) # not enough memory to calculate this for Random Forest\n",
    "    \n",
    "    print(\"Features:\", feature_list)\n",
    "    print(\"Random Forest with max depth = {}\\n \\\n",
    "        features considered at each split: all \\n \\\n",
    "        RMSE: {} \\n Adjusted R2: {}\\nMAPE: {}%\".format(max_depth,rmse,adj_r2,MAPE))"
   ]
  },
  {
   "cell_type": "code",
   "execution_count": 64,
   "metadata": {},
   "outputs": [
    {
     "name": "stdout",
     "output_type": "stream",
     "text": [
      "Features: ['ProductCategory', 'dealer_volume_group', 'month']\n",
      "Random Forest with max depth = 3\n",
      "         features considered at each split: all \n",
      "         RMSE: 14232161101.29768 \n",
      " Adjusted R2: 0.8681659124251336\n",
      "MAPE: 22.136854242890315%\n"
     ]
    }
   ],
   "source": [
    "random_forest_reg(X, Y, feature_list=['ProductCategory','dealer_volume_group','month'])"
   ]
  },
  {
   "cell_type": "code",
   "execution_count": 65,
   "metadata": {},
   "outputs": [
    {
     "name": "stdout",
     "output_type": "stream",
     "text": [
      "Features: ['ProductCategory', 'dealer_volume_group', 'month']\n",
      "Random Forest with max depth = 4\n",
      "         features considered at each split: all \n",
      "         RMSE: 10085850659.835157 \n",
      " Adjusted R2: 0.9065785633852359\n",
      "MAPE: 13.514803276148186%\n"
     ]
    }
   ],
   "source": [
    "random_forest_reg(X, Y, max_depth=4, feature_list=['ProductCategory','dealer_volume_group','month'])"
   ]
  },
  {
   "cell_type": "code",
   "execution_count": 66,
   "metadata": {},
   "outputs": [
    {
     "name": "stdout",
     "output_type": "stream",
     "text": [
      "Features: ['ProductCategory', 'dealer_volume_group', 'month']\n",
      "Random Forest with max depth = None\n",
      "         features considered at each split: all \n",
      "         RMSE: 3640080553.4034476 \n",
      " Adjusted R2: 0.9662998352666071\n",
      "MAPE: 0.7770919423997525%\n"
     ]
    }
   ],
   "source": [
    "random_forest_reg(X, Y, max_depth=None, feature_list=['ProductCategory','dealer_volume_group','month'])"
   ]
  },
  {
   "cell_type": "code",
   "execution_count": 70,
   "metadata": {},
   "outputs": [
    {
     "name": "stdout",
     "output_type": "stream",
     "text": [
      "Features: ['ProductCategory', 'dealer_volume_group', 'month']\n",
      "Random Forest with max depth = None\n",
      "         features considered at each split: all \n",
      "         RMSE: 36.78763655797567 \n",
      " Adjusted R2: 0.9892102361232773\n",
      "MAPE: 0.2586601589049621%\n"
     ]
    }
   ],
   "source": [
    "random_forest_reg(X, Y, max_depth=None, feature_list=['ProductCategory','dealer_volume_group','month'], boxcox_transform=True)"
   ]
  },
  {
   "cell_type": "markdown",
   "metadata": {},
   "source": [
    "## test models on data from June 2018"
   ]
  },
  {
   "cell_type": "code",
   "execution_count": 84,
   "metadata": {},
   "outputs": [],
   "source": [
    "conn = pyodbc.connect(\"Driver={ODBC Driver 13 for SQL Server};Server=yetidb01.database.windows.net;database=YETISQLDW01;uid=ezeng;PWD=Ed1tH2EnG#\")\n",
    "cursor = conn.cursor()\n",
    "\n",
    "qry1 = \"\"\"\n",
    "SELECT S.CustomerID, C.Customer, S.OrderDate, S.Requested_Date, S.SalesOffice, S.OrderQty, P.ProductCategory, P.MasterSKU\n",
    "FROM EDW_DS.ORDERFCT S \n",
    "inner join [EDW].[PRODUCT_DIM] P ON P.ProductID = S.ProductID \n",
    "left join EDW_DS.CUSTOMER_DIM C on S.CustomerID = C.CustomerID\n",
    "WHERE P.ISCORE = 'TRUE' and S.SalesOffice in ('STD','HYB') \n",
    "and S.RejectionReason is null\n",
    "and S.Ordertype Not in ('ZARF','ZARM','ZEG2','ZERF','ZERM','ZRE') and S.SoldtoParty not in ('91860','0000107894','0000114883','0000108654')\n",
    "and S.OrderDate >= '2018-06-01' and S.OrderDate <= '2018-06-30'\n",
    "order by OrderDate ASC\n",
    "\"\"\"\n",
    "\n",
    "test_data = pd.read_sql(qry1, conn)"
   ]
  },
  {
   "cell_type": "code",
   "execution_count": 85,
   "metadata": {
    "scrolled": true
   },
   "outputs": [
    {
     "data": {
      "text/html": [
       "<div>\n",
       "<style scoped>\n",
       "    .dataframe tbody tr th:only-of-type {\n",
       "        vertical-align: middle;\n",
       "    }\n",
       "\n",
       "    .dataframe tbody tr th {\n",
       "        vertical-align: top;\n",
       "    }\n",
       "\n",
       "    .dataframe thead th {\n",
       "        text-align: right;\n",
       "    }\n",
       "</style>\n",
       "<table border=\"1\" class=\"dataframe\">\n",
       "  <thead>\n",
       "    <tr style=\"text-align: right;\">\n",
       "      <th></th>\n",
       "      <th>CustomerID</th>\n",
       "      <th>Customer</th>\n",
       "      <th>OrderDate</th>\n",
       "      <th>Requested_Date</th>\n",
       "      <th>SalesOffice</th>\n",
       "      <th>OrderQty</th>\n",
       "      <th>ProductCategory</th>\n",
       "      <th>MasterSKU</th>\n",
       "    </tr>\n",
       "  </thead>\n",
       "  <tbody>\n",
       "    <tr>\n",
       "      <th>0</th>\n",
       "      <td>107397</td>\n",
       "      <td>Marine Corps Exchange</td>\n",
       "      <td>2018-06-01</td>\n",
       "      <td>2018-06-15</td>\n",
       "      <td>HYB</td>\n",
       "      <td>6</td>\n",
       "      <td>Drinkware</td>\n",
       "      <td>R20 Tumbler</td>\n",
       "    </tr>\n",
       "    <tr>\n",
       "      <th>1</th>\n",
       "      <td>107397</td>\n",
       "      <td>Marine Corps Exchange</td>\n",
       "      <td>2018-06-01</td>\n",
       "      <td>2018-06-15</td>\n",
       "      <td>HYB</td>\n",
       "      <td>6</td>\n",
       "      <td>Drinkware</td>\n",
       "      <td>R20 Tumbler</td>\n",
       "    </tr>\n",
       "  </tbody>\n",
       "</table>\n",
       "</div>"
      ],
      "text/plain": [
       "  CustomerID               Customer   OrderDate Requested_Date SalesOffice  \\\n",
       "0     107397  Marine Corps Exchange  2018-06-01     2018-06-15         HYB   \n",
       "1     107397  Marine Corps Exchange  2018-06-01     2018-06-15         HYB   \n",
       "\n",
       "   OrderQty ProductCategory    MasterSKU  \n",
       "0         6       Drinkware  R20 Tumbler  \n",
       "1         6       Drinkware  R20 Tumbler  "
      ]
     },
     "execution_count": 85,
     "metadata": {},
     "output_type": "execute_result"
    }
   ],
   "source": [
    "test_data.head(2)"
   ]
  },
  {
   "cell_type": "code",
   "execution_count": 86,
   "metadata": {},
   "outputs": [],
   "source": [
    "test_data['CustomerID'] = test_data['CustomerID'].apply(lambda x: x.zfill(10))"
   ]
  },
  {
   "cell_type": "code",
   "execution_count": 87,
   "metadata": {},
   "outputs": [
    {
     "data": {
      "text/html": [
       "<div>\n",
       "<style scoped>\n",
       "    .dataframe tbody tr th:only-of-type {\n",
       "        vertical-align: middle;\n",
       "    }\n",
       "\n",
       "    .dataframe tbody tr th {\n",
       "        vertical-align: top;\n",
       "    }\n",
       "\n",
       "    .dataframe thead th {\n",
       "        text-align: right;\n",
       "    }\n",
       "</style>\n",
       "<table border=\"1\" class=\"dataframe\">\n",
       "  <thead>\n",
       "    <tr style=\"text-align: right;\">\n",
       "      <th></th>\n",
       "      <th>CustomerID</th>\n",
       "      <th>Customer</th>\n",
       "      <th>OrderDate</th>\n",
       "      <th>Requested_Date</th>\n",
       "      <th>SalesOffice</th>\n",
       "      <th>OrderQty</th>\n",
       "      <th>ProductCategory</th>\n",
       "      <th>MasterSKU</th>\n",
       "    </tr>\n",
       "  </thead>\n",
       "  <tbody>\n",
       "    <tr>\n",
       "      <th>31139</th>\n",
       "      <td>0000114504</td>\n",
       "      <td>Whole Foods Market</td>\n",
       "      <td>2018-06-30</td>\n",
       "      <td>2018-07-07</td>\n",
       "      <td>HYB</td>\n",
       "      <td>2</td>\n",
       "      <td>Drinkware</td>\n",
       "      <td>R20 Tumbler</td>\n",
       "    </tr>\n",
       "    <tr>\n",
       "      <th>31140</th>\n",
       "      <td>0000114504</td>\n",
       "      <td>Whole Foods Market</td>\n",
       "      <td>2018-06-30</td>\n",
       "      <td>2018-07-10</td>\n",
       "      <td>HYB</td>\n",
       "      <td>5</td>\n",
       "      <td>Drinkware</td>\n",
       "      <td>R20 Tumbler</td>\n",
       "    </tr>\n",
       "  </tbody>\n",
       "</table>\n",
       "</div>"
      ],
      "text/plain": [
       "       CustomerID            Customer   OrderDate Requested_Date SalesOffice  \\\n",
       "31139  0000114504  Whole Foods Market  2018-06-30     2018-07-07         HYB   \n",
       "31140  0000114504  Whole Foods Market  2018-06-30     2018-07-10         HYB   \n",
       "\n",
       "       OrderQty ProductCategory    MasterSKU  \n",
       "31139         2       Drinkware  R20 Tumbler  \n",
       "31140         5       Drinkware  R20 Tumbler  "
      ]
     },
     "execution_count": 87,
     "metadata": {},
     "output_type": "execute_result"
    }
   ],
   "source": [
    "test_data.tail(2)"
   ]
  },
  {
   "cell_type": "code",
   "execution_count": 25,
   "metadata": {},
   "outputs": [],
   "source": [
    "%store -r volume_groups"
   ]
  },
  {
   "cell_type": "code",
   "execution_count": 89,
   "metadata": {},
   "outputs": [
    {
     "data": {
      "text/plain": [
       "Index(['CustomerID', 'Customer', 'OrderDate', 'Requested_Date', 'SalesOffice',\n",
       "       'OrderQty', 'ProductCategory', 'MasterSKU', 'dealer_volume_group'],\n",
       "      dtype='object')"
      ]
     },
     "execution_count": 89,
     "metadata": {},
     "output_type": "execute_result"
    }
   ],
   "source": [
    "def add_test_data_cols():\n",
    "    test_data['dealer_volume_group'] = test_data.apply(lambda _: '', axis=1)\n",
    "    for i, row in test_data.iterrows():\n",
    "        try: \n",
    "            test_data.at[i, 'dealer_volume_group'] = volume_groups[row[0]]\n",
    "        except KeyError:   # skip new dealers\n",
    "            continue\n",
    "add_test_data_cols()\n",
    "test_data.columns"
   ]
  },
  {
   "cell_type": "code",
   "execution_count": 90,
   "metadata": {},
   "outputs": [],
   "source": [
    "test_data.drop(columns=['CustomerID', 'Customer','OrderDate','Requested_Date', 'SalesOffice'], inplace=True)"
   ]
  },
  {
   "cell_type": "code",
   "execution_count": 91,
   "metadata": {},
   "outputs": [
    {
     "data": {
      "text/plain": [
       "(31141, 4)"
      ]
     },
     "execution_count": 91,
     "metadata": {},
     "output_type": "execute_result"
    }
   ],
   "source": [
    "test_data.shape"
   ]
  },
  {
   "cell_type": "code",
   "execution_count": 92,
   "metadata": {},
   "outputs": [
    {
     "data": {
      "text/plain": [
       "Index(['OrderQty', 'ProductCategory', 'MasterSKU', 'dealer_volume_group'], dtype='object')"
      ]
     },
     "execution_count": 92,
     "metadata": {},
     "output_type": "execute_result"
    }
   ],
   "source": [
    "test_data.columns"
   ]
  },
  {
   "cell_type": "code",
   "execution_count": 95,
   "metadata": {},
   "outputs": [],
   "source": [
    "def update_monthly_sum(dFrame):\n",
    "            \n",
    "    new_dFrame = dFrame.copy()\n",
    "    new_dFrame['monthly_sum_Order_Qty'] = np.nan\n",
    "    hi = len(dFrame)\n",
    "\n",
    "    for i, row in dFrame.iterrows():\n",
    "        \n",
    "        subset = dFrame.loc[(dFrame['ProductCategory'] == row[1])\n",
    "                            & (dFrame['dealer_volume_group'] == row[3])]\n",
    "        \n",
    "        subset_order_sum = subset['OrderQty'].sum(min_count=1)\n",
    "\n",
    "        new_dFrame.loc[(\n",
    "                        (np.isnan(new_dFrame['monthly_sum_Order_Qty']))\n",
    "                        & (dFrame['ProductCategory'] == row[1])\n",
    "                        & (dFrame['dealer_volume_group'] == row[3])\n",
    "                        ), 'monthly_sum_Order_Qty'] = subset_order_sum\n",
    "            \n",
    "        if (i % 1000) == 0 and i <= hi:\n",
    "            sys.stdout.write('\\r'+\"{0:.3%}\".format(i/hi))\n",
    "            sys.stdout.flush()\n",
    "            \n",
    "    return new_dFrame"
   ]
  },
  {
   "cell_type": "code",
   "execution_count": 96,
   "metadata": {},
   "outputs": [
    {
     "name": "stdout",
     "output_type": "stream",
     "text": [
      "99.547%"
     ]
    }
   ],
   "source": [
    "df = update_monthly_sum(test_data)"
   ]
  },
  {
   "cell_type": "code",
   "execution_count": 97,
   "metadata": {},
   "outputs": [
    {
     "data": {
      "text/html": [
       "<div>\n",
       "<style scoped>\n",
       "    .dataframe tbody tr th:only-of-type {\n",
       "        vertical-align: middle;\n",
       "    }\n",
       "\n",
       "    .dataframe tbody tr th {\n",
       "        vertical-align: top;\n",
       "    }\n",
       "\n",
       "    .dataframe thead th {\n",
       "        text-align: right;\n",
       "    }\n",
       "</style>\n",
       "<table border=\"1\" class=\"dataframe\">\n",
       "  <thead>\n",
       "    <tr style=\"text-align: right;\">\n",
       "      <th></th>\n",
       "      <th>OrderQty</th>\n",
       "      <th>ProductCategory</th>\n",
       "      <th>MasterSKU</th>\n",
       "      <th>dealer_volume_group</th>\n",
       "      <th>monthly_sum_Order_Qty</th>\n",
       "    </tr>\n",
       "  </thead>\n",
       "  <tbody>\n",
       "    <tr>\n",
       "      <th>22572</th>\n",
       "      <td>1</td>\n",
       "      <td>Hard Cooler</td>\n",
       "      <td>Tundra 35</td>\n",
       "      <td>0</td>\n",
       "      <td>11617.0</td>\n",
       "    </tr>\n",
       "    <tr>\n",
       "      <th>8371</th>\n",
       "      <td>6</td>\n",
       "      <td>Drinkware</td>\n",
       "      <td>R10 Lowball</td>\n",
       "      <td>1</td>\n",
       "      <td>87355.0</td>\n",
       "    </tr>\n",
       "    <tr>\n",
       "      <th>6307</th>\n",
       "      <td>2</td>\n",
       "      <td>Hard Cooler</td>\n",
       "      <td>Tundra 105</td>\n",
       "      <td>0</td>\n",
       "      <td>11617.0</td>\n",
       "    </tr>\n",
       "    <tr>\n",
       "      <th>29229</th>\n",
       "      <td>2</td>\n",
       "      <td>Hard Cooler</td>\n",
       "      <td>Tundra 35</td>\n",
       "      <td>2</td>\n",
       "      <td>2777.0</td>\n",
       "    </tr>\n",
       "    <tr>\n",
       "      <th>23219</th>\n",
       "      <td>6</td>\n",
       "      <td>Drinkware</td>\n",
       "      <td>R20 Tumbler</td>\n",
       "      <td>0</td>\n",
       "      <td>137448.0</td>\n",
       "    </tr>\n",
       "    <tr>\n",
       "      <th>17756</th>\n",
       "      <td>102</td>\n",
       "      <td>Drinkware</td>\n",
       "      <td>R20 Tumbler</td>\n",
       "      <td>0</td>\n",
       "      <td>137448.0</td>\n",
       "    </tr>\n",
       "    <tr>\n",
       "      <th>18941</th>\n",
       "      <td>12</td>\n",
       "      <td>Drinkware</td>\n",
       "      <td>R30 Tumbler</td>\n",
       "      <td>3</td>\n",
       "      <td>123503.0</td>\n",
       "    </tr>\n",
       "    <tr>\n",
       "      <th>18424</th>\n",
       "      <td>6</td>\n",
       "      <td>Drinkware</td>\n",
       "      <td>R10 Lowball</td>\n",
       "      <td>0</td>\n",
       "      <td>137448.0</td>\n",
       "    </tr>\n",
       "    <tr>\n",
       "      <th>31054</th>\n",
       "      <td>2</td>\n",
       "      <td>Hard Cooler</td>\n",
       "      <td>Tundra 35</td>\n",
       "      <td>0</td>\n",
       "      <td>11617.0</td>\n",
       "    </tr>\n",
       "    <tr>\n",
       "      <th>23503</th>\n",
       "      <td>6</td>\n",
       "      <td>Drinkware</td>\n",
       "      <td>R20 Tumbler</td>\n",
       "      <td>1</td>\n",
       "      <td>87355.0</td>\n",
       "    </tr>\n",
       "  </tbody>\n",
       "</table>\n",
       "</div>"
      ],
      "text/plain": [
       "       OrderQty ProductCategory    MasterSKU dealer_volume_group  \\\n",
       "22572         1     Hard Cooler    Tundra 35                   0   \n",
       "8371          6       Drinkware  R10 Lowball                   1   \n",
       "6307          2     Hard Cooler   Tundra 105                   0   \n",
       "29229         2     Hard Cooler    Tundra 35                   2   \n",
       "23219         6       Drinkware  R20 Tumbler                   0   \n",
       "17756       102       Drinkware  R20 Tumbler                   0   \n",
       "18941        12       Drinkware  R30 Tumbler                   3   \n",
       "18424         6       Drinkware  R10 Lowball                   0   \n",
       "31054         2     Hard Cooler    Tundra 35                   0   \n",
       "23503         6       Drinkware  R20 Tumbler                   1   \n",
       "\n",
       "       monthly_sum_Order_Qty  \n",
       "22572                11617.0  \n",
       "8371                 87355.0  \n",
       "6307                 11617.0  \n",
       "29229                 2777.0  \n",
       "23219               137448.0  \n",
       "17756               137448.0  \n",
       "18941               123503.0  \n",
       "18424               137448.0  \n",
       "31054                11617.0  \n",
       "23503                87355.0  "
      ]
     },
     "execution_count": 97,
     "metadata": {},
     "output_type": "execute_result"
    }
   ],
   "source": [
    "df.sample(10)"
   ]
  },
  {
   "cell_type": "code",
   "execution_count": 98,
   "metadata": {},
   "outputs": [],
   "source": [
    "def encode_categorical_predictors(dFrame):\n",
    "    op = dFrame.copy()\n",
    "    le = LabelEncoder()\n",
    "    for c in ['ProductCategory', 'MasterSKU']:\n",
    "        op[c] = le.fit_transform(op[c].astype(str))\n",
    "    return op"
   ]
  },
  {
   "cell_type": "code",
   "execution_count": 99,
   "metadata": {},
   "outputs": [],
   "source": [
    "df_num = encode_categorical_predictors(df)"
   ]
  },
  {
   "cell_type": "code",
   "execution_count": 100,
   "metadata": {},
   "outputs": [
    {
     "data": {
      "text/html": [
       "<div>\n",
       "<style scoped>\n",
       "    .dataframe tbody tr th:only-of-type {\n",
       "        vertical-align: middle;\n",
       "    }\n",
       "\n",
       "    .dataframe tbody tr th {\n",
       "        vertical-align: top;\n",
       "    }\n",
       "\n",
       "    .dataframe thead th {\n",
       "        text-align: right;\n",
       "    }\n",
       "</style>\n",
       "<table border=\"1\" class=\"dataframe\">\n",
       "  <thead>\n",
       "    <tr style=\"text-align: right;\">\n",
       "      <th></th>\n",
       "      <th>OrderQty</th>\n",
       "      <th>ProductCategory</th>\n",
       "      <th>MasterSKU</th>\n",
       "      <th>dealer_volume_group</th>\n",
       "      <th>monthly_sum_Order_Qty</th>\n",
       "    </tr>\n",
       "  </thead>\n",
       "  <tbody>\n",
       "    <tr>\n",
       "      <th>4237</th>\n",
       "      <td>1</td>\n",
       "      <td>4</td>\n",
       "      <td>9</td>\n",
       "      <td>0</td>\n",
       "      <td>8204.0</td>\n",
       "    </tr>\n",
       "    <tr>\n",
       "      <th>4369</th>\n",
       "      <td>48</td>\n",
       "      <td>4</td>\n",
       "      <td>0</td>\n",
       "      <td>2</td>\n",
       "      <td>1564.0</td>\n",
       "    </tr>\n",
       "  </tbody>\n",
       "</table>\n",
       "</div>"
      ],
      "text/plain": [
       "      OrderQty  ProductCategory  MasterSKU dealer_volume_group  \\\n",
       "4237         1                4          9                   0   \n",
       "4369        48                4          0                   2   \n",
       "\n",
       "      monthly_sum_Order_Qty  \n",
       "4237                 8204.0  \n",
       "4369                 1564.0  "
      ]
     },
     "execution_count": 100,
     "metadata": {},
     "output_type": "execute_result"
    }
   ],
   "source": [
    "df_num.sample(2)"
   ]
  },
  {
   "cell_type": "code",
   "execution_count": 119,
   "metadata": {},
   "outputs": [],
   "source": [
    "df_num['month'] = df.apply(lambda _:6, axis=1)"
   ]
  },
  {
   "cell_type": "code",
   "execution_count": 104,
   "metadata": {},
   "outputs": [
    {
     "data": {
      "text/html": [
       "<div>\n",
       "<style scoped>\n",
       "    .dataframe tbody tr th:only-of-type {\n",
       "        vertical-align: middle;\n",
       "    }\n",
       "\n",
       "    .dataframe tbody tr th {\n",
       "        vertical-align: top;\n",
       "    }\n",
       "\n",
       "    .dataframe thead th {\n",
       "        text-align: right;\n",
       "    }\n",
       "</style>\n",
       "<table border=\"1\" class=\"dataframe\">\n",
       "  <thead>\n",
       "    <tr style=\"text-align: right;\">\n",
       "      <th></th>\n",
       "      <th>OrderQty</th>\n",
       "      <th>ProductCategory</th>\n",
       "      <th>MasterSKU</th>\n",
       "      <th>dealer_volume_group</th>\n",
       "      <th>monthly_sum_Order_Qty</th>\n",
       "      <th>month</th>\n",
       "    </tr>\n",
       "  </thead>\n",
       "  <tbody>\n",
       "    <tr>\n",
       "      <th>11021</th>\n",
       "      <td>12</td>\n",
       "      <td>2</td>\n",
       "      <td>23</td>\n",
       "      <td>0</td>\n",
       "      <td>137448.0</td>\n",
       "      <td>6</td>\n",
       "    </tr>\n",
       "    <tr>\n",
       "      <th>30926</th>\n",
       "      <td>72</td>\n",
       "      <td>2</td>\n",
       "      <td>23</td>\n",
       "      <td>0</td>\n",
       "      <td>137448.0</td>\n",
       "      <td>6</td>\n",
       "    </tr>\n",
       "  </tbody>\n",
       "</table>\n",
       "</div>"
      ],
      "text/plain": [
       "       OrderQty  ProductCategory  MasterSKU dealer_volume_group  \\\n",
       "11021        12                2         23                   0   \n",
       "30926        72                2         23                   0   \n",
       "\n",
       "       monthly_sum_Order_Qty month  \n",
       "11021               137448.0     6  \n",
       "30926               137448.0     6  "
      ]
     },
     "execution_count": 104,
     "metadata": {},
     "output_type": "execute_result"
    }
   ],
   "source": [
    "df_num.sample(2)"
   ]
  },
  {
   "cell_type": "code",
   "execution_count": 116,
   "metadata": {},
   "outputs": [
    {
     "data": {
      "text/plain": [
       "False"
      ]
     },
     "execution_count": 116,
     "metadata": {},
     "output_type": "execute_result"
    }
   ],
   "source": [
    "df_num.empty"
   ]
  },
  {
   "cell_type": "code",
   "execution_count": 121,
   "metadata": {},
   "outputs": [],
   "source": [
    "df_num['dealer_volume_group'] = pd.to_numeric(df_num['dealer_volume_group'])"
   ]
  },
  {
   "cell_type": "code",
   "execution_count": 123,
   "metadata": {},
   "outputs": [
    {
     "data": {
      "text/plain": [
       "ProductCategory        False\n",
       "dealer_volume_group     True\n",
       "month                  False\n",
       "dtype: bool"
      ]
     },
     "execution_count": 123,
     "metadata": {},
     "output_type": "execute_result"
    }
   ],
   "source": [
    "df_num[['ProductCategory','dealer_volume_group', 'month']].isnull().any()"
   ]
  },
  {
   "cell_type": "code",
   "execution_count": 125,
   "metadata": {},
   "outputs": [],
   "source": [
    "df_num['dealer_volume_group'] = df_num['dealer_volume_group'].fillna(value=-1)"
   ]
  },
  {
   "cell_type": "code",
   "execution_count": 139,
   "metadata": {},
   "outputs": [],
   "source": [
    "def knn_test(X, Y, test_data_X, test_data_Y, k=21, feature_list=None, boxcox_transform=False):\n",
    "    sc = StandardScaler()\n",
    "    X = sc.fit_transform(X)\n",
    "    if boxcox_transform:\n",
    "        Y, best_lambda = boxcox(Y)\n",
    "    \n",
    "    #X_train, _, Y_train, _ = train_test_split(X, Y, test_size=0.3, random_state=12)\n",
    "    X_train, Y_train = X, Y\n",
    "\n",
    "    knn = KNeighborsRegressor(n_neighbors=k)\n",
    "    knn.fit(X_train, Y_train)\n",
    "    \n",
    "    X_test = sc.transform(test_data_X)\n",
    "    Y_test = boxcox(test_data_Y,lmbda=best_lambda).reshape(-1,1)\n",
    "    Y_pred = knn.predict(X_test)\n",
    "    \n",
    "    rmse = np.mean(-1 * cross_val_score(knn, X_train, Y_train, \n",
    "                                   scoring='neg_mean_squared_error',\n",
    "                                   cv=5))\n",
    "    r2_list = cross_val_score(knn, X_train, Y_train, scoring='r2')\n",
    "    adj_r2 = np.mean([calculate_adj_r2(r2, len(X), len(feature_list)) for r2 in r2_list])\n",
    "    MAPE = cross_val_mape(knn, Y_test, Y_pred)\n",
    "    \n",
    "    print(\"KNN with K = {} \\n \\\n",
    "        features considered at each split: all \\n \\\n",
    "        RMSE: {} \\n Adjusted R2: {} \\n \\\n",
    "        MAPE: {}%\".format(k, rmse, adj_r2, MAPE))"
   ]
  },
  {
   "cell_type": "code",
   "execution_count": 128,
   "metadata": {},
   "outputs": [],
   "source": [
    "test_data_X = df_num[['ProductCategory','dealer_volume_group', 'month']].values\n",
    "test_data_Y = df_num['monthly_sum_Order_Qty'].values"
   ]
  },
  {
   "cell_type": "code",
   "execution_count": 138,
   "metadata": {},
   "outputs": [
    {
     "name": "stdout",
     "output_type": "stream",
     "text": [
      "KNN with K = 21 \n",
      "         features considered at each split: all \n",
      "         RMSE: 39.30151720215849 \n",
      " Adjusted R2: 0.9884118529141718 \n",
      "         MAPE: 0.1964421171087237%\n"
     ]
    }
   ],
   "source": [
    "# using 70% of X, Y (20% of entire dataset)\n",
    "knn_test(X, Y, test_data_X, test_data_Y, feature_list=['ProductCategory','dealer_volume_group','month'],boxcox_transform=True)"
   ]
  },
  {
   "cell_type": "code",
   "execution_count": 140,
   "metadata": {},
   "outputs": [
    {
     "name": "stdout",
     "output_type": "stream",
     "text": [
      "KNN with K = 21 \n",
      "         features considered at each split: all \n",
      "         RMSE: 38.49480051731629 \n",
      " Adjusted R2: 0.9887974115731968 \n",
      "         MAPE: 0.19643869891812754%\n"
     ]
    }
   ],
   "source": [
    "# use 100% of X, Y (20% of entire dataset)\n",
    "knn_test(X, Y, test_data_X, test_data_Y, feature_list=['ProductCategory','dealer_volume_group','month'],boxcox_transform=True)"
   ]
  },
  {
   "cell_type": "code",
   "execution_count": 188,
   "metadata": {},
   "outputs": [],
   "source": [
    "def random_forest_test(X, Y, test_data_X, test_data_Y, max_depth=None, feature_list=None, boxcox_transform=False, draw_tree=False):\n",
    "    \"\"\" using all CPU cores, memory intensive \"\"\"\n",
    "    \n",
    "    sc = StandardScaler()\n",
    "    X = sc.fit_transform(X)\n",
    "    if boxcox_transform:\n",
    "        Y, best_lambda = boxcox(Y)\n",
    "    \n",
    "    #X_train, _, Y_train, _ = train_test_split(X, Y, test_size=0.3,random_state=12)\n",
    "    X_train, Y_train = X, Y\n",
    "    X_test = sc.transform(test_data_X)\n",
    "    Y_test = boxcox(test_data_Y, lmbda=best_lambda).reshape(-1,1)\n",
    "        \n",
    "    model = RandomForestRegressor(bootstrap=True,random_state=0,max_depth=max_depth,n_jobs=-1)\n",
    "    model.fit(X_train, Y_train)\n",
    "    Y_pred = model.predict(X_test)\n",
    "    \n",
    "    if draw_tree:   # plot a tree\n",
    "        graph = Source(export_graphviz(model.estimators_[0],out_file='tree.jpeg'))\n",
    "\n",
    "    rmse = np.mean(-1 * cross_val_score(model, X_train, Y_train, \n",
    "                                   scoring='neg_mean_squared_error',\n",
    "                                   cv=5))\n",
    "    r2_list = cross_val_score(model, X_train, Y_train, scoring='r2')\n",
    "    adj_r2 = np.mean([calculate_adj_r2(r2, len(X), len(feature_list)) for r2 in r2_list])\n",
    "    MAPE = cross_val_mape(model, Y_test, Y_pred) # not enough memory to calculate this for Random Forest\n",
    "    \n",
    "    print(\"Features:\", feature_list)\n",
    "    print(\"Random Forest with max depth = {}\\n \\\n",
    "        features considered at each split: all \\n \\\n",
    "        RMSE: {} \\n Adjusted R2: {}\\nMAPE: {}%\".format(max_depth,rmse,adj_r2,MAPE))\n",
    "    \n",
    "    return model"
   ]
  },
  {
   "cell_type": "code",
   "execution_count": 173,
   "metadata": {},
   "outputs": [
    {
     "name": "stdout",
     "output_type": "stream",
     "text": [
      "Features: ['ProductCategory', 'dealer_volume_group', 'month']\n",
      "Random Forest with max depth = None\n",
      "         features considered at each split: all \n",
      "         RMSE: 36.875573926980756 \n",
      " Adjusted R2: 0.9891778485297046\n",
      "MAPE: 0.015788807550411083%\n"
     ]
    }
   ],
   "source": [
    "# use 70% of X, Y (20% of entire dataset)\n",
    "random_forest_test(X, Y, test_data_X, test_data_Y, feature_list=['ProductCategory','dealer_volume_group','month'],boxcox_transform=True)"
   ]
  },
  {
   "cell_type": "code",
   "execution_count": 189,
   "metadata": {},
   "outputs": [
    {
     "name": "stdout",
     "output_type": "stream",
     "text": [
      "Features: ['ProductCategory', 'dealer_volume_group', 'month']\n",
      "Random Forest with max depth = None\n",
      "         features considered at each split: all \n",
      "         RMSE: 36.875573926980756 \n",
      " Adjusted R2: 0.9891778485297046\n",
      "MAPE: 0.015788807550396005%\n"
     ]
    }
   ],
   "source": [
    "# use 100% of X, Y (20% of entire dataset)\n",
    "rf = random_forest_test(X, Y, test_data_X, test_data_Y, feature_list=['ProductCategory','dealer_volume_group','month'],boxcox_transform=True,draw_tree=True)"
   ]
  },
  {
   "cell_type": "code",
   "execution_count": 191,
   "metadata": {},
   "outputs": [
    {
     "data": {
      "text/plain": [
       "DecisionTreeRegressor(criterion='mse', max_depth=None, max_features='auto',\n",
       "           max_leaf_nodes=None, min_impurity_decrease=0.0,\n",
       "           min_impurity_split=None, min_samples_leaf=1,\n",
       "           min_samples_split=2, min_weight_fraction_leaf=0.0,\n",
       "           presort=False, random_state=209652396, splitter='best')"
      ]
     },
     "execution_count": 191,
     "metadata": {},
     "output_type": "execute_result"
    }
   ],
   "source": [
    "rf.estimators_[0]"
   ]
  },
  {
   "cell_type": "code",
   "execution_count": 160,
   "metadata": {},
   "outputs": [],
   "source": [
    "def polynomial_regression(X, Y, test_data_X, test_data_Y, feature_list, d, boxcox_transform=False):\n",
    "    \n",
    "    sc = StandardScaler()\n",
    "    X = sc.fit_transform(X)\n",
    "    X_train, Y_train = X, Y\n",
    "    X_test = sc.transform(test_data_X)    \n",
    "    if boxcox_transform:\n",
    "        Y, best_lambda = boxcox(Y)\n",
    "        Y_test = boxcox(test_data_Y, lmbda=best_lambda).reshape(-1,1)\n",
    "    else:\n",
    "        Y_test = test_data_Y.reshape(-1,1)\n",
    "    \n",
    "    model = Pipeline([\n",
    "        ('poly', PolynomialFeatures(degree=d)),\n",
    "        ('linear', LinearRegression())\n",
    "    ])\n",
    "    model = model.fit(X_train, Y_train)\n",
    "    Y_pred = model.predict(X_test).reshape(-1,1)\n",
    "    \n",
    "    # cross validate & evaluate performance\n",
    "    rmse = np.mean(-1 * cross_val_score(model, X_train, Y_train, \n",
    "                                   scoring='neg_mean_squared_error',\n",
    "                                   cv=5))\n",
    "    r2_list = cross_val_score(model, X_train, Y_train, scoring='r2')\n",
    "    adj_r2 = np.mean([calculate_adj_r2(r2, len(X), len(feature_list)) for r2 in r2_list])\n",
    "    MAPE = cross_val_mape(model, Y_test, Y_pred)\n",
    "    \n",
    "    print(\"Method: {} degree: {} \\nRMSE: {}\\n\\\n",
    "        Adjusted R2: {}\\nMAPE :{}%\".format(\n",
    "        'Polynomial OLS', d, rmse, adj_r2, MAPE\n",
    "    ))\n",
    "    \n",
    "    # calculate internally studentized residuals\n",
    "    X_mean, Y_mean = sum(X_test)/len(X), sum(Y_test)/len(Y)\n",
    "    res = Y_test - Y_pred\n",
    "    Y_SD = np.sqrt(sum([(Y_i-Y_mean)**2 for Y_i in Y_test])/len(Y))\n",
    "    Y_SE = Y_SD**2 / len(Y)\n",
    "    stu_res = res / Y_SE\n",
    "    \n",
    "    # visualize internally studentized residuals\n",
    "    fig1, ax1 = plt.subplots(1)\n",
    "    ax1.scatter(Y_pred, stu_res, alpha=0.7)\n",
    "    plt.grid(color='grey', linestyle='-', linewidth=1, alpha=.2)\n",
    "    ax1.set_title('Polynomial Linear Regression, degree = {}\\ninternally studentized residuals'.format(d))\n",
    "    ax1.set_ylabel('residual')\n",
    "    ax1.set_xlabel('y-hat')"
   ]
  },
  {
   "cell_type": "code",
   "execution_count": 154,
   "metadata": {},
   "outputs": [
    {
     "name": "stdout",
     "output_type": "stream",
     "text": [
      "Method: Polynomial OLS degree: 3 \n",
      "RMSE: 627.7282820983431\n",
      "        Adjusted R2: 0.8157293281542014\n",
      "MAPE :8.425942232342374%\n"
     ]
    },
    {
     "data": {
      "image/png": "[encoded data removed]",
      "text/plain": [
       "<matplotlib.figure.Figure at 0x2c21631e7f0>"
      ]
     },
     "metadata": {},
     "output_type": "display_data"
    }
   ],
   "source": [
    "polynomial_regression(X, Y, test_data_X, test_data_Y, d=3, feature_list=['ProductCategory','dealer_volume_group','month'],boxcox_transform=True)"
   ]
  },
  {
   "cell_type": "code",
   "execution_count": 155,
   "metadata": {},
   "outputs": [
    {
     "name": "stdout",
     "output_type": "stream",
     "text": [
      "Method: Polynomial OLS degree: 4 \n",
      "RMSE: 158.62498134195806\n",
      "        Adjusted R2: 0.9534648819976895\n",
      "MAPE :75318472.20764835%\n"
     ]
    },
    {
     "data": {
      "image/png": "[encoded data removed]",
      "text/plain": [
       "<matplotlib.figure.Figure at 0x2c21635a6a0>"
      ]
     },
     "metadata": {},
     "output_type": "display_data"
    }
   ],
   "source": [
    "polynomial_regression(X, Y, test_data_X, test_data_Y, d=4, feature_list=['ProductCategory','dealer_volume_group','month'],boxcox_transform=True)"
   ]
  },
  {
   "cell_type": "code",
   "execution_count": 161,
   "metadata": {},
   "outputs": [
    {
     "name": "stdout",
     "output_type": "stream",
     "text": [
      "Method: Polynomial OLS degree: 4 \n",
      "RMSE: 15293161802.167843\n",
      "        Adjusted R2: 0.8584984534463548\n",
      "MAPE :837087572.734778%\n"
     ]
    },
    {
     "data": {
      "image/png": "[encoded data removed]",
      "text/plain": [
       "<matplotlib.figure.Figure at 0x2c216238828>"
      ]
     },
     "metadata": {},
     "output_type": "display_data"
    }
   ],
   "source": [
    "polynomial_regression(X, Y, test_data_X, test_data_Y, d=4, feature_list=['ProductCategory','dealer_volume_group','month'],boxcox_transform=False)"
   ]
  }
 ],
 "metadata": {
  "kernelspec": {
   "display_name": "Python 3",
   "language": "python",
   "name": "python3"
  },
  "language_info": {
   "codemirror_mode": {
    "name": "ipython",
    "version": 3
   },
   "file_extension": ".py",
   "mimetype": "text/x-python",
   "name": "python",
   "nbconvert_exporter": "python",
   "pygments_lexer": "ipython3",
   "version": "3.6.4"
  }
 },
 "nbformat": 4,
 "nbformat_minor": 2
}
