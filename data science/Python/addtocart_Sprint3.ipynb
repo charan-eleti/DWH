{
 "cells": [
  {
   "cell_type": "code",
   "execution_count": 1,
   "metadata": {},
   "outputs": [],
   "source": [
    "from google.cloud import bigquery\n",
    "from google.oauth2 import service_account\n",
    "import numpy as np\n",
    "import pandas as pd\n",
    "import matplotlib.pylab as plt\n",
    "import seaborn as sns\n",
    "credentials = service_account.Credentials.from_service_account_file('C:/Users/Helen.Tian/Downloads/YETI Google Analytics-45214aca550b.json')# PATH IN YOUR COMPUTER\n",
    "project_id = 'enduring-hue-184016'   \n",
    "client = bigquery.Client(credentials= credentials,project=project_id)"
   ]
  },
  {
   "cell_type": "code",
   "execution_count": 2,
   "metadata": {},
   "outputs": [],
   "source": [
    "#add soft coolers to cart actions\n",
    "query_job = client.query(\"SELECT * FROM `enduring-hue-184016.121992452.add_to_cart_actions_soft_coolers` \")\n",
    "results = query_job.result()\n",
    "df = results.to_dataframe()"
   ]
  },
  {
   "cell_type": "code",
   "execution_count": 3,
   "metadata": {},
   "outputs": [],
   "source": [
    "#add soft coolers to cart actions\n",
    "query_job = client.query(\"SELECT * FROM `enduring-hue-184016.121992452.not_add_to_cart_actions_I` \")\n",
    "results = query_job.result()\n",
    "df1 = results.to_dataframe()"
   ]
  },
  {
   "cell_type": "code",
   "execution_count": 4,
   "metadata": {},
   "outputs": [],
   "source": [
    "################################################################################################################################\n",
    "##########################################        add to cart actions       ####################################################\n",
    "################################################################################################################################"
   ]
  },
  {
   "cell_type": "code",
   "execution_count": 5,
   "metadata": {},
   "outputs": [],
   "source": [
    "df = df.rename(columns={'A_a_date': 'date', 'A_a_eventAction': 'action','a_a_eventLabel': 'label', 'A_a_visitorId': 'visitorid', 'A_product': 'product' })"
   ]
  },
  {
   "cell_type": "code",
   "execution_count": 6,
   "metadata": {},
   "outputs": [
    {
     "data": {
      "text/html": [
       "<div>\n",
       "<style scoped>\n",
       "    .dataframe tbody tr th:only-of-type {\n",
       "        vertical-align: middle;\n",
       "    }\n",
       "\n",
       "    .dataframe tbody tr th {\n",
       "        vertical-align: top;\n",
       "    }\n",
       "\n",
       "    .dataframe thead th {\n",
       "        text-align: right;\n",
       "    }\n",
       "</style>\n",
       "<table border=\"1\" class=\"dataframe\">\n",
       "  <thead>\n",
       "    <tr style=\"text-align: right;\">\n",
       "      <th></th>\n",
       "      <th>date</th>\n",
       "      <th>action</th>\n",
       "      <th>label</th>\n",
       "      <th>visitorid</th>\n",
       "      <th>product</th>\n",
       "    </tr>\n",
       "  </thead>\n",
       "  <tbody>\n",
       "    <tr>\n",
       "      <th>0</th>\n",
       "      <td>2018-02-21</td>\n",
       "      <td>truck fit</td>\n",
       "      <td>filter-8</td>\n",
       "      <td>7887956815014386541</td>\n",
       "      <td>hopper flip 8</td>\n",
       "    </tr>\n",
       "    <tr>\n",
       "      <th>1</th>\n",
       "      <td>2018-02-21</td>\n",
       "      <td>truck fit</td>\n",
       "      <td>filter-8</td>\n",
       "      <td>7929123990647199077</td>\n",
       "      <td>hopper flip 8</td>\n",
       "    </tr>\n",
       "    <tr>\n",
       "      <th>2</th>\n",
       "      <td>2018-02-21</td>\n",
       "      <td>truck fit</td>\n",
       "      <td>filter-8</td>\n",
       "      <td>5134076990871722997</td>\n",
       "      <td>hopper flip 8</td>\n",
       "    </tr>\n",
       "    <tr>\n",
       "      <th>3</th>\n",
       "      <td>2018-02-22</td>\n",
       "      <td>truck fit</td>\n",
       "      <td>filter-8</td>\n",
       "      <td>8036123862352499271</td>\n",
       "      <td>hopper flip 8</td>\n",
       "    </tr>\n",
       "    <tr>\n",
       "      <th>4</th>\n",
       "      <td>2018-02-23</td>\n",
       "      <td>truck fit</td>\n",
       "      <td>filter-8</td>\n",
       "      <td>9054695293830572908</td>\n",
       "      <td>hopper flip 8</td>\n",
       "    </tr>\n",
       "  </tbody>\n",
       "</table>\n",
       "</div>"
      ],
      "text/plain": [
       "         date     action     label            visitorid        product\n",
       "0  2018-02-21  truck fit  filter-8  7887956815014386541  hopper flip 8\n",
       "1  2018-02-21  truck fit  filter-8  7929123990647199077  hopper flip 8\n",
       "2  2018-02-21  truck fit  filter-8  5134076990871722997  hopper flip 8\n",
       "3  2018-02-22  truck fit  filter-8  8036123862352499271  hopper flip 8\n",
       "4  2018-02-23  truck fit  filter-8  9054695293830572908  hopper flip 8"
      ]
     },
     "execution_count": 6,
     "metadata": {},
     "output_type": "execute_result"
    }
   ],
   "source": [
    "df.head()"
   ]
  },
  {
   "cell_type": "code",
   "execution_count": 7,
   "metadata": {},
   "outputs": [
    {
     "data": {
      "text/plain": [
       "19671"
      ]
     },
     "execution_count": 7,
     "metadata": {},
     "output_type": "execute_result"
    }
   ],
   "source": [
    "# numbers of customers (visitors who add products to cart)\n",
    "len(list(set(df.visitorid))) "
   ]
  },
  {
   "cell_type": "code",
   "execution_count": 8,
   "metadata": {},
   "outputs": [],
   "source": [
    "# numbers of \"add_to_cart\"\n",
    "cart = df.drop_duplicates(subset=['date','visitorid','product'])"
   ]
  },
  {
   "cell_type": "code",
   "execution_count": 9,
   "metadata": {},
   "outputs": [
    {
     "data": {
      "text/plain": [
       "22215"
      ]
     },
     "execution_count": 9,
     "metadata": {},
     "output_type": "execute_result"
    }
   ],
   "source": [
    "len(cart)"
   ]
  },
  {
   "cell_type": "code",
   "execution_count": 10,
   "metadata": {},
   "outputs": [],
   "source": [
    "##################################################### photo interaction\n",
    "photo = df[df.action == 'photo interaction']"
   ]
  },
  {
   "cell_type": "code",
   "execution_count": 11,
   "metadata": {},
   "outputs": [],
   "source": [
    "photo = photo.groupby(['date','visitorid','product'])['action'].count()"
   ]
  },
  {
   "cell_type": "code",
   "execution_count": 12,
   "metadata": {},
   "outputs": [],
   "source": [
    "per_p = len(photo)/len(cart)"
   ]
  },
  {
   "cell_type": "code",
   "execution_count": 13,
   "metadata": {},
   "outputs": [
    {
     "data": {
      "text/plain": [
       "0.46563133018230923"
      ]
     },
     "execution_count": 13,
     "metadata": {},
     "output_type": "execute_result"
    }
   ],
   "source": [
    "per_p"
   ]
  },
  {
   "cell_type": "code",
   "execution_count": 14,
   "metadata": {},
   "outputs": [],
   "source": [
    "p=photo.to_frame().reset_index()"
   ]
  },
  {
   "cell_type": "code",
   "execution_count": 15,
   "metadata": {},
   "outputs": [
    {
     "data": {
      "text/plain": [
       "<matplotlib.axes._subplots.AxesSubplot at 0x2b7a963de10>"
      ]
     },
     "execution_count": 15,
     "metadata": {},
     "output_type": "execute_result"
    },
    {
     "data": {
      "image/png": "[encoded data removed]",
      "text/plain": [
       "<matplotlib.figure.Figure at 0x2b7a963d1d0>"
      ]
     },
     "metadata": {},
     "output_type": "display_data"
    }
   ],
   "source": [
    "p.boxplot(column = 'action')"
   ]
  },
  {
   "cell_type": "code",
   "execution_count": 16,
   "metadata": {},
   "outputs": [],
   "source": [
    "a_p=np.mean(p.action)"
   ]
  },
  {
   "cell_type": "code",
   "execution_count": 17,
   "metadata": {},
   "outputs": [
    {
     "data": {
      "text/plain": [
       "count    10344.000000\n",
       "mean         1.794954\n",
       "std          1.027425\n",
       "min          1.000000\n",
       "25%          1.000000\n",
       "50%          2.000000\n",
       "75%          2.000000\n",
       "max         18.000000\n",
       "Name: action, dtype: float64"
      ]
     },
     "execution_count": 17,
     "metadata": {},
     "output_type": "execute_result"
    }
   ],
   "source": [
    "p.action.describe()"
   ]
  },
  {
   "cell_type": "code",
   "execution_count": 18,
   "metadata": {},
   "outputs": [],
   "source": [
    "##################################################### read and write reviews"
   ]
  },
  {
   "cell_type": "code",
   "execution_count": 19,
   "metadata": {},
   "outputs": [],
   "source": [
    "review = df[df.action == 'read and write reviews']"
   ]
  },
  {
   "cell_type": "code",
   "execution_count": 20,
   "metadata": {},
   "outputs": [],
   "source": [
    "review = review.groupby(['date','visitorid','product'])['action'].count()"
   ]
  },
  {
   "cell_type": "code",
   "execution_count": 21,
   "metadata": {},
   "outputs": [],
   "source": [
    "per_r = len(review)/len(cart)"
   ]
  },
  {
   "cell_type": "code",
   "execution_count": 22,
   "metadata": {},
   "outputs": [],
   "source": [
    "r=review.to_frame().reset_index()"
   ]
  },
  {
   "cell_type": "code",
   "execution_count": 23,
   "metadata": {},
   "outputs": [
    {
     "data": {
      "text/plain": [
       "<matplotlib.axes._subplots.AxesSubplot at 0x2b7a97b2160>"
      ]
     },
     "execution_count": 23,
     "metadata": {},
     "output_type": "execute_result"
    },
    {
     "data": {
      "image/png": "[encoded data removed]",
      "text/plain": [
       "<matplotlib.figure.Figure at 0x2b7a95df278>"
      ]
     },
     "metadata": {},
     "output_type": "display_data"
    }
   ],
   "source": [
    "r.boxplot(column = 'action')"
   ]
  },
  {
   "cell_type": "code",
   "execution_count": 24,
   "metadata": {},
   "outputs": [],
   "source": [
    "a_r=np.mean(r.action)"
   ]
  },
  {
   "cell_type": "code",
   "execution_count": 25,
   "metadata": {},
   "outputs": [
    {
     "data": {
      "text/plain": [
       "count    921.000000\n",
       "mean       1.213898\n",
       "std        0.474184\n",
       "min        1.000000\n",
       "25%        1.000000\n",
       "50%        1.000000\n",
       "75%        1.000000\n",
       "max        5.000000\n",
       "Name: action, dtype: float64"
      ]
     },
     "execution_count": 25,
     "metadata": {},
     "output_type": "execute_result"
    }
   ],
   "source": [
    "r.action.describe()"
   ]
  },
  {
   "cell_type": "code",
   "execution_count": 26,
   "metadata": {},
   "outputs": [],
   "source": [
    "##################################################### product features"
   ]
  },
  {
   "cell_type": "code",
   "execution_count": 27,
   "metadata": {},
   "outputs": [],
   "source": [
    "feature = df[df.action == 'product features']"
   ]
  },
  {
   "cell_type": "code",
   "execution_count": 28,
   "metadata": {},
   "outputs": [],
   "source": [
    "feature = feature.groupby(['date','visitorid','product'])['action'].count()"
   ]
  },
  {
   "cell_type": "code",
   "execution_count": 29,
   "metadata": {},
   "outputs": [],
   "source": [
    "per_f = len(feature)/len(cart)"
   ]
  },
  {
   "cell_type": "code",
   "execution_count": 30,
   "metadata": {},
   "outputs": [],
   "source": [
    "f=feature.to_frame().reset_index()"
   ]
  },
  {
   "cell_type": "code",
   "execution_count": 31,
   "metadata": {},
   "outputs": [
    {
     "data": {
      "text/plain": [
       "<matplotlib.axes._subplots.AxesSubplot at 0x2b7a7106438>"
      ]
     },
     "execution_count": 31,
     "metadata": {},
     "output_type": "execute_result"
    },
    {
     "data": {
      "image/png": "[encoded data removed]",
      "text/plain": [
       "<matplotlib.figure.Figure at 0x2b7a71117b8>"
      ]
     },
     "metadata": {},
     "output_type": "display_data"
    }
   ],
   "source": [
    "f.boxplot(column = 'action')"
   ]
  },
  {
   "cell_type": "code",
   "execution_count": 32,
   "metadata": {},
   "outputs": [],
   "source": [
    "a_f=np.mean(f.action)"
   ]
  },
  {
   "cell_type": "code",
   "execution_count": 33,
   "metadata": {},
   "outputs": [
    {
     "data": {
      "text/plain": [
       "count    4438.000000\n",
       "mean        1.474538\n",
       "std         0.802664\n",
       "min         1.000000\n",
       "25%         1.000000\n",
       "50%         1.000000\n",
       "75%         2.000000\n",
       "max        10.000000\n",
       "Name: action, dtype: float64"
      ]
     },
     "execution_count": 33,
     "metadata": {},
     "output_type": "execute_result"
    }
   ],
   "source": [
    "f.action.describe()"
   ]
  },
  {
   "cell_type": "code",
   "execution_count": 34,
   "metadata": {},
   "outputs": [],
   "source": [
    "##################################################### product color view"
   ]
  },
  {
   "cell_type": "code",
   "execution_count": 35,
   "metadata": {},
   "outputs": [],
   "source": [
    "color = df[df.action == 'product color view']"
   ]
  },
  {
   "cell_type": "code",
   "execution_count": 36,
   "metadata": {},
   "outputs": [],
   "source": [
    "color = color.groupby(['date','visitorid','product'])['action'].count()"
   ]
  },
  {
   "cell_type": "code",
   "execution_count": 37,
   "metadata": {},
   "outputs": [],
   "source": [
    "per_c = len(color)/len(cart)"
   ]
  },
  {
   "cell_type": "code",
   "execution_count": 38,
   "metadata": {},
   "outputs": [],
   "source": [
    "c=color.to_frame().reset_index()"
   ]
  },
  {
   "cell_type": "code",
   "execution_count": 39,
   "metadata": {},
   "outputs": [
    {
     "data": {
      "text/plain": [
       "<matplotlib.axes._subplots.AxesSubplot at 0x2b7a78ca5c0>"
      ]
     },
     "execution_count": 39,
     "metadata": {},
     "output_type": "execute_result"
    },
    {
     "data": {
      "image/png": "[encoded data removed]",
      "text/plain": [
       "<matplotlib.figure.Figure at 0x2b7a78ae198>"
      ]
     },
     "metadata": {},
     "output_type": "display_data"
    }
   ],
   "source": [
    "c.boxplot(column = 'action')"
   ]
  },
  {
   "cell_type": "code",
   "execution_count": 40,
   "metadata": {},
   "outputs": [],
   "source": [
    "a_c=np.mean(c.action)"
   ]
  },
  {
   "cell_type": "code",
   "execution_count": 41,
   "metadata": {},
   "outputs": [
    {
     "data": {
      "text/plain": [
       "count    14606.000000\n",
       "mean         1.633096\n",
       "std          0.812550\n",
       "min          1.000000\n",
       "25%          1.000000\n",
       "50%          2.000000\n",
       "75%          2.000000\n",
       "max         18.000000\n",
       "Name: action, dtype: float64"
      ]
     },
     "execution_count": 41,
     "metadata": {},
     "output_type": "execute_result"
    }
   ],
   "source": [
    "c.action.describe()"
   ]
  },
  {
   "cell_type": "code",
   "execution_count": 42,
   "metadata": {},
   "outputs": [],
   "source": [
    "##################################################### recommendation strand"
   ]
  },
  {
   "cell_type": "code",
   "execution_count": 43,
   "metadata": {},
   "outputs": [],
   "source": [
    "reco = df[df.action == 'recommendation strand']"
   ]
  },
  {
   "cell_type": "code",
   "execution_count": 44,
   "metadata": {},
   "outputs": [],
   "source": [
    "reco = reco.groupby(['date','visitorid','product'])['action'].count()"
   ]
  },
  {
   "cell_type": "code",
   "execution_count": 45,
   "metadata": {},
   "outputs": [],
   "source": [
    "per_re = len(reco)/len(cart)"
   ]
  },
  {
   "cell_type": "code",
   "execution_count": 46,
   "metadata": {},
   "outputs": [],
   "source": [
    "re=reco.to_frame().reset_index()"
   ]
  },
  {
   "cell_type": "code",
   "execution_count": 47,
   "metadata": {},
   "outputs": [
    {
     "data": {
      "text/plain": [
       "<matplotlib.axes._subplots.AxesSubplot at 0x2b7a9183da0>"
      ]
     },
     "execution_count": 47,
     "metadata": {},
     "output_type": "execute_result"
    },
    {
     "data": {
      "image/png": "[encoded data removed]",
      "text/plain": [
       "<matplotlib.figure.Figure at 0x2b7a8ddb4a8>"
      ]
     },
     "metadata": {},
     "output_type": "display_data"
    }
   ],
   "source": [
    "re.boxplot(column = 'action')"
   ]
  },
  {
   "cell_type": "code",
   "execution_count": 48,
   "metadata": {},
   "outputs": [],
   "source": [
    "a_re=np.mean(re.action)"
   ]
  },
  {
   "cell_type": "code",
   "execution_count": 49,
   "metadata": {},
   "outputs": [
    {
     "data": {
      "text/plain": [
       "count    1665.000000\n",
       "mean        1.096096\n",
       "std         0.372286\n",
       "min         1.000000\n",
       "25%         1.000000\n",
       "50%         1.000000\n",
       "75%         1.000000\n",
       "max         6.000000\n",
       "Name: action, dtype: float64"
      ]
     },
     "execution_count": 49,
     "metadata": {},
     "output_type": "execute_result"
    }
   ],
   "source": [
    "re.action.describe()"
   ]
  },
  {
   "cell_type": "code",
   "execution_count": 50,
   "metadata": {},
   "outputs": [],
   "source": [
    "##################################################### review visible"
   ]
  },
  {
   "cell_type": "code",
   "execution_count": 51,
   "metadata": {},
   "outputs": [],
   "source": [
    "visi = df[df.action == 'review visible']"
   ]
  },
  {
   "cell_type": "code",
   "execution_count": 52,
   "metadata": {},
   "outputs": [],
   "source": [
    "visi = visi .groupby(['date','visitorid','product'])['action'].count()"
   ]
  },
  {
   "cell_type": "code",
   "execution_count": 53,
   "metadata": {},
   "outputs": [],
   "source": [
    "per_v = len(visi)/len(cart)"
   ]
  },
  {
   "cell_type": "code",
   "execution_count": 54,
   "metadata": {},
   "outputs": [],
   "source": [
    "v=visi.to_frame().reset_index()"
   ]
  },
  {
   "cell_type": "code",
   "execution_count": 55,
   "metadata": {},
   "outputs": [
    {
     "data": {
      "text/plain": [
       "<matplotlib.axes._subplots.AxesSubplot at 0x2b7a6c84780>"
      ]
     },
     "execution_count": 55,
     "metadata": {},
     "output_type": "execute_result"
    },
    {
     "data": {
      "image/png": "[encoded data removed]",
      "text/plain": [
       "<matplotlib.figure.Figure at 0x2b7a7111710>"
      ]
     },
     "metadata": {},
     "output_type": "display_data"
    }
   ],
   "source": [
    "v.boxplot(column = 'action')"
   ]
  },
  {
   "cell_type": "code",
   "execution_count": 56,
   "metadata": {},
   "outputs": [],
   "source": [
    "a_v=np.mean(v.action)"
   ]
  },
  {
   "cell_type": "code",
   "execution_count": 57,
   "metadata": {},
   "outputs": [
    {
     "data": {
      "text/plain": [
       "count    568.000000\n",
       "mean       4.987676\n",
       "std        5.708824\n",
       "min        1.000000\n",
       "25%        1.000000\n",
       "50%        3.000000\n",
       "75%        6.000000\n",
       "max       34.000000\n",
       "Name: action, dtype: float64"
      ]
     },
     "execution_count": 57,
     "metadata": {},
     "output_type": "execute_result"
    }
   ],
   "source": [
    "v.action.describe()"
   ]
  },
  {
   "cell_type": "code",
   "execution_count": 58,
   "metadata": {},
   "outputs": [],
   "source": [
    "##################################################### breadcrumbs"
   ]
  },
  {
   "cell_type": "code",
   "execution_count": 59,
   "metadata": {},
   "outputs": [],
   "source": [
    "breadcrumbs = df[df.action == 'breadcrumbs']"
   ]
  },
  {
   "cell_type": "code",
   "execution_count": 60,
   "metadata": {},
   "outputs": [],
   "source": [
    "breadcrumbs = breadcrumbs .groupby(['date','visitorid','product'])['action'].count()"
   ]
  },
  {
   "cell_type": "code",
   "execution_count": 139,
   "metadata": {},
   "outputs": [],
   "source": [
    "per_b = len(breadcrumbs)/len(cart)"
   ]
  },
  {
   "cell_type": "code",
   "execution_count": 140,
   "metadata": {},
   "outputs": [
    {
     "data": {
      "text/plain": [
       "0.04033310826018456"
      ]
     },
     "execution_count": 140,
     "metadata": {},
     "output_type": "execute_result"
    }
   ],
   "source": [
    "per_b"
   ]
  },
  {
   "cell_type": "code",
   "execution_count": 62,
   "metadata": {},
   "outputs": [],
   "source": [
    "b=breadcrumbs.to_frame().reset_index()"
   ]
  },
  {
   "cell_type": "code",
   "execution_count": 63,
   "metadata": {},
   "outputs": [
    {
     "data": {
      "text/plain": [
       "<matplotlib.axes._subplots.AxesSubplot at 0x2b7a6d8c630>"
      ]
     },
     "execution_count": 63,
     "metadata": {},
     "output_type": "execute_result"
    },
    {
     "data": {
      "image/png": "[encoded data removed]",
      "text/plain": [
       "<matplotlib.figure.Figure at 0x2b7a9451da0>"
      ]
     },
     "metadata": {},
     "output_type": "display_data"
    }
   ],
   "source": [
    "b.boxplot(column = 'action')"
   ]
  },
  {
   "cell_type": "code",
   "execution_count": 64,
   "metadata": {},
   "outputs": [],
   "source": [
    "a_b=np.mean(b.action)"
   ]
  },
  {
   "cell_type": "code",
   "execution_count": 65,
   "metadata": {},
   "outputs": [
    {
     "data": {
      "text/plain": [
       "count    597.000000\n",
       "mean       1.112228\n",
       "std        0.365181\n",
       "min        1.000000\n",
       "25%        1.000000\n",
       "50%        1.000000\n",
       "75%        1.000000\n",
       "max        4.000000\n",
       "Name: action, dtype: float64"
      ]
     },
     "execution_count": 65,
     "metadata": {},
     "output_type": "execute_result"
    }
   ],
   "source": [
    "b.action.describe()"
   ]
  },
  {
   "cell_type": "code",
   "execution_count": 66,
   "metadata": {},
   "outputs": [],
   "source": [
    "##################################################### truck fit"
   ]
  },
  {
   "cell_type": "code",
   "execution_count": 67,
   "metadata": {},
   "outputs": [],
   "source": [
    "truck = df[df.action == 'truck fit']"
   ]
  },
  {
   "cell_type": "code",
   "execution_count": 68,
   "metadata": {},
   "outputs": [],
   "source": [
    "truck = truck.groupby(['date','visitorid','product'])['action'].count()"
   ]
  },
  {
   "cell_type": "code",
   "execution_count": 69,
   "metadata": {},
   "outputs": [],
   "source": [
    "per_t = len(truck)/len(cart)"
   ]
  },
  {
   "cell_type": "code",
   "execution_count": 70,
   "metadata": {},
   "outputs": [],
   "source": [
    "t=truck.to_frame().reset_index()"
   ]
  },
  {
   "cell_type": "code",
   "execution_count": 71,
   "metadata": {},
   "outputs": [
    {
     "data": {
      "text/plain": [
       "<matplotlib.axes._subplots.AxesSubplot at 0x2b7a6f82c18>"
      ]
     },
     "execution_count": 71,
     "metadata": {},
     "output_type": "execute_result"
    },
    {
     "data": {
      "image/png": "[encoded data removed]",
      "text/plain": [
       "<matplotlib.figure.Figure at 0x2b7a6f60e48>"
      ]
     },
     "metadata": {},
     "output_type": "display_data"
    }
   ],
   "source": [
    "t.boxplot(column = 'action')"
   ]
  },
  {
   "cell_type": "code",
   "execution_count": 72,
   "metadata": {},
   "outputs": [],
   "source": [
    "a_t=np.mean(t.action)"
   ]
  },
  {
   "cell_type": "code",
   "execution_count": 73,
   "metadata": {},
   "outputs": [
    {
     "data": {
      "text/plain": [
       "count    1836.000000\n",
       "mean        3.608932\n",
       "std         2.449625\n",
       "min         1.000000\n",
       "25%         1.000000\n",
       "50%         3.000000\n",
       "75%         5.000000\n",
       "max        26.000000\n",
       "Name: action, dtype: float64"
      ]
     },
     "execution_count": 73,
     "metadata": {},
     "output_type": "execute_result"
    }
   ],
   "source": [
    "t.action.describe()"
   ]
  },
  {
   "cell_type": "code",
   "execution_count": 74,
   "metadata": {},
   "outputs": [],
   "source": [
    "#####plot######"
   ]
  },
  {
   "cell_type": "code",
   "execution_count": 75,
   "metadata": {},
   "outputs": [],
   "source": [
    "data = [per_p, per_c, per_r, per_f, per_re, per_v, per_b, per_t]"
   ]
  },
  {
   "cell_type": "code",
   "execution_count": 76,
   "metadata": {},
   "outputs": [
    {
     "data": {
      "text/plain": [
       "[0.46563133018230923,\n",
       " 0.6574836821967139,\n",
       " 0.04145847400405132,\n",
       " 0.19977492685122664,\n",
       " 0.074949358541526,\n",
       " 0.025568309700652714,\n",
       " 0.02687373396353815,\n",
       " 0.08264686022957461]"
      ]
     },
     "execution_count": 76,
     "metadata": {},
     "output_type": "execute_result"
    }
   ],
   "source": [
    "data"
   ]
  },
  {
   "cell_type": "code",
   "execution_count": 77,
   "metadata": {},
   "outputs": [
    {
     "data": {
      "image/png": "[encoded data removed]",
      "text/plain": [
       "<matplotlib.figure.Figure at 0x2b7a712e048>"
      ]
     },
     "metadata": {},
     "output_type": "display_data"
    }
   ],
   "source": [
    "bars = ('photo interaction', 'product color view', 'read and write reviews', 'product features', 'recommendation strand','review visible',  'breadcrumbs', 'truck fit')\n",
    "plt.figure(figsize=(16,8))\n",
    "plt.bar(range(len(data)), height = data)\n",
    "plt.xticks(range(len(data)), bars)\n",
    "#plt.title(\"Percentage of \")\n",
    "plt.show()"
   ]
  },
  {
   "cell_type": "code",
   "execution_count": 78,
   "metadata": {},
   "outputs": [],
   "source": [
    "################################################################################################################################\n",
    "##########################################    not  add to cart actions I    ####################################################\n",
    "################################################################################################################################"
   ]
  },
  {
   "cell_type": "code",
   "execution_count": 79,
   "metadata": {},
   "outputs": [],
   "source": [
    "df1 = df1.rename(columns={'A_a_date': 'date', 'A_a_eventAction': 'action','a_a_eventLabel': 'label', 'A_a_visitorId': 'visitorid' })"
   ]
  },
  {
   "cell_type": "code",
   "execution_count": 80,
   "metadata": {
    "scrolled": false
   },
   "outputs": [
    {
     "data": {
      "text/html": [
       "<div>\n",
       "<style scoped>\n",
       "    .dataframe tbody tr th:only-of-type {\n",
       "        vertical-align: middle;\n",
       "    }\n",
       "\n",
       "    .dataframe tbody tr th {\n",
       "        vertical-align: top;\n",
       "    }\n",
       "\n",
       "    .dataframe thead th {\n",
       "        text-align: right;\n",
       "    }\n",
       "</style>\n",
       "<table border=\"1\" class=\"dataframe\">\n",
       "  <thead>\n",
       "    <tr style=\"text-align: right;\">\n",
       "      <th></th>\n",
       "      <th>date</th>\n",
       "      <th>action</th>\n",
       "      <th>label</th>\n",
       "      <th>visitorid</th>\n",
       "      <th>search_product</th>\n",
       "      <th>b_date</th>\n",
       "      <th>add_to_cart_product</th>\n",
       "    </tr>\n",
       "  </thead>\n",
       "  <tbody>\n",
       "    <tr>\n",
       "      <th>0</th>\n",
       "      <td>2018-03-11</td>\n",
       "      <td>truck fit</td>\n",
       "      <td>shop this 8</td>\n",
       "      <td>5965930358458633991</td>\n",
       "      <td>hopper two 20</td>\n",
       "      <td>2018-03-11</td>\n",
       "      <td>hopper flip 8</td>\n",
       "    </tr>\n",
       "    <tr>\n",
       "      <th>1</th>\n",
       "      <td>2018-03-15</td>\n",
       "      <td>truck fit</td>\n",
       "      <td>shop this 18</td>\n",
       "      <td>213676780529611006</td>\n",
       "      <td>hopper two 20</td>\n",
       "      <td>2018-03-15</td>\n",
       "      <td>hopper flip 8</td>\n",
       "    </tr>\n",
       "    <tr>\n",
       "      <th>2</th>\n",
       "      <td>2018-03-18</td>\n",
       "      <td>truck fit</td>\n",
       "      <td>shop this 8</td>\n",
       "      <td>1889002368639206396</td>\n",
       "      <td>hopper two 20</td>\n",
       "      <td>2018-03-18</td>\n",
       "      <td>hopper flip 8</td>\n",
       "    </tr>\n",
       "    <tr>\n",
       "      <th>3</th>\n",
       "      <td>2018-03-18</td>\n",
       "      <td>truck fit</td>\n",
       "      <td>shop this 8</td>\n",
       "      <td>7529278349447157450</td>\n",
       "      <td>hopper two 20</td>\n",
       "      <td>2018-03-18</td>\n",
       "      <td>hopper flip 8</td>\n",
       "    </tr>\n",
       "    <tr>\n",
       "      <th>4</th>\n",
       "      <td>2018-03-18</td>\n",
       "      <td>truck fit</td>\n",
       "      <td>shop this 20</td>\n",
       "      <td>7529278349447157450</td>\n",
       "      <td>hopper two 20</td>\n",
       "      <td>2018-03-18</td>\n",
       "      <td>hopper flip 8</td>\n",
       "    </tr>\n",
       "    <tr>\n",
       "      <th>5</th>\n",
       "      <td>2018-03-20</td>\n",
       "      <td>truck fit</td>\n",
       "      <td>shop this 30</td>\n",
       "      <td>8364273601585525055</td>\n",
       "      <td>hopper two 20</td>\n",
       "      <td>2018-03-20</td>\n",
       "      <td>hopper flip 8</td>\n",
       "    </tr>\n",
       "    <tr>\n",
       "      <th>6</th>\n",
       "      <td>2018-03-31</td>\n",
       "      <td>truck fit</td>\n",
       "      <td>shop this 8</td>\n",
       "      <td>8458050450103486516</td>\n",
       "      <td>hopper two 20</td>\n",
       "      <td>2018-03-31</td>\n",
       "      <td>hopper flip 8</td>\n",
       "    </tr>\n",
       "    <tr>\n",
       "      <th>7</th>\n",
       "      <td>2018-04-14</td>\n",
       "      <td>truck fit</td>\n",
       "      <td>shop this 8</td>\n",
       "      <td>6363240074864376180</td>\n",
       "      <td>hopper two 20</td>\n",
       "      <td>2018-04-14</td>\n",
       "      <td>hopper flip 8</td>\n",
       "    </tr>\n",
       "    <tr>\n",
       "      <th>8</th>\n",
       "      <td>2018-04-22</td>\n",
       "      <td>truck fit</td>\n",
       "      <td>shop this 18</td>\n",
       "      <td>1899685047524752695</td>\n",
       "      <td>hopper two 20</td>\n",
       "      <td>2018-04-22</td>\n",
       "      <td>hopper flip 8</td>\n",
       "    </tr>\n",
       "    <tr>\n",
       "      <th>9</th>\n",
       "      <td>2018-04-22</td>\n",
       "      <td>truck fit</td>\n",
       "      <td>shop this 18</td>\n",
       "      <td>1899685047524752695</td>\n",
       "      <td>hopper two 20</td>\n",
       "      <td>2018-04-22</td>\n",
       "      <td>hopper flip 8</td>\n",
       "    </tr>\n",
       "    <tr>\n",
       "      <th>10</th>\n",
       "      <td>2018-04-24</td>\n",
       "      <td>truck fit</td>\n",
       "      <td>shop this 8</td>\n",
       "      <td>9014411816318199956</td>\n",
       "      <td>hopper two 20</td>\n",
       "      <td>2018-04-24</td>\n",
       "      <td>hopper flip 8</td>\n",
       "    </tr>\n",
       "    <tr>\n",
       "      <th>11</th>\n",
       "      <td>2018-04-24</td>\n",
       "      <td>truck fit</td>\n",
       "      <td>shop this 8</td>\n",
       "      <td>2074039429590114700</td>\n",
       "      <td>hopper two 20</td>\n",
       "      <td>2018-04-24</td>\n",
       "      <td>hopper flip 8</td>\n",
       "    </tr>\n",
       "    <tr>\n",
       "      <th>12</th>\n",
       "      <td>2018-04-27</td>\n",
       "      <td>truck fit</td>\n",
       "      <td>shop this 12</td>\n",
       "      <td>7698628394547569086</td>\n",
       "      <td>hopper two 20</td>\n",
       "      <td>2018-04-27</td>\n",
       "      <td>hopper flip 8</td>\n",
       "    </tr>\n",
       "    <tr>\n",
       "      <th>13</th>\n",
       "      <td>2018-05-05</td>\n",
       "      <td>truck fit</td>\n",
       "      <td>shop this 12</td>\n",
       "      <td>576170603018298481</td>\n",
       "      <td>hopper two 20</td>\n",
       "      <td>2018-05-05</td>\n",
       "      <td>hopper flip 8</td>\n",
       "    </tr>\n",
       "    <tr>\n",
       "      <th>14</th>\n",
       "      <td>2018-05-07</td>\n",
       "      <td>truck fit</td>\n",
       "      <td>shop this 12</td>\n",
       "      <td>2328577741515335636</td>\n",
       "      <td>hopper two 20</td>\n",
       "      <td>2018-05-07</td>\n",
       "      <td>hopper flip 8</td>\n",
       "    </tr>\n",
       "    <tr>\n",
       "      <th>15</th>\n",
       "      <td>2018-05-07</td>\n",
       "      <td>truck fit</td>\n",
       "      <td>shop this 8</td>\n",
       "      <td>5426662923431884000</td>\n",
       "      <td>hopper two 20</td>\n",
       "      <td>2018-05-07</td>\n",
       "      <td>hopper flip 8</td>\n",
       "    </tr>\n",
       "    <tr>\n",
       "      <th>16</th>\n",
       "      <td>2018-05-15</td>\n",
       "      <td>truck fit</td>\n",
       "      <td>shop this 8</td>\n",
       "      <td>4733425708317765075</td>\n",
       "      <td>hopper two 20</td>\n",
       "      <td>2018-05-15</td>\n",
       "      <td>hopper flip 8</td>\n",
       "    </tr>\n",
       "    <tr>\n",
       "      <th>17</th>\n",
       "      <td>2018-05-20</td>\n",
       "      <td>truck fit</td>\n",
       "      <td>shop this 8</td>\n",
       "      <td>197451476463906610</td>\n",
       "      <td>hopper two 20</td>\n",
       "      <td>2018-05-20</td>\n",
       "      <td>hopper flip 8</td>\n",
       "    </tr>\n",
       "    <tr>\n",
       "      <th>18</th>\n",
       "      <td>2018-05-21</td>\n",
       "      <td>truck fit</td>\n",
       "      <td>shop this 40</td>\n",
       "      <td>2192192373587652077</td>\n",
       "      <td>hopper two 20</td>\n",
       "      <td>2018-05-21</td>\n",
       "      <td>hopper flip 8</td>\n",
       "    </tr>\n",
       "    <tr>\n",
       "      <th>19</th>\n",
       "      <td>2018-05-24</td>\n",
       "      <td>truck fit</td>\n",
       "      <td>shop this 8</td>\n",
       "      <td>4592434842662522795</td>\n",
       "      <td>hopper two 20</td>\n",
       "      <td>2018-05-24</td>\n",
       "      <td>hopper flip 8</td>\n",
       "    </tr>\n",
       "  </tbody>\n",
       "</table>\n",
       "</div>"
      ],
      "text/plain": [
       "          date     action         label            visitorid search_product  \\\n",
       "0   2018-03-11  truck fit   shop this 8  5965930358458633991  hopper two 20   \n",
       "1   2018-03-15  truck fit  shop this 18   213676780529611006  hopper two 20   \n",
       "2   2018-03-18  truck fit   shop this 8  1889002368639206396  hopper two 20   \n",
       "3   2018-03-18  truck fit   shop this 8  7529278349447157450  hopper two 20   \n",
       "4   2018-03-18  truck fit  shop this 20  7529278349447157450  hopper two 20   \n",
       "5   2018-03-20  truck fit  shop this 30  8364273601585525055  hopper two 20   \n",
       "6   2018-03-31  truck fit   shop this 8  8458050450103486516  hopper two 20   \n",
       "7   2018-04-14  truck fit   shop this 8  6363240074864376180  hopper two 20   \n",
       "8   2018-04-22  truck fit  shop this 18  1899685047524752695  hopper two 20   \n",
       "9   2018-04-22  truck fit  shop this 18  1899685047524752695  hopper two 20   \n",
       "10  2018-04-24  truck fit   shop this 8  9014411816318199956  hopper two 20   \n",
       "11  2018-04-24  truck fit   shop this 8  2074039429590114700  hopper two 20   \n",
       "12  2018-04-27  truck fit  shop this 12  7698628394547569086  hopper two 20   \n",
       "13  2018-05-05  truck fit  shop this 12   576170603018298481  hopper two 20   \n",
       "14  2018-05-07  truck fit  shop this 12  2328577741515335636  hopper two 20   \n",
       "15  2018-05-07  truck fit   shop this 8  5426662923431884000  hopper two 20   \n",
       "16  2018-05-15  truck fit   shop this 8  4733425708317765075  hopper two 20   \n",
       "17  2018-05-20  truck fit   shop this 8   197451476463906610  hopper two 20   \n",
       "18  2018-05-21  truck fit  shop this 40  2192192373587652077  hopper two 20   \n",
       "19  2018-05-24  truck fit   shop this 8  4592434842662522795  hopper two 20   \n",
       "\n",
       "        b_date add_to_cart_product  \n",
       "0   2018-03-11       hopper flip 8  \n",
       "1   2018-03-15       hopper flip 8  \n",
       "2   2018-03-18       hopper flip 8  \n",
       "3   2018-03-18       hopper flip 8  \n",
       "4   2018-03-18       hopper flip 8  \n",
       "5   2018-03-20       hopper flip 8  \n",
       "6   2018-03-31       hopper flip 8  \n",
       "7   2018-04-14       hopper flip 8  \n",
       "8   2018-04-22       hopper flip 8  \n",
       "9   2018-04-22       hopper flip 8  \n",
       "10  2018-04-24       hopper flip 8  \n",
       "11  2018-04-24       hopper flip 8  \n",
       "12  2018-04-27       hopper flip 8  \n",
       "13  2018-05-05       hopper flip 8  \n",
       "14  2018-05-07       hopper flip 8  \n",
       "15  2018-05-07       hopper flip 8  \n",
       "16  2018-05-15       hopper flip 8  \n",
       "17  2018-05-20       hopper flip 8  \n",
       "18  2018-05-21       hopper flip 8  \n",
       "19  2018-05-24       hopper flip 8  "
      ]
     },
     "execution_count": 80,
     "metadata": {},
     "output_type": "execute_result"
    }
   ],
   "source": [
    "df1.head(20)"
   ]
  },
  {
   "cell_type": "code",
   "execution_count": 81,
   "metadata": {},
   "outputs": [],
   "source": [
    "# when customer add a soft cooler into cart, how many other similar coolers they will search and compare?"
   ]
  },
  {
   "cell_type": "code",
   "execution_count": 82,
   "metadata": {},
   "outputs": [],
   "source": [
    "test = df1.drop_duplicates(subset=['date','visitorid','add_to_cart_product','search_product'])"
   ]
  },
  {
   "cell_type": "code",
   "execution_count": 83,
   "metadata": {},
   "outputs": [],
   "source": [
    "other_product = test.groupby(['date','visitorid','add_to_cart_product'])['search_product'].count().to_frame().reset_index()"
   ]
  },
  {
   "cell_type": "code",
   "execution_count": 84,
   "metadata": {},
   "outputs": [
    {
     "data": {
      "text/html": [
       "<div>\n",
       "<style scoped>\n",
       "    .dataframe tbody tr th:only-of-type {\n",
       "        vertical-align: middle;\n",
       "    }\n",
       "\n",
       "    .dataframe tbody tr th {\n",
       "        vertical-align: top;\n",
       "    }\n",
       "\n",
       "    .dataframe thead th {\n",
       "        text-align: right;\n",
       "    }\n",
       "</style>\n",
       "<table border=\"1\" class=\"dataframe\">\n",
       "  <thead>\n",
       "    <tr style=\"text-align: right;\">\n",
       "      <th></th>\n",
       "      <th>date</th>\n",
       "      <th>visitorid</th>\n",
       "      <th>add_to_cart_product</th>\n",
       "      <th>search_product</th>\n",
       "    </tr>\n",
       "  </thead>\n",
       "  <tbody>\n",
       "    <tr>\n",
       "      <th>0</th>\n",
       "      <td>2018-01-01</td>\n",
       "      <td>1049436416608205164</td>\n",
       "      <td>hopper two 40</td>\n",
       "      <td>1</td>\n",
       "    </tr>\n",
       "    <tr>\n",
       "      <th>1</th>\n",
       "      <td>2018-01-01</td>\n",
       "      <td>125967256252989087</td>\n",
       "      <td>hopper two 30</td>\n",
       "      <td>1</td>\n",
       "    </tr>\n",
       "    <tr>\n",
       "      <th>2</th>\n",
       "      <td>2018-01-01</td>\n",
       "      <td>1538692298962036726</td>\n",
       "      <td>hopper flip 18</td>\n",
       "      <td>1</td>\n",
       "    </tr>\n",
       "    <tr>\n",
       "      <th>3</th>\n",
       "      <td>2018-01-01</td>\n",
       "      <td>2235871632630161287</td>\n",
       "      <td>hopper flip 18</td>\n",
       "      <td>1</td>\n",
       "    </tr>\n",
       "    <tr>\n",
       "      <th>4</th>\n",
       "      <td>2018-01-01</td>\n",
       "      <td>2459663892881937607</td>\n",
       "      <td>hopper two 40</td>\n",
       "      <td>1</td>\n",
       "    </tr>\n",
       "  </tbody>\n",
       "</table>\n",
       "</div>"
      ],
      "text/plain": [
       "         date            visitorid add_to_cart_product  search_product\n",
       "0  2018-01-01  1049436416608205164       hopper two 40               1\n",
       "1  2018-01-01   125967256252989087       hopper two 30               1\n",
       "2  2018-01-01  1538692298962036726      hopper flip 18               1\n",
       "3  2018-01-01  2235871632630161287      hopper flip 18               1\n",
       "4  2018-01-01  2459663892881937607       hopper two 40               1"
      ]
     },
     "execution_count": 84,
     "metadata": {},
     "output_type": "execute_result"
    }
   ],
   "source": [
    "other_product.head()"
   ]
  },
  {
   "cell_type": "code",
   "execution_count": 85,
   "metadata": {},
   "outputs": [
    {
     "data": {
      "text/plain": [
       "<matplotlib.axes._subplots.AxesSubplot at 0x2b7a71ede48>"
      ]
     },
     "execution_count": 85,
     "metadata": {},
     "output_type": "execute_result"
    },
    {
     "data": {
      "image/png": "[encoded data removed]",
      "text/plain": [
       "<matplotlib.figure.Figure at 0x2b7a720b9b0>"
      ]
     },
     "metadata": {},
     "output_type": "display_data"
    }
   ],
   "source": [
    "sns.distplot(other_product.search_product)"
   ]
  },
  {
   "cell_type": "code",
   "execution_count": 86,
   "metadata": {},
   "outputs": [
    {
     "data": {
      "text/plain": [
       "count    12214.000000\n",
       "mean         1.367857\n",
       "std          0.680417\n",
       "min          1.000000\n",
       "25%          1.000000\n",
       "50%          1.000000\n",
       "75%          2.000000\n",
       "max          6.000000\n",
       "Name: search_product, dtype: float64"
      ]
     },
     "execution_count": 86,
     "metadata": {},
     "output_type": "execute_result"
    }
   ],
   "source": [
    "other_product.search_product.describe()"
   ]
  },
  {
   "cell_type": "code",
   "execution_count": 87,
   "metadata": {},
   "outputs": [],
   "source": [
    "##################################################### photo interaction\n",
    "photo = df1[df1.action == 'photo interaction']\n",
    "photo = photo.groupby(['date','visitorid','search_product'])['add_to_cart_product'].count()"
   ]
  },
  {
   "cell_type": "code",
   "execution_count": 88,
   "metadata": {},
   "outputs": [],
   "source": [
    "p=photo.to_frame().reset_index().add_to_cart_product"
   ]
  },
  {
   "cell_type": "code",
   "execution_count": 89,
   "metadata": {},
   "outputs": [
    {
     "data": {
      "text/plain": [
       "count    8401.000000\n",
       "mean        1.917986\n",
       "std         1.301487\n",
       "min         1.000000\n",
       "25%         1.000000\n",
       "50%         2.000000\n",
       "75%         2.000000\n",
       "max        24.000000\n",
       "Name: add_to_cart_product, dtype: float64"
      ]
     },
     "execution_count": 89,
     "metadata": {},
     "output_type": "execute_result"
    }
   ],
   "source": [
    "p.describe()"
   ]
  },
  {
   "cell_type": "code",
   "execution_count": 90,
   "metadata": {},
   "outputs": [],
   "source": [
    "n_p=np.mean(p)"
   ]
  },
  {
   "cell_type": "code",
   "execution_count": 91,
   "metadata": {},
   "outputs": [],
   "source": [
    "##################################################### read and write reviews"
   ]
  },
  {
   "cell_type": "code",
   "execution_count": 92,
   "metadata": {},
   "outputs": [],
   "source": [
    "review = df1[df1.action == 'read and write reviews']\n",
    "review = review.groupby(['date','visitorid','search_product'])['add_to_cart_product'].count()"
   ]
  },
  {
   "cell_type": "code",
   "execution_count": 93,
   "metadata": {},
   "outputs": [],
   "source": [
    "r=review.to_frame().reset_index().add_to_cart_product"
   ]
  },
  {
   "cell_type": "code",
   "execution_count": 94,
   "metadata": {},
   "outputs": [
    {
     "data": {
      "text/plain": [
       "count    455.000000\n",
       "mean       1.402198\n",
       "std        0.801153\n",
       "min        1.000000\n",
       "25%        1.000000\n",
       "50%        1.000000\n",
       "75%        2.000000\n",
       "max        6.000000\n",
       "Name: add_to_cart_product, dtype: float64"
      ]
     },
     "execution_count": 94,
     "metadata": {},
     "output_type": "execute_result"
    }
   ],
   "source": [
    "r.describe()"
   ]
  },
  {
   "cell_type": "code",
   "execution_count": 95,
   "metadata": {},
   "outputs": [],
   "source": [
    "n_r=np.mean(r)"
   ]
  },
  {
   "cell_type": "code",
   "execution_count": 96,
   "metadata": {},
   "outputs": [],
   "source": [
    "##################################################### product features"
   ]
  },
  {
   "cell_type": "code",
   "execution_count": 97,
   "metadata": {},
   "outputs": [],
   "source": [
    "feature = df1[df1.action == 'product features']\n",
    "feature = feature.groupby(['date','visitorid','search_product'])['add_to_cart_product'].count()"
   ]
  },
  {
   "cell_type": "code",
   "execution_count": 98,
   "metadata": {},
   "outputs": [],
   "source": [
    "f=feature.to_frame().reset_index().add_to_cart_product"
   ]
  },
  {
   "cell_type": "code",
   "execution_count": 99,
   "metadata": {},
   "outputs": [
    {
     "data": {
      "text/plain": [
       "count    3042.000000\n",
       "mean        1.523011\n",
       "std         0.943816\n",
       "min         1.000000\n",
       "25%         1.000000\n",
       "50%         1.000000\n",
       "75%         2.000000\n",
       "max        12.000000\n",
       "Name: add_to_cart_product, dtype: float64"
      ]
     },
     "execution_count": 99,
     "metadata": {},
     "output_type": "execute_result"
    }
   ],
   "source": [
    "f.describe()"
   ]
  },
  {
   "cell_type": "code",
   "execution_count": 100,
   "metadata": {},
   "outputs": [],
   "source": [
    "n_f=np.mean(f)"
   ]
  },
  {
   "cell_type": "code",
   "execution_count": 101,
   "metadata": {},
   "outputs": [],
   "source": [
    "##################################################### product color view"
   ]
  },
  {
   "cell_type": "code",
   "execution_count": 102,
   "metadata": {},
   "outputs": [],
   "source": [
    "color = df1[df1.action == 'product color view']\n",
    "color = color.groupby(['date','visitorid','search_product'])['add_to_cart_product'].count()"
   ]
  },
  {
   "cell_type": "code",
   "execution_count": 103,
   "metadata": {},
   "outputs": [],
   "source": [
    "c=color.to_frame().reset_index().add_to_cart_product"
   ]
  },
  {
   "cell_type": "code",
   "execution_count": 104,
   "metadata": {},
   "outputs": [
    {
     "data": {
      "text/plain": [
       "count    5887.000000\n",
       "mean        1.705453\n",
       "std         1.040078\n",
       "min         1.000000\n",
       "25%         1.000000\n",
       "50%         2.000000\n",
       "75%         2.000000\n",
       "max        12.000000\n",
       "Name: add_to_cart_product, dtype: float64"
      ]
     },
     "execution_count": 104,
     "metadata": {},
     "output_type": "execute_result"
    }
   ],
   "source": [
    "c.describe()"
   ]
  },
  {
   "cell_type": "code",
   "execution_count": 105,
   "metadata": {},
   "outputs": [],
   "source": [
    "n_c=np.mean(c)"
   ]
  },
  {
   "cell_type": "code",
   "execution_count": 106,
   "metadata": {},
   "outputs": [],
   "source": [
    "##################################################### recommendation strand"
   ]
  },
  {
   "cell_type": "code",
   "execution_count": 107,
   "metadata": {},
   "outputs": [],
   "source": [
    "reco = df1[df1.action == 'recommendation strand']\n",
    "reco = reco.groupby(['date','visitorid','search_product'])['add_to_cart_product'].count()"
   ]
  },
  {
   "cell_type": "code",
   "execution_count": 108,
   "metadata": {},
   "outputs": [],
   "source": [
    "re=reco.to_frame().reset_index().add_to_cart_product"
   ]
  },
  {
   "cell_type": "code",
   "execution_count": 109,
   "metadata": {},
   "outputs": [
    {
     "data": {
      "text/plain": [
       "count    682.000000\n",
       "mean       1.225806\n",
       "std        0.529907\n",
       "min        1.000000\n",
       "25%        1.000000\n",
       "50%        1.000000\n",
       "75%        1.000000\n",
       "max        4.000000\n",
       "Name: add_to_cart_product, dtype: float64"
      ]
     },
     "execution_count": 109,
     "metadata": {},
     "output_type": "execute_result"
    }
   ],
   "source": [
    "re.describe()"
   ]
  },
  {
   "cell_type": "code",
   "execution_count": 110,
   "metadata": {},
   "outputs": [],
   "source": [
    "n_re=np.mean(re)"
   ]
  },
  {
   "cell_type": "code",
   "execution_count": 111,
   "metadata": {},
   "outputs": [],
   "source": [
    "##################################################### review visible"
   ]
  },
  {
   "cell_type": "code",
   "execution_count": 112,
   "metadata": {},
   "outputs": [],
   "source": [
    "visi = df1[df1.action == 'review visible']\n",
    "visi = visi.groupby(['date','visitorid','search_product'])['add_to_cart_product'].count()"
   ]
  },
  {
   "cell_type": "code",
   "execution_count": 113,
   "metadata": {},
   "outputs": [],
   "source": [
    "v=visi.to_frame().reset_index().add_to_cart_product"
   ]
  },
  {
   "cell_type": "code",
   "execution_count": 114,
   "metadata": {},
   "outputs": [
    {
     "data": {
      "text/plain": [
       "count    314.000000\n",
       "mean       5.684713\n",
       "std        6.973200\n",
       "min        1.000000\n",
       "25%        2.000000\n",
       "50%        4.000000\n",
       "75%        6.750000\n",
       "max       48.000000\n",
       "Name: add_to_cart_product, dtype: float64"
      ]
     },
     "execution_count": 114,
     "metadata": {},
     "output_type": "execute_result"
    }
   ],
   "source": [
    "v.describe()"
   ]
  },
  {
   "cell_type": "code",
   "execution_count": 115,
   "metadata": {},
   "outputs": [],
   "source": [
    "n_v=np.mean(v)"
   ]
  },
  {
   "cell_type": "code",
   "execution_count": 116,
   "metadata": {},
   "outputs": [],
   "source": [
    "##################################################### breadcrumbs"
   ]
  },
  {
   "cell_type": "code",
   "execution_count": 117,
   "metadata": {},
   "outputs": [],
   "source": [
    "breadcrumbs = df1[df1.action == 'breadcrumbs']\n",
    "breadcrumbs = breadcrumbs.groupby(['date','visitorid','search_product'])['add_to_cart_product'].count()"
   ]
  },
  {
   "cell_type": "code",
   "execution_count": 118,
   "metadata": {},
   "outputs": [],
   "source": [
    "b=breadcrumbs.to_frame().reset_index().add_to_cart_product"
   ]
  },
  {
   "cell_type": "code",
   "execution_count": 119,
   "metadata": {},
   "outputs": [
    {
     "data": {
      "text/plain": [
       "count    896.000000\n",
       "mean       1.226562\n",
       "std        0.626249\n",
       "min        1.000000\n",
       "25%        1.000000\n",
       "50%        1.000000\n",
       "75%        1.000000\n",
       "max        8.000000\n",
       "Name: add_to_cart_product, dtype: float64"
      ]
     },
     "execution_count": 119,
     "metadata": {},
     "output_type": "execute_result"
    }
   ],
   "source": [
    "b.describe()"
   ]
  },
  {
   "cell_type": "code",
   "execution_count": 120,
   "metadata": {},
   "outputs": [],
   "source": [
    "n_b=np.mean(b)"
   ]
  },
  {
   "cell_type": "code",
   "execution_count": 121,
   "metadata": {},
   "outputs": [],
   "source": [
    "##################################################### truck fit"
   ]
  },
  {
   "cell_type": "code",
   "execution_count": 122,
   "metadata": {},
   "outputs": [],
   "source": [
    "truck = df1[df1.action == 'truck fit']\n",
    "truck = truck.groupby(['date','visitorid','search_product'])['add_to_cart_product'].count()"
   ]
  },
  {
   "cell_type": "code",
   "execution_count": 123,
   "metadata": {},
   "outputs": [],
   "source": [
    "t=truck.to_frame().reset_index().add_to_cart_product"
   ]
  },
  {
   "cell_type": "code",
   "execution_count": 124,
   "metadata": {},
   "outputs": [
    {
     "data": {
      "text/plain": [
       "count    1391.000000\n",
       "mean        3.902948\n",
       "std         3.061703\n",
       "min         1.000000\n",
       "25%         2.000000\n",
       "50%         3.000000\n",
       "75%         5.000000\n",
       "max        28.000000\n",
       "Name: add_to_cart_product, dtype: float64"
      ]
     },
     "execution_count": 124,
     "metadata": {},
     "output_type": "execute_result"
    }
   ],
   "source": [
    "t.describe()"
   ]
  },
  {
   "cell_type": "code",
   "execution_count": 125,
   "metadata": {},
   "outputs": [],
   "source": [
    "n_t=np.mean(t)"
   ]
  },
  {
   "cell_type": "code",
   "execution_count": 126,
   "metadata": {},
   "outputs": [],
   "source": [
    "times = [n_p,n_r,n_f,n_c,n_re,n_v,n_b,n_t]     #times of actions for not add_to_cart items"
   ]
  },
  {
   "cell_type": "code",
   "execution_count": 127,
   "metadata": {},
   "outputs": [
    {
     "data": {
      "text/plain": [
       "[1.917985954053089,\n",
       " 1.402197802197802,\n",
       " 1.5230111768573307,\n",
       " 1.7054526923730253,\n",
       " 1.2258064516129032,\n",
       " 5.6847133757961785,\n",
       " 1.2265625,\n",
       " 3.9029475197699495]"
      ]
     },
     "execution_count": 127,
     "metadata": {},
     "output_type": "execute_result"
    }
   ],
   "source": [
    "times"
   ]
  },
  {
   "cell_type": "code",
   "execution_count": 128,
   "metadata": {},
   "outputs": [],
   "source": [
    "times1 = [a_p,a_r,a_f,a_c,a_re,a_v,a_b,a_t]     #times of actions for add_to_cart items"
   ]
  },
  {
   "cell_type": "code",
   "execution_count": 129,
   "metadata": {},
   "outputs": [
    {
     "data": {
      "text/plain": [
       "[1.794953596287703,\n",
       " 1.213897937024973,\n",
       " 1.4745380802163137,\n",
       " 1.6330959879501574,\n",
       " 1.0960960960960962,\n",
       " 4.987676056338028,\n",
       " 1.1122278056951425,\n",
       " 3.6089324618736383]"
      ]
     },
     "execution_count": 129,
     "metadata": {},
     "output_type": "execute_result"
    }
   ],
   "source": [
    "times1"
   ]
  },
  {
   "cell_type": "code",
   "execution_count": 130,
   "metadata": {},
   "outputs": [
    {
     "data": {
      "image/png": "[encoded data removed]",
      "text/plain": [
       "<matplotlib.figure.Figure at 0x2b7a0aacef0>"
      ]
     },
     "metadata": {},
     "output_type": "display_data"
    }
   ],
   "source": [
    "bars = ('photo interaction',  'read and write reviews', 'product features','product color view', 'recommendation strand','review visible',  'breadcrumbs', 'truck fit')\n",
    "plt.figure(figsize=(16,8))\n",
    "a=plt.bar(range(len(times)),times, color = 'g', width = 0.25)\n",
    "b=plt.bar(range(len(times)),times1, color = 'r', width = 0.25)\n",
    "plt.xticks(range(len(data)), bars)\n",
    "plt.show()"
   ]
  },
  {
   "cell_type": "code",
   "execution_count": null,
   "metadata": {},
   "outputs": [],
   "source": []
  },
  {
   "cell_type": "code",
   "execution_count": 131,
   "metadata": {},
   "outputs": [],
   "source": [
    "################################################################################################################################\n",
    "################################################################################################################################"
   ]
  },
  {
   "cell_type": "code",
   "execution_count": 132,
   "metadata": {},
   "outputs": [
    {
     "data": {
      "text/plain": [
       "['flip 8 cooler',\n",
       " 'hopper flip 12',\n",
       " 'hopper two 20',\n",
       " 'backflip 24',\n",
       " 'flip 12 cooler',\n",
       " 'hopper two 30',\n",
       " 'hopper two 40',\n",
       " 'hopper backflip 24',\n",
       " 'flip 18 cooler',\n",
       " 'backflip 18',\n",
       " 'hopper flip 8',\n",
       " 'hopper flip 18']"
      ]
     },
     "execution_count": 132,
     "metadata": {},
     "output_type": "execute_result"
    }
   ],
   "source": [
    "list(set(df1.add_to_cart_product))"
   ]
  },
  {
   "cell_type": "code",
   "execution_count": 133,
   "metadata": {},
   "outputs": [],
   "source": [
    "df2=df1.drop_duplicates(subset=['date','visitorid','search_product', 'add_to_cart_product'])"
   ]
  },
  {
   "cell_type": "code",
   "execution_count": 134,
   "metadata": {},
   "outputs": [],
   "source": [
    "df2 = df2.groupby(['add_to_cart_product','search_product'])['date'].count().to_frame(name = 'times').reset_index()"
   ]
  },
  {
   "cell_type": "code",
   "execution_count": 135,
   "metadata": {},
   "outputs": [
    {
     "data": {
      "text/html": [
       "<div>\n",
       "<style scoped>\n",
       "    .dataframe tbody tr th:only-of-type {\n",
       "        vertical-align: middle;\n",
       "    }\n",
       "\n",
       "    .dataframe tbody tr th {\n",
       "        vertical-align: top;\n",
       "    }\n",
       "\n",
       "    .dataframe thead th {\n",
       "        text-align: right;\n",
       "    }\n",
       "</style>\n",
       "<table border=\"1\" class=\"dataframe\">\n",
       "  <thead>\n",
       "    <tr style=\"text-align: right;\">\n",
       "      <th></th>\n",
       "      <th>add_to_cart_product</th>\n",
       "      <th>search_product</th>\n",
       "      <th>times</th>\n",
       "    </tr>\n",
       "  </thead>\n",
       "  <tbody>\n",
       "    <tr>\n",
       "      <th>0</th>\n",
       "      <td>backflip 18</td>\n",
       "      <td>hopper two 30</td>\n",
       "      <td>1</td>\n",
       "    </tr>\n",
       "    <tr>\n",
       "      <th>1</th>\n",
       "      <td>backflip 24</td>\n",
       "      <td>hopper flip 12</td>\n",
       "      <td>2</td>\n",
       "    </tr>\n",
       "    <tr>\n",
       "      <th>2</th>\n",
       "      <td>backflip 24</td>\n",
       "      <td>hopper flip 18</td>\n",
       "      <td>4</td>\n",
       "    </tr>\n",
       "    <tr>\n",
       "      <th>3</th>\n",
       "      <td>backflip 24</td>\n",
       "      <td>hopper flip 8</td>\n",
       "      <td>2</td>\n",
       "    </tr>\n",
       "    <tr>\n",
       "      <th>4</th>\n",
       "      <td>backflip 24</td>\n",
       "      <td>hopper two 30</td>\n",
       "      <td>2</td>\n",
       "    </tr>\n",
       "  </tbody>\n",
       "</table>\n",
       "</div>"
      ],
      "text/plain": [
       "  add_to_cart_product  search_product  times\n",
       "0         backflip 18   hopper two 30      1\n",
       "1         backflip 24  hopper flip 12      2\n",
       "2         backflip 24  hopper flip 18      4\n",
       "3         backflip 24   hopper flip 8      2\n",
       "4         backflip 24   hopper two 30      2"
      ]
     },
     "execution_count": 135,
     "metadata": {},
     "output_type": "execute_result"
    }
   ],
   "source": [
    "df2.head()"
   ]
  },
  {
   "cell_type": "code",
   "execution_count": 136,
   "metadata": {},
   "outputs": [],
   "source": [
    "df2 = df2.sort_values(['add_to_cart_product','times'], ascending=False).reset_index()"
   ]
  },
  {
   "cell_type": "code",
   "execution_count": 143,
   "metadata": {},
   "outputs": [
    {
     "data": {
      "text/plain": [
       "Text(0.5,1,'hopper backflip 24')"
      ]
     },
     "execution_count": 143,
     "metadata": {},
     "output_type": "execute_result"
    },
    {
     "data": {
      "image/png": "[encoded data removed]",
      "text/plain": [
       "<matplotlib.figure.Figure at 0x2b7a0d69860>"
      ]
     },
     "metadata": {},
     "output_type": "display_data"
    }
   ],
   "source": [
    "fig, axes = plt.subplots(nrows=4, ncols=2, figsize=(12,30))\n",
    "p1 = df2[['search_product', 'times']][:5]\n",
    "p2 = df2[['search_product', 'times']][5:10]\n",
    "p3 = df2[['search_product', 'times']][10:15]\n",
    "p4 = df2[['search_product', 'times']][15:20]\n",
    "p5 = df2[['search_product', 'times']][20:25]\n",
    "p6 = df2[['search_product', 'times']][25:30]\n",
    "p7 = df2[['search_product', 'times']][30:36]\n",
    "\n",
    "p1.plot(ax=axes[0,0], kind='bar').set_xticklabels(p1.search_product)\n",
    "p2.plot(ax=axes[0,1], kind='bar').set_xticklabels(p2.search_product)\n",
    "p3.plot(ax=axes[1,0], kind='bar').set_xticklabels(p3.search_product)\n",
    "p4.plot(ax=axes[1,1], kind='bar').set_xticklabels(p4.search_product)\n",
    "p5.plot(ax=axes[2,0], kind='bar').set_xticklabels(p5.search_product)\n",
    "p6.plot(ax=axes[2,1], kind='bar').set_xticklabels(p6.search_product)\n",
    "p7.plot(ax=axes[3,0], kind='bar').set_xticklabels(p7.search_product)\n",
    "axes[0,0].set_title('hopper two 40')\n",
    "axes[0,1].set_title('hopper two 30')\n",
    "axes[1,0].set_title('hopper two 20')\n",
    "axes[1,1].set_title('hopper flip 8')\n",
    "axes[2,0].set_title('hopper flip 18')\n",
    "axes[2,1].set_title('hopper flip 12')\n",
    "axes[3,0].set_title('hopper backflip 24')\n"
   ]
  },
  {
   "cell_type": "code",
   "execution_count": null,
   "metadata": {},
   "outputs": [],
   "source": []
  },
  {
   "cell_type": "code",
   "execution_count": null,
   "metadata": {},
   "outputs": [],
   "source": []
  }
 ],
 "metadata": {
  "kernelspec": {
   "display_name": "Python 3",
   "language": "python",
   "name": "python3"
  },
  "language_info": {
   "codemirror_mode": {
    "name": "ipython",
    "version": 3
   },
   "file_extension": ".py",
   "mimetype": "text/x-python",
   "name": "python",
   "nbconvert_exporter": "python",
   "pygments_lexer": "ipython3",
   "version": "3.6.4"
  }
 },
 "nbformat": 4,
 "nbformat_minor": 2
}
