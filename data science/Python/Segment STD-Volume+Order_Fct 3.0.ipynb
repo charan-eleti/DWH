{
 "cells": [
  {
   "cell_type": "code",
   "execution_count": 1,
   "metadata": {},
   "outputs": [],
   "source": [
    "import pandas as pd\n",
    "import numpy as np\n",
    "import pyodbc  \n",
    "from datetime import datetime \n",
    "import matplotlib.pylab as plt\n",
    "from sklearn.cluster import KMeans\n",
    "import seaborn as sns\n",
    "import collections\n",
    "import warnings\n",
    "warnings.filterwarnings('ignore')"
   ]
  },
  {
   "cell_type": "code",
   "execution_count": 2,
   "metadata": {},
   "outputs": [],
   "source": [
    "conn = pyodbc.connect(\"Driver={ODBC Driver 13 for SQL Server};Server=yetidb01.database.windows.net;database=YETISQLDW01;uid=htian;PWD=HeLeNtIAn52!\")\n",
    "cursor = conn.cursor()"
   ]
  },
  {
   "cell_type": "code",
   "execution_count": 3,
   "metadata": {},
   "outputs": [],
   "source": [
    "df = pd.read_sql(\"SELECT S.CustomerID, C.Customer, S.OrderDate, S.Requested_Date, S.SalesOffice, S.OrderQty, P.ProductCategory, P.MasterSKU,S.sourcesystem FROM EDW_DS.ORDERFCT S  inner join [EDW].[PRODUCT_DIM] P ON P.ProductID = S.ProductID  left join EDW_DS.CUSTOMER_DIM C on S.CustomerID = C.CustomerID WHERE P.ISCORE = 'TRUE' and S.SalesOffice in ('STD','HYB')  and S.RejectionReason is null and S.Ordertype Not in ('ZARF','ZARM','ZEG2','ZERF','ZERM','ZRE') and S.SoldtoParty not in ('91860','0000107894','0000114883','0000108654')\", conn)\n"
   ]
  },
  {
   "cell_type": "code",
   "execution_count": 4,
   "metadata": {},
   "outputs": [],
   "source": [
    "df['OrderDate'] = pd.to_datetime(df['OrderDate'])  "
   ]
  },
  {
   "cell_type": "code",
   "execution_count": 5,
   "metadata": {},
   "outputs": [],
   "source": [
    "df['Requested_Date'] = pd.to_datetime(df['Requested_Date'])  "
   ]
  },
  {
   "cell_type": "code",
   "execution_count": 6,
   "metadata": {},
   "outputs": [
    {
     "data": {
      "text/plain": [
       "CustomerID           0\n",
       "Customer             0\n",
       "OrderDate            0\n",
       "Requested_Date     127\n",
       "SalesOffice          0\n",
       "OrderQty             0\n",
       "ProductCategory      0\n",
       "MasterSKU            0\n",
       "sourcesystem         0\n",
       "dtype: int64"
      ]
     },
     "execution_count": 6,
     "metadata": {},
     "output_type": "execute_result"
    }
   ],
   "source": [
    "df.isnull().sum()"
   ]
  },
  {
   "cell_type": "code",
   "execution_count": 7,
   "metadata": {},
   "outputs": [],
   "source": [
    "df=df.fillna(0)"
   ]
  },
  {
   "cell_type": "code",
   "execution_count": 8,
   "metadata": {},
   "outputs": [],
   "source": [
    "# 4% Requested_Date earlier than OrderDate\n",
    "Date = []\n",
    "for i in range(len(df)):\n",
    "    if df.Requested_Date.iloc[i]==0: \n",
    "        Date.append(df.OrderDate.iloc[i])\n",
    "    elif df.OrderDate.iloc[i]>df.Requested_Date.iloc[i]:\n",
    "        Date.append(df.OrderDate.iloc[i])\n",
    "    else:\n",
    "        Date.append(df.Requested_Date.iloc[i])\n",
    "df['Date']=Date"
   ]
  },
  {
   "cell_type": "code",
   "execution_count": 9,
   "metadata": {},
   "outputs": [],
   "source": [
    "df=df[['CustomerID','Date', 'SalesOffice', 'OrderQty', 'ProductCategory', 'MasterSKU']]"
   ]
  },
  {
   "cell_type": "code",
   "execution_count": 10,
   "metadata": {},
   "outputs": [],
   "source": [
    "df=df[(df.Date>='2014-01-01')&(df.Date<='2018-05-31')]"
   ]
  },
  {
   "cell_type": "code",
   "execution_count": 11,
   "metadata": {},
   "outputs": [
    {
     "data": {
      "text/html": [
       "<div>\n",
       "<style scoped>\n",
       "    .dataframe tbody tr th:only-of-type {\n",
       "        vertical-align: middle;\n",
       "    }\n",
       "\n",
       "    .dataframe tbody tr th {\n",
       "        vertical-align: top;\n",
       "    }\n",
       "\n",
       "    .dataframe thead th {\n",
       "        text-align: right;\n",
       "    }\n",
       "</style>\n",
       "<table border=\"1\" class=\"dataframe\">\n",
       "  <thead>\n",
       "    <tr style=\"text-align: right;\">\n",
       "      <th></th>\n",
       "      <th>CustomerID</th>\n",
       "      <th>Date</th>\n",
       "      <th>SalesOffice</th>\n",
       "      <th>OrderQty</th>\n",
       "      <th>ProductCategory</th>\n",
       "      <th>MasterSKU</th>\n",
       "    </tr>\n",
       "  </thead>\n",
       "  <tbody>\n",
       "    <tr>\n",
       "      <th>0</th>\n",
       "      <td>104504</td>\n",
       "      <td>2015-12-05</td>\n",
       "      <td>STD</td>\n",
       "      <td>2</td>\n",
       "      <td>Soft Cooler</td>\n",
       "      <td>Hopper 20</td>\n",
       "    </tr>\n",
       "    <tr>\n",
       "      <th>1</th>\n",
       "      <td>106068</td>\n",
       "      <td>2017-04-03</td>\n",
       "      <td>STD</td>\n",
       "      <td>48</td>\n",
       "      <td>Drinkware</td>\n",
       "      <td>R20 Tumbler</td>\n",
       "    </tr>\n",
       "    <tr>\n",
       "      <th>2</th>\n",
       "      <td>100822</td>\n",
       "      <td>2016-08-24</td>\n",
       "      <td>STD</td>\n",
       "      <td>4</td>\n",
       "      <td>Hard Cooler</td>\n",
       "      <td>Tundra 75</td>\n",
       "    </tr>\n",
       "    <tr>\n",
       "      <th>3</th>\n",
       "      <td>102559</td>\n",
       "      <td>2015-01-07</td>\n",
       "      <td>STD</td>\n",
       "      <td>1</td>\n",
       "      <td>Hard Cooler</td>\n",
       "      <td>Tundra 65</td>\n",
       "    </tr>\n",
       "    <tr>\n",
       "      <th>4</th>\n",
       "      <td>104274</td>\n",
       "      <td>2017-04-19</td>\n",
       "      <td>STD</td>\n",
       "      <td>1</td>\n",
       "      <td>Hard Cooler</td>\n",
       "      <td>Tundra 35</td>\n",
       "    </tr>\n",
       "  </tbody>\n",
       "</table>\n",
       "</div>"
      ],
      "text/plain": [
       "  CustomerID       Date SalesOffice  OrderQty ProductCategory    MasterSKU\n",
       "0     104504 2015-12-05         STD         2     Soft Cooler    Hopper 20\n",
       "1     106068 2017-04-03         STD        48       Drinkware  R20 Tumbler\n",
       "2     100822 2016-08-24         STD         4     Hard Cooler    Tundra 75\n",
       "3     102559 2015-01-07         STD         1     Hard Cooler    Tundra 65\n",
       "4     104274 2017-04-19         STD         1     Hard Cooler    Tundra 35"
      ]
     },
     "execution_count": 11,
     "metadata": {},
     "output_type": "execute_result"
    }
   ],
   "source": [
    "df.head()"
   ]
  },
  {
   "cell_type": "code",
   "execution_count": 12,
   "metadata": {},
   "outputs": [],
   "source": [
    "##################################################### Step one: age of each STD"
   ]
  },
  {
   "cell_type": "code",
   "execution_count": 13,
   "metadata": {},
   "outputs": [],
   "source": [
    "age = df[['CustomerID','Date']].sort_values(by=[\"Date\"])"
   ]
  },
  {
   "cell_type": "code",
   "execution_count": 14,
   "metadata": {},
   "outputs": [],
   "source": [
    "age = age.drop_duplicates(subset='CustomerID')"
   ]
  },
  {
   "cell_type": "code",
   "execution_count": 15,
   "metadata": {},
   "outputs": [],
   "source": [
    "age2=age.copy()\n",
    "o=[str(x.year)+'-'+str(x.month) for x in age2.Date]\n",
    "age2.Date=[datetime.strptime(x,'%Y-%m')for x in o] "
   ]
  },
  {
   "cell_type": "code",
   "execution_count": 16,
   "metadata": {},
   "outputs": [
    {
     "data": {
      "text/html": [
       "<div>\n",
       "<style scoped>\n",
       "    .dataframe tbody tr th:only-of-type {\n",
       "        vertical-align: middle;\n",
       "    }\n",
       "\n",
       "    .dataframe tbody tr th {\n",
       "        vertical-align: top;\n",
       "    }\n",
       "\n",
       "    .dataframe thead th {\n",
       "        text-align: right;\n",
       "    }\n",
       "</style>\n",
       "<table border=\"1\" class=\"dataframe\">\n",
       "  <thead>\n",
       "    <tr style=\"text-align: right;\">\n",
       "      <th></th>\n",
       "      <th>CustomerID</th>\n",
       "      <th>Date</th>\n",
       "    </tr>\n",
       "  </thead>\n",
       "  <tbody>\n",
       "    <tr>\n",
       "      <th>907202</th>\n",
       "      <td>101038</td>\n",
       "      <td>2014-01-01</td>\n",
       "    </tr>\n",
       "    <tr>\n",
       "      <th>708759</th>\n",
       "      <td>100256</td>\n",
       "      <td>2014-01-01</td>\n",
       "    </tr>\n",
       "    <tr>\n",
       "      <th>1137542</th>\n",
       "      <td>4167</td>\n",
       "      <td>2014-01-01</td>\n",
       "    </tr>\n",
       "    <tr>\n",
       "      <th>1825699</th>\n",
       "      <td>101426</td>\n",
       "      <td>2014-01-01</td>\n",
       "    </tr>\n",
       "    <tr>\n",
       "      <th>783108</th>\n",
       "      <td>101199</td>\n",
       "      <td>2014-01-01</td>\n",
       "    </tr>\n",
       "  </tbody>\n",
       "</table>\n",
       "</div>"
      ],
      "text/plain": [
       "        CustomerID       Date\n",
       "907202      101038 2014-01-01\n",
       "708759      100256 2014-01-01\n",
       "1137542       4167 2014-01-01\n",
       "1825699     101426 2014-01-01\n",
       "783108      101199 2014-01-01"
      ]
     },
     "execution_count": 16,
     "metadata": {},
     "output_type": "execute_result"
    }
   ],
   "source": [
    "age2.head()"
   ]
  },
  {
   "cell_type": "code",
   "execution_count": 17,
   "metadata": {},
   "outputs": [],
   "source": [
    "end = pd.to_datetime(['2018-06-01']*len(age))"
   ]
  },
  {
   "cell_type": "code",
   "execution_count": 18,
   "metadata": {},
   "outputs": [],
   "source": [
    "age2['end']=end"
   ]
  },
  {
   "cell_type": "code",
   "execution_count": 19,
   "metadata": {},
   "outputs": [
    {
     "data": {
      "text/html": [
       "<div>\n",
       "<style scoped>\n",
       "    .dataframe tbody tr th:only-of-type {\n",
       "        vertical-align: middle;\n",
       "    }\n",
       "\n",
       "    .dataframe tbody tr th {\n",
       "        vertical-align: top;\n",
       "    }\n",
       "\n",
       "    .dataframe thead th {\n",
       "        text-align: right;\n",
       "    }\n",
       "</style>\n",
       "<table border=\"1\" class=\"dataframe\">\n",
       "  <thead>\n",
       "    <tr style=\"text-align: right;\">\n",
       "      <th></th>\n",
       "      <th>CustomerID</th>\n",
       "      <th>Date</th>\n",
       "      <th>end</th>\n",
       "    </tr>\n",
       "  </thead>\n",
       "  <tbody>\n",
       "    <tr>\n",
       "      <th>907202</th>\n",
       "      <td>101038</td>\n",
       "      <td>2014-01-01</td>\n",
       "      <td>2018-06-01</td>\n",
       "    </tr>\n",
       "    <tr>\n",
       "      <th>708759</th>\n",
       "      <td>100256</td>\n",
       "      <td>2014-01-01</td>\n",
       "      <td>2018-06-01</td>\n",
       "    </tr>\n",
       "    <tr>\n",
       "      <th>1137542</th>\n",
       "      <td>4167</td>\n",
       "      <td>2014-01-01</td>\n",
       "      <td>2018-06-01</td>\n",
       "    </tr>\n",
       "    <tr>\n",
       "      <th>1825699</th>\n",
       "      <td>101426</td>\n",
       "      <td>2014-01-01</td>\n",
       "      <td>2018-06-01</td>\n",
       "    </tr>\n",
       "    <tr>\n",
       "      <th>783108</th>\n",
       "      <td>101199</td>\n",
       "      <td>2014-01-01</td>\n",
       "      <td>2018-06-01</td>\n",
       "    </tr>\n",
       "  </tbody>\n",
       "</table>\n",
       "</div>"
      ],
      "text/plain": [
       "        CustomerID       Date        end\n",
       "907202      101038 2014-01-01 2018-06-01\n",
       "708759      100256 2014-01-01 2018-06-01\n",
       "1137542       4167 2014-01-01 2018-06-01\n",
       "1825699     101426 2014-01-01 2018-06-01\n",
       "783108      101199 2014-01-01 2018-06-01"
      ]
     },
     "execution_count": 19,
     "metadata": {},
     "output_type": "execute_result"
    }
   ],
   "source": [
    "age2.head()"
   ]
  },
  {
   "cell_type": "code",
   "execution_count": null,
   "metadata": {},
   "outputs": [],
   "source": [
    "# calculate the age of each STD"
   ]
  },
  {
   "cell_type": "code",
   "execution_count": 20,
   "metadata": {},
   "outputs": [],
   "source": [
    "live = ((age2.end-age2.Date) / np.timedelta64(1, 'M')).astype(int)"
   ]
  },
  {
   "cell_type": "code",
   "execution_count": 21,
   "metadata": {},
   "outputs": [],
   "source": [
    "age2['age']=live"
   ]
  },
  {
   "cell_type": "code",
   "execution_count": 22,
   "metadata": {},
   "outputs": [
    {
     "data": {
      "text/html": [
       "<div>\n",
       "<style scoped>\n",
       "    .dataframe tbody tr th:only-of-type {\n",
       "        vertical-align: middle;\n",
       "    }\n",
       "\n",
       "    .dataframe tbody tr th {\n",
       "        vertical-align: top;\n",
       "    }\n",
       "\n",
       "    .dataframe thead th {\n",
       "        text-align: right;\n",
       "    }\n",
       "</style>\n",
       "<table border=\"1\" class=\"dataframe\">\n",
       "  <thead>\n",
       "    <tr style=\"text-align: right;\">\n",
       "      <th></th>\n",
       "      <th>CustomerID</th>\n",
       "      <th>Date</th>\n",
       "      <th>end</th>\n",
       "      <th>age</th>\n",
       "    </tr>\n",
       "  </thead>\n",
       "  <tbody>\n",
       "    <tr>\n",
       "      <th>907202</th>\n",
       "      <td>101038</td>\n",
       "      <td>2014-01-01</td>\n",
       "      <td>2018-06-01</td>\n",
       "      <td>52</td>\n",
       "    </tr>\n",
       "    <tr>\n",
       "      <th>708759</th>\n",
       "      <td>100256</td>\n",
       "      <td>2014-01-01</td>\n",
       "      <td>2018-06-01</td>\n",
       "      <td>52</td>\n",
       "    </tr>\n",
       "    <tr>\n",
       "      <th>1137542</th>\n",
       "      <td>4167</td>\n",
       "      <td>2014-01-01</td>\n",
       "      <td>2018-06-01</td>\n",
       "      <td>52</td>\n",
       "    </tr>\n",
       "    <tr>\n",
       "      <th>1825699</th>\n",
       "      <td>101426</td>\n",
       "      <td>2014-01-01</td>\n",
       "      <td>2018-06-01</td>\n",
       "      <td>52</td>\n",
       "    </tr>\n",
       "    <tr>\n",
       "      <th>783108</th>\n",
       "      <td>101199</td>\n",
       "      <td>2014-01-01</td>\n",
       "      <td>2018-06-01</td>\n",
       "      <td>52</td>\n",
       "    </tr>\n",
       "  </tbody>\n",
       "</table>\n",
       "</div>"
      ],
      "text/plain": [
       "        CustomerID       Date        end  age\n",
       "907202      101038 2014-01-01 2018-06-01   52\n",
       "708759      100256 2014-01-01 2018-06-01   52\n",
       "1137542       4167 2014-01-01 2018-06-01   52\n",
       "1825699     101426 2014-01-01 2018-06-01   52\n",
       "783108      101199 2014-01-01 2018-06-01   52"
      ]
     },
     "execution_count": 22,
     "metadata": {},
     "output_type": "execute_result"
    }
   ],
   "source": [
    "age2.head()"
   ]
  },
  {
   "cell_type": "code",
   "execution_count": 23,
   "metadata": {},
   "outputs": [],
   "source": [
    "########################################################### Step two: overall order_Qty"
   ]
  },
  {
   "cell_type": "code",
   "execution_count": 23,
   "metadata": {},
   "outputs": [],
   "source": [
    "df1 = df['OrderQty'].groupby(df['CustomerID']).sum().to_frame(name='overall_Qty').reset_index()"
   ]
  },
  {
   "cell_type": "code",
   "execution_count": 24,
   "metadata": {},
   "outputs": [],
   "source": [
    "df1 = df1.merge(age2[['CustomerID','age']],left_on='CustomerID', right_on='CustomerID', how='outer')"
   ]
  },
  {
   "cell_type": "code",
   "execution_count": 25,
   "metadata": {},
   "outputs": [],
   "source": [
    "df1['avg_Qty'] = df1['overall_Qty']/df1['age']"
   ]
  },
  {
   "cell_type": "code",
   "execution_count": 26,
   "metadata": {},
   "outputs": [],
   "source": [
    "df1 = df1.sort_values(by=[\"avg_Qty\"],ascending=[False])"
   ]
  },
  {
   "cell_type": "code",
   "execution_count": 27,
   "metadata": {},
   "outputs": [
    {
     "data": {
      "text/plain": [
       "<matplotlib.collections.PathCollection at 0x2036f3099b0>"
      ]
     },
     "execution_count": 27,
     "metadata": {},
     "output_type": "execute_result"
    },
    {
     "data": {
      "image/png": "[encoded data removed]",
      "text/plain": [
       "<matplotlib.figure.Figure at 0x20370ef5a90>"
      ]
     },
     "metadata": {},
     "output_type": "display_data"
    }
   ],
   "source": [
    "plt.scatter(range(len(df1)), df1.avg_Qty)"
   ]
  },
  {
   "cell_type": "code",
   "execution_count": 28,
   "metadata": {},
   "outputs": [
    {
     "data": {
      "text/plain": [
       "<matplotlib.collections.PathCollection at 0x20371040278>"
      ]
     },
     "execution_count": 28,
     "metadata": {},
     "output_type": "execute_result"
    },
    {
     "data": {
      "image/png": "[encoded data removed]",
      "text/plain": [
       "<matplotlib.figure.Figure at 0x203710408d0>"
      ]
     },
     "metadata": {},
     "output_type": "display_data"
    }
   ],
   "source": [
    "plt.scatter(range(len(df1)), np.log(df1.avg_Qty))"
   ]
  },
  {
   "cell_type": "code",
   "execution_count": null,
   "metadata": {},
   "outputs": [],
   "source": [
    "# do k-means clustering, separate STD into 4 classes"
   ]
  },
  {
   "cell_type": "code",
   "execution_count": 29,
   "metadata": {},
   "outputs": [
    {
     "data": {
      "text/plain": [
       "array([1, 1, 1, ..., 2, 2, 2])"
      ]
     },
     "execution_count": 29,
     "metadata": {},
     "output_type": "execute_result"
    }
   ],
   "source": [
    "X = np.array(df1.avg_Qty.iloc[1:].reshape(-1,1))\n",
    "kmeans = KMeans(n_clusters = 4, random_state=0).fit(X)\n",
    "kmeans.labels_"
   ]
  },
  {
   "cell_type": "code",
   "execution_count": 30,
   "metadata": {},
   "outputs": [],
   "source": [
    "Class=[]\n",
    "Class.append(kmeans.labels_[0])\n",
    "Class+=list(kmeans.labels_)"
   ]
  },
  {
   "cell_type": "code",
   "execution_count": 31,
   "metadata": {},
   "outputs": [],
   "source": [
    "df1[\"Class\"] = Class"
   ]
  },
  {
   "cell_type": "code",
   "execution_count": 32,
   "metadata": {},
   "outputs": [
    {
     "data": {
      "text/plain": [
       "Text(0.5,1,'Logarithmic Overall Order-Qty')"
      ]
     },
     "execution_count": 32,
     "metadata": {},
     "output_type": "execute_result"
    },
    {
     "data": {
      "image/png": "[encoded data removed]",
      "text/plain": [
       "<matplotlib.figure.Figure at 0x20371702e80>"
      ]
     },
     "metadata": {},
     "output_type": "display_data"
    }
   ],
   "source": [
    "plt.scatter(range(len(df1)), np.log(df1.avg_Qty), c=df1.Class)\n",
    "plt.xlabel('Order of STD')\n",
    "plt.ylabel('Log(Overall Order-Qty)')\n",
    "plt.title('Logarithmic Overall Order-Qty')"
   ]
  },
  {
   "cell_type": "code",
   "execution_count": 33,
   "metadata": {},
   "outputs": [
    {
     "data": {
      "text/plain": [
       "<matplotlib.collections.PathCollection at 0x20372bde518>"
      ]
     },
     "execution_count": 33,
     "metadata": {},
     "output_type": "execute_result"
    },
    {
     "data": {
      "image/png": "[encoded data removed]",
      "text/plain": [
       "<matplotlib.figure.Figure at 0x2035b9d5630>"
      ]
     },
     "metadata": {},
     "output_type": "display_data"
    }
   ],
   "source": [
    "plt.scatter(range(len(df1)), df1.avg_Qty, c=df1.Class)"
   ]
  },
  {
   "cell_type": "code",
   "execution_count": 34,
   "metadata": {},
   "outputs": [
    {
     "data": {
      "text/html": [
       "<div>\n",
       "<style scoped>\n",
       "    .dataframe tbody tr th:only-of-type {\n",
       "        vertical-align: middle;\n",
       "    }\n",
       "\n",
       "    .dataframe tbody tr th {\n",
       "        vertical-align: top;\n",
       "    }\n",
       "\n",
       "    .dataframe thead th {\n",
       "        text-align: right;\n",
       "    }\n",
       "</style>\n",
       "<table border=\"1\" class=\"dataframe\">\n",
       "  <thead>\n",
       "    <tr style=\"text-align: right;\">\n",
       "      <th></th>\n",
       "      <th>CustomerID</th>\n",
       "      <th>overall_Qty</th>\n",
       "      <th>age</th>\n",
       "      <th>avg_Qty</th>\n",
       "      <th>Class</th>\n",
       "    </tr>\n",
       "  </thead>\n",
       "  <tbody>\n",
       "    <tr>\n",
       "      <th>1580</th>\n",
       "      <td>101813</td>\n",
       "      <td>6302553</td>\n",
       "      <td>47</td>\n",
       "      <td>134096.872340</td>\n",
       "      <td>1</td>\n",
       "    </tr>\n",
       "    <tr>\n",
       "      <th>1806</th>\n",
       "      <td>102173</td>\n",
       "      <td>807267</td>\n",
       "      <td>42</td>\n",
       "      <td>19220.642857</td>\n",
       "      <td>1</td>\n",
       "    </tr>\n",
       "    <tr>\n",
       "      <th>630</th>\n",
       "      <td>100710</td>\n",
       "      <td>813606</td>\n",
       "      <td>52</td>\n",
       "      <td>15646.269231</td>\n",
       "      <td>1</td>\n",
       "    </tr>\n",
       "    <tr>\n",
       "      <th>1498</th>\n",
       "      <td>101711</td>\n",
       "      <td>759227</td>\n",
       "      <td>52</td>\n",
       "      <td>14600.519231</td>\n",
       "      <td>1</td>\n",
       "    </tr>\n",
       "    <tr>\n",
       "      <th>8119</th>\n",
       "      <td>5390</td>\n",
       "      <td>724538</td>\n",
       "      <td>52</td>\n",
       "      <td>13933.423077</td>\n",
       "      <td>1</td>\n",
       "    </tr>\n",
       "  </tbody>\n",
       "</table>\n",
       "</div>"
      ],
      "text/plain": [
       "     CustomerID  overall_Qty  age        avg_Qty  Class\n",
       "1580     101813      6302553   47  134096.872340      1\n",
       "1806     102173       807267   42   19220.642857      1\n",
       "630      100710       813606   52   15646.269231      1\n",
       "1498     101711       759227   52   14600.519231      1\n",
       "8119       5390       724538   52   13933.423077      1"
      ]
     },
     "execution_count": 34,
     "metadata": {},
     "output_type": "execute_result"
    }
   ],
   "source": [
    "df1.head()"
   ]
  },
  {
   "cell_type": "code",
   "execution_count": 35,
   "metadata": {},
   "outputs": [
    {
     "data": {
      "text/plain": [
       "9"
      ]
     },
     "execution_count": 35,
     "metadata": {},
     "output_type": "execute_result"
    }
   ],
   "source": [
    "len(df1[df1.Class==1])"
   ]
  },
  {
   "cell_type": "code",
   "execution_count": 36,
   "metadata": {},
   "outputs": [
    {
     "data": {
      "text/plain": [
       "20"
      ]
     },
     "execution_count": 36,
     "metadata": {},
     "output_type": "execute_result"
    }
   ],
   "source": [
    "len(df1[df1.Class==3])"
   ]
  },
  {
   "cell_type": "code",
   "execution_count": 37,
   "metadata": {},
   "outputs": [
    {
     "data": {
      "text/plain": [
       "121"
      ]
     },
     "execution_count": 37,
     "metadata": {},
     "output_type": "execute_result"
    }
   ],
   "source": [
    "len(df1[df1.Class==0])"
   ]
  },
  {
   "cell_type": "code",
   "execution_count": 38,
   "metadata": {},
   "outputs": [
    {
     "data": {
      "text/plain": [
       "8219"
      ]
     },
     "execution_count": 38,
     "metadata": {},
     "output_type": "execute_result"
    }
   ],
   "source": [
    "len(df1[df1.Class==2])"
   ]
  },
  {
   "cell_type": "code",
   "execution_count": null,
   "metadata": {},
   "outputs": [],
   "source": [
    "# the label is not ordered, change the label to be 0,1,2,3"
   ]
  },
  {
   "cell_type": "code",
   "execution_count": 39,
   "metadata": {},
   "outputs": [],
   "source": [
    "def ChangeLabel(res):\n",
    "    df=res[0]\n",
    "    cla=res[1]\n",
    "    num = []\n",
    "    n=len(cla)-1\n",
    "    for item in cla:\n",
    "        num.append(len(df[df.Class==item]))\n",
    "    for i in range(len(num)):\n",
    "        if i !=0:\n",
    "            num[i]+=num[i-1]\n",
    "    for i in range(len(num)):\n",
    "        if i == 0:\n",
    "            df.Class[:num[i]]=[n]*len(df.Class[:num[i]])\n",
    "            n-=1\n",
    "        else:\n",
    "            df.Class[num[i-1]:num[i]] = [n]*len(df.Class[num[i-1]:num[i]])\n",
    "            n-=1\n",
    "    return df"
   ]
  },
  {
   "cell_type": "code",
   "execution_count": 40,
   "metadata": {},
   "outputs": [],
   "source": [
    "def remove_duplicates(lst):\n",
    "        return list(collections.OrderedDict(zip(lst, lst)).values())"
   ]
  },
  {
   "cell_type": "code",
   "execution_count": 41,
   "metadata": {},
   "outputs": [
    {
     "data": {
      "text/html": [
       "<div>\n",
       "<style scoped>\n",
       "    .dataframe tbody tr th:only-of-type {\n",
       "        vertical-align: middle;\n",
       "    }\n",
       "\n",
       "    .dataframe tbody tr th {\n",
       "        vertical-align: top;\n",
       "    }\n",
       "\n",
       "    .dataframe thead th {\n",
       "        text-align: right;\n",
       "    }\n",
       "</style>\n",
       "<table border=\"1\" class=\"dataframe\">\n",
       "  <thead>\n",
       "    <tr style=\"text-align: right;\">\n",
       "      <th></th>\n",
       "      <th>CustomerID</th>\n",
       "      <th>overall_Qty</th>\n",
       "      <th>age</th>\n",
       "      <th>avg_Qty</th>\n",
       "      <th>Class</th>\n",
       "    </tr>\n",
       "  </thead>\n",
       "  <tbody>\n",
       "    <tr>\n",
       "      <th>1580</th>\n",
       "      <td>101813</td>\n",
       "      <td>6302553</td>\n",
       "      <td>47</td>\n",
       "      <td>134096.872340</td>\n",
       "      <td>3</td>\n",
       "    </tr>\n",
       "    <tr>\n",
       "      <th>1806</th>\n",
       "      <td>102173</td>\n",
       "      <td>807267</td>\n",
       "      <td>42</td>\n",
       "      <td>19220.642857</td>\n",
       "      <td>3</td>\n",
       "    </tr>\n",
       "    <tr>\n",
       "      <th>630</th>\n",
       "      <td>100710</td>\n",
       "      <td>813606</td>\n",
       "      <td>52</td>\n",
       "      <td>15646.269231</td>\n",
       "      <td>3</td>\n",
       "    </tr>\n",
       "    <tr>\n",
       "      <th>1498</th>\n",
       "      <td>101711</td>\n",
       "      <td>759227</td>\n",
       "      <td>52</td>\n",
       "      <td>14600.519231</td>\n",
       "      <td>3</td>\n",
       "    </tr>\n",
       "    <tr>\n",
       "      <th>8119</th>\n",
       "      <td>5390</td>\n",
       "      <td>724538</td>\n",
       "      <td>52</td>\n",
       "      <td>13933.423077</td>\n",
       "      <td>3</td>\n",
       "    </tr>\n",
       "  </tbody>\n",
       "</table>\n",
       "</div>"
      ],
      "text/plain": [
       "     CustomerID  overall_Qty  age        avg_Qty  Class\n",
       "1580     101813      6302553   47  134096.872340      3\n",
       "1806     102173       807267   42   19220.642857      3\n",
       "630      100710       813606   52   15646.269231      3\n",
       "1498     101711       759227   52   14600.519231      3\n",
       "8119       5390       724538   52   13933.423077      3"
      ]
     },
     "execution_count": 41,
     "metadata": {},
     "output_type": "execute_result"
    }
   ],
   "source": [
    "ChangeLabel([df1,remove_duplicates(kmeans.labels_)]).head()"
   ]
  },
  {
   "cell_type": "code",
   "execution_count": 42,
   "metadata": {},
   "outputs": [
    {
     "data": {
      "text/plain": [
       "<matplotlib.collections.PathCollection at 0x20320e9db00>"
      ]
     },
     "execution_count": 42,
     "metadata": {},
     "output_type": "execute_result"
    },
    {
     "data": {
      "image/png": "[encoded data removed]",
      "text/plain": [
       "<matplotlib.figure.Figure at 0x2036da51a90>"
      ]
     },
     "metadata": {},
     "output_type": "display_data"
    }
   ],
   "source": [
    "plt.scatter(range(len(df1[150:])), df1.avg_Qty[150:], c=df1.Class[150:])"
   ]
  },
  {
   "cell_type": "code",
   "execution_count": 43,
   "metadata": {},
   "outputs": [],
   "source": [
    "# There is a long tail, # of <100 number are larger than 6000. We redo k-means clustering "
   ]
  },
  {
   "cell_type": "code",
   "execution_count": 44,
   "metadata": {},
   "outputs": [
    {
     "data": {
      "text/plain": [
       "array([1, 1, 1, ..., 0, 0, 0])"
      ]
     },
     "execution_count": 44,
     "metadata": {},
     "output_type": "execute_result"
    }
   ],
   "source": [
    "X1 = np.array(df1.avg_Qty[150:].reshape(-1,1))\n",
    "kmeans1 = KMeans(n_clusters = 2, random_state=0).fit(X1)\n",
    "kmeans1.labels_"
   ]
  },
  {
   "cell_type": "code",
   "execution_count": 45,
   "metadata": {},
   "outputs": [
    {
     "data": {
      "text/plain": [
       "array([1, 1, 1, ..., 0, 0, 0])"
      ]
     },
     "execution_count": 45,
     "metadata": {},
     "output_type": "execute_result"
    }
   ],
   "source": [
    "kmeans1.labels_"
   ]
  },
  {
   "cell_type": "code",
   "execution_count": 46,
   "metadata": {},
   "outputs": [],
   "source": [
    "df2=df1[150:]"
   ]
  },
  {
   "cell_type": "code",
   "execution_count": 47,
   "metadata": {},
   "outputs": [],
   "source": [
    "Class1=[]\n",
    "Class1+=list(kmeans1.labels_)\n",
    "df2[\"Class1\"] = Class1"
   ]
  },
  {
   "cell_type": "code",
   "execution_count": 48,
   "metadata": {},
   "outputs": [
    {
     "data": {
      "text/plain": [
       "<matplotlib.collections.PathCollection at 0x20320df13c8>"
      ]
     },
     "execution_count": 48,
     "metadata": {},
     "output_type": "execute_result"
    },
    {
     "data": {
      "image/png": "[encoded data removed]",
      "text/plain": [
       "<matplotlib.figure.Figure at 0x20320e4cf98>"
      ]
     },
     "metadata": {},
     "output_type": "display_data"
    }
   ],
   "source": [
    "plt.scatter(range(len(df2)), df2.avg_Qty, c=df2.Class1)"
   ]
  },
  {
   "cell_type": "raw",
   "metadata": {},
   "source": [
    "Perfect divided"
   ]
  },
  {
   "cell_type": "code",
   "execution_count": 49,
   "metadata": {},
   "outputs": [
    {
     "data": {
      "text/plain": [
       "7626"
      ]
     },
     "execution_count": 49,
     "metadata": {},
     "output_type": "execute_result"
    }
   ],
   "source": [
    "len(df2[df2.Class1==0])"
   ]
  },
  {
   "cell_type": "code",
   "execution_count": 50,
   "metadata": {},
   "outputs": [
    {
     "data": {
      "text/plain": [
       "593"
      ]
     },
     "execution_count": 50,
     "metadata": {},
     "output_type": "execute_result"
    }
   ],
   "source": [
    "len(df2[df2.Class1==1])"
   ]
  },
  {
   "cell_type": "code",
   "execution_count": 51,
   "metadata": {},
   "outputs": [],
   "source": [
    "df1.Class[-7626:]=[4]*len(df1.Class[-7626:])"
   ]
  },
  {
   "cell_type": "code",
   "execution_count": 52,
   "metadata": {},
   "outputs": [
    {
     "data": {
      "text/plain": [
       "9"
      ]
     },
     "execution_count": 52,
     "metadata": {},
     "output_type": "execute_result"
    }
   ],
   "source": [
    "len(df1[df1.Class==3])"
   ]
  },
  {
   "cell_type": "code",
   "execution_count": 53,
   "metadata": {},
   "outputs": [
    {
     "data": {
      "text/plain": [
       "20"
      ]
     },
     "execution_count": 53,
     "metadata": {},
     "output_type": "execute_result"
    }
   ],
   "source": [
    "len(df1[df1.Class==2])"
   ]
  },
  {
   "cell_type": "code",
   "execution_count": 54,
   "metadata": {},
   "outputs": [
    {
     "data": {
      "text/plain": [
       "121"
      ]
     },
     "execution_count": 54,
     "metadata": {},
     "output_type": "execute_result"
    }
   ],
   "source": [
    "len(df1[df1.Class==1])"
   ]
  },
  {
   "cell_type": "code",
   "execution_count": 55,
   "metadata": {},
   "outputs": [
    {
     "data": {
      "text/plain": [
       "593"
      ]
     },
     "execution_count": 55,
     "metadata": {},
     "output_type": "execute_result"
    }
   ],
   "source": [
    "len(df1[df1.Class==0])"
   ]
  },
  {
   "cell_type": "code",
   "execution_count": 56,
   "metadata": {},
   "outputs": [
    {
     "data": {
      "text/plain": [
       "7626"
      ]
     },
     "execution_count": 56,
     "metadata": {},
     "output_type": "execute_result"
    }
   ],
   "source": [
    "len(df1[df1.Class==4])"
   ]
  },
  {
   "cell_type": "code",
   "execution_count": null,
   "metadata": {},
   "outputs": [],
   "source": []
  },
  {
   "cell_type": "code",
   "execution_count": 61,
   "metadata": {},
   "outputs": [
    {
     "data": {
      "text/html": [
       "<div>\n",
       "<style scoped>\n",
       "    .dataframe tbody tr th:only-of-type {\n",
       "        vertical-align: middle;\n",
       "    }\n",
       "\n",
       "    .dataframe tbody tr th {\n",
       "        vertical-align: top;\n",
       "    }\n",
       "\n",
       "    .dataframe thead th {\n",
       "        text-align: right;\n",
       "    }\n",
       "</style>\n",
       "<table border=\"1\" class=\"dataframe\">\n",
       "  <thead>\n",
       "    <tr style=\"text-align: right;\">\n",
       "      <th></th>\n",
       "      <th>CustomerID</th>\n",
       "      <th>overall_Qty</th>\n",
       "      <th>age</th>\n",
       "      <th>avg_Qty</th>\n",
       "      <th>Class</th>\n",
       "    </tr>\n",
       "  </thead>\n",
       "  <tbody>\n",
       "    <tr>\n",
       "      <th>1580</th>\n",
       "      <td>101813</td>\n",
       "      <td>6302553</td>\n",
       "      <td>47</td>\n",
       "      <td>134096.872340</td>\n",
       "      <td>4</td>\n",
       "    </tr>\n",
       "    <tr>\n",
       "      <th>1806</th>\n",
       "      <td>102173</td>\n",
       "      <td>807267</td>\n",
       "      <td>42</td>\n",
       "      <td>19220.642857</td>\n",
       "      <td>4</td>\n",
       "    </tr>\n",
       "    <tr>\n",
       "      <th>630</th>\n",
       "      <td>100710</td>\n",
       "      <td>813606</td>\n",
       "      <td>52</td>\n",
       "      <td>15646.269231</td>\n",
       "      <td>4</td>\n",
       "    </tr>\n",
       "    <tr>\n",
       "      <th>1498</th>\n",
       "      <td>101711</td>\n",
       "      <td>759227</td>\n",
       "      <td>52</td>\n",
       "      <td>14600.519231</td>\n",
       "      <td>4</td>\n",
       "    </tr>\n",
       "    <tr>\n",
       "      <th>8119</th>\n",
       "      <td>5390</td>\n",
       "      <td>724538</td>\n",
       "      <td>52</td>\n",
       "      <td>13933.423077</td>\n",
       "      <td>4</td>\n",
       "    </tr>\n",
       "    <tr>\n",
       "      <th>2392</th>\n",
       "      <td>102853</td>\n",
       "      <td>575657</td>\n",
       "      <td>50</td>\n",
       "      <td>11513.140000</td>\n",
       "      <td>4</td>\n",
       "    </tr>\n",
       "    <tr>\n",
       "      <th>1586</th>\n",
       "      <td>101845</td>\n",
       "      <td>461325</td>\n",
       "      <td>43</td>\n",
       "      <td>10728.488372</td>\n",
       "      <td>4</td>\n",
       "    </tr>\n",
       "    <tr>\n",
       "      <th>5668</th>\n",
       "      <td>107894</td>\n",
       "      <td>182212</td>\n",
       "      <td>17</td>\n",
       "      <td>10718.352941</td>\n",
       "      <td>4</td>\n",
       "    </tr>\n",
       "    <tr>\n",
       "      <th>281</th>\n",
       "      <td>100315</td>\n",
       "      <td>544834</td>\n",
       "      <td>52</td>\n",
       "      <td>10477.576923</td>\n",
       "      <td>4</td>\n",
       "    </tr>\n",
       "    <tr>\n",
       "      <th>355</th>\n",
       "      <td>100395</td>\n",
       "      <td>433176</td>\n",
       "      <td>52</td>\n",
       "      <td>8330.307692</td>\n",
       "      <td>4</td>\n",
       "    </tr>\n",
       "    <tr>\n",
       "      <th>6942</th>\n",
       "      <td>119424</td>\n",
       "      <td>23933</td>\n",
       "      <td>3</td>\n",
       "      <td>7977.666667</td>\n",
       "      <td>4</td>\n",
       "    </tr>\n",
       "    <tr>\n",
       "      <th>1611</th>\n",
       "      <td>101886</td>\n",
       "      <td>411738</td>\n",
       "      <td>52</td>\n",
       "      <td>7918.038462</td>\n",
       "      <td>4</td>\n",
       "    </tr>\n",
       "    <tr>\n",
       "      <th>1229</th>\n",
       "      <td>101399</td>\n",
       "      <td>255986</td>\n",
       "      <td>38</td>\n",
       "      <td>6736.473684</td>\n",
       "      <td>4</td>\n",
       "    </tr>\n",
       "    <tr>\n",
       "      <th>5319</th>\n",
       "      <td>106889</td>\n",
       "      <td>163360</td>\n",
       "      <td>25</td>\n",
       "      <td>6534.400000</td>\n",
       "      <td>4</td>\n",
       "    </tr>\n",
       "    <tr>\n",
       "      <th>721</th>\n",
       "      <td>100812</td>\n",
       "      <td>100160</td>\n",
       "      <td>16</td>\n",
       "      <td>6260.000000</td>\n",
       "      <td>4</td>\n",
       "    </tr>\n",
       "    <tr>\n",
       "      <th>6751</th>\n",
       "      <td>117310</td>\n",
       "      <td>24648</td>\n",
       "      <td>4</td>\n",
       "      <td>6162.000000</td>\n",
       "      <td>4</td>\n",
       "    </tr>\n",
       "    <tr>\n",
       "      <th>5228</th>\n",
       "      <td>106469</td>\n",
       "      <td>161712</td>\n",
       "      <td>27</td>\n",
       "      <td>5989.333333</td>\n",
       "      <td>4</td>\n",
       "    </tr>\n",
       "    <tr>\n",
       "      <th>5308</th>\n",
       "      <td>106843</td>\n",
       "      <td>142294</td>\n",
       "      <td>25</td>\n",
       "      <td>5691.760000</td>\n",
       "      <td>4</td>\n",
       "    </tr>\n",
       "    <tr>\n",
       "      <th>6426</th>\n",
       "      <td>114732</td>\n",
       "      <td>62522</td>\n",
       "      <td>11</td>\n",
       "      <td>5683.818182</td>\n",
       "      <td>4</td>\n",
       "    </tr>\n",
       "    <tr>\n",
       "      <th>777</th>\n",
       "      <td>100873</td>\n",
       "      <td>284479</td>\n",
       "      <td>52</td>\n",
       "      <td>5470.750000</td>\n",
       "      <td>4</td>\n",
       "    </tr>\n",
       "  </tbody>\n",
       "</table>\n",
       "</div>"
      ],
      "text/plain": [
       "     CustomerID  overall_Qty  age        avg_Qty  Class\n",
       "1580     101813      6302553   47  134096.872340      4\n",
       "1806     102173       807267   42   19220.642857      4\n",
       "630      100710       813606   52   15646.269231      4\n",
       "1498     101711       759227   52   14600.519231      4\n",
       "8119       5390       724538   52   13933.423077      4\n",
       "2392     102853       575657   50   11513.140000      4\n",
       "1586     101845       461325   43   10728.488372      4\n",
       "5668     107894       182212   17   10718.352941      4\n",
       "281      100315       544834   52   10477.576923      4\n",
       "355      100395       433176   52    8330.307692      4\n",
       "6942     119424        23933    3    7977.666667      4\n",
       "1611     101886       411738   52    7918.038462      4\n",
       "1229     101399       255986   38    6736.473684      4\n",
       "5319     106889       163360   25    6534.400000      4\n",
       "721      100812       100160   16    6260.000000      4\n",
       "6751     117310        24648    4    6162.000000      4\n",
       "5228     106469       161712   27    5989.333333      4\n",
       "5308     106843       142294   25    5691.760000      4\n",
       "6426     114732        62522   11    5683.818182      4\n",
       "777      100873       284479   52    5470.750000      4"
      ]
     },
     "execution_count": 61,
     "metadata": {},
     "output_type": "execute_result"
    }
   ],
   "source": [
    "ChangeLabel([df1,[3,2,1,0,4]]).head(20)"
   ]
  },
  {
   "cell_type": "code",
   "execution_count": 58,
   "metadata": {},
   "outputs": [
    {
     "data": {
      "text/html": [
       "<div>\n",
       "<style scoped>\n",
       "    .dataframe tbody tr th:only-of-type {\n",
       "        vertical-align: middle;\n",
       "    }\n",
       "\n",
       "    .dataframe tbody tr th {\n",
       "        vertical-align: top;\n",
       "    }\n",
       "\n",
       "    .dataframe thead th {\n",
       "        text-align: right;\n",
       "    }\n",
       "</style>\n",
       "<table border=\"1\" class=\"dataframe\">\n",
       "  <thead>\n",
       "    <tr style=\"text-align: right;\">\n",
       "      <th></th>\n",
       "      <th>CustomerID</th>\n",
       "      <th>overall_Qty</th>\n",
       "      <th>age</th>\n",
       "      <th>avg_Qty</th>\n",
       "      <th>Class</th>\n",
       "    </tr>\n",
       "  </thead>\n",
       "  <tbody>\n",
       "    <tr>\n",
       "      <th>1580</th>\n",
       "      <td>101813</td>\n",
       "      <td>6302553</td>\n",
       "      <td>47</td>\n",
       "      <td>134096.872340</td>\n",
       "      <td>4</td>\n",
       "    </tr>\n",
       "    <tr>\n",
       "      <th>1806</th>\n",
       "      <td>102173</td>\n",
       "      <td>807267</td>\n",
       "      <td>42</td>\n",
       "      <td>19220.642857</td>\n",
       "      <td>4</td>\n",
       "    </tr>\n",
       "    <tr>\n",
       "      <th>630</th>\n",
       "      <td>100710</td>\n",
       "      <td>813606</td>\n",
       "      <td>52</td>\n",
       "      <td>15646.269231</td>\n",
       "      <td>4</td>\n",
       "    </tr>\n",
       "    <tr>\n",
       "      <th>1498</th>\n",
       "      <td>101711</td>\n",
       "      <td>759227</td>\n",
       "      <td>52</td>\n",
       "      <td>14600.519231</td>\n",
       "      <td>4</td>\n",
       "    </tr>\n",
       "    <tr>\n",
       "      <th>8119</th>\n",
       "      <td>5390</td>\n",
       "      <td>724538</td>\n",
       "      <td>52</td>\n",
       "      <td>13933.423077</td>\n",
       "      <td>4</td>\n",
       "    </tr>\n",
       "  </tbody>\n",
       "</table>\n",
       "</div>"
      ],
      "text/plain": [
       "     CustomerID  overall_Qty  age        avg_Qty  Class\n",
       "1580     101813      6302553   47  134096.872340      4\n",
       "1806     102173       807267   42   19220.642857      4\n",
       "630      100710       813606   52   15646.269231      4\n",
       "1498     101711       759227   52   14600.519231      4\n",
       "8119       5390       724538   52   13933.423077      4"
      ]
     },
     "execution_count": 58,
     "metadata": {},
     "output_type": "execute_result"
    }
   ],
   "source": [
    "df1.head()"
   ]
  },
  {
   "cell_type": "code",
   "execution_count": 59,
   "metadata": {},
   "outputs": [
    {
     "data": {
      "text/plain": [
       "Text(0.5,1,'Logarithmic Overall Order-Qty')"
      ]
     },
     "execution_count": 59,
     "metadata": {},
     "output_type": "execute_result"
    },
    {
     "data": {
      "image/png": "[encoded data removed]",
      "text/plain": [
       "<matplotlib.figure.Figure at 0x20320d565c0>"
      ]
     },
     "metadata": {},
     "output_type": "display_data"
    }
   ],
   "source": [
    "plt.scatter(range(len(df1)), np.log(df1.avg_Qty), c=df1.Class)\n",
    "plt.xlabel('Order of STD')\n",
    "plt.ylabel('Log(Overall Order-Qty)')\n",
    "plt.title('Logarithmic Overall Order-Qty')"
   ]
  },
  {
   "cell_type": "code",
   "execution_count": 130,
   "metadata": {},
   "outputs": [],
   "source": [
    "df1[['CustomerID','Class']].to_csv('Volume_OrderFct.csv')"
   ]
  },
  {
   "cell_type": "markdown",
   "metadata": {},
   "source": [
    "# Check the segment result\n",
    "Analysing diff percentage of product category in different Order_Qty STD"
   ]
  },
  {
   "cell_type": "code",
   "execution_count": 119,
   "metadata": {},
   "outputs": [],
   "source": [
    "df8=df.copy()\n",
    "o=[str(x.year)+'-'+str(x.month) for x in df.Date]\n",
    "df8.Date=[datetime.strptime(x,'%Y-%m')for x in o] "
   ]
  },
  {
   "cell_type": "code",
   "execution_count": 121,
   "metadata": {},
   "outputs": [],
   "source": [
    "data = pd.merge(df8, df1[['CustomerID','Class']],  on='CustomerID', how='left')"
   ]
  },
  {
   "cell_type": "code",
   "execution_count": 122,
   "metadata": {},
   "outputs": [
    {
     "data": {
      "text/html": [
       "<div>\n",
       "<style scoped>\n",
       "    .dataframe tbody tr th:only-of-type {\n",
       "        vertical-align: middle;\n",
       "    }\n",
       "\n",
       "    .dataframe tbody tr th {\n",
       "        vertical-align: top;\n",
       "    }\n",
       "\n",
       "    .dataframe thead th {\n",
       "        text-align: right;\n",
       "    }\n",
       "</style>\n",
       "<table border=\"1\" class=\"dataframe\">\n",
       "  <thead>\n",
       "    <tr style=\"text-align: right;\">\n",
       "      <th></th>\n",
       "      <th>CustomerID</th>\n",
       "      <th>Date</th>\n",
       "      <th>SalesOffice</th>\n",
       "      <th>OrderQty</th>\n",
       "      <th>ProductCategory</th>\n",
       "      <th>MasterSKU</th>\n",
       "      <th>Class</th>\n",
       "    </tr>\n",
       "  </thead>\n",
       "  <tbody>\n",
       "    <tr>\n",
       "      <th>0</th>\n",
       "      <td>107397</td>\n",
       "      <td>2017-07-01</td>\n",
       "      <td>HYB</td>\n",
       "      <td>1</td>\n",
       "      <td>Hard Cooler</td>\n",
       "      <td>Tundra 105</td>\n",
       "      <td>2</td>\n",
       "    </tr>\n",
       "    <tr>\n",
       "      <th>1</th>\n",
       "      <td>106495</td>\n",
       "      <td>2017-07-01</td>\n",
       "      <td>STD</td>\n",
       "      <td>24</td>\n",
       "      <td>Drinkware</td>\n",
       "      <td>R20 Tumbler</td>\n",
       "      <td>1</td>\n",
       "    </tr>\n",
       "    <tr>\n",
       "      <th>2</th>\n",
       "      <td>104435</td>\n",
       "      <td>2015-06-01</td>\n",
       "      <td>STD</td>\n",
       "      <td>12</td>\n",
       "      <td>Drinkware</td>\n",
       "      <td>R30 Tumbler</td>\n",
       "      <td>0</td>\n",
       "    </tr>\n",
       "    <tr>\n",
       "      <th>3</th>\n",
       "      <td>101612</td>\n",
       "      <td>2015-08-01</td>\n",
       "      <td>STD</td>\n",
       "      <td>1</td>\n",
       "      <td>Soft Cooler</td>\n",
       "      <td>Hopper 20</td>\n",
       "      <td>0</td>\n",
       "    </tr>\n",
       "    <tr>\n",
       "      <th>4</th>\n",
       "      <td>106122</td>\n",
       "      <td>2017-04-01</td>\n",
       "      <td>STD</td>\n",
       "      <td>18</td>\n",
       "      <td>Drinkware</td>\n",
       "      <td>R Colsters</td>\n",
       "      <td>0</td>\n",
       "    </tr>\n",
       "  </tbody>\n",
       "</table>\n",
       "</div>"
      ],
      "text/plain": [
       "  CustomerID       Date SalesOffice  OrderQty ProductCategory    MasterSKU  \\\n",
       "0     107397 2017-07-01         HYB         1     Hard Cooler   Tundra 105   \n",
       "1     106495 2017-07-01         STD        24       Drinkware  R20 Tumbler   \n",
       "2     104435 2015-06-01         STD        12       Drinkware  R30 Tumbler   \n",
       "3     101612 2015-08-01         STD         1     Soft Cooler    Hopper 20   \n",
       "4     106122 2017-04-01         STD        18       Drinkware   R Colsters   \n",
       "\n",
       "   Class  \n",
       "0      2  \n",
       "1      1  \n",
       "2      0  \n",
       "3      0  \n",
       "4      0  "
      ]
     },
     "execution_count": 122,
     "metadata": {},
     "output_type": "execute_result"
    }
   ],
   "source": [
    "data.head()"
   ]
  },
  {
   "cell_type": "code",
   "execution_count": 123,
   "metadata": {},
   "outputs": [
    {
     "data": {
      "text/html": [
       "<div>\n",
       "<style scoped>\n",
       "    .dataframe tbody tr th:only-of-type {\n",
       "        vertical-align: middle;\n",
       "    }\n",
       "\n",
       "    .dataframe tbody tr th {\n",
       "        vertical-align: top;\n",
       "    }\n",
       "\n",
       "    .dataframe thead th {\n",
       "        text-align: right;\n",
       "    }\n",
       "</style>\n",
       "<table border=\"1\" class=\"dataframe\">\n",
       "  <thead>\n",
       "    <tr style=\"text-align: right;\">\n",
       "      <th></th>\n",
       "      <th>Class</th>\n",
       "      <th>OrderQty</th>\n",
       "    </tr>\n",
       "  </thead>\n",
       "  <tbody>\n",
       "    <tr>\n",
       "      <th>Class</th>\n",
       "      <td>1.000000</td>\n",
       "      <td>0.557116</td>\n",
       "    </tr>\n",
       "    <tr>\n",
       "      <th>OrderQty</th>\n",
       "      <td>0.557116</td>\n",
       "      <td>1.000000</td>\n",
       "    </tr>\n",
       "  </tbody>\n",
       "</table>\n",
       "</div>"
      ],
      "text/plain": [
       "             Class  OrderQty\n",
       "Class     1.000000  0.557116\n",
       "OrderQty  0.557116  1.000000"
      ]
     },
     "execution_count": 123,
     "metadata": {},
     "output_type": "execute_result"
    }
   ],
   "source": [
    "######################################################## Overall\n",
    "dfO1 = data.groupby(['Class','Date'])['OrderQty'].mean().to_frame(name = 'OrderQty').reset_index()\n",
    "\n",
    "dfO1.corr()"
   ]
  },
  {
   "cell_type": "code",
   "execution_count": 124,
   "metadata": {},
   "outputs": [
    {
     "data": {
      "text/html": [
       "<div>\n",
       "<style scoped>\n",
       "    .dataframe tbody tr th:only-of-type {\n",
       "        vertical-align: middle;\n",
       "    }\n",
       "\n",
       "    .dataframe tbody tr th {\n",
       "        vertical-align: top;\n",
       "    }\n",
       "\n",
       "    .dataframe thead th {\n",
       "        text-align: right;\n",
       "    }\n",
       "</style>\n",
       "<table border=\"1\" class=\"dataframe\">\n",
       "  <thead>\n",
       "    <tr style=\"text-align: right;\">\n",
       "      <th></th>\n",
       "      <th>Class</th>\n",
       "      <th>DW_Qty</th>\n",
       "    </tr>\n",
       "  </thead>\n",
       "  <tbody>\n",
       "    <tr>\n",
       "      <th>Class</th>\n",
       "      <td>1.000000</td>\n",
       "      <td>0.517298</td>\n",
       "    </tr>\n",
       "    <tr>\n",
       "      <th>DW_Qty</th>\n",
       "      <td>0.517298</td>\n",
       "      <td>1.000000</td>\n",
       "    </tr>\n",
       "  </tbody>\n",
       "</table>\n",
       "</div>"
      ],
      "text/plain": [
       "           Class    DW_Qty\n",
       "Class   1.000000  0.517298\n",
       "DW_Qty  0.517298  1.000000"
      ]
     },
     "execution_count": 124,
     "metadata": {},
     "output_type": "execute_result"
    }
   ],
   "source": [
    "######################################################## Drinkware\n",
    "dfD = data[data.ProductCategory=='Drinkware']\n",
    "\n",
    "dfD1 = dfD.groupby(['Class','Date'])['OrderQty'].mean().to_frame(name = 'DW_Qty').reset_index()\n",
    "\n",
    "dfD1.corr()"
   ]
  },
  {
   "cell_type": "code",
   "execution_count": 64,
   "metadata": {},
   "outputs": [],
   "source": [
    "# average order quantity in different Class"
   ]
  },
  {
   "cell_type": "code",
   "execution_count": 125,
   "metadata": {},
   "outputs": [
    {
     "data": {
      "text/plain": [
       "Class\n",
       "0     22.451217\n",
       "1     50.101651\n",
       "2     92.304510\n",
       "3    198.558858\n",
       "4    697.808748\n",
       "Name: DW_Qty, dtype: float64"
      ]
     },
     "execution_count": 125,
     "metadata": {},
     "output_type": "execute_result"
    }
   ],
   "source": [
    "dfD1.groupby(['Class'])['DW_Qty'].mean()"
   ]
  },
  {
   "cell_type": "code",
   "execution_count": 126,
   "metadata": {},
   "outputs": [
    {
     "data": {
      "text/html": [
       "<div>\n",
       "<style scoped>\n",
       "    .dataframe tbody tr th:only-of-type {\n",
       "        vertical-align: middle;\n",
       "    }\n",
       "\n",
       "    .dataframe tbody tr th {\n",
       "        vertical-align: top;\n",
       "    }\n",
       "\n",
       "    .dataframe thead th {\n",
       "        text-align: right;\n",
       "    }\n",
       "</style>\n",
       "<table border=\"1\" class=\"dataframe\">\n",
       "  <thead>\n",
       "    <tr style=\"text-align: right;\">\n",
       "      <th></th>\n",
       "      <th>Class</th>\n",
       "      <th>HC_Qty</th>\n",
       "    </tr>\n",
       "  </thead>\n",
       "  <tbody>\n",
       "    <tr>\n",
       "      <th>Class</th>\n",
       "      <td>1.000000</td>\n",
       "      <td>0.667224</td>\n",
       "    </tr>\n",
       "    <tr>\n",
       "      <th>HC_Qty</th>\n",
       "      <td>0.667224</td>\n",
       "      <td>1.000000</td>\n",
       "    </tr>\n",
       "  </tbody>\n",
       "</table>\n",
       "</div>"
      ],
      "text/plain": [
       "           Class    HC_Qty\n",
       "Class   1.000000  0.667224\n",
       "HC_Qty  0.667224  1.000000"
      ]
     },
     "execution_count": 126,
     "metadata": {},
     "output_type": "execute_result"
    }
   ],
   "source": [
    "######################################################## Hard Cooler\n",
    "dfH = data[data.ProductCategory=='Hard Cooler']\n",
    "\n",
    "dfH1 = dfH.groupby(['Class','Date'])['OrderQty'].mean().to_frame(name = 'HC_Qty').reset_index()\n",
    "\n",
    "dfH1.corr()"
   ]
  },
  {
   "cell_type": "code",
   "execution_count": 63,
   "metadata": {},
   "outputs": [],
   "source": [
    "# average order quantity in different Class"
   ]
  },
  {
   "cell_type": "code",
   "execution_count": 127,
   "metadata": {},
   "outputs": [
    {
     "data": {
      "text/plain": [
       "Class\n",
       "0     1.783158\n",
       "1     2.648206\n",
       "2     3.977450\n",
       "3     9.074612\n",
       "4    15.180820\n",
       "Name: HC_Qty, dtype: float64"
      ]
     },
     "execution_count": 127,
     "metadata": {},
     "output_type": "execute_result"
    }
   ],
   "source": [
    "dfH1.groupby(['Class'])['HC_Qty'].mean()"
   ]
  },
  {
   "cell_type": "code",
   "execution_count": 128,
   "metadata": {},
   "outputs": [
    {
     "data": {
      "text/html": [
       "<div>\n",
       "<style scoped>\n",
       "    .dataframe tbody tr th:only-of-type {\n",
       "        vertical-align: middle;\n",
       "    }\n",
       "\n",
       "    .dataframe tbody tr th {\n",
       "        vertical-align: top;\n",
       "    }\n",
       "\n",
       "    .dataframe thead th {\n",
       "        text-align: right;\n",
       "    }\n",
       "</style>\n",
       "<table border=\"1\" class=\"dataframe\">\n",
       "  <thead>\n",
       "    <tr style=\"text-align: right;\">\n",
       "      <th></th>\n",
       "      <th>Class</th>\n",
       "      <th>SC_Qty</th>\n",
       "    </tr>\n",
       "  </thead>\n",
       "  <tbody>\n",
       "    <tr>\n",
       "      <th>Class</th>\n",
       "      <td>1.000000</td>\n",
       "      <td>0.520095</td>\n",
       "    </tr>\n",
       "    <tr>\n",
       "      <th>SC_Qty</th>\n",
       "      <td>0.520095</td>\n",
       "      <td>1.000000</td>\n",
       "    </tr>\n",
       "  </tbody>\n",
       "</table>\n",
       "</div>"
      ],
      "text/plain": [
       "           Class    SC_Qty\n",
       "Class   1.000000  0.520095\n",
       "SC_Qty  0.520095  1.000000"
      ]
     },
     "execution_count": 128,
     "metadata": {},
     "output_type": "execute_result"
    }
   ],
   "source": [
    "######################################################## Soft Cooler\n",
    "dfS = data[data.ProductCategory=='Soft Cooler']\n",
    "\n",
    "dfS1 = dfS.groupby(['Class','Date'])['OrderQty'].mean().to_frame(name = 'SC_Qty').reset_index()\n",
    "\n",
    "dfS1.corr()"
   ]
  },
  {
   "cell_type": "code",
   "execution_count": 62,
   "metadata": {},
   "outputs": [],
   "source": [
    "# average order quantity in different Class"
   ]
  },
  {
   "cell_type": "code",
   "execution_count": 129,
   "metadata": {},
   "outputs": [
    {
     "data": {
      "text/plain": [
       "Class\n",
       "0     2.993953\n",
       "1     5.279671\n",
       "2    10.036063\n",
       "3    30.580786\n",
       "4    47.528193\n",
       "Name: SC_Qty, dtype: float64"
      ]
     },
     "execution_count": 129,
     "metadata": {},
     "output_type": "execute_result"
    }
   ],
   "source": [
    "dfS1.groupby(['Class'])['SC_Qty'].mean()"
   ]
  },
  {
   "cell_type": "code",
   "execution_count": null,
   "metadata": {},
   "outputs": [],
   "source": []
  }
 ],
 "metadata": {
  "kernelspec": {
   "display_name": "Python 3",
   "language": "python",
   "name": "python3"
  },
  "language_info": {
   "codemirror_mode": {
    "name": "ipython",
    "version": 3
   },
   "file_extension": ".py",
   "mimetype": "text/x-python",
   "name": "python",
   "nbconvert_exporter": "python",
   "pygments_lexer": "ipython3",
   "version": "3.6.4"
  }
 },
 "nbformat": 4,
 "nbformat_minor": 2
}
