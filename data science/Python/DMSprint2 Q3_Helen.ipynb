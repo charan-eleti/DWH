{
 "cells": [
  {
   "cell_type": "code",
   "execution_count": 9,
   "metadata": {},
   "outputs": [],
   "source": [
    "from google.cloud import bigquery\n",
    "from google.oauth2 import service_account\n",
    "import numpy as np\n",
    "import pandas as pd\n",
    "import matplotlib.pylab as plt\n",
    "credentials = service_account.Credentials.from_service_account_file('C:/Users/Helen.Tian/Downloads/YETI Google Analytics-45214aca550b.json')# PATH IN YOUR COMPUTER\n",
    "project_id = 'enduring-hue-184016'   \n",
    "client = bigquery.Client(credentials= credentials,project=project_id)"
   ]
  },
  {
   "cell_type": "code",
   "execution_count": 10,
   "metadata": {
    "scrolled": true
   },
   "outputs": [
    {
     "data": {
      "text/html": [
       "<div>\n",
       "<style scoped>\n",
       "    .dataframe tbody tr th:only-of-type {\n",
       "        vertical-align: middle;\n",
       "    }\n",
       "\n",
       "    .dataframe tbody tr th {\n",
       "        vertical-align: top;\n",
       "    }\n",
       "\n",
       "    .dataframe thead th {\n",
       "        text-align: right;\n",
       "    }\n",
       "</style>\n",
       "<table border=\"1\" class=\"dataframe\">\n",
       "  <thead>\n",
       "    <tr style=\"text-align: right;\">\n",
       "      <th></th>\n",
       "      <th>eventAction</th>\n",
       "    </tr>\n",
       "  </thead>\n",
       "  <tbody>\n",
       "    <tr>\n",
       "      <th>0</th>\n",
       "      <td>photo interaction</td>\n",
       "    </tr>\n",
       "    <tr>\n",
       "      <th>1</th>\n",
       "      <td>recommendation strand</td>\n",
       "    </tr>\n",
       "    <tr>\n",
       "      <th>2</th>\n",
       "      <td>read and write reviews</td>\n",
       "    </tr>\n",
       "    <tr>\n",
       "      <th>3</th>\n",
       "      <td>review visible</td>\n",
       "    </tr>\n",
       "    <tr>\n",
       "      <th>4</th>\n",
       "      <td>back in stock notification</td>\n",
       "    </tr>\n",
       "    <tr>\n",
       "      <th>5</th>\n",
       "      <td>truck fit</td>\n",
       "    </tr>\n",
       "    <tr>\n",
       "      <th>6</th>\n",
       "      <td>product color view</td>\n",
       "    </tr>\n",
       "    <tr>\n",
       "      <th>7</th>\n",
       "      <td>low stock visible</td>\n",
       "    </tr>\n",
       "    <tr>\n",
       "      <th>8</th>\n",
       "      <td>breadcrumbs</td>\n",
       "    </tr>\n",
       "    <tr>\n",
       "      <th>9</th>\n",
       "      <td>product features</td>\n",
       "    </tr>\n",
       "    <tr>\n",
       "      <th>10</th>\n",
       "      <td>coming soon notification</td>\n",
       "    </tr>\n",
       "  </tbody>\n",
       "</table>\n",
       "</div>"
      ],
      "text/plain": [
       "                   eventAction\n",
       "0            photo interaction\n",
       "1        recommendation strand\n",
       "2       read and write reviews\n",
       "3               review visible\n",
       "4   back in stock notification\n",
       "5                    truck fit\n",
       "6           product color view\n",
       "7            low stock visible\n",
       "8                  breadcrumbs\n",
       "9             product features\n",
       "10    coming soon notification"
      ]
     },
     "execution_count": 10,
     "metadata": {},
     "output_type": "execute_result"
    }
   ],
   "source": [
    "query_job = client.query(\"\"\"SELECT eventAction FROM `enduring-hue-184016.121992452.ga_2018_1_5_events` WHERE eventCategory = 'pdp' GROUP BY eventAction\"\"\")\n",
    "results = query_job.result()\n",
    "results.to_dataframe()"
   ]
  },
  {
   "cell_type": "code",
   "execution_count": 11,
   "metadata": {},
   "outputs": [],
   "source": [
    "# There are 11 different eventActions. \n",
    "# Back in stock/coming soon notification need to consider if the product is available now?\n",
    "# Truck fit only show in Coolers"
   ]
  },
  {
   "cell_type": "code",
   "execution_count": 12,
   "metadata": {},
   "outputs": [],
   "source": [
    "# time period: 2018-01-01 to 2018-05-31"
   ]
  },
  {
   "cell_type": "code",
   "execution_count": 13,
   "metadata": {},
   "outputs": [],
   "source": [
    "query_job = client.query(\"SELECT * FROM `enduring-hue-184016.121992452.results_20180614_110944` \")\n",
    "results = query_job.result()\n",
    "df = results.to_dataframe()\n",
    "#df = df.drop_duplicates()"
   ]
  },
  {
   "cell_type": "code",
   "execution_count": 7,
   "metadata": {},
   "outputs": [
    {
     "data": {
      "text/html": [
       "<div>\n",
       "<style scoped>\n",
       "    .dataframe tbody tr th:only-of-type {\n",
       "        vertical-align: middle;\n",
       "    }\n",
       "\n",
       "    .dataframe tbody tr th {\n",
       "        vertical-align: top;\n",
       "    }\n",
       "\n",
       "    .dataframe thead th {\n",
       "        text-align: right;\n",
       "    }\n",
       "</style>\n",
       "<table border=\"1\" class=\"dataframe\">\n",
       "  <thead>\n",
       "    <tr style=\"text-align: right;\">\n",
       "      <th></th>\n",
       "      <th>A_date</th>\n",
       "      <th>A_eventAction</th>\n",
       "      <th>A_visitorId</th>\n",
       "      <th>A_test</th>\n",
       "      <th>B_eventAction</th>\n",
       "      <th>B_eventLab</th>\n",
       "    </tr>\n",
       "  </thead>\n",
       "  <tbody>\n",
       "    <tr>\n",
       "      <th>0</th>\n",
       "      <td>2018-05-30</td>\n",
       "      <td>back in stock notification</td>\n",
       "      <td>5648504723038898502</td>\n",
       "      <td>hopper two 30</td>\n",
       "      <td>add to cart</td>\n",
       "      <td>hopper two 30</td>\n",
       "    </tr>\n",
       "    <tr>\n",
       "      <th>1</th>\n",
       "      <td>2018-05-30</td>\n",
       "      <td>back in stock notification</td>\n",
       "      <td>1369319254340004256</td>\n",
       "      <td>hopper two 30</td>\n",
       "      <td>add to cart</td>\n",
       "      <td>hopper two 30</td>\n",
       "    </tr>\n",
       "    <tr>\n",
       "      <th>2</th>\n",
       "      <td>2018-05-30</td>\n",
       "      <td>back in stock notification</td>\n",
       "      <td>1057054936983014911</td>\n",
       "      <td>hopper two 30</td>\n",
       "      <td>add to cart</td>\n",
       "      <td>hopper two 30</td>\n",
       "    </tr>\n",
       "    <tr>\n",
       "      <th>3</th>\n",
       "      <td>2018-05-31</td>\n",
       "      <td>back in stock notification</td>\n",
       "      <td>6613959718485270575</td>\n",
       "      <td>hopper two 30</td>\n",
       "      <td>add to cart</td>\n",
       "      <td>hopper two 30</td>\n",
       "    </tr>\n",
       "    <tr>\n",
       "      <th>4</th>\n",
       "      <td>2018-05-31</td>\n",
       "      <td>back in stock notification</td>\n",
       "      <td>1369319254340004256</td>\n",
       "      <td>hopper two 30</td>\n",
       "      <td>add to cart</td>\n",
       "      <td>hopper two 30</td>\n",
       "    </tr>\n",
       "  </tbody>\n",
       "</table>\n",
       "</div>"
      ],
      "text/plain": [
       "       A_date               A_eventAction          A_visitorId         A_test  \\\n",
       "0  2018-05-30  back in stock notification  5648504723038898502  hopper two 30   \n",
       "1  2018-05-30  back in stock notification  1369319254340004256  hopper two 30   \n",
       "2  2018-05-30  back in stock notification  1057054936983014911  hopper two 30   \n",
       "3  2018-05-31  back in stock notification  6613959718485270575  hopper two 30   \n",
       "4  2018-05-31  back in stock notification  1369319254340004256  hopper two 30   \n",
       "\n",
       "  B_eventAction     B_eventLab  \n",
       "0   add to cart  hopper two 30  \n",
       "1   add to cart  hopper two 30  \n",
       "2   add to cart  hopper two 30  \n",
       "3   add to cart  hopper two 30  \n",
       "4   add to cart  hopper two 30  "
      ]
     },
     "execution_count": 7,
     "metadata": {},
     "output_type": "execute_result"
    }
   ],
   "source": [
    "df.head()"
   ]
  },
  {
   "cell_type": "code",
   "execution_count": 8,
   "metadata": {},
   "outputs": [
    {
     "data": {
      "text/plain": [
       "378771"
      ]
     },
     "execution_count": 8,
     "metadata": {},
     "output_type": "execute_result"
    }
   ],
   "source": [
    "# numbers of customers (visitors who add products to cart)\n",
    "len(list(set(df.A_visitorId))) "
   ]
  },
  {
   "cell_type": "code",
   "execution_count": 9,
   "metadata": {},
   "outputs": [],
   "source": [
    "# numbers of \"add_to_cart\"\n",
    "cart = df.groupby(['A_date','A_visitorId','A_test'])['B_eventAction'].count()"
   ]
  },
  {
   "cell_type": "code",
   "execution_count": 103,
   "metadata": {},
   "outputs": [
    {
     "data": {
      "text/plain": [
       "A_date      A_visitorId          A_test                 \n",
       "2018-01-01  1000336320415534046  tundra 45                  10\n",
       "            1001613940042162041  rambler bottle chug cap     1\n",
       "            1004208637159831629  rambler 20 oz tumbler       9\n",
       "            1006959207230664714  rambler 30 oz tumbler      15\n",
       "            100712582247722762   rambler 20 oz tumbler       1\n",
       "Name: B_eventAction, dtype: int64"
      ]
     },
     "execution_count": 103,
     "metadata": {},
     "output_type": "execute_result"
    }
   ],
   "source": [
    "cart.head()"
   ]
  },
  {
   "cell_type": "code",
   "execution_count": 104,
   "metadata": {},
   "outputs": [
    {
     "data": {
      "text/plain": [
       "520644"
      ]
     },
     "execution_count": 104,
     "metadata": {},
     "output_type": "execute_result"
    }
   ],
   "source": [
    "len(cart) # numbers of add_to_cart (has series of actions before) after filtering and grouping by"
   ]
  },
  {
   "cell_type": "code",
   "execution_count": 105,
   "metadata": {},
   "outputs": [],
   "source": [
    "##################################################### photo interaction\n",
    "photo = df[df.A_eventAction == 'photo interaction']"
   ]
  },
  {
   "cell_type": "code",
   "execution_count": 106,
   "metadata": {},
   "outputs": [],
   "source": [
    "photo = photo.groupby(['A_date','A_visitorId','A_test'])['B_eventAction'].count()"
   ]
  },
  {
   "cell_type": "code",
   "execution_count": 107,
   "metadata": {},
   "outputs": [],
   "source": [
    "per_p = len(photo)/len(cart)"
   ]
  },
  {
   "cell_type": "code",
   "execution_count": 108,
   "metadata": {},
   "outputs": [],
   "source": [
    "p=photo.to_frame().reset_index()"
   ]
  },
  {
   "cell_type": "code",
   "execution_count": 205,
   "metadata": {},
   "outputs": [
    {
     "data": {
      "text/plain": [
       "<matplotlib.axes._subplots.AxesSubplot at 0x1db06f4d8d0>"
      ]
     },
     "execution_count": 205,
     "metadata": {},
     "output_type": "execute_result"
    },
    {
     "data": {
      "image/png": "[encoded data removed]",
      "text/plain": [
       "<matplotlib.figure.Figure at 0x1db02bf83c8>"
      ]
     },
     "metadata": {},
     "output_type": "display_data"
    }
   ],
   "source": [
    "p.boxplot(column = 'B_eventAction')"
   ]
  },
  {
   "cell_type": "code",
   "execution_count": 206,
   "metadata": {},
   "outputs": [
    {
     "data": {
      "text/plain": [
       "1.7804772889914169"
      ]
     },
     "execution_count": 206,
     "metadata": {},
     "output_type": "execute_result"
    }
   ],
   "source": [
    "np.mean(p.B_eventAction)"
   ]
  },
  {
   "cell_type": "code",
   "execution_count": 207,
   "metadata": {},
   "outputs": [
    {
     "data": {
      "text/plain": [
       "count    224979.000000\n",
       "mean          1.780477\n",
       "std           1.067019\n",
       "min           1.000000\n",
       "25%           1.000000\n",
       "50%           2.000000\n",
       "75%           2.000000\n",
       "max          40.000000\n",
       "Name: B_eventAction, dtype: float64"
      ]
     },
     "execution_count": 207,
     "metadata": {},
     "output_type": "execute_result"
    }
   ],
   "source": [
    "p.B_eventAction.describe()"
   ]
  },
  {
   "cell_type": "code",
   "execution_count": null,
   "metadata": {},
   "outputs": [],
   "source": []
  },
  {
   "cell_type": "code",
   "execution_count": 208,
   "metadata": {},
   "outputs": [],
   "source": [
    "##################################################### read and write reviews"
   ]
  },
  {
   "cell_type": "code",
   "execution_count": 209,
   "metadata": {},
   "outputs": [],
   "source": [
    "review = df[df.A_eventAction == 'read and write reviews']"
   ]
  },
  {
   "cell_type": "code",
   "execution_count": 210,
   "metadata": {},
   "outputs": [],
   "source": [
    "review = review.groupby(['A_date','A_visitorId','A_test'])['B_eventAction'].count()"
   ]
  },
  {
   "cell_type": "code",
   "execution_count": 211,
   "metadata": {},
   "outputs": [],
   "source": [
    "per_r = len(review)/len(cart)"
   ]
  },
  {
   "cell_type": "code",
   "execution_count": 212,
   "metadata": {},
   "outputs": [],
   "source": [
    "r=review.to_frame().reset_index()"
   ]
  },
  {
   "cell_type": "code",
   "execution_count": 213,
   "metadata": {},
   "outputs": [
    {
     "data": {
      "text/plain": [
       "<matplotlib.axes._subplots.AxesSubplot at 0x1db0bffa588>"
      ]
     },
     "execution_count": 213,
     "metadata": {},
     "output_type": "execute_result"
    },
    {
     "data": {
      "image/png": "[encoded data removed]",
      "text/plain": [
       "<matplotlib.figure.Figure at 0x1db20c28d30>"
      ]
     },
     "metadata": {},
     "output_type": "display_data"
    }
   ],
   "source": [
    "r.boxplot(column = 'B_eventAction')"
   ]
  },
  {
   "cell_type": "code",
   "execution_count": 302,
   "metadata": {},
   "outputs": [
    {
     "data": {
      "text/plain": [
       "1.233035294117647"
      ]
     },
     "execution_count": 302,
     "metadata": {},
     "output_type": "execute_result"
    }
   ],
   "source": [
    "np.mean(r.B_eventAction)"
   ]
  },
  {
   "cell_type": "code",
   "execution_count": 214,
   "metadata": {},
   "outputs": [
    {
     "data": {
      "text/plain": [
       "count    10625.000000\n",
       "mean         1.233035\n",
       "std          0.615974\n",
       "min          1.000000\n",
       "25%          1.000000\n",
       "50%          1.000000\n",
       "75%          1.000000\n",
       "max         15.000000\n",
       "Name: B_eventAction, dtype: float64"
      ]
     },
     "execution_count": 214,
     "metadata": {},
     "output_type": "execute_result"
    }
   ],
   "source": [
    "r.B_eventAction.describe()"
   ]
  },
  {
   "cell_type": "code",
   "execution_count": 215,
   "metadata": {},
   "outputs": [],
   "source": [
    "##################################################### product features"
   ]
  },
  {
   "cell_type": "code",
   "execution_count": 216,
   "metadata": {},
   "outputs": [],
   "source": [
    "feature = df[df.A_eventAction == 'product features']"
   ]
  },
  {
   "cell_type": "code",
   "execution_count": 217,
   "metadata": {},
   "outputs": [],
   "source": [
    "feature = feature.groupby(['A_date','A_visitorId','A_test'])['B_eventAction'].count()"
   ]
  },
  {
   "cell_type": "code",
   "execution_count": 218,
   "metadata": {},
   "outputs": [],
   "source": [
    "per_f = len(feature)/len(cart)"
   ]
  },
  {
   "cell_type": "code",
   "execution_count": 219,
   "metadata": {},
   "outputs": [],
   "source": [
    "f=feature.to_frame().reset_index()"
   ]
  },
  {
   "cell_type": "code",
   "execution_count": 220,
   "metadata": {},
   "outputs": [
    {
     "data": {
      "text/plain": [
       "<matplotlib.axes._subplots.AxesSubplot at 0x1db01a8f780>"
      ]
     },
     "execution_count": 220,
     "metadata": {},
     "output_type": "execute_result"
    },
    {
     "data": {
      "image/png": "[encoded data removed]",
      "text/plain": [
       "<matplotlib.figure.Figure at 0x1db2092cf98>"
      ]
     },
     "metadata": {},
     "output_type": "display_data"
    }
   ],
   "source": [
    "f.boxplot(column = 'B_eventAction')"
   ]
  },
  {
   "cell_type": "code",
   "execution_count": 303,
   "metadata": {},
   "outputs": [
    {
     "data": {
      "text/plain": [
       "1.3481442470271918"
      ]
     },
     "execution_count": 303,
     "metadata": {},
     "output_type": "execute_result"
    }
   ],
   "source": [
    "np.mean(f.B_eventAction)"
   ]
  },
  {
   "cell_type": "code",
   "execution_count": 221,
   "metadata": {},
   "outputs": [
    {
     "data": {
      "text/plain": [
       "count    36077.000000\n",
       "mean         1.348144\n",
       "std          0.712949\n",
       "min          1.000000\n",
       "25%          1.000000\n",
       "50%          1.000000\n",
       "75%          2.000000\n",
       "max         15.000000\n",
       "Name: B_eventAction, dtype: float64"
      ]
     },
     "execution_count": 221,
     "metadata": {},
     "output_type": "execute_result"
    }
   ],
   "source": [
    "f.B_eventAction.describe()"
   ]
  },
  {
   "cell_type": "code",
   "execution_count": 222,
   "metadata": {},
   "outputs": [],
   "source": [
    "##################################################### product color view"
   ]
  },
  {
   "cell_type": "code",
   "execution_count": 223,
   "metadata": {},
   "outputs": [],
   "source": [
    "color = df[df.A_eventAction == 'product color view']"
   ]
  },
  {
   "cell_type": "code",
   "execution_count": 224,
   "metadata": {},
   "outputs": [],
   "source": [
    "color = color.groupby(['A_date','A_visitorId','A_test'])['B_eventAction'].count()"
   ]
  },
  {
   "cell_type": "code",
   "execution_count": 225,
   "metadata": {},
   "outputs": [],
   "source": [
    "per_c = len(color)/len(cart)"
   ]
  },
  {
   "cell_type": "code",
   "execution_count": 226,
   "metadata": {},
   "outputs": [],
   "source": [
    "c=color.to_frame().reset_index()"
   ]
  },
  {
   "cell_type": "code",
   "execution_count": 227,
   "metadata": {
    "scrolled": true
   },
   "outputs": [
    {
     "data": {
      "text/plain": [
       "<matplotlib.axes._subplots.AxesSubplot at 0x1db061d8518>"
      ]
     },
     "execution_count": 227,
     "metadata": {},
     "output_type": "execute_result"
    },
    {
     "data": {
      "image/png": "[encoded data removed]",
      "text/plain": [
       "<matplotlib.figure.Figure at 0x1db138b2320>"
      ]
     },
     "metadata": {},
     "output_type": "display_data"
    }
   ],
   "source": [
    "c.boxplot(column = 'B_eventAction')"
   ]
  },
  {
   "cell_type": "code",
   "execution_count": 304,
   "metadata": {},
   "outputs": [
    {
     "data": {
      "text/plain": [
       "3.605788752561579"
      ]
     },
     "execution_count": 304,
     "metadata": {},
     "output_type": "execute_result"
    }
   ],
   "source": [
    "np.mean(c.B_eventAction)"
   ]
  },
  {
   "cell_type": "code",
   "execution_count": 228,
   "metadata": {},
   "outputs": [
    {
     "data": {
      "text/plain": [
       "count    421127.000000\n",
       "mean          3.605789\n",
       "std           3.406972\n",
       "min           1.000000\n",
       "25%           1.000000\n",
       "50%           3.000000\n",
       "75%           5.000000\n",
       "max         287.000000\n",
       "Name: B_eventAction, dtype: float64"
      ]
     },
     "execution_count": 228,
     "metadata": {},
     "output_type": "execute_result"
    }
   ],
   "source": [
    "c.B_eventAction.describe()"
   ]
  },
  {
   "cell_type": "code",
   "execution_count": 229,
   "metadata": {},
   "outputs": [],
   "source": [
    "##################################################### recommendation strand"
   ]
  },
  {
   "cell_type": "code",
   "execution_count": 230,
   "metadata": {},
   "outputs": [],
   "source": [
    "reco = df[df.A_eventAction == 'recommendation strand']"
   ]
  },
  {
   "cell_type": "code",
   "execution_count": 231,
   "metadata": {},
   "outputs": [],
   "source": [
    "reco = reco.groupby(['A_date','A_visitorId','A_test'])['B_eventAction'].count()"
   ]
  },
  {
   "cell_type": "code",
   "execution_count": 232,
   "metadata": {},
   "outputs": [],
   "source": [
    "per_re = len(reco)/len(cart)"
   ]
  },
  {
   "cell_type": "code",
   "execution_count": 233,
   "metadata": {},
   "outputs": [],
   "source": [
    "re=reco.to_frame().reset_index()"
   ]
  },
  {
   "cell_type": "code",
   "execution_count": 234,
   "metadata": {},
   "outputs": [
    {
     "data": {
      "text/plain": [
       "<matplotlib.axes._subplots.AxesSubplot at 0x1db0b6b2080>"
      ]
     },
     "execution_count": 234,
     "metadata": {},
     "output_type": "execute_result"
    },
    {
     "data": {
      "image/png": "[encoded data removed]",
      "text/plain": [
       "<matplotlib.figure.Figure at 0x1db3359b978>"
      ]
     },
     "metadata": {},
     "output_type": "display_data"
    }
   ],
   "source": [
    "re.boxplot(column = 'B_eventAction')"
   ]
  },
  {
   "cell_type": "code",
   "execution_count": 305,
   "metadata": {},
   "outputs": [
    {
     "data": {
      "text/plain": [
       "1.1182705046368782"
      ]
     },
     "execution_count": 305,
     "metadata": {},
     "output_type": "execute_result"
    }
   ],
   "source": [
    "np.mean(re.B_eventAction)"
   ]
  },
  {
   "cell_type": "code",
   "execution_count": 235,
   "metadata": {},
   "outputs": [
    {
     "data": {
      "text/plain": [
       "count    24909.000000\n",
       "mean         1.118271\n",
       "std          0.423702\n",
       "min          1.000000\n",
       "25%          1.000000\n",
       "50%          1.000000\n",
       "75%          1.000000\n",
       "max         12.000000\n",
       "Name: B_eventAction, dtype: float64"
      ]
     },
     "execution_count": 235,
     "metadata": {},
     "output_type": "execute_result"
    }
   ],
   "source": [
    "re.B_eventAction.describe()"
   ]
  },
  {
   "cell_type": "code",
   "execution_count": 236,
   "metadata": {},
   "outputs": [],
   "source": [
    "##################################################### review visible"
   ]
  },
  {
   "cell_type": "code",
   "execution_count": 237,
   "metadata": {},
   "outputs": [],
   "source": [
    "visi = df[df.A_eventAction == 'review visible']"
   ]
  },
  {
   "cell_type": "code",
   "execution_count": 238,
   "metadata": {},
   "outputs": [],
   "source": [
    "visi = visi .groupby(['A_date','A_visitorId','A_test'])['B_eventAction'].count()"
   ]
  },
  {
   "cell_type": "code",
   "execution_count": 239,
   "metadata": {},
   "outputs": [],
   "source": [
    "per_v = len(visi)/len(cart)"
   ]
  },
  {
   "cell_type": "code",
   "execution_count": 240,
   "metadata": {},
   "outputs": [],
   "source": [
    "v=visi.to_frame().reset_index()"
   ]
  },
  {
   "cell_type": "code",
   "execution_count": 241,
   "metadata": {},
   "outputs": [
    {
     "data": {
      "text/plain": [
       "<matplotlib.axes._subplots.AxesSubplot at 0x1db0e085c50>"
      ]
     },
     "execution_count": 241,
     "metadata": {},
     "output_type": "execute_result"
    },
    {
     "data": {
      "image/png": "[encoded data removed]",
      "text/plain": [
       "<matplotlib.figure.Figure at 0x1db028ea320>"
      ]
     },
     "metadata": {},
     "output_type": "display_data"
    }
   ],
   "source": [
    "v.boxplot(column = 'B_eventAction')"
   ]
  },
  {
   "cell_type": "code",
   "execution_count": 306,
   "metadata": {},
   "outputs": [
    {
     "data": {
      "text/plain": [
       "4.361726571475463"
      ]
     },
     "execution_count": 306,
     "metadata": {},
     "output_type": "execute_result"
    }
   ],
   "source": [
    "np.mean(v.B_eventAction)"
   ]
  },
  {
   "cell_type": "code",
   "execution_count": 242,
   "metadata": {},
   "outputs": [
    {
     "data": {
      "text/plain": [
       "count    6093.000000\n",
       "mean        4.361727\n",
       "std         5.556679\n",
       "min         1.000000\n",
       "25%         1.000000\n",
       "50%         3.000000\n",
       "75%         5.000000\n",
       "max       110.000000\n",
       "Name: B_eventAction, dtype: float64"
      ]
     },
     "execution_count": 242,
     "metadata": {},
     "output_type": "execute_result"
    }
   ],
   "source": [
    "v.B_eventAction.describe()"
   ]
  },
  {
   "cell_type": "code",
   "execution_count": 243,
   "metadata": {},
   "outputs": [],
   "source": [
    "##################################################### breadcrumbs"
   ]
  },
  {
   "cell_type": "code",
   "execution_count": 244,
   "metadata": {},
   "outputs": [],
   "source": [
    "breadcrumbs = df[df.A_eventAction == 'breadcrumbs']"
   ]
  },
  {
   "cell_type": "code",
   "execution_count": 245,
   "metadata": {},
   "outputs": [],
   "source": [
    "breadcrumbs = breadcrumbs .groupby(['A_date','A_visitorId','A_test'])['B_eventAction'].count()"
   ]
  },
  {
   "cell_type": "code",
   "execution_count": 246,
   "metadata": {},
   "outputs": [],
   "source": [
    "per_b = len(breadcrumbs)/len(cart)"
   ]
  },
  {
   "cell_type": "code",
   "execution_count": 247,
   "metadata": {},
   "outputs": [],
   "source": [
    "b=breadcrumbs.to_frame().reset_index()"
   ]
  },
  {
   "cell_type": "code",
   "execution_count": 248,
   "metadata": {},
   "outputs": [
    {
     "data": {
      "text/plain": [
       "<matplotlib.axes._subplots.AxesSubplot at 0x1db4bfca978>"
      ]
     },
     "execution_count": 248,
     "metadata": {},
     "output_type": "execute_result"
    },
    {
     "data": {
      "image/png": "[encoded data removed]",
      "text/plain": [
       "<matplotlib.figure.Figure at 0x1db60696da0>"
      ]
     },
     "metadata": {},
     "output_type": "display_data"
    }
   ],
   "source": [
    "b.boxplot(column = 'B_eventAction')"
   ]
  },
  {
   "cell_type": "code",
   "execution_count": 307,
   "metadata": {},
   "outputs": [
    {
     "data": {
      "text/plain": [
       "1.1451654052215325"
      ]
     },
     "execution_count": 307,
     "metadata": {},
     "output_type": "execute_result"
    }
   ],
   "source": [
    "np.mean(b.B_eventAction)"
   ]
  },
  {
   "cell_type": "code",
   "execution_count": 255,
   "metadata": {},
   "outputs": [
    {
     "data": {
      "text/plain": [
       "count    11759.000000\n",
       "mean         1.145165\n",
       "std          0.475385\n",
       "min          1.000000\n",
       "25%          1.000000\n",
       "50%          1.000000\n",
       "75%          1.000000\n",
       "max         15.000000\n",
       "Name: B_eventAction, dtype: float64"
      ]
     },
     "execution_count": 255,
     "metadata": {},
     "output_type": "execute_result"
    }
   ],
   "source": [
    "b.B_eventAction.describe()"
   ]
  },
  {
   "cell_type": "code",
   "execution_count": 256,
   "metadata": {},
   "outputs": [],
   "source": [
    "#####plot######"
   ]
  },
  {
   "cell_type": "code",
   "execution_count": 257,
   "metadata": {},
   "outputs": [],
   "source": [
    "data = [per_p, per_c, per_r, per_f, per_re, per_v, per_b]"
   ]
  },
  {
   "cell_type": "code",
   "execution_count": 258,
   "metadata": {},
   "outputs": [
    {
     "data": {
      "text/plain": [
       "[0.4321167630857169,\n",
       " 0.808857876015089,\n",
       " 0.020407418504774857,\n",
       " 0.06929302940204823,\n",
       " 0.04784267176804112,\n",
       " 0.011702814207020537,\n",
       " 0.022585490277425648]"
      ]
     },
     "execution_count": 258,
     "metadata": {},
     "output_type": "execute_result"
    }
   ],
   "source": [
    "data"
   ]
  },
  {
   "cell_type": "code",
   "execution_count": 259,
   "metadata": {},
   "outputs": [
    {
     "data": {
      "image/png": "[encoded data removed]",
      "text/plain": [
       "<matplotlib.figure.Figure at 0x1db5cc5dfd0>"
      ]
     },
     "metadata": {},
     "output_type": "display_data"
    }
   ],
   "source": [
    "bars = ('photo interaction', 'product color view', 'read and write reviews', 'product features', 'recommendation strand','review visible',  'breadcrumbs')\n",
    "plt.figure(figsize=(20,10))\n",
    "plt.bar(range(len(data)), height = data)\n",
    "plt.xticks(range(len(data)), bars)\n",
    "#plt.title(\"Percentage of \")\n",
    "plt.show()\n"
   ]
  },
  {
   "cell_type": "code",
   "execution_count": null,
   "metadata": {},
   "outputs": [],
   "source": []
  },
  {
   "cell_type": "code",
   "execution_count": null,
   "metadata": {},
   "outputs": [],
   "source": []
  },
  {
   "cell_type": "code",
   "execution_count": 260,
   "metadata": {},
   "outputs": [],
   "source": [
    "###############################################truck fit"
   ]
  },
  {
   "cell_type": "code",
   "execution_count": 261,
   "metadata": {},
   "outputs": [],
   "source": [
    "q=df[df['A_test'].str.contains(\"tundra\") | df['A_test'].str.contains(\"hopper\") | df['A_test'].str.contains(\"roadie\")]\n",
    "cart_coolers=q[q['A_test'] != 'tundra dividers']"
   ]
  },
  {
   "cell_type": "code",
   "execution_count": 262,
   "metadata": {},
   "outputs": [],
   "source": [
    "cart_coolers = cart_coolers.groupby(['A_date','A_visitorId','A_test'])['B_eventAction'].count()"
   ]
  },
  {
   "cell_type": "code",
   "execution_count": 263,
   "metadata": {},
   "outputs": [
    {
     "data": {
      "text/plain": [
       "98227"
      ]
     },
     "execution_count": 263,
     "metadata": {},
     "output_type": "execute_result"
    }
   ],
   "source": [
    "len(cart_coolers)"
   ]
  },
  {
   "cell_type": "code",
   "execution_count": 268,
   "metadata": {},
   "outputs": [
    {
     "data": {
      "text/plain": [
       "A_date      A_visitorId          A_test        \n",
       "2018-01-01  1000336320415534046  tundra 45         10\n",
       "            1007381634444056161  roadie 20          2\n",
       "            1080320225058657095  tundra 50          6\n",
       "            1084326506127876184  hopper flip 18     1\n",
       "            1163883877564976497  tundra 75          1\n",
       "Name: B_eventAction, dtype: int64"
      ]
     },
     "execution_count": 268,
     "metadata": {},
     "output_type": "execute_result"
    }
   ],
   "source": [
    "cart_coolers.head()"
   ]
  },
  {
   "cell_type": "code",
   "execution_count": 269,
   "metadata": {},
   "outputs": [],
   "source": [
    "truck = df[df.A_eventAction == 'truck fit']"
   ]
  },
  {
   "cell_type": "code",
   "execution_count": 270,
   "metadata": {},
   "outputs": [],
   "source": [
    "truck = truck.groupby(['A_date','A_visitorId','A_test'])['B_eventAction'].count()"
   ]
  },
  {
   "cell_type": "code",
   "execution_count": 271,
   "metadata": {},
   "outputs": [
    {
     "data": {
      "text/plain": [
       "A_date      A_visitorId          A_test   \n",
       "2018-01-01  1000336320415534046  tundra 45    8\n",
       "            2348891798648826045  tundra 65    9\n",
       "            2610660417433360100  roadie 20    3\n",
       "            2932041631803270601  tundra 65    7\n",
       "            3633021277088446939  roadie 20    8\n",
       "Name: B_eventAction, dtype: int64"
      ]
     },
     "execution_count": 271,
     "metadata": {},
     "output_type": "execute_result"
    }
   ],
   "source": [
    "truck.head()"
   ]
  },
  {
   "cell_type": "code",
   "execution_count": 272,
   "metadata": {},
   "outputs": [],
   "source": [
    "per_t = len(truck)/len(cart_coolers)"
   ]
  },
  {
   "cell_type": "code",
   "execution_count": 273,
   "metadata": {},
   "outputs": [
    {
     "data": {
      "text/plain": [
       "0.11093691143982816"
      ]
     },
     "execution_count": 273,
     "metadata": {},
     "output_type": "execute_result"
    }
   ],
   "source": [
    "per_t"
   ]
  },
  {
   "cell_type": "code",
   "execution_count": 274,
   "metadata": {},
   "outputs": [],
   "source": [
    "t=truck.to_frame().reset_index()"
   ]
  },
  {
   "cell_type": "code",
   "execution_count": 275,
   "metadata": {},
   "outputs": [
    {
     "data": {
      "text/plain": [
       "<matplotlib.axes._subplots.AxesSubplot at 0x1db752b5978>"
      ]
     },
     "execution_count": 275,
     "metadata": {},
     "output_type": "execute_result"
    },
    {
     "data": {
      "image/png": "[encoded data removed]",
      "text/plain": [
       "<matplotlib.figure.Figure at 0x1db030e1048>"
      ]
     },
     "metadata": {},
     "output_type": "display_data"
    }
   ],
   "source": [
    "t.boxplot(column = 'B_eventAction')"
   ]
  },
  {
   "cell_type": "code",
   "execution_count": 278,
   "metadata": {},
   "outputs": [
    {
     "data": {
      "text/plain": [
       "4.341378361016794"
      ]
     },
     "execution_count": 278,
     "metadata": {},
     "output_type": "execute_result"
    }
   ],
   "source": [
    "np.mean(t.B_eventAction)"
   ]
  },
  {
   "cell_type": "code",
   "execution_count": 276,
   "metadata": {},
   "outputs": [
    {
     "data": {
      "text/plain": [
       "count    10897.000000\n",
       "mean         4.341378\n",
       "std          3.455986\n",
       "min          1.000000\n",
       "25%          2.000000\n",
       "50%          4.000000\n",
       "75%          6.000000\n",
       "max         40.000000\n",
       "Name: B_eventAction, dtype: float64"
      ]
     },
     "execution_count": 276,
     "metadata": {},
     "output_type": "execute_result"
    }
   ],
   "source": [
    "t.B_eventAction.describe()"
   ]
  },
  {
   "cell_type": "code",
   "execution_count": null,
   "metadata": {},
   "outputs": [],
   "source": [
    "bars = ('photo interaction', 'product color view', 'read and write reviews', 'product features', 'recommendation strand','review visible',  'breadcrumbs')\n"
   ]
  },
  {
   "cell_type": "code",
   "execution_count": null,
   "metadata": {},
   "outputs": [],
   "source": [
    "##########################################################################################################################\n",
    "##########################################################################################################################"
   ]
  },
  {
   "cell_type": "code",
   "execution_count": null,
   "metadata": {},
   "outputs": [],
   "source": [
    "# all actions"
   ]
  },
  {
   "cell_type": "code",
   "execution_count": null,
   "metadata": {},
   "outputs": [],
   "source": [
    "# Because data table is too large to open. Just write down the result from BigQuery execution"
   ]
  },
  {
   "cell_type": "code",
   "execution_count": 291,
   "metadata": {},
   "outputs": [],
   "source": [
    "# Number of visitors:\n",
    "# SELECT count(DISTINCT visitorid) FROM `enduring-hue-184016.121992452.ga_2018_1_5_events` where eventCategory = 'pdp'\n",
    "VISITOR = 3053155"
   ]
  },
  {
   "cell_type": "code",
   "execution_count": 279,
   "metadata": {},
   "outputs": [],
   "source": [
    "# Overall numbers of looking: \n",
    "# SELECT date, visitorId,Count(eventAction) FROM [enduring-hue-184016:121992452.ga_2018_1_5_events] WHERE eventCategory = 'pdp' GROUP BY date, visitorId\n",
    "OVERALL = 3993949"
   ]
  },
  {
   "cell_type": "code",
   "execution_count": 292,
   "metadata": {},
   "outputs": [
    {
     "data": {
      "text/plain": [
       "1.3081383028375566"
      ]
     },
     "execution_count": 292,
     "metadata": {},
     "output_type": "execute_result"
    }
   ],
   "source": [
    "# average numbers of serve YETI websites:\n",
    "OVERALL/VISITOR"
   ]
  },
  {
   "cell_type": "code",
   "execution_count": 293,
   "metadata": {},
   "outputs": [],
   "source": [
    "# photo interaction\n",
    "# SELECT Count(eventAction) FROM [enduring-hue-184016:121992452.ga_2018_1_5_events] WHERE eventAction = 'photo interaction' GROUP BY date, visitorId\n",
    "PHOTO = 2346923\n",
    "avg_p = 2.379"
   ]
  },
  {
   "cell_type": "code",
   "execution_count": 294,
   "metadata": {},
   "outputs": [],
   "source": [
    "# product color view\n",
    "# SELECT Count(eventAction) FROM [enduring-hue-184016:121992452.ga_2018_1_5_events] WHERE eventAction = 'product color view' GROUP BY date, visitorId\n",
    "COLOR = 3116766\n",
    "avg_c = 3.932"
   ]
  },
  {
   "cell_type": "code",
   "execution_count": 295,
   "metadata": {},
   "outputs": [],
   "source": [
    "# read and write reviews\n",
    "# SELECT Count(eventAction) FROM [enduring-hue-184016:121992452.ga_2018_1_5_events] WHERE eventAction = 'read and write reviews' GROUP BY date, visitorId\n",
    "REVIEW = 101278\n",
    "avg_review = 1.2163"
   ]
  },
  {
   "cell_type": "code",
   "execution_count": 296,
   "metadata": {},
   "outputs": [],
   "source": [
    "# product features\n",
    "# SELECT Count(eventAction) FROM [enduring-hue-184016:121992452.ga_2018_1_5_events] WHERE eventAction = 'product features' GROUP BY date, visitorId\n",
    "FEATURE = 394127\n",
    "avg_feature = 1.50"
   ]
  },
  {
   "cell_type": "code",
   "execution_count": 297,
   "metadata": {},
   "outputs": [],
   "source": [
    "# recommendation strand\n",
    "# SELECT Count(eventAction) FROM [enduring-hue-184016:121992452.ga_2018_1_5_events] WHERE eventAction = 'recommendation strand' GROUP BY date, visitorId\n",
    "RECOMMEN = 521966\n",
    "avg_recommen = 1.143"
   ]
  },
  {
   "cell_type": "code",
   "execution_count": 298,
   "metadata": {},
   "outputs": [],
   "source": [
    "# review visible\n",
    "# SELECT Count(eventAction) FROM [enduring-hue-184016:121992452.ga_2018_1_5_events] WHERE eventAction = 'review visible' GROUP BY date, visitorId\n",
    "VISI = 74477\n",
    "avg_visi = 4.151"
   ]
  },
  {
   "cell_type": "code",
   "execution_count": 299,
   "metadata": {},
   "outputs": [],
   "source": [
    "# breadcrumbs\n",
    "# SELECT Count(eventAction) FROM [enduring-hue-184016:121992452.ga_2018_1_5_events] WHERE eventAction = 'breadcrumbs' GROUP BY date, visitorId\n",
    "BREADCRUMB = 127764\n",
    "avg_bread = 1.183"
   ]
  },
  {
   "cell_type": "code",
   "execution_count": 300,
   "metadata": {},
   "outputs": [],
   "source": [
    "data1 = [PHOTO/OVERALL, COLOR/OVERALL, REVIEW/OVERALL,FEATURE/OVERALL, RECOMMEN/OVERALL, VISI/OVERALL , BREADCRUMB/OVERALL]"
   ]
  },
  {
   "cell_type": "code",
   "execution_count": 301,
   "metadata": {},
   "outputs": [
    {
     "data": {
      "text/plain": [
       "[0.5876196716583011,\n",
       " 0.7803720077547309,\n",
       " 0.025357860102870618,\n",
       " 0.09868102972772061,\n",
       " 0.13068920008743226,\n",
       " 0.018647458943516805,\n",
       " 0.03198939195267641]"
      ]
     },
     "execution_count": 301,
     "metadata": {},
     "output_type": "execute_result"
    }
   ],
   "source": [
    "data1"
   ]
  },
  {
   "cell_type": "code",
   "execution_count": null,
   "metadata": {},
   "outputs": [],
   "source": [
    "avg_All = [avg_p, avg_c, avg_review, avg_feature, avg_recommen, avg_visi, avg_bread]"
   ]
  },
  {
   "cell_type": "code",
   "execution_count": 1,
   "metadata": {},
   "outputs": [],
   "source": [
    "##########################################################################################################################\n",
    "##########################################################################################################################"
   ]
  },
  {
   "cell_type": "code",
   "execution_count": null,
   "metadata": {},
   "outputs": [],
   "source": [
    "# Not add_to_cart actions II (just actions from visitors who did not add anything to cart)"
   ]
  },
  {
   "cell_type": "code",
   "execution_count": 2,
   "metadata": {},
   "outputs": [],
   "source": [
    "# photo interaction\n",
    "#SELECT AVG(Q) FROM (SELECT COUNT(A.EVENTACTION) AS Q FROM (\n",
    "#SELECT A.date, A.visitorID, A.EVENTACTION FROM (SELECT date, VisitorId, eventAction FROM [enduring-hue-184016:121992452.ga_2018_1_5_events] where eventaction = 'photo interaction') A left join\n",
    "#(SELECT date, VIsitorId FROM [enduring-hue-184016:121992452.ga_2018_1_5_events] where eventAction='add to cart') B\n",
    "#ON A.date=B.date and A.viSitorId = B.visItorId where B.date is null) GROUP BY a.date, a.visitorId)\n",
    "avg_II_Photo = 2.311247729795423"
   ]
  },
  {
   "cell_type": "code",
   "execution_count": 3,
   "metadata": {},
   "outputs": [],
   "source": [
    "# product color view\n",
    "#SELECT AVG(Q) FROM (SELECT COUNT(A.EVENTACTION) AS Q FROM (\n",
    "#SELECT A.date, A.visitorID, A.EVENTACTION FROM (SELECT date, VisitorId, eventAction FROM [enduring-hue-184016:121992452.ga_2018_1_5_events] where eventaction = 'product color view') A left join\n",
    "#(SELECT date, VIsitorId FROM [enduring-hue-184016:121992452.ga_2018_1_5_events] where eventAction='add to cart') B\n",
    "#ON A.date=B.date and A.viSitorId = B.visItorId where B.date is null) GROUP BY a.date, a.visitorId)\n",
    "avg_II_Color = 3.711932100130762"
   ]
  },
  {
   "cell_type": "code",
   "execution_count": 4,
   "metadata": {},
   "outputs": [],
   "source": [
    "# read and write reviews\n",
    "#SELECT AVG(Q) FROM (SELECT COUNT(A.EVENTACTION) AS Q FROM (\n",
    "#SELECT A.date, A.visitorID, A.EVENTACTION FROM (SELECT date, VisitorId, eventAction FROM [enduring-hue-184016:121992452.ga_2018_1_5_events] where eventaction = 'read and write reviews') A left join\n",
    "#(SELECT date, VIsitorId FROM [enduring-hue-184016:121992452.ga_2018_1_5_events] where eventAction='add to cart') B\n",
    "#ON A.date=B.date and A.viSitorId = B.visItorId where B.date is null) GROUP BY a.date, a.visitorId)\n",
    "avg_II_Reviews = 1.199357179150862"
   ]
  },
  {
   "cell_type": "code",
   "execution_count": 5,
   "metadata": {},
   "outputs": [],
   "source": [
    "# product features\n",
    "#SELECT AVG(Q) FROM (SELECT COUNT(A.EVENTACTION) AS Q FROM (\n",
    "#SELECT A.date, A.visitorID, A.EVENTACTION FROM (SELECT date, VisitorId, eventAction FROM [enduring-hue-184016:121992452.ga_2018_1_5_events] where eventaction = 'product features') A left join\n",
    "#(SELECT date, VIsitorId FROM [enduring-hue-184016:121992452.ga_2018_1_5_events] where eventAction='add to cart') B\n",
    "#ON A.date=B.date and A.viSitorId = B.visItorId where B.date is null) GROUP BY a.date, a.visitorId)\n",
    "avg_II_Features = 1.4873828639096267"
   ]
  },
  {
   "cell_type": "code",
   "execution_count": 6,
   "metadata": {},
   "outputs": [],
   "source": [
    "# recommendation strand\n",
    "#SELECT AVG(Q) FROM (SELECT COUNT(A.EVENTACTION) AS Q FROM (\n",
    "#SELECT A.date, A.visitorID, A.EVENTACTION FROM (SELECT date, VisitorId, eventAction FROM [enduring-hue-184016:121992452.ga_2018_1_5_events] where eventaction = 'recommendation strand') A left join\n",
    "#(SELECT date, VIsitorId FROM [enduring-hue-184016:121992452.ga_2018_1_5_events] where eventAction='add to cart') B\n",
    "#ON A.date=B.date and A.viSitorId = B.visItorId where B.date is null) GROUP BY a.date, a.visitorId)\n",
    "avg_II_Recom = 1.1213252438901504"
   ]
  },
  {
   "cell_type": "code",
   "execution_count": 7,
   "metadata": {},
   "outputs": [],
   "source": [
    "# review visible\n",
    "#SELECT AVG(Q) FROM (SELECT COUNT(A.EVENTACTION) AS Q FROM (\n",
    "#SELECT A.date, A.visitorID, A.EVENTACTION FROM (SELECT date, VisitorId, eventAction FROM [enduring-hue-184016:121992452.ga_2018_1_5_events] where eventaction = 'review visible') A left join\n",
    "#(SELECT date, VIsitorId FROM [enduring-hue-184016:121992452.ga_2018_1_5_events] where eventAction='add to cart') B\n",
    "#ON A.date=B.date and A.viSitorId = B.visItorId where B.date is null) GROUP BY a.date, a.visitorId)\n",
    "avg_II_Visi = 4.028445074502674"
   ]
  },
  {
   "cell_type": "code",
   "execution_count": 8,
   "metadata": {},
   "outputs": [],
   "source": [
    "# breadcrumbs\n",
    "#SELECT AVG(Q) FROM (SELECT COUNT(A.EVENTACTION) AS Q FROM (\n",
    "#SELECT A.date, A.visitorID, A.EVENTACTION FROM (SELECT date, VisitorId, eventAction FROM [enduring-hue-184016:121992452.ga_2018_1_5_events] where eventaction = 'breadcrumbs') A left join\n",
    "#(SELECT date, VIsitorId FROM [enduring-hue-184016:121992452.ga_2018_1_5_events] where eventAction='add to cart') B\n",
    "#ON A.date=B.date and A.viSitorId = B.visItorId where B.date is null) GROUP BY a.date, a.visitorId)\n",
    "avg_II_Breadcrumbs = 1.1532093906907315"
   ]
  },
  {
   "cell_type": "code",
   "execution_count": 14,
   "metadata": {},
   "outputs": [],
   "source": [
    "avg_II=[avg_II_Photo, avg_II_Color, avg_II_Reviews, avg_II_Features, avg_II_Recom,avg_II_Visi, avg_II_Breadcrumbs]"
   ]
  },
  {
   "cell_type": "code",
   "execution_count": null,
   "metadata": {},
   "outputs": [],
   "source": [
    "##########################################################################################################################\n",
    "##########################################################################################################################"
   ]
  },
  {
   "cell_type": "code",
   "execution_count": 15,
   "metadata": {},
   "outputs": [],
   "source": [
    "# all customers' actions (add to cart actions + not add to cart actions I)"
   ]
  },
  {
   "cell_type": "code",
   "execution_count": null,
   "metadata": {},
   "outputs": [],
   "source": [
    "bars = ('photo interaction', 'product color view', 'read and write reviews', 'product features', 'recommendation strand','review visible',  'breadcrumbs')\n"
   ]
  },
  {
   "cell_type": "code",
   "execution_count": 16,
   "metadata": {},
   "outputs": [],
   "source": [
    "# photo interaction\n",
    "#SELECT AVG(Q) FROM ( SELECT COUNT(B_Eventlab) AS Q FROM [enduring-hue-184016:121992452.results_20180614_110944] \n",
    "#where A_eventAction = 'photo interaction' group by A_date, a_visitorid )\n",
    "avg_customer_photo= 1.9942646905073658"
   ]
  },
  {
   "cell_type": "code",
   "execution_count": 17,
   "metadata": {},
   "outputs": [],
   "source": [
    "# product color view\n",
    "#SELECT AVG(Q) FROM ( SELECT COUNT(B_Eventlab) AS Q FROM [enduring-hue-184016:121992452.results_20180614_110944] \n",
    "#where A_eventAction = 'product color view' group by A_date, a_visitorid )\n",
    "avg_customer_color= 4.1913104202088896"
   ]
  },
  {
   "cell_type": "code",
   "execution_count": 18,
   "metadata": {},
   "outputs": [],
   "source": [
    "# read and write reviews\n",
    "#SELECT AVG(Q) FROM ( SELECT COUNT(B_Eventlab) AS Q FROM [enduring-hue-184016:121992452.results_20180614_110944] \n",
    "#where A_eventAction = 'read and write reviews' group by A_date, a_visitorid )\n",
    "avg_customer_reviews= 1.290611762387942"
   ]
  },
  {
   "cell_type": "code",
   "execution_count": 19,
   "metadata": {},
   "outputs": [],
   "source": [
    "# product features\n",
    "#SELECT AVG(Q) FROM ( SELECT COUNT(B_Eventlab) AS Q FROM [enduring-hue-184016:121992452.results_20180614_110944] \n",
    "#where A_eventAction = 'product features' group by A_date, a_visitorid )\n",
    "avg_customer_features= 1.4153062709151754"
   ]
  },
  {
   "cell_type": "code",
   "execution_count": 20,
   "metadata": {},
   "outputs": [],
   "source": [
    "# recommendation strand\n",
    "#SELECT AVG(Q) FROM ( SELECT COUNT(B_Eventlab) AS Q FROM [enduring-hue-184016:121992452.results_20180614_110944] \n",
    "#where A_eventAction = 'recommendation strand' group by A_date, a_visitorid )\n",
    "avg_customer_recomm= 1.2199448167126528"
   ]
  },
  {
   "cell_type": "code",
   "execution_count": 21,
   "metadata": {},
   "outputs": [],
   "source": [
    "# review visible\n",
    "#SELECT AVG(Q) FROM ( SELECT COUNT(B_Eventlab) AS Q FROM [enduring-hue-184016:121992452.results_20180614_110944] \n",
    "#where A_eventAction = 'review visible' group by A_date, a_visitorid )\n",
    "avg_customer_visi= 4.638854948507593"
   ]
  },
  {
   "cell_type": "code",
   "execution_count": 22,
   "metadata": {},
   "outputs": [],
   "source": [
    "# breadcrumbs\n",
    "#SELECT AVG(Q) FROM ( SELECT COUNT(B_Eventlab) AS Q FROM [enduring-hue-184016:121992452.results_20180614_110944] \n",
    "#where A_eventAction = 'breadcrumbs' group by A_date, a_visitorid )\n",
    "avg_customer_breadcrumbs= 1.2348464007336084"
   ]
  },
  {
   "cell_type": "code",
   "execution_count": 23,
   "metadata": {},
   "outputs": [],
   "source": [
    "avg_customer = [avg_customer_photo,avg_customer_color,avg_customer_reviews,avg_customer_features,avg_customer_recomm,avg_customer_visi,avg_customer_breadcrumbs]"
   ]
  },
  {
   "cell_type": "code",
   "execution_count": null,
   "metadata": {},
   "outputs": [],
   "source": []
  }
 ],
 "metadata": {
  "kernelspec": {
   "display_name": "Python 3",
   "language": "python",
   "name": "python3"
  },
  "language_info": {
   "codemirror_mode": {
    "name": "ipython",
    "version": 3
   },
   "file_extension": ".py",
   "mimetype": "text/x-python",
   "name": "python",
   "nbconvert_exporter": "python",
   "pygments_lexer": "ipython3",
   "version": "3.6.4"
  }
 },
 "nbformat": 4,
 "nbformat_minor": 2
}
